{
  "nbformat": 4,
  "nbformat_minor": 0,
  "metadata": {
    "colab": {
      "name": "Explore Pretrained Tamil Language Model.ipynb",
      "version": "0.3.2",
      "provenance": [],
      "collapsed_sections": [
        "ySePc7f_5eGM",
        "lPDO9n595eGg",
        "u82ApOJ-7f6Z",
        "Z3upEtqE5eHB",
        "3nJTHzIm5eHX"
      ],
      "include_colab_link": true
    },
    "kernelspec": {
      "name": "python3",
      "display_name": "Python 3"
    },
    "accelerator": "GPU"
  },
  "cells": [
    {
      "cell_type": "markdown",
      "metadata": {
        "id": "view-in-github",
        "colab_type": "text"
      },
      "source": [
        "<a href=\"https://colab.research.google.com/github/goru001/nlp-for-tamil/blob/master/Explore_Pretrained_Tamil_Language_Model.ipynb\" target=\"_parent\"><img src=\"https://colab.research.google.com/assets/colab-badge.svg\" alt=\"Open In Colab\"/></a>"
      ]
    },
    {
      "metadata": {
        "id": "fTobsuacNNAf",
        "colab_type": "text"
      },
      "cell_type": "markdown",
      "source": [
        "## Loading a pretrained language model and exploring it.\n",
        "\n",
        "- Model Source data: Entire text from all 127000 Tamil Wikipedia articles from March 2019.\n",
        "- Model architecture: FastAI AWD_LSTM (Representation: 400 dimensional thought vector)\n",
        "- Wordparts : 8000 word parts using google sentencepiece\n",
        "- Perplexity: ~20 on validation data"
      ]
    },
    {
      "metadata": {
        "id": "ySePc7f_5eGM",
        "colab_type": "text"
      },
      "cell_type": "markdown",
      "source": [
        "### Step 1. Imports"
      ]
    },
    {
      "metadata": {
        "id": "zneKyLCg5sYd",
        "colab_type": "code",
        "colab": {
          "base_uri": "https://localhost:8080/",
          "height": 815
        },
        "outputId": "cace39fe-1063-482f-fbc5-226cacc8fe44"
      },
      "cell_type": "code",
      "source": [
        "!pip install fastai --upgrade"
      ],
      "execution_count": 1,
      "outputs": [
        {
          "output_type": "stream",
          "text": [
            "Requirement already up-to-date: fastai in /usr/local/lib/python3.6/dist-packages (1.0.51)\n",
            "Requirement already satisfied, skipping upgrade: matplotlib in /usr/local/lib/python3.6/dist-packages (from fastai) (3.0.3)\n",
            "Requirement already satisfied, skipping upgrade: numexpr in /usr/local/lib/python3.6/dist-packages (from fastai) (2.6.9)\n",
            "Requirement already satisfied, skipping upgrade: scipy in /usr/local/lib/python3.6/dist-packages (from fastai) (1.1.0)\n",
            "Requirement already satisfied, skipping upgrade: Pillow in /usr/local/lib/python3.6/dist-packages (from fastai) (4.1.1)\n",
            "Requirement already satisfied, skipping upgrade: dataclasses; python_version < \"3.7\" in /usr/local/lib/python3.6/dist-packages (from fastai) (0.6)\n",
            "Requirement already satisfied, skipping upgrade: nvidia-ml-py3 in /usr/local/lib/python3.6/dist-packages (from fastai) (7.352.0)\n",
            "Requirement already satisfied, skipping upgrade: packaging in /usr/local/lib/python3.6/dist-packages (from fastai) (19.0)\n",
            "Requirement already satisfied, skipping upgrade: numpy>=1.15 in /usr/local/lib/python3.6/dist-packages (from fastai) (1.16.2)\n",
            "Requirement already satisfied, skipping upgrade: torch>=1.0.0 in /usr/local/lib/python3.6/dist-packages (from fastai) (1.0.1.post2)\n",
            "Requirement already satisfied, skipping upgrade: pandas in /usr/local/lib/python3.6/dist-packages (from fastai) (0.22.0)\n",
            "Requirement already satisfied, skipping upgrade: torchvision in /usr/local/lib/python3.6/dist-packages (from fastai) (0.2.2.post3)\n",
            "Requirement already satisfied, skipping upgrade: requests in /usr/local/lib/python3.6/dist-packages (from fastai) (2.18.4)\n",
            "Requirement already satisfied, skipping upgrade: beautifulsoup4 in /usr/local/lib/python3.6/dist-packages (from fastai) (4.6.3)\n",
            "Requirement already satisfied, skipping upgrade: spacy>=2.0.18 in /usr/local/lib/python3.6/dist-packages (from fastai) (2.0.18)\n",
            "Requirement already satisfied, skipping upgrade: pyyaml in /usr/local/lib/python3.6/dist-packages (from fastai) (3.13)\n",
            "Requirement already satisfied, skipping upgrade: fastprogress>=0.1.19 in /usr/local/lib/python3.6/dist-packages (from fastai) (0.1.20)\n",
            "Requirement already satisfied, skipping upgrade: typing in /usr/local/lib/python3.6/dist-packages (from fastai) (3.6.6)\n",
            "Requirement already satisfied, skipping upgrade: bottleneck in /usr/local/lib/python3.6/dist-packages (from fastai) (1.2.1)\n",
            "Requirement already satisfied, skipping upgrade: kiwisolver>=1.0.1 in /usr/local/lib/python3.6/dist-packages (from matplotlib->fastai) (1.0.1)\n",
            "Requirement already satisfied, skipping upgrade: python-dateutil>=2.1 in /usr/local/lib/python3.6/dist-packages (from matplotlib->fastai) (2.5.3)\n",
            "Requirement already satisfied, skipping upgrade: cycler>=0.10 in /usr/local/lib/python3.6/dist-packages (from matplotlib->fastai) (0.10.0)\n",
            "Requirement already satisfied, skipping upgrade: pyparsing!=2.0.4,!=2.1.2,!=2.1.6,>=2.0.1 in /usr/local/lib/python3.6/dist-packages (from matplotlib->fastai) (2.3.1)\n",
            "Requirement already satisfied, skipping upgrade: olefile in /usr/local/lib/python3.6/dist-packages (from Pillow->fastai) (0.46)\n",
            "Requirement already satisfied, skipping upgrade: six in /usr/local/lib/python3.6/dist-packages (from packaging->fastai) (1.11.0)\n",
            "Requirement already satisfied, skipping upgrade: pytz>=2011k in /usr/local/lib/python3.6/dist-packages (from pandas->fastai) (2018.9)\n",
            "Requirement already satisfied, skipping upgrade: chardet<3.1.0,>=3.0.2 in /usr/local/lib/python3.6/dist-packages (from requests->fastai) (3.0.4)\n",
            "Requirement already satisfied, skipping upgrade: urllib3<1.23,>=1.21.1 in /usr/local/lib/python3.6/dist-packages (from requests->fastai) (1.22)\n",
            "Requirement already satisfied, skipping upgrade: idna<2.7,>=2.5 in /usr/local/lib/python3.6/dist-packages (from requests->fastai) (2.6)\n",
            "Requirement already satisfied, skipping upgrade: certifi>=2017.4.17 in /usr/local/lib/python3.6/dist-packages (from requests->fastai) (2019.3.9)\n",
            "Requirement already satisfied, skipping upgrade: ujson>=1.35 in /usr/local/lib/python3.6/dist-packages (from spacy>=2.0.18->fastai) (1.35)\n",
            "Requirement already satisfied, skipping upgrade: thinc<6.13.0,>=6.12.1 in /usr/local/lib/python3.6/dist-packages (from spacy>=2.0.18->fastai) (6.12.1)\n",
            "Requirement already satisfied, skipping upgrade: preshed<2.1.0,>=2.0.1 in /usr/local/lib/python3.6/dist-packages (from spacy>=2.0.18->fastai) (2.0.1)\n",
            "Requirement already satisfied, skipping upgrade: murmurhash<1.1.0,>=0.28.0 in /usr/local/lib/python3.6/dist-packages (from spacy>=2.0.18->fastai) (1.0.2)\n",
            "Requirement already satisfied, skipping upgrade: dill<0.3,>=0.2 in /usr/local/lib/python3.6/dist-packages (from spacy>=2.0.18->fastai) (0.2.9)\n",
            "Requirement already satisfied, skipping upgrade: plac<1.0.0,>=0.9.6 in /usr/local/lib/python3.6/dist-packages (from spacy>=2.0.18->fastai) (0.9.6)\n",
            "Requirement already satisfied, skipping upgrade: cymem<2.1.0,>=2.0.2 in /usr/local/lib/python3.6/dist-packages (from spacy>=2.0.18->fastai) (2.0.2)\n",
            "Requirement already satisfied, skipping upgrade: regex==2018.01.10 in /usr/local/lib/python3.6/dist-packages (from spacy>=2.0.18->fastai) (2018.1.10)\n",
            "Requirement already satisfied, skipping upgrade: setuptools in /usr/local/lib/python3.6/dist-packages (from kiwisolver>=1.0.1->matplotlib->fastai) (40.9.0)\n",
            "Requirement already satisfied, skipping upgrade: wrapt<1.11.0,>=1.10.0 in /usr/local/lib/python3.6/dist-packages (from thinc<6.13.0,>=6.12.1->spacy>=2.0.18->fastai) (1.10.11)\n",
            "Requirement already satisfied, skipping upgrade: msgpack<0.6.0,>=0.5.6 in /usr/local/lib/python3.6/dist-packages (from thinc<6.13.0,>=6.12.1->spacy>=2.0.18->fastai) (0.5.6)\n",
            "Requirement already satisfied, skipping upgrade: cytoolz<0.10,>=0.9.0 in /usr/local/lib/python3.6/dist-packages (from thinc<6.13.0,>=6.12.1->spacy>=2.0.18->fastai) (0.9.0.1)\n",
            "Requirement already satisfied, skipping upgrade: tqdm<5.0.0,>=4.10.0 in /usr/local/lib/python3.6/dist-packages (from thinc<6.13.0,>=6.12.1->spacy>=2.0.18->fastai) (4.28.1)\n",
            "Requirement already satisfied, skipping upgrade: msgpack-numpy<0.4.4 in /usr/local/lib/python3.6/dist-packages (from thinc<6.13.0,>=6.12.1->spacy>=2.0.18->fastai) (0.4.3.2)\n",
            "Requirement already satisfied, skipping upgrade: toolz>=0.8.0 in /usr/local/lib/python3.6/dist-packages (from cytoolz<0.10,>=0.9.0->thinc<6.13.0,>=6.12.1->spacy>=2.0.18->fastai) (0.9.0)\n"
          ],
          "name": "stdout"
        }
      ]
    },
    {
      "metadata": {
        "id": "eQzYOizY5yzD",
        "colab_type": "code",
        "colab": {
          "base_uri": "https://localhost:8080/",
          "height": 35
        },
        "outputId": "5fed6a3d-ba02-446c-e783-5357cd4435ab"
      },
      "cell_type": "code",
      "source": [
        "!pip install sentencepiece"
      ],
      "execution_count": 2,
      "outputs": [
        {
          "output_type": "stream",
          "text": [
            "Requirement already satisfied: sentencepiece in /usr/local/lib/python3.6/dist-packages (0.1.81)\n"
          ],
          "name": "stdout"
        }
      ]
    },
    {
      "metadata": {
        "id": "AdCE06NK5eGP",
        "colab_type": "code",
        "colab": {}
      },
      "cell_type": "code",
      "source": [
        "from fastai.text import *\n",
        "import numpy as np\n",
        "from sklearn.model_selection import train_test_split\n",
        "import pickle\n",
        "import sentencepiece as spm"
      ],
      "execution_count": 0,
      "outputs": []
    },
    {
      "metadata": {
        "id": "oDByOCy65eGU",
        "colab_type": "code",
        "colab": {}
      },
      "cell_type": "code",
      "source": [
        "%reload_ext autoreload\n",
        "%autoreload 2\n",
        "%matplotlib inline"
      ],
      "execution_count": 0,
      "outputs": []
    },
    {
      "metadata": {
        "id": "4LlY_Z7o5eGY",
        "colab_type": "code",
        "outputId": "00e3c06c-d6ba-4718-ea27-d77959074424",
        "colab": {
          "base_uri": "https://localhost:8080/",
          "height": 35
        }
      },
      "cell_type": "code",
      "source": [
        "import fastai, torch\n",
        "fastai.__version__ , torch.__version__"
      ],
      "execution_count": 5,
      "outputs": [
        {
          "output_type": "execute_result",
          "data": {
            "text/plain": [
              "('1.0.51', '1.0.1.post2')"
            ]
          },
          "metadata": {
            "tags": []
          },
          "execution_count": 5
        }
      ]
    },
    {
      "metadata": {
        "id": "lPDO9n595eGg",
        "colab_type": "text"
      },
      "cell_type": "markdown",
      "source": [
        "### Step 2. Download Tamil LM models from Dropbox"
      ]
    },
    {
      "metadata": {
        "id": "6NtRcerz6Ngd",
        "colab_type": "code",
        "colab": {
          "base_uri": "https://localhost:8080/",
          "height": 452
        },
        "outputId": "7ef247c1-f0ff-4667-91fb-611d4ed9f579"
      },
      "cell_type": "code",
      "source": [
        "!wget https://www.dropbox.com/s/zozzrgawulkwtxa/wikitalm_8k_447_third.pth"
      ],
      "execution_count": 18,
      "outputs": [
        {
          "output_type": "stream",
          "text": [
            "--2019-04-06 13:53:02--  https://www.dropbox.com/s/zozzrgawulkwtxa/wikitalm_8k_447_third.pth\n",
            "Resolving www.dropbox.com (www.dropbox.com)... 162.125.8.1, 2620:100:6018:1::a27d:301\n",
            "Connecting to www.dropbox.com (www.dropbox.com)|162.125.8.1|:443... connected.\n",
            "HTTP request sent, awaiting response... 301 Moved Permanently\n",
            "Location: /s/raw/zozzrgawulkwtxa/wikitalm_8k_447_third.pth [following]\n",
            "--2019-04-06 13:53:02--  https://www.dropbox.com/s/raw/zozzrgawulkwtxa/wikitalm_8k_447_third.pth\n",
            "Reusing existing connection to www.dropbox.com:443.\n",
            "HTTP request sent, awaiting response... 302 Found\n",
            "Location: https://uc02c52ea5453d59ae7b84032a4b.dl.dropboxusercontent.com/cd/0/inline/Aegt5FQ5FbvOYOUbIr8chSyC4L5dN4DqE3kIKB601ohRyjmlZBIbVlSjcMe-wbDZWrlqDDgBdoadbXQ4qR3zoSPq7zu8jAvtnbs9UVeaE12ywQ/file# [following]\n",
            "--2019-04-06 13:53:02--  https://uc02c52ea5453d59ae7b84032a4b.dl.dropboxusercontent.com/cd/0/inline/Aegt5FQ5FbvOYOUbIr8chSyC4L5dN4DqE3kIKB601ohRyjmlZBIbVlSjcMe-wbDZWrlqDDgBdoadbXQ4qR3zoSPq7zu8jAvtnbs9UVeaE12ywQ/file\n",
            "Resolving uc02c52ea5453d59ae7b84032a4b.dl.dropboxusercontent.com (uc02c52ea5453d59ae7b84032a4b.dl.dropboxusercontent.com)... 162.125.8.6, 2620:100:601b:6::a27d:806\n",
            "Connecting to uc02c52ea5453d59ae7b84032a4b.dl.dropboxusercontent.com (uc02c52ea5453d59ae7b84032a4b.dl.dropboxusercontent.com)|162.125.8.6|:443... connected.\n",
            "HTTP request sent, awaiting response... 302 FOUND\n",
            "Location: /cd/0/inline2/Aegp6a1u_385sjSfrvATzZx3CSZ0AriVhROa1-p6Bwc3P-LB_S5m6DVzOncErsaiavzA6GYFtze-DwgHMI-MMwKRXrNKLLj2NYFzC9zjW9tO5Gosrk5r10we2jFtCeUhubT6IeLad_W4iETNW92N527TmY109-8rUtfWiN_0T3nY-KL2VbQPiKtXSQUeT330MtWbBXj3_LvYHgSrZ8lCZKaXMa4sq32kpd7Bj7OPTGyOPUQkj6g6pHKiImyj4JC8f8dynee-uZpKAdYzzg6zq9ldMi_PQGXQMMX17gMFD5eKnoVAdLSVs_0qMEdMJ2DZmdL0S24N5geLDA_qzsRtF-_x/file [following]\n",
            "--2019-04-06 13:53:03--  https://uc02c52ea5453d59ae7b84032a4b.dl.dropboxusercontent.com/cd/0/inline2/Aegp6a1u_385sjSfrvATzZx3CSZ0AriVhROa1-p6Bwc3P-LB_S5m6DVzOncErsaiavzA6GYFtze-DwgHMI-MMwKRXrNKLLj2NYFzC9zjW9tO5Gosrk5r10we2jFtCeUhubT6IeLad_W4iETNW92N527TmY109-8rUtfWiN_0T3nY-KL2VbQPiKtXSQUeT330MtWbBXj3_LvYHgSrZ8lCZKaXMa4sq32kpd7Bj7OPTGyOPUQkj6g6pHKiImyj4JC8f8dynee-uZpKAdYzzg6zq9ldMi_PQGXQMMX17gMFD5eKnoVAdLSVs_0qMEdMJ2DZmdL0S24N5geLDA_qzsRtF-_x/file\n",
            "Reusing existing connection to uc02c52ea5453d59ae7b84032a4b.dl.dropboxusercontent.com:443.\n",
            "HTTP request sent, awaiting response... 200 OK\n",
            "Length: 370803664 (354M) [application/octet-stream]\n",
            "Saving to: ‘wikitalm_8k_447_third.pth’\n",
            "\n",
            "wikitalm_8k_447_thi 100%[===================>] 353.62M  39.9MB/s    in 9.2s    \n",
            "\n",
            "2019-04-06 13:53:13 (38.5 MB/s) - ‘wikitalm_8k_447_third.pth’ saved [370803664/370803664]\n",
            "\n"
          ],
          "name": "stdout"
        }
      ]
    },
    {
      "metadata": {
        "id": "FUF32spF623w",
        "colab_type": "code",
        "colab": {
          "base_uri": "https://localhost:8080/",
          "height": 452
        },
        "outputId": "bc1b2d05-8717-4a62-8bcf-8b5fa0b2159a"
      },
      "cell_type": "code",
      "source": [
        "!wget https://www.dropbox.com/s/hl7cowdki4ngf65/data_lm_tawiki_8k.pkl"
      ],
      "execution_count": 17,
      "outputs": [
        {
          "output_type": "stream",
          "text": [
            "--2019-04-06 13:52:53--  https://www.dropbox.com/s/hl7cowdki4ngf65/data_lm_tawiki_8k.pkl\n",
            "Resolving www.dropbox.com (www.dropbox.com)... 162.125.8.1, 2620:100:6018:1::a27d:301\n",
            "Connecting to www.dropbox.com (www.dropbox.com)|162.125.8.1|:443... connected.\n",
            "HTTP request sent, awaiting response... 301 Moved Permanently\n",
            "Location: /s/raw/hl7cowdki4ngf65/data_lm_tawiki_8k.pkl [following]\n",
            "--2019-04-06 13:52:54--  https://www.dropbox.com/s/raw/hl7cowdki4ngf65/data_lm_tawiki_8k.pkl\n",
            "Reusing existing connection to www.dropbox.com:443.\n",
            "HTTP request sent, awaiting response... 302 Found\n",
            "Location: https://ucd74ce3d5e1d7c5d44e6f515a59.dl.dropboxusercontent.com/cd/0/inline/AegEQ0aAEXfBYukJgEAPcX0EoTzq0-78KRwXSUn3GVQt_5UN6zXb98maTCjhXVqfB6jhzWb5S3lROy4_-yXnpzzAz-PTc-ZsigXjV9oVBZ1J8w/file# [following]\n",
            "--2019-04-06 13:52:54--  https://ucd74ce3d5e1d7c5d44e6f515a59.dl.dropboxusercontent.com/cd/0/inline/AegEQ0aAEXfBYukJgEAPcX0EoTzq0-78KRwXSUn3GVQt_5UN6zXb98maTCjhXVqfB6jhzWb5S3lROy4_-yXnpzzAz-PTc-ZsigXjV9oVBZ1J8w/file\n",
            "Resolving ucd74ce3d5e1d7c5d44e6f515a59.dl.dropboxusercontent.com (ucd74ce3d5e1d7c5d44e6f515a59.dl.dropboxusercontent.com)... 162.125.8.6, 2620:100:601b:6::a27d:806\n",
            "Connecting to ucd74ce3d5e1d7c5d44e6f515a59.dl.dropboxusercontent.com (ucd74ce3d5e1d7c5d44e6f515a59.dl.dropboxusercontent.com)|162.125.8.6|:443... connected.\n",
            "HTTP request sent, awaiting response... 302 FOUND\n",
            "Location: /cd/0/inline2/Aehvxz80RHfPCy2g_Py_3FQHjg4j6QqOxZRJE3j4mO9K7YDMMtKDHmqt9bVFcVGH2cmr-6Sv-82evDZU881v00LugkO04TQUuAtUbHtOrpRozkb-cCXB0PDugasE88fB8YVxBjBJ5DymtdlMiFxuAakUJWlxhVfSN5zUPlD4T848V__F6_32hba_Q_dyzrIs-HHENERZWmxzllauV18WS92XSPq3n-3o6tInxI6Ced4NQGsnLj8X42Q2ASs9y_qhtJLxZ5Tx-ZmJTc65OILuYZqEfYrlzevx1a85xnFZo3k74WeXivzfBU79bu9x-9T6p3zxWaC6-M9LgoH5651Uz58m/file [following]\n",
            "--2019-04-06 13:52:55--  https://ucd74ce3d5e1d7c5d44e6f515a59.dl.dropboxusercontent.com/cd/0/inline2/Aehvxz80RHfPCy2g_Py_3FQHjg4j6QqOxZRJE3j4mO9K7YDMMtKDHmqt9bVFcVGH2cmr-6Sv-82evDZU881v00LugkO04TQUuAtUbHtOrpRozkb-cCXB0PDugasE88fB8YVxBjBJ5DymtdlMiFxuAakUJWlxhVfSN5zUPlD4T848V__F6_32hba_Q_dyzrIs-HHENERZWmxzllauV18WS92XSPq3n-3o6tInxI6Ced4NQGsnLj8X42Q2ASs9y_qhtJLxZ5Tx-ZmJTc65OILuYZqEfYrlzevx1a85xnFZo3k74WeXivzfBU79bu9x-9T6p3zxWaC6-M9LgoH5651Uz58m/file\n",
            "Reusing existing connection to ucd74ce3d5e1d7c5d44e6f515a59.dl.dropboxusercontent.com:443.\n",
            "HTTP request sent, awaiting response... 200 OK\n",
            "Length: 359812126 (343M) [application/octet-stream]\n",
            "Saving to: ‘data_lm_tawiki_8k.pkl’\n",
            "\n",
            "data_lm_tawiki_8k.p 100%[===================>] 343.14M  62.8MB/s    in 5.4s    \n",
            "\n",
            "2019-04-06 13:53:00 (63.1 MB/s) - ‘data_lm_tawiki_8k.pkl’ saved [359812126/359812126]\n",
            "\n"
          ],
          "name": "stdout"
        }
      ]
    },
    {
      "metadata": {
        "id": "NxbIn_ME6kHV",
        "colab_type": "code",
        "colab": {
          "base_uri": "https://localhost:8080/",
          "height": 452
        },
        "outputId": "d90e6ddf-fe8f-400a-f522-e951245d9079"
      },
      "cell_type": "code",
      "source": [
        "!wget https://www.dropbox.com/s/9q1pkf6c7ahs9qm/tamil_spm_8k.model"
      ],
      "execution_count": 16,
      "outputs": [
        {
          "output_type": "stream",
          "text": [
            "--2019-04-06 13:52:48--  https://www.dropbox.com/s/9q1pkf6c7ahs9qm/tamil_spm_8k.model\n",
            "Resolving www.dropbox.com (www.dropbox.com)... 162.125.8.1, 2620:100:6018:1::a27d:301\n",
            "Connecting to www.dropbox.com (www.dropbox.com)|162.125.8.1|:443... connected.\n",
            "HTTP request sent, awaiting response... 301 Moved Permanently\n",
            "Location: /s/raw/9q1pkf6c7ahs9qm/tamil_spm_8k.model [following]\n",
            "--2019-04-06 13:52:48--  https://www.dropbox.com/s/raw/9q1pkf6c7ahs9qm/tamil_spm_8k.model\n",
            "Reusing existing connection to www.dropbox.com:443.\n",
            "HTTP request sent, awaiting response... 302 Found\n",
            "Location: https://uc2989d86e3def2443cd4233272c.dl.dropboxusercontent.com/cd/0/inline/AehG8uENNhmbPoXUSXwSZX-MZD44svacyvfKo6vfUJVvh2tu_raui5wRmDj1dGyCfJSM7vnXtQNstCqlfsGQqdpXAjxlKS0yC7IC3IUO3-SCWQ/file# [following]\n",
            "--2019-04-06 13:52:48--  https://uc2989d86e3def2443cd4233272c.dl.dropboxusercontent.com/cd/0/inline/AehG8uENNhmbPoXUSXwSZX-MZD44svacyvfKo6vfUJVvh2tu_raui5wRmDj1dGyCfJSM7vnXtQNstCqlfsGQqdpXAjxlKS0yC7IC3IUO3-SCWQ/file\n",
            "Resolving uc2989d86e3def2443cd4233272c.dl.dropboxusercontent.com (uc2989d86e3def2443cd4233272c.dl.dropboxusercontent.com)... 162.125.8.6, 2620:100:601b:6::a27d:806\n",
            "Connecting to uc2989d86e3def2443cd4233272c.dl.dropboxusercontent.com (uc2989d86e3def2443cd4233272c.dl.dropboxusercontent.com)|162.125.8.6|:443... connected.\n",
            "HTTP request sent, awaiting response... 302 FOUND\n",
            "Location: /cd/0/inline2/AejHgTx2oDHuidkpbJ5cFeHCQyGlxizsXazQxQfpVSO_dLrI5mJn-zN82xpKAKibPSFl_gZ7uovxPf3MPyDzyu8DfRntMb2ChITxiXr9zlDiGMJ--P3pisdmu-PKyTtbMUELCuVnvfmswnY0eFiZrBwA5I83eCD3_ceteslmInyzmRmXd554p8P3vUJR7kuHukP_Yo33mG94P8nNYXC2UyqkI8Ip9wATSf8eKktXiILgg96YzbfjI4sLkZbfT3nFXWhZ4CVnDqh1Y16ABjK-qmVVVUA-6BbkbbuJlIeUHJAz03tMQelqiMn3ZJSC0MnPismBsOJxUWBMqw64YIyX9J7X/file [following]\n",
            "--2019-04-06 13:52:48--  https://uc2989d86e3def2443cd4233272c.dl.dropboxusercontent.com/cd/0/inline2/AejHgTx2oDHuidkpbJ5cFeHCQyGlxizsXazQxQfpVSO_dLrI5mJn-zN82xpKAKibPSFl_gZ7uovxPf3MPyDzyu8DfRntMb2ChITxiXr9zlDiGMJ--P3pisdmu-PKyTtbMUELCuVnvfmswnY0eFiZrBwA5I83eCD3_ceteslmInyzmRmXd554p8P3vUJR7kuHukP_Yo33mG94P8nNYXC2UyqkI8Ip9wATSf8eKktXiILgg96YzbfjI4sLkZbfT3nFXWhZ4CVnDqh1Y16ABjK-qmVVVUA-6BbkbbuJlIeUHJAz03tMQelqiMn3ZJSC0MnPismBsOJxUWBMqw64YIyX9J7X/file\n",
            "Reusing existing connection to uc2989d86e3def2443cd4233272c.dl.dropboxusercontent.com:443.\n",
            "HTTP request sent, awaiting response... 200 OK\n",
            "Length: 484704 (473K) [application/octet-stream]\n",
            "Saving to: ‘tamil_spm_8k.model’\n",
            "\n",
            "tamil_spm_8k.model  100%[===================>] 473.34K  --.-KB/s    in 0.1s    \n",
            "\n",
            "2019-04-06 13:52:49 (4.12 MB/s) - ‘tamil_spm_8k.model’ saved [484704/484704]\n",
            "\n"
          ],
          "name": "stdout"
        }
      ]
    },
    {
      "metadata": {
        "id": "yHOC5luv6rD6",
        "colab_type": "code",
        "colab": {
          "base_uri": "https://localhost:8080/",
          "height": 383
        },
        "outputId": "5bd18e54-8f08-463f-86e3-d5abfe18c8b1"
      },
      "cell_type": "code",
      "source": [
        "!wget https://www.dropbox.com/s/5u4l67faq46jbvw/tamil_spm_8k.vocab"
      ],
      "execution_count": 14,
      "outputs": [
        {
          "output_type": "stream",
          "text": [
            "--2019-04-06 13:52:31--  https://www.dropbox.com/s/5u4l67faq46jbvw/tamil_spm_8k.vocab\n",
            "Resolving www.dropbox.com (www.dropbox.com)... 162.125.8.1, 2620:100:6018:1::a27d:301\n",
            "Connecting to www.dropbox.com (www.dropbox.com)|162.125.8.1|:443... connected.\n",
            "HTTP request sent, awaiting response... 301 Moved Permanently\n",
            "Location: /s/raw/5u4l67faq46jbvw/tamil_spm_8k.vocab [following]\n",
            "--2019-04-06 13:52:31--  https://www.dropbox.com/s/raw/5u4l67faq46jbvw/tamil_spm_8k.vocab\n",
            "Reusing existing connection to www.dropbox.com:443.\n",
            "HTTP request sent, awaiting response... 302 Found\n",
            "Location: https://uc4aea5a4e4b7104931435c22897.dl.dropboxusercontent.com/cd/0/inline/AeiMh4RkoKW_Gdlc2aytqpYmS0-c8Njg4lU1SscAj11jl6t3cbxS-JAsAMNwTZWmiqrk0nsTaA9FEKeauoF8STXiiKbq7eoAcPyBfhKKpoB4HA/file# [following]\n",
            "--2019-04-06 13:52:32--  https://uc4aea5a4e4b7104931435c22897.dl.dropboxusercontent.com/cd/0/inline/AeiMh4RkoKW_Gdlc2aytqpYmS0-c8Njg4lU1SscAj11jl6t3cbxS-JAsAMNwTZWmiqrk0nsTaA9FEKeauoF8STXiiKbq7eoAcPyBfhKKpoB4HA/file\n",
            "Resolving uc4aea5a4e4b7104931435c22897.dl.dropboxusercontent.com (uc4aea5a4e4b7104931435c22897.dl.dropboxusercontent.com)... 162.125.8.6, 2620:100:601b:6::a27d:806\n",
            "Connecting to uc4aea5a4e4b7104931435c22897.dl.dropboxusercontent.com (uc4aea5a4e4b7104931435c22897.dl.dropboxusercontent.com)|162.125.8.6|:443... connected.\n",
            "HTTP request sent, awaiting response... 200 OK\n",
            "Length: 230939 (226K) [text/plain]\n",
            "Saving to: ‘tamil_spm_8k.vocab’\n",
            "\n",
            "tamil_spm_8k.vocab  100%[===================>] 225.53K  --.-KB/s    in 0.09s   \n",
            "\n",
            "2019-04-06 13:52:32 (2.44 MB/s) - ‘tamil_spm_8k.vocab’ saved [230939/230939]\n",
            "\n"
          ],
          "name": "stdout"
        }
      ]
    },
    {
      "metadata": {
        "id": "6PIf4Yng751H",
        "colab_type": "code",
        "colab": {
          "base_uri": "https://localhost:8080/",
          "height": 452
        },
        "outputId": "77b28a1f-d0d9-4660-fe96-ab9752f06074"
      },
      "cell_type": "code",
      "source": [
        "!wget https://www.dropbox.com/s/24nq1vefalhkjjv/inltk.zip"
      ],
      "execution_count": 34,
      "outputs": [
        {
          "output_type": "stream",
          "text": [
            "--2019-04-06 13:56:42--  https://www.dropbox.com/s/24nq1vefalhkjjv/inltk.zip\n",
            "Resolving www.dropbox.com (www.dropbox.com)... 162.125.8.1, 2620:100:601b:1::a27d:801\n",
            "Connecting to www.dropbox.com (www.dropbox.com)|162.125.8.1|:443... connected.\n",
            "HTTP request sent, awaiting response... 301 Moved Permanently\n",
            "Location: /s/raw/24nq1vefalhkjjv/inltk.zip [following]\n",
            "--2019-04-06 13:56:42--  https://www.dropbox.com/s/raw/24nq1vefalhkjjv/inltk.zip\n",
            "Reusing existing connection to www.dropbox.com:443.\n",
            "HTTP request sent, awaiting response... 302 Found\n",
            "Location: https://uc210b434dd1e502ae61e3e1c9cc.dl.dropboxusercontent.com/cd/0/inline/AehPNdVh3kKxu6unMBTJv63rDOytbKy7Rj9MbfLj3o144t4smujl13cLNfstlg9Qg4SDkexz9J88q7F1K-6h_uAtekrmFQZVZx7EhPvatN48Yw/file# [following]\n",
            "--2019-04-06 13:56:42--  https://uc210b434dd1e502ae61e3e1c9cc.dl.dropboxusercontent.com/cd/0/inline/AehPNdVh3kKxu6unMBTJv63rDOytbKy7Rj9MbfLj3o144t4smujl13cLNfstlg9Qg4SDkexz9J88q7F1K-6h_uAtekrmFQZVZx7EhPvatN48Yw/file\n",
            "Resolving uc210b434dd1e502ae61e3e1c9cc.dl.dropboxusercontent.com (uc210b434dd1e502ae61e3e1c9cc.dl.dropboxusercontent.com)... 162.125.8.6, 2620:100:601b:6::a27d:806\n",
            "Connecting to uc210b434dd1e502ae61e3e1c9cc.dl.dropboxusercontent.com (uc210b434dd1e502ae61e3e1c9cc.dl.dropboxusercontent.com)|162.125.8.6|:443... connected.\n",
            "HTTP request sent, awaiting response... 302 FOUND\n",
            "Location: /cd/0/inline2/AeiiuO3QdOooXmDjgI8e6baVYze5T0XSmeyx8uYb3stb1DVkyjyytA19SQHAVEeZ3bFoomizmPcyypufBHp-rMKqQjAJnpEgr1NasVvJdiwP3orTC2p6FLtEoPKM7jJhEkkLCl9ucPYrbnXh9brf8qXylu3jF7DKB_97T50nbMKmYNa9jAcqRD8ZdujFIu7--FeAgnUifNXNI2sRTjk88Xaxuquz5sey1EnuINw-R5xNHxBNsNlNJZZMdt5_Kcy7TBoviLi5ykKdLqHisYIXKuER1VOfNo4y8PnXA3P7ci0iWkEhiW3BnqZioskZBltEnOm-_4ZdmNufaANahebMLLpV/file [following]\n",
            "--2019-04-06 13:56:43--  https://uc210b434dd1e502ae61e3e1c9cc.dl.dropboxusercontent.com/cd/0/inline2/AeiiuO3QdOooXmDjgI8e6baVYze5T0XSmeyx8uYb3stb1DVkyjyytA19SQHAVEeZ3bFoomizmPcyypufBHp-rMKqQjAJnpEgr1NasVvJdiwP3orTC2p6FLtEoPKM7jJhEkkLCl9ucPYrbnXh9brf8qXylu3jF7DKB_97T50nbMKmYNa9jAcqRD8ZdujFIu7--FeAgnUifNXNI2sRTjk88Xaxuquz5sey1EnuINw-R5xNHxBNsNlNJZZMdt5_Kcy7TBoviLi5ykKdLqHisYIXKuER1VOfNo4y8PnXA3P7ci0iWkEhiW3BnqZioskZBltEnOm-_4ZdmNufaANahebMLLpV/file\n",
            "Reusing existing connection to uc210b434dd1e502ae61e3e1c9cc.dl.dropboxusercontent.com:443.\n",
            "HTTP request sent, awaiting response... 200 OK\n",
            "Length: 4664 (4.6K) [application/zip]\n",
            "Saving to: ‘inltk.zip’\n",
            "\n",
            "inltk.zip           100%[===================>]   4.55K  --.-KB/s    in 0s      \n",
            "\n",
            "2019-04-06 13:56:43 (513 MB/s) - ‘inltk.zip’ saved [4664/4664]\n",
            "\n"
          ],
          "name": "stdout"
        }
      ]
    },
    {
      "metadata": {
        "id": "DHgjISZN7_y_",
        "colab_type": "code",
        "colab": {
          "base_uri": "https://localhost:8080/",
          "height": 276
        },
        "outputId": "7e2b6eb8-e594-450d-d511-f52c3b0daaaa"
      },
      "cell_type": "code",
      "source": [
        "!unzip inltk.zip"
      ],
      "execution_count": 35,
      "outputs": [
        {
          "output_type": "stream",
          "text": [
            "Archive:  inltk.zip\n",
            "   creating: inltk/\n",
            "  inflating: inltk/.DS_Store         \n",
            "   creating: __MACOSX/\n",
            "   creating: __MACOSX/inltk/\n",
            "  inflating: __MACOSX/inltk/._.DS_Store  \n",
            "   creating: inltk/__pycache__/\n",
            "  inflating: inltk/__pycache__/.DS_Store  \n",
            "   creating: __MACOSX/inltk/__pycache__/\n",
            "  inflating: __MACOSX/inltk/__pycache__/._.DS_Store  \n",
            "  inflating: inltk/__pycache__/tokenizer.cpython-36.pyc  \n",
            " extracting: inltk/init.py           \n",
            "  inflating: __MACOSX/inltk/._init.py  \n",
            "  inflating: inltk/tokenizer.py      \n",
            "  inflating: __MACOSX/inltk/._tokenizer.py  \n"
          ],
          "name": "stdout"
        }
      ]
    },
    {
      "metadata": {
        "id": "xmSNU2Cq67Ra",
        "colab_type": "code",
        "colab": {
          "base_uri": "https://localhost:8080/",
          "height": 52
        },
        "outputId": "3a412645-f693-40a5-cdc0-a68f9a3cfbd9"
      },
      "cell_type": "code",
      "source": [
        "!ls"
      ],
      "execution_count": 36,
      "outputs": [
        {
          "output_type": "stream",
          "text": [
            "data_lm_tawiki_8k.pkl  inltk.zip  sample_data\t      tamil_spm_8k.vocab\n",
            "inltk\t\t       __MACOSX   tamil_spm_8k.model  wikitalm_8k_447_third.pth\n"
          ],
          "name": "stdout"
        }
      ]
    },
    {
      "metadata": {
        "id": "SOsmv0wy8Ul4",
        "colab_type": "code",
        "colab": {
          "base_uri": "https://localhost:8080/",
          "height": 52
        },
        "outputId": "74261b47-6e41-4b39-c461-707f33277e19"
      },
      "cell_type": "code",
      "source": [
        "!mkdir models\n",
        "!mv wikitalm_8k_447_third.pth models/"
      ],
      "execution_count": 43,
      "outputs": [
        {
          "output_type": "stream",
          "text": [
            "mkdir: cannot create directory ‘models’: File exists\n",
            "mv: cannot stat 'wikitalm_8k_447_third.pth': No such file or directory\n"
          ],
          "name": "stdout"
        }
      ]
    },
    {
      "metadata": {
        "id": "u82ApOJ-7f6Z",
        "colab_type": "text"
      },
      "cell_type": "markdown",
      "source": [
        "### Step 3. Setup the tokenizer"
      ]
    },
    {
      "metadata": {
        "id": "uxOlSJi75eGi",
        "colab_type": "code",
        "colab": {}
      },
      "cell_type": "code",
      "source": [
        "torch.cuda.set_device(0)"
      ],
      "execution_count": 0,
      "outputs": []
    },
    {
      "metadata": {
        "id": "TvQJWgX65eGm",
        "colab_type": "code",
        "colab": {}
      },
      "cell_type": "code",
      "source": [
        "path = Path('.')"
      ],
      "execution_count": 0,
      "outputs": []
    },
    {
      "metadata": {
        "id": "t8bVrmr95eGq",
        "colab_type": "code",
        "colab": {}
      },
      "cell_type": "code",
      "source": [
        "class TamilTokenizer(BaseTokenizer):\n",
        "    def __init__(self, lang:str):\n",
        "        self.lang = lang\n",
        "        self.sp = spm.SentencePieceProcessor()\n",
        "        self.sp.Load(str(\"tamil_spm_8k.model\"))\n",
        "        \n",
        "    def tokenizer(self, t:str) -> List[str]:\n",
        "        return self.sp.EncodeAsPieces(t)"
      ],
      "execution_count": 0,
      "outputs": []
    },
    {
      "metadata": {
        "id": "PkVNKfuT5eGu",
        "colab_type": "code",
        "colab": {}
      },
      "cell_type": "code",
      "source": [
        "sp = spm.SentencePieceProcessor()\n",
        "sp.Load(str('tamil_spm_8k.model'))\n",
        "itos = [sp.IdToPiece(int(i)) for i in range(8000)]"
      ],
      "execution_count": 0,
      "outputs": []
    },
    {
      "metadata": {
        "id": "q_a4JTII5eGy",
        "colab_type": "code",
        "colab": {}
      },
      "cell_type": "code",
      "source": [
        "tamil_vocab = Vocab(itos)"
      ],
      "execution_count": 0,
      "outputs": []
    },
    {
      "metadata": {
        "id": "p-guKZn65eG2",
        "colab_type": "code",
        "colab": {}
      },
      "cell_type": "code",
      "source": [
        "tokenizer = Tokenizer(tok_func=TamilTokenizer, lang='ta')"
      ],
      "execution_count": 0,
      "outputs": []
    },
    {
      "metadata": {
        "id": "1CW2T8_s5eG6",
        "colab_type": "code",
        "outputId": "2959463e-fd4a-4694-b6ac-df5a30df89ac",
        "colab": {
          "base_uri": "https://localhost:8080/",
          "height": 173
        }
      },
      "cell_type": "code",
      "source": [
        "tokenizer.special_cases"
      ],
      "execution_count": 32,
      "outputs": [
        {
          "output_type": "execute_result",
          "data": {
            "text/plain": [
              "['xxunk',\n",
              " 'xxpad',\n",
              " 'xxbos',\n",
              " 'xxeos',\n",
              " 'xxfld',\n",
              " 'xxmaj',\n",
              " 'xxup',\n",
              " 'xxrep',\n",
              " 'xxwrep']"
            ]
          },
          "metadata": {
            "tags": []
          },
          "execution_count": 32
        }
      ]
    },
    {
      "metadata": {
        "id": "Z3upEtqE5eHB",
        "colab_type": "text"
      },
      "cell_type": "markdown",
      "source": [
        "### Step 4. Load the Data bunch into a fast ai object."
      ]
    },
    {
      "metadata": {
        "id": "QuO3SRVQ5eHC",
        "colab_type": "code",
        "colab": {}
      },
      "cell_type": "code",
      "source": [
        "data_lm = load_data('.', 'data_lm_tawiki_8k.pkl')"
      ],
      "execution_count": 0,
      "outputs": []
    },
    {
      "metadata": {
        "id": "Jbg2TuYa5eHF",
        "colab_type": "code",
        "outputId": "ecbf3047-955f-4781-990e-7a4bc468fbbe",
        "colab": {
          "base_uri": "https://localhost:8080/",
          "height": 354
        }
      },
      "cell_type": "code",
      "source": [
        "data_lm.show_batch()"
      ],
      "execution_count": 38,
      "outputs": [
        {
          "output_type": "display_data",
          "data": {
            "text/html": [
              "<table border=\"1\" class=\"dataframe\">\n",
              "  <thead>\n",
              "    <tr style=\"text-align: right;\">\n",
              "      <th>idx</th>\n",
              "      <th>text</th>\n",
              "    </tr>\n",
              "  </thead>\n",
              "  <tbody>\n",
              "    <tr>\n",
              "      <td>0</td>\n",
              "      <td>▁c ric k et &lt;unk&gt; ▁a s s o ci ation &lt;unk&gt; ▁s ta d ium ) ▁என்பது ▁ராஜ் கோட் , இந்தியா வில் ▁உள்ள ▁துடுப்பாட்ட ▁அரங்க ம் ▁ஆகும் . ▁இது ▁இது ▁காந்த ேரி ▁துடுப்பாட்ட ▁அரங்க ம் ▁எனவும் ▁ அழைக்கப்படுகிறது ) ▁ , ▁இது ▁குசராத் து ▁மாநிலத்தின் ▁முதல் ▁சூரிய ▁ஆற்றல் ▁அரங்க ம் ▁ஆகும் . ▁நவம்பர் ▁ , ▁2015 ▁இல் ▁இந்த ▁அரங்க ம் ▁உட்பட ▁இந்தியாவில் ▁உள்ள ▁ஆறு ▁புதிய ▁துடுப்பாட்ட ▁அரங்க ு கள்</td>\n",
              "    </tr>\n",
              "    <tr>\n",
              "      <td>1</td>\n",
              "      <td>▁ / ▁ wiki ? curi d = 21 08 22 \" ▁title =\" தமிழ் ▁மொழியில் ▁உள்ள ▁பேச்சு ▁வழக்கில் ▁திரி ந்த ▁தமிழ்ச் ▁சொற்கள் \"&gt; ▁தமிழ் ▁மொழியில் ▁உள்ள ▁பேச்சு ▁வழக்கில் ▁திரி ந்த ▁தமிழ்ச் ▁சொற்கள் ▁தமிழ் ▁மொழியில் ▁உள்ள ▁சில ▁சொற்கள் ▁காலப்போக்கில் ▁பேச்சு ▁வழக்கில் ▁பொருள் ▁திரி ந்து ▁எழுத்துக்கள் ▁திரி ந்து ▁உள்ளன . ▁அவற்றின் ▁தொகுப்பு . ▁&lt; ▁ / ▁ doc &gt; ▁&lt; doc ▁id =\" 21 08 23\" ▁ url =\" https :</td>\n",
              "    </tr>\n",
              "    <tr>\n",
              "      <td>2</td>\n",
              "      <td>சி க் மக ளூர் \"&gt; ▁சி க் மக ளூர் ▁சி க் மக ளூர் ▁(\" &lt;unk&gt; ch ick ma g al ur \") ▁இந்தியாவின் ▁கர்நாடகா ▁மாநிலத்தில் ▁சி க்க ம கள ூ ரு ▁மாவட்டத்தில் ▁அமைந்துள்ள ▁ஒரு ▁நகரம் . ▁குளம் பி க்கு ▁( co ff ee ) ▁புகழ்பெற்ற ▁மு ல்ல யா நகர ி ▁மலைத்தொடர் ▁அடி வார த்தில் ▁சி க் ம ங்கள ூர் ▁அமைந்துள்ளது , ▁இது ▁கர்நாடகா வின் ▁குளம் பி ▁விளை யும் ▁நில மாக</td>\n",
              "    </tr>\n",
              "    <tr>\n",
              "      <td>3</td>\n",
              "      <td>▁1 20 ▁மில்லி ▁ஆம் பியர் ▁வரையிலும் ▁உள்ளது . ▁இவ்விரு ▁மின்னோட்ட ங்களும் ▁தனித்தனி யான வை யான ாலும் ▁ஒன்ற ி ற்க ொன்று ▁தொடர்புடைய ன . ▁இவை களை ▁இணைக்கும் ▁ஒரு ▁காரணி ▁எதிர்மின் ▁முனை க்கரு கில் ▁காணப்படும் ▁இட ▁மின்ன ூட்ட மாகும் ▁(\" s p ace ▁c har ge \") . ▁குழாய ில் ▁இரு மின் ▁முனை களுக்கு முள்ள ▁மின் ▁அழுத்த ▁வேறுபாடு ▁( p . d ) ▁குறைவாக ▁உள்ள போது , ▁இழை யிலிருந்து ▁இலத்திரன் கள் ▁வி</td>\n",
              "    </tr>\n",
              "    <tr>\n",
              "      <td>4</td>\n",
              "      <td>ங்கள் ▁இடம்பெற்ற ுள்ள ▁ஒரு ▁சம் பிர தா ய ▁மத மாக ▁இருந்தது . ▁இதனால் ▁ஓவிய ம் ▁மற்றும் ▁சிற்பங்கள் ▁உள்ள ▁பட ங்கள் ▁உட்பட்ட ▁மத ப் ▁பொருட்களை ▁உருவாக்கும் ▁ஊக்க ம் ▁உ ண்ட ானது . ▁1930 ▁ களில் ▁ஸ்டா லி னின் ▁சீர்திருத்த க் ▁கருத்து களுக்குப் ▁பிறகு ▁பௌத்த ம் ▁மற்றும் ▁மத குரு ▁நம்பிக்கை கள் ▁மங்கோலிய ▁மக்கள் ▁குடியரச ில் ▁செல்வ ாக்க ிழந்த ன . ▁உட்புற ▁மங்கோலிய ாவில் ▁பாரம்பரிய ▁மத க் கொள் கை கள் ▁பாதிக்கப்பட்ட ு ▁கலாச்சார</td>\n",
              "    </tr>\n",
              "  </tbody>\n",
              "</table>"
            ],
            "text/plain": [
              "<IPython.core.display.HTML object>"
            ]
          },
          "metadata": {
            "tags": []
          }
        }
      ]
    },
    {
      "metadata": {
        "id": "vfYkEZ495eHJ",
        "colab_type": "code",
        "outputId": "17b22417-8ce4-481c-9de6-af64ca3bfc42",
        "colab": {
          "base_uri": "https://localhost:8080/",
          "height": 35
        }
      },
      "cell_type": "code",
      "source": [
        "len(data_lm.vocab.itos)"
      ],
      "execution_count": 39,
      "outputs": [
        {
          "output_type": "execute_result",
          "data": {
            "text/plain": [
              "8000"
            ]
          },
          "metadata": {
            "tags": []
          },
          "execution_count": 39
        }
      ]
    },
    {
      "metadata": {
        "id": "TUZXdpwk5eHN",
        "colab_type": "text"
      },
      "cell_type": "markdown",
      "source": [
        "### Step 5. Load pretrained model into a fastai object"
      ]
    },
    {
      "metadata": {
        "id": "4v4kzfIG5eHO",
        "colab_type": "code",
        "colab": {}
      },
      "cell_type": "code",
      "source": [
        "learn = language_model_learner(data_lm, AWD_LSTM, drop_mult=0.3, pretrained=False)"
      ],
      "execution_count": 0,
      "outputs": []
    },
    {
      "metadata": {
        "id": "z7qZfeVG5eHR",
        "colab_type": "code",
        "colab": {}
      },
      "cell_type": "code",
      "source": [
        "learn.load('wikitalm_8k_447_third', with_opt=True);"
      ],
      "execution_count": 0,
      "outputs": []
    },
    {
      "metadata": {
        "id": "3nJTHzIm5eHX",
        "colab_type": "text"
      },
      "cell_type": "markdown",
      "source": [
        "### Step 6. Generate sample text from learned model."
      ]
    },
    {
      "metadata": {
        "id": "MK-iZPph5eHY",
        "colab_type": "code",
        "colab": {}
      },
      "cell_type": "code",
      "source": [
        "def create(text, spm=False, N_WORDS=50, N_SENTENCES=4):\n",
        "    TEXT=sp.EncodeAsPieces(text)\n",
        "    TEXT=' '.join(TEXT)\n",
        "    sp_merge=lambda s:s.replace(' ','').replace('▁',' ')\n",
        "    samples=[]\n",
        "    for _ in range(N_SENTENCES):\n",
        "      sample=learn.predict(TEXT, N_WORDS, temperature=0.7)\n",
        "      samples.append(sample)\n",
        "      if spm:\n",
        "          print(sample)\n",
        "          print()\n",
        "    if spm:\n",
        "        print()\n",
        "    for sample in samples:\n",
        "      sample=sp_merge(sample)\n",
        "      print(sample)\n",
        "      print()"
      ],
      "execution_count": 0,
      "outputs": []
    },
    {
      "metadata": {
        "id": "UHMnZ8dm5eHc",
        "colab_type": "code",
        "outputId": "c8b2cd9e-8b0d-4cfa-ee75-a70ee6c2f5c6",
        "colab": {
          "base_uri": "https://localhost:8080/",
          "height": 331
        }
      },
      "cell_type": "code",
      "source": [
        "text='17-ஆம் நூற்றாண்டில்'\n",
        "create(text, spm=True)"
      ],
      "execution_count": 46,
      "outputs": [
        {
          "output_type": "stream",
          "text": [
            "▁17 - ஆம் ▁நூற்றாண்டில் ▁மற்றும் ▁ஆர் த ரிய ப் ▁போ ப்பா ண்ட வர் களை ▁ தற் செயல ாகக் ▁கண்டறிந்த ு ▁நேர் ந்த தாக ▁கருதப்படுகிறது . ▁இது ▁குறித்த ▁ஆய்வு களின் ம் ▁படி வளர்ச்சி க் ▁கால த்தை ▁அடிப்படையாகக் ▁கொண்ட தாகவும் , ▁குறிப்பாக , ▁புதிய ▁சமுதாய ம் ▁மற்றும் ▁புற ப் பரப்பு களின் ▁நடு வே ▁சமய ப் ▁பரப்பு\n",
            "\n",
            "▁17 - ஆம் ▁நூற்றாண்டில் ▁உருவாக்கப்பட்ட து . ▁இந்த ▁ ரை சின் ▁குடும்ப த்தா ரால் ▁மேற்கொள்ள ப்படும் ▁ஒரு ▁புதிய ▁முயற்சி யானது ▁கடந்த ▁10 ▁ஆண்டுகளில் யிர ான் , ▁கால ▁நிறைவு க் ▁காலம் , ▁மற்றும் ▁முன் னோ க்கி ச் ▁சென்ற ுள்ளன ▁என்று ▁கூறப்படுகிறது . ▁வேறு ▁சில ▁பள்ளி களில் ▁இருந்து ம் , ▁பல ▁இடங்களுக்கு ▁ஒரு ▁தனி ச் சிறப்ப\n",
            "\n",
            "▁17 - ஆம் ▁நூற்றாண்டில் , ▁\" \" v il le y \" \" ▁என்ற ▁பெயரில் ▁\" \" நான் ▁செய்ய க் ▁கூடிய ▁நீ ரி ழிவு \" \" ▁என்று ▁அதன் ▁பெயரை ▁மாற்றி க் ▁கொண்டு , ▁அதற்கு ▁' க ங் ரீ னா ' ▁எனப் ▁பெயரிட்ட ார் . ▁அது ▁“ அ ன் பு ▁நீ ங்கள் ” ▁என ▁குறிப்பிட\n",
            "\n",
            "▁17 - ஆம் ▁நூற்றாண்டில் ▁” சா ரா ” , ▁“ இரு ம்பு ” , ▁' பே ரி ஸ் ' , ▁“ சூ ரியன் ” , ▁“ ஆ ல் ’ , ▁“ பி ரை யர் ” , ▁“ பி ரியா ஸ் ” , ▁” பூ ஸ் ” , ▁‘ இ யோ ரி ’ , ▁'\n",
            "\n",
            "\n",
            " 17-ஆம் நூற்றாண்டில் மற்றும் ஆர்தரியப் போப்பாண்டவர்களை தற்செயலாகக் கண்டறிந்து நேர்ந்ததாக கருதப்படுகிறது. இது குறித்த ஆய்வுகளின்ம் படிவளர்ச்சிக் காலத்தை அடிப்படையாகக் கொண்டதாகவும், குறிப்பாக, புதிய சமுதாயம் மற்றும் புறப்பரப்புகளின் நடுவே சமயப் பரப்பு\n",
            "\n",
            " 17-ஆம் நூற்றாண்டில் உருவாக்கப்பட்டது. இந்த ரைசின் குடும்பத்தாரால் மேற்கொள்ளப்படும் ஒரு புதிய முயற்சியானது கடந்த 10 ஆண்டுகளில்யிரான், கால நிறைவுக் காலம், மற்றும் முன்னோக்கிச் சென்றுள்ளன என்று கூறப்படுகிறது. வேறு சில பள்ளிகளில் இருந்தும், பல இடங்களுக்கு ஒரு தனிச்சிறப்ப\n",
            "\n",
            " 17-ஆம் நூற்றாண்டில், \"\"villey\"\" என்ற பெயரில் \"\"நான் செய்யக் கூடிய நீரிழிவு\"\" என்று அதன் பெயரை மாற்றிக் கொண்டு, அதற்கு 'கங்ரீனா' எனப் பெயரிட்டார். அது “அன்பு நீங்கள்” என குறிப்பிட\n",
            "\n",
            " 17-ஆம் நூற்றாண்டில் ”சாரா”, “இரும்பு”, 'பேரிஸ்', “சூரியன்”, “ஆல்’, “பிரையர்”, “பிரியாஸ்”, ”பூஸ்”, ‘இயோரி’, '\n",
            "\n"
          ],
          "name": "stdout"
        }
      ]
    },
    {
      "metadata": {
        "id": "tLZKbB4J5eHg",
        "colab_type": "code",
        "outputId": "dbdc883b-0414-40c6-c5f9-8f12f446bac8",
        "colab": {
          "base_uri": "https://localhost:8080/",
          "height": 175
        }
      },
      "cell_type": "code",
      "source": [
        "text='தனது ஆட்சிக் காலத்தில் பிரான்சின் அரசுத்தலைவர்'\n",
        "create(text)"
      ],
      "execution_count": 47,
      "outputs": [
        {
          "output_type": "stream",
          "text": [
            " தனது ஆட்சிக் காலத்தில் பிரான்சின் அரசுத்தலைவர், மன்னர் முதலியோர் இருந்தனர். < / doc> <doc id=\"212709\" url=\"https: / / ta.wikipedia.org / wiki?curid=213209\" title=\"வே\n",
            "\n",
            " தனது ஆட்சிக் காலத்தில் பிரான்சின் அரசுத்தலைவர் முர்ரே வின்சன்ட் மற்றும் அவரது மனைவி பிரவுன் ஆகியோரின் சகோதரன் சதியாவிடமிருந்து விடுதலை பெற்று, மன்சப்தாரியின் இடத்தைப் பிடிக்காமல் நடந்து கொள்ளவில்லை. ஆண்களை பெண்களுக்குக் கொண்டு சென்ற போது, மீண்டும் ஆணுறை\n",
            "\n",
            " தனது ஆட்சிக் காலத்தில் பிரான்சின் அரசுத்தலைவர் மன்ஹாட்டன் ட்ரெஷ்வாவை இடித்துவிட்டு, லைபீரியாவுக்கு வெளியே, லின்டாக், வெர்ஜின், ஸ்கைஸ்காடன், கோடாஸ்ட், ட்ரோலிங், லிட்டில் டேல்\n",
            "\n",
            " தனது ஆட்சிக் காலத்தில் பிரான்சின் அரசுத்தலைவர் எட்வர்டு மார்ட்டின் பிரபுவின் ஆட்சியின் கீழ் வந்தது. இதன் போது இந்த யுத்தத்தின் போது, பதினேழாம் நூற்றாண்டில், மானிடர்களின் வளர்ச்சியை தடுக்க பல திட்டங்களை வகுத்தது. இச்சபையின் நிறுவனர் கணிசமாக இருந்தார். இதன்\n",
            "\n"
          ],
          "name": "stdout"
        }
      ]
    },
    {
      "metadata": {
        "id": "taSqkQv95eHk",
        "colab_type": "code",
        "outputId": "77631ce4-c91e-4cd3-bdca-119e6f5e81f0",
        "colab": {
          "base_uri": "https://localhost:8080/",
          "height": 175
        }
      },
      "cell_type": "code",
      "source": [
        "text='இன்று இவர் பிரான்ஸ், ஜேர்மனி ஆகிய'\n",
        "text='இவரது ஆக்கங்கள் பல்வேறு'\n",
        "create(text)"
      ],
      "execution_count": 48,
      "outputs": [
        {
          "output_type": "stream",
          "text": [
            " இவரது ஆக்கங்கள் பல்வேறுபட்ட மூலக்கூற்றில் உள்ளடக்கப்பட்டுள்ளன. < / doc> <doc id=\"191495\" url=\"https: / / ta.wikipedia.org / wiki?curid=191498\" title\n",
            "\n",
            " இவரது ஆக்கங்கள் பல்வேறு பொருட்கள்,பட்டியல்கள், அணிகலன்கள், வெற்றிகிணறுகள், பல்வகையான வாகனங்கள், பண்ணைகள், பாறைகள் மற்றும் நகைகள் ஆகியவற்றைப் பயன்படுத்திக்கொண்டுன. இதுபோன்று, பருவம் மற்றும் வருடாந்திர நாணயங்கள்\n",
            "\n",
            " இவரது ஆக்கங்கள் பல்வேறுபட்ட விவரக் கூற்றுகளுடன் இணைக்கப்பட்டுள்ளன. அவை: < / doc> <doc id=\"191294\" url=\"https: / / ta.wikipedia.org / wiki?curid=191294\n",
            "\n",
            " இவரது ஆக்கங்கள் பல்வேறு வகையிலும் உள்ளன. ஒருசிலரும் இவ்வளிமையில் தங்கள் உறவுகளை வெளிப்படுத்திக் கொள்கிறார்கள். இவர்களைக் கொண்டு அறியப்படவில்லை. இருந்தும் அவர்களுக்காக சவாலுக்குரிய மிக உயரிய விருதான பத்மசிறீ விருது வழங்கி சிறப்பிக்கப்படுகின்றது.\n",
            "\n"
          ],
          "name": "stdout"
        }
      ]
    },
    {
      "metadata": {
        "id": "ng4e1qFA5eHn",
        "colab_type": "text"
      },
      "cell_type": "markdown",
      "source": [
        "### Step 7. Prompt it to create entire article segments from scratch."
      ]
    },
    {
      "metadata": {
        "id": "pId1HkTZ5eHo",
        "colab_type": "code",
        "outputId": "f0751498-334e-4747-e144-f36028763de6",
        "colab": {
          "base_uri": "https://localhost:8080/",
          "height": 35
        }
      },
      "cell_type": "code",
      "source": [
        "sp_merge=lambda s:s.replace(' ','').replace('▁',' ')\n",
        "sp_merge('<doc id=\"91202\" url=\"https: / / ta.wikipedia.org / wiki?')"
      ],
      "execution_count": 49,
      "outputs": [
        {
          "output_type": "execute_result",
          "data": {
            "text/plain": [
              "'<docid=\"91202\"url=\"https://ta.wikipedia.org/wiki?'"
            ]
          },
          "metadata": {
            "tags": []
          },
          "execution_count": 49
        }
      ]
    },
    {
      "metadata": {
        "id": "TUfIz1oS5eHt",
        "colab_type": "code",
        "outputId": "acc7058d-b157-449f-e808-ebf6997d7752",
        "colab": {
          "base_uri": "https://localhost:8080/",
          "height": 383
        }
      },
      "cell_type": "code",
      "source": [
        "create('<doc id=\"52700\" url=\"https://ta.wikipedia.org/wiki?', N_WORDS=200, N_SENTENCES=10)"
      ],
      "execution_count": 50,
      "outputs": [
        {
          "output_type": "stream",
          "text": [
            " <doc id=\"52700\" url=\"https://ta.wikipedia.org/wiki? www.twofa.com / tamil / article107904.html < / doc> <doc id=\"160883\" url=\"https: / / ta.wikipedia.org / wiki?curid=160883\" title=\"பொருளாதாரம்\"> பொருளாதாரம் பொருளாதாரம் என்பது உற்பத்தி மற்றும் உற்பத்தியின் ஒரு உற்பத்தி ஆகும். அது உற்பத்தி, உற்பத்தி, உற்பத்தி, உற்பத்தி, உற்பத்தி, உற்பத்தி, மேலாண்மை, உற்பத்தி, விநியோகம் என பல துறைகளிலும் உற்பத்தி செய்யப்படுகின்றன. அடிப்படை உற்பத்தியாளர்களின் எண்ணிக்கை, உற்பத்தி, உற்பத்தி, உற்பத்தி, உற்பத்தி மற்றும் உற்பத்தி, உற்பத்தி, உற்பத்தி, உற்பத்தி, உற்பத்தி, நுகர்வோர் மற்றும் வேளாண்மை, உற்பத்தி, உற்பத்தி, தொழில்துறை, பானம் ஆகியவற்றைப் பயன்படுத்துகிறது. < / doc> <doc id=\"81413\" url=\"https: / / ta.wikipedia.org / wiki?curid=82613\" title\n",
            "\n",
            " <doc id=\"52700\" url=\"https://ta.wikipedia.org/wiki? / http: / / www.news.com / national / films / 2016 / 08 / blog-post_10.html < / doc> <doc id=\"190598\" url=\"https: / / ta.wikipedia.org / wiki?curid=190594\" title=\"உயிரியல்\"> உயிரியல் உயிரியல் (modology) என்பது, ஒரு குறிப்பிட்ட கால இடைவெளியில் உயிரினங்கள், விலங்குகள், விலங்குகள் போன்றவற்றின் தீய விளைவுகளைப் பற்றி அறிந்து கொள்ள உதவும் ஓர் உயிரியல் செயல்முறையாகும். பூச்சூல் என்பது, அறிவியல் துறையாகும். இது, ஒரு விலங்கு அல்லது தாவரப் பேரினத்தை, அதாவது வன விலங்குகளின் தலைப் பகுதியிலிருந்து, உள்ளிழுப்பவர், மாதம், மரம் போன்றவற்றில் இருந்து பெறப்படுகிறது. முதுகெலும்பியில், தாவரங்களின் இலைகள், விலங்குகளின் வாழ்விடங்களை, அவற்றின் மூலக்கூறுகள், அவற்றின் பகுதியாகும். மேலும், ஒரு கல\n",
            "\n",
            " <doc id=\"52700\" url=\"https://ta.wikipedia.org/wiki?archive web valllie.com / http: / / www.varkada.com / ?t&source=web&cd=1&cad=rja&uact=8&abt=l&rct=j&source=web&cd=3&cad=rja&uact=8&ved=0ahukewjowbhwiajgckhxhjuahvpvg&url=http%3a%2f%2fwww.kerentali.com / tamil.php?id=921 / > < / doc> <doc id=\"161017\" url=\"https: / / ta.wikipedia.org / \n",
            "\n",
            " <doc id=\"52700\" url=\"https://ta.wikipedia.org/wiki? / http: / / www.easternce.com / grint / hydcd-samma-dise-ranger / charkan-suppelling / tamil-de-shitail-whan-samuja-sans-language-to-studied-water-source-world-flight-hag-supplement-read-assyn-dellow-addal-by-botan-group / the / enthals-the-world-world-history / 7 / 91.html < / doc> <doc id=\"222065\" \n",
            "\n",
            " <doc id=\"52700\" url=\"https://ta.wikipedia.org/wiki? xxrep 4 [ ] பகுப்பு : 1.https: / / en.wikipedia.org / wiki / engine / _comple=flood http: / / www.disbillar.com / content / hypothes / two / 1117504.html http: / / www.dinamalar.com / dml-center-re-bind-most-hyphagar-basus-guas-i / ref>< / ref> 16.7.2016 ஆம் ஆண்டு, க்ரிம் இன் மெர்ஜெட், ஹோஸ் லைஃப் அசோசியேஷன் அண்ட் கிறிஸ்டோபர் ஸ்கிரெஞ்ச் (\n",
            "\n",
            " <doc id=\"52700\" url=\"https://ta.wikipedia.org/wiki?t=1 xxrep 4 0 http: / / www.google.co.in / url?sa=t&rct=j&rct=j&rcc=rc=rct=வாயு& http: / / www.kouth.com / news / web.php?title=http: / / www.agittainday.com / news / ripple / grammetismail.aspx?b=sbcso2kh8ma&sign=x&s=book&source=web&cd=10&cad=rja&uact=8&ved=0ahukewjof\n",
            "\n",
            " <doc id=\"52700\" url=\"https://ta.wikipedia.org/wiki?b / > < / doc> <doc id=\"220883\" url=\"https: / / ta.wikipedia.org / wiki?curid=220848\" title=\"எஸ். கிருஷ்ணன்\"> எஸ். கிருஷ்ணன் எஸ். கிருஷ்ணன் () என்பவர் ஒரு இந்திய அரசியல்வாதியும், தமிழகத்தின் முன்னாள் சட்டமன்ற உறுப்பினரும் ஆவார். இவர் இந்திய தேசிய காங்கிரஸ் கட்சியின் சார்பில் தேர்ந்தெடுக்கப்பட்டார். இவர், 2001 ஆம் ஆண்டு நடைபெற்ற தமிழ்நாடு சட்டமன்றத் தேர்தலில் மராட்டிய தொகுதியிலிருந்து, திராவிட முன்னேற்றக் கழக வேட்பாளராக தமிழ்நாடு சட்டமன்றத்திற்குத் தேர்ந்தெடுக்கப்பட்டார். < / doc> <doc id=\"229796\" url=\"https: / / ta.wikipedia.org / wiki?curid=229796\" title=\"நீல் கொறரம்\"> நீல் கொறணம் நீல் கொறசம் \"(nalayam people)\" ஆஸ்திரேலியாவின் ஒரு மாகாண அமைப்பாகும். இது இந்தியாவை சேர்ந்த 29 மாநிலங்களுள் ஒன்றாகும். இதன் தலைவர் மற்றும் முன்னாள் பிரதமர் கதீட்ரல்\n",
            "\n",
            " <doc id=\"52700\" url=\"https://ta.wikipedia.org/wiki?\" http: / / www.poollebooks.com / about / tamil / specifical / en-tamil மற்றும்tail.asp?phd=all&usg=aftdo-14gbp_aflgtmaw2fo9 cba1n_jo_9!2glt3g3mzobba%2map / hrmo2 / > < / doc> <doc id=\"162126\" url=\"https: / / ta.wikipedia.org / wiki?curid=162127\" title=\"க்கிரத் சரோஞ்ச்\"> நத் சரோத் சரோத் சரோத் சரோஜா (\"saras hungala\n",
            "\n",
            " <doc id=\"52700\" url=\"https://ta.wikipedia.org/wiki?sel-twa-tyer-turcollese-food-alternal outfort-slege of specificational history of the controlley of complex of an his computers recomputers be been it established that differentiation of a liberal radio disconsion conservation. the still as center for the discovery reducing from the revery of more through the report as use many that this cycle, which an durch one work\n",
            "\n",
            " <doc id=\"52700\" url=\"https://ta.wikipedia.org/wiki? or anti al-raubo, sattura two transmitch war visulation drages. http: / / www.scriming.com / http: / / en.wikipedia.org / wiki / _itope_t_display_temple / story_history_family < / doc> <doc id=\"321933\" url=\"https: / / ta.wikipedia.org / wiki?curid=321915\" title=\"ஏ. சி. ஆர். (நெல்)\"> ஏ. சி. ஆர். (நெல்) ஏ. சி. ஆர். (\"adammada\") தமிழ்நாடு, நாமக்கல் மாவட்டம், தேன்கனிக்கோட்டை வட்டத்தைச் சேர்ந்த சிற்றூர்\n",
            "\n"
          ],
          "name": "stdout"
        }
      ]
    },
    {
      "metadata": {
        "id": "Yixm1Tsy5eHy",
        "colab_type": "text"
      },
      "cell_type": "markdown",
      "source": [
        " ### I am amazed:\n",
        " \n",
        " by these two sentences on chemical reaction: I verified that these are not directly lifted from Wikipedia. Neither are these sentences available on any google searched Tamil page.\n",
        "\n",
        "ஒரு பொருள் வெப்பம் அடைந்து வேதிப்பொருளாக வினைபுரிகிறது. \n",
        "வினையின் இறுதி வினையில் வினையின் விளைவுகள் தோன்றுகின்றன."
      ]
    },
    {
      "metadata": {
        "id": "kgVu1ypoHEkn",
        "colab_type": "text"
      },
      "cell_type": "markdown",
      "source": [
        "## Obtaining Word vectors\n",
        "\n",
        "Following code is adapted from: (https://github.com/cstorm125/thai2fit/blob/master/thwiki_lm/thwiki_lm.ipynb)"
      ]
    },
    {
      "metadata": {
        "id": "EEqnm9rE5eHz",
        "colab_type": "code",
        "colab": {}
      },
      "cell_type": "code",
      "source": [
        "# Following code is adapted from: https://github.com/cstorm125/thai2fit/blob/master/thwiki_lm/thwiki_lm.ipynb"
      ],
      "execution_count": 0,
      "outputs": []
    },
    {
      "metadata": {
        "id": "wvdJE2di5eH7",
        "colab_type": "code",
        "outputId": "6b1cbd0a-7762-4c79-948e-f6259aa728b9",
        "colab": {
          "base_uri": "https://localhost:8080/",
          "height": 35
        }
      },
      "cell_type": "code",
      "source": [
        "#how we extracted the embeddings\n",
        "emb_weights = list(learn.model.named_parameters())[0][1]\n",
        "emb_np = to_np(emb_weights.data)\n",
        "emb_np.shape"
      ],
      "execution_count": 61,
      "outputs": [
        {
          "output_type": "execute_result",
          "data": {
            "text/plain": [
              "(8000, 400)"
            ]
          },
          "metadata": {
            "tags": []
          },
          "execution_count": 61
        }
      ]
    },
    {
      "metadata": {
        "id": "tJFi_iDB5eH_",
        "colab_type": "code",
        "colab": {}
      },
      "cell_type": "code",
      "source": [
        "import pandas as pd"
      ],
      "execution_count": 0,
      "outputs": []
    },
    {
      "metadata": {
        "id": "2Ltr839d5eIC",
        "colab_type": "code",
        "outputId": "3ebed585-7d87-4bb2-b877-a678a064dc30",
        "colab": {
          "base_uri": "https://localhost:8080/",
          "height": 415
        }
      },
      "cell_type": "code",
      "source": [
        "tamilvec = pd.DataFrame(emb_np)\n",
        "tamilvec.index = data_lm.vocab.itos\n",
        "print(tamilvec.shape)\n",
        "tamilvec.tail(10)"
      ],
      "execution_count": 63,
      "outputs": [
        {
          "output_type": "stream",
          "text": [
            "(8000, 400)\n"
          ],
          "name": "stdout"
        },
        {
          "output_type": "execute_result",
          "data": {
            "text/html": [
              "<div>\n",
              "<style scoped>\n",
              "    .dataframe tbody tr th:only-of-type {\n",
              "        vertical-align: middle;\n",
              "    }\n",
              "\n",
              "    .dataframe tbody tr th {\n",
              "        vertical-align: top;\n",
              "    }\n",
              "\n",
              "    .dataframe thead th {\n",
              "        text-align: right;\n",
              "    }\n",
              "</style>\n",
              "<table border=\"1\" class=\"dataframe\">\n",
              "  <thead>\n",
              "    <tr style=\"text-align: right;\">\n",
              "      <th></th>\n",
              "      <th>0</th>\n",
              "      <th>1</th>\n",
              "      <th>2</th>\n",
              "      <th>3</th>\n",
              "      <th>4</th>\n",
              "      <th>5</th>\n",
              "      <th>6</th>\n",
              "      <th>7</th>\n",
              "      <th>8</th>\n",
              "      <th>9</th>\n",
              "      <th>...</th>\n",
              "      <th>390</th>\n",
              "      <th>391</th>\n",
              "      <th>392</th>\n",
              "      <th>393</th>\n",
              "      <th>394</th>\n",
              "      <th>395</th>\n",
              "      <th>396</th>\n",
              "      <th>397</th>\n",
              "      <th>398</th>\n",
              "      <th>399</th>\n",
              "    </tr>\n",
              "  </thead>\n",
              "  <tbody>\n",
              "    <tr>\n",
              "      <th>▁இருபத்தி</th>\n",
              "      <td>-1.077665</td>\n",
              "      <td>-0.390356</td>\n",
              "      <td>0.163234</td>\n",
              "      <td>0.283401</td>\n",
              "      <td>-1.093594</td>\n",
              "      <td>0.503261</td>\n",
              "      <td>0.321981</td>\n",
              "      <td>0.401306</td>\n",
              "      <td>0.076390</td>\n",
              "      <td>0.727045</td>\n",
              "      <td>...</td>\n",
              "      <td>-0.325647</td>\n",
              "      <td>-0.522335</td>\n",
              "      <td>-0.188289</td>\n",
              "      <td>-0.356652</td>\n",
              "      <td>-0.485064</td>\n",
              "      <td>-0.121918</td>\n",
              "      <td>-0.449520</td>\n",
              "      <td>-0.116807</td>\n",
              "      <td>-0.113558</td>\n",
              "      <td>0.338918</td>\n",
              "    </tr>\n",
              "    <tr>\n",
              "      <th>▁சந்தர்ப்ப</th>\n",
              "      <td>-0.121100</td>\n",
              "      <td>-0.049716</td>\n",
              "      <td>-0.167197</td>\n",
              "      <td>0.365919</td>\n",
              "      <td>-1.635901</td>\n",
              "      <td>1.082761</td>\n",
              "      <td>-0.331799</td>\n",
              "      <td>-0.512262</td>\n",
              "      <td>-0.723081</td>\n",
              "      <td>0.198193</td>\n",
              "      <td>...</td>\n",
              "      <td>-0.447440</td>\n",
              "      <td>0.219738</td>\n",
              "      <td>-0.426128</td>\n",
              "      <td>-0.254355</td>\n",
              "      <td>0.416040</td>\n",
              "      <td>0.167318</td>\n",
              "      <td>-0.591591</td>\n",
              "      <td>0.540607</td>\n",
              "      <td>-0.062622</td>\n",
              "      <td>0.472127</td>\n",
              "    </tr>\n",
              "    <tr>\n",
              "      <th>சமூக</th>\n",
              "      <td>0.209300</td>\n",
              "      <td>0.599686</td>\n",
              "      <td>0.039264</td>\n",
              "      <td>0.364590</td>\n",
              "      <td>-1.840876</td>\n",
              "      <td>0.746350</td>\n",
              "      <td>0.312119</td>\n",
              "      <td>-0.538757</td>\n",
              "      <td>-1.021886</td>\n",
              "      <td>-0.038306</td>\n",
              "      <td>...</td>\n",
              "      <td>-0.784274</td>\n",
              "      <td>-0.125212</td>\n",
              "      <td>-0.364481</td>\n",
              "      <td>-0.409861</td>\n",
              "      <td>-1.035161</td>\n",
              "      <td>0.422461</td>\n",
              "      <td>-0.901599</td>\n",
              "      <td>0.352806</td>\n",
              "      <td>0.328277</td>\n",
              "      <td>0.911684</td>\n",
              "    </tr>\n",
              "    <tr>\n",
              "      <th>▁வற்புறுத்த</th>\n",
              "      <td>-0.426133</td>\n",
              "      <td>0.192765</td>\n",
              "      <td>0.032120</td>\n",
              "      <td>-0.392156</td>\n",
              "      <td>-1.239767</td>\n",
              "      <td>0.556953</td>\n",
              "      <td>0.268325</td>\n",
              "      <td>-0.056107</td>\n",
              "      <td>-1.168194</td>\n",
              "      <td>0.245597</td>\n",
              "      <td>...</td>\n",
              "      <td>-0.444652</td>\n",
              "      <td>-0.382560</td>\n",
              "      <td>-0.342674</td>\n",
              "      <td>-0.075639</td>\n",
              "      <td>-0.399160</td>\n",
              "      <td>0.054154</td>\n",
              "      <td>-0.710152</td>\n",
              "      <td>0.367050</td>\n",
              "      <td>0.494992</td>\n",
              "      <td>0.724223</td>\n",
              "    </tr>\n",
              "    <tr>\n",
              "      <th>▁கூகுள்</th>\n",
              "      <td>-0.485771</td>\n",
              "      <td>0.094991</td>\n",
              "      <td>0.122683</td>\n",
              "      <td>0.529538</td>\n",
              "      <td>-1.633889</td>\n",
              "      <td>0.722075</td>\n",
              "      <td>-0.180137</td>\n",
              "      <td>0.111167</td>\n",
              "      <td>-1.436899</td>\n",
              "      <td>0.640899</td>\n",
              "      <td>...</td>\n",
              "      <td>-0.305726</td>\n",
              "      <td>-0.358842</td>\n",
              "      <td>0.399187</td>\n",
              "      <td>-0.595666</td>\n",
              "      <td>-0.730073</td>\n",
              "      <td>-0.012862</td>\n",
              "      <td>-0.467213</td>\n",
              "      <td>0.846618</td>\n",
              "      <td>-0.061463</td>\n",
              "      <td>-0.000046</td>\n",
              "    </tr>\n",
              "    <tr>\n",
              "      <th>▁பிரசித்தி</th>\n",
              "      <td>-0.039581</td>\n",
              "      <td>-0.460073</td>\n",
              "      <td>0.109150</td>\n",
              "      <td>0.130076</td>\n",
              "      <td>-1.213040</td>\n",
              "      <td>0.653963</td>\n",
              "      <td>-0.115663</td>\n",
              "      <td>-0.748029</td>\n",
              "      <td>-1.023990</td>\n",
              "      <td>0.631861</td>\n",
              "      <td>...</td>\n",
              "      <td>-0.744943</td>\n",
              "      <td>-0.007287</td>\n",
              "      <td>0.159883</td>\n",
              "      <td>-0.335717</td>\n",
              "      <td>-1.102930</td>\n",
              "      <td>-0.095574</td>\n",
              "      <td>-0.667286</td>\n",
              "      <td>0.495898</td>\n",
              "      <td>0.475527</td>\n",
              "      <td>-0.187048</td>\n",
              "    </tr>\n",
              "    <tr>\n",
              "      <th>▁சீக்கியர்கள</th>\n",
              "      <td>-0.457573</td>\n",
              "      <td>-0.029164</td>\n",
              "      <td>0.267646</td>\n",
              "      <td>0.384505</td>\n",
              "      <td>-0.755809</td>\n",
              "      <td>0.871107</td>\n",
              "      <td>0.213756</td>\n",
              "      <td>0.196102</td>\n",
              "      <td>-1.500173</td>\n",
              "      <td>0.445593</td>\n",
              "      <td>...</td>\n",
              "      <td>-0.522237</td>\n",
              "      <td>0.404235</td>\n",
              "      <td>-0.183606</td>\n",
              "      <td>-0.075815</td>\n",
              "      <td>-0.504381</td>\n",
              "      <td>-0.235018</td>\n",
              "      <td>-0.947623</td>\n",
              "      <td>0.127727</td>\n",
              "      <td>0.167060</td>\n",
              "      <td>-0.604006</td>\n",
              "    </tr>\n",
              "    <tr>\n",
              "      <th>▁மத்திமம்</th>\n",
              "      <td>-0.537851</td>\n",
              "      <td>0.323388</td>\n",
              "      <td>-0.127235</td>\n",
              "      <td>0.247344</td>\n",
              "      <td>-1.732942</td>\n",
              "      <td>0.839073</td>\n",
              "      <td>-0.374221</td>\n",
              "      <td>-0.406411</td>\n",
              "      <td>-0.810076</td>\n",
              "      <td>0.052043</td>\n",
              "      <td>...</td>\n",
              "      <td>0.429243</td>\n",
              "      <td>-0.557794</td>\n",
              "      <td>-0.199908</td>\n",
              "      <td>-0.246132</td>\n",
              "      <td>-0.220002</td>\n",
              "      <td>0.181184</td>\n",
              "      <td>-0.230351</td>\n",
              "      <td>-0.076691</td>\n",
              "      <td>0.397272</td>\n",
              "      <td>0.882706</td>\n",
              "    </tr>\n",
              "    <tr>\n",
              "      <th>“</th>\n",
              "      <td>-0.487057</td>\n",
              "      <td>0.101350</td>\n",
              "      <td>0.323846</td>\n",
              "      <td>0.379314</td>\n",
              "      <td>-1.294675</td>\n",
              "      <td>0.587669</td>\n",
              "      <td>0.423591</td>\n",
              "      <td>-0.214962</td>\n",
              "      <td>-1.348075</td>\n",
              "      <td>0.608770</td>\n",
              "      <td>...</td>\n",
              "      <td>-0.735086</td>\n",
              "      <td>-0.604390</td>\n",
              "      <td>0.388983</td>\n",
              "      <td>-0.206811</td>\n",
              "      <td>-1.178709</td>\n",
              "      <td>-1.793508</td>\n",
              "      <td>-0.123695</td>\n",
              "      <td>0.008620</td>\n",
              "      <td>-0.169480</td>\n",
              "      <td>0.077503</td>\n",
              "    </tr>\n",
              "    <tr>\n",
              "      <th>‘</th>\n",
              "      <td>-1.062528</td>\n",
              "      <td>-0.326936</td>\n",
              "      <td>-0.282349</td>\n",
              "      <td>0.499380</td>\n",
              "      <td>-1.066751</td>\n",
              "      <td>0.758417</td>\n",
              "      <td>-0.177993</td>\n",
              "      <td>-0.499733</td>\n",
              "      <td>-1.039507</td>\n",
              "      <td>0.274381</td>\n",
              "      <td>...</td>\n",
              "      <td>-0.243882</td>\n",
              "      <td>-0.269090</td>\n",
              "      <td>0.277599</td>\n",
              "      <td>-0.375555</td>\n",
              "      <td>-1.238790</td>\n",
              "      <td>0.933866</td>\n",
              "      <td>0.082637</td>\n",
              "      <td>-0.540410</td>\n",
              "      <td>0.465956</td>\n",
              "      <td>0.394246</td>\n",
              "    </tr>\n",
              "  </tbody>\n",
              "</table>\n",
              "<p>10 rows × 400 columns</p>\n",
              "</div>"
            ],
            "text/plain": [
              "                   0         1         2         3         4         5    \\\n",
              "▁இருபத்தி    -1.077665 -0.390356  0.163234  0.283401 -1.093594  0.503261   \n",
              "▁சந்தர்ப்ப   -0.121100 -0.049716 -0.167197  0.365919 -1.635901  1.082761   \n",
              "சமூக          0.209300  0.599686  0.039264  0.364590 -1.840876  0.746350   \n",
              "▁வற்புறுத்த  -0.426133  0.192765  0.032120 -0.392156 -1.239767  0.556953   \n",
              "▁கூகுள்      -0.485771  0.094991  0.122683  0.529538 -1.633889  0.722075   \n",
              "▁பிரசித்தி   -0.039581 -0.460073  0.109150  0.130076 -1.213040  0.653963   \n",
              "▁சீக்கியர்கள -0.457573 -0.029164  0.267646  0.384505 -0.755809  0.871107   \n",
              "▁மத்திமம்    -0.537851  0.323388 -0.127235  0.247344 -1.732942  0.839073   \n",
              "“            -0.487057  0.101350  0.323846  0.379314 -1.294675  0.587669   \n",
              "‘            -1.062528 -0.326936 -0.282349  0.499380 -1.066751  0.758417   \n",
              "\n",
              "                   6         7         8         9      ...          390  \\\n",
              "▁இருபத்தி     0.321981  0.401306  0.076390  0.727045    ...    -0.325647   \n",
              "▁சந்தர்ப்ப   -0.331799 -0.512262 -0.723081  0.198193    ...    -0.447440   \n",
              "சமூக          0.312119 -0.538757 -1.021886 -0.038306    ...    -0.784274   \n",
              "▁வற்புறுத்த   0.268325 -0.056107 -1.168194  0.245597    ...    -0.444652   \n",
              "▁கூகுள்      -0.180137  0.111167 -1.436899  0.640899    ...    -0.305726   \n",
              "▁பிரசித்தி   -0.115663 -0.748029 -1.023990  0.631861    ...    -0.744943   \n",
              "▁சீக்கியர்கள  0.213756  0.196102 -1.500173  0.445593    ...    -0.522237   \n",
              "▁மத்திமம்    -0.374221 -0.406411 -0.810076  0.052043    ...     0.429243   \n",
              "“             0.423591 -0.214962 -1.348075  0.608770    ...    -0.735086   \n",
              "‘            -0.177993 -0.499733 -1.039507  0.274381    ...    -0.243882   \n",
              "\n",
              "                   391       392       393       394       395       396  \\\n",
              "▁இருபத்தி    -0.522335 -0.188289 -0.356652 -0.485064 -0.121918 -0.449520   \n",
              "▁சந்தர்ப்ப    0.219738 -0.426128 -0.254355  0.416040  0.167318 -0.591591   \n",
              "சமூக         -0.125212 -0.364481 -0.409861 -1.035161  0.422461 -0.901599   \n",
              "▁வற்புறுத்த  -0.382560 -0.342674 -0.075639 -0.399160  0.054154 -0.710152   \n",
              "▁கூகுள்      -0.358842  0.399187 -0.595666 -0.730073 -0.012862 -0.467213   \n",
              "▁பிரசித்தி   -0.007287  0.159883 -0.335717 -1.102930 -0.095574 -0.667286   \n",
              "▁சீக்கியர்கள  0.404235 -0.183606 -0.075815 -0.504381 -0.235018 -0.947623   \n",
              "▁மத்திமம்    -0.557794 -0.199908 -0.246132 -0.220002  0.181184 -0.230351   \n",
              "“            -0.604390  0.388983 -0.206811 -1.178709 -1.793508 -0.123695   \n",
              "‘            -0.269090  0.277599 -0.375555 -1.238790  0.933866  0.082637   \n",
              "\n",
              "                   397       398       399  \n",
              "▁இருபத்தி    -0.116807 -0.113558  0.338918  \n",
              "▁சந்தர்ப்ப    0.540607 -0.062622  0.472127  \n",
              "சமூக          0.352806  0.328277  0.911684  \n",
              "▁வற்புறுத்த   0.367050  0.494992  0.724223  \n",
              "▁கூகுள்       0.846618 -0.061463 -0.000046  \n",
              "▁பிரசித்தி    0.495898  0.475527 -0.187048  \n",
              "▁சீக்கியர்கள  0.127727  0.167060 -0.604006  \n",
              "▁மத்திமம்    -0.076691  0.397272  0.882706  \n",
              "“             0.008620 -0.169480  0.077503  \n",
              "‘            -0.540410  0.465956  0.394246  \n",
              "\n",
              "[10 rows x 400 columns]"
            ]
          },
          "metadata": {
            "tags": []
          },
          "execution_count": 63
        }
      ]
    },
    {
      "metadata": {
        "id": "wO3TxKKw5eIF",
        "colab_type": "code",
        "colab": {}
      },
      "cell_type": "code",
      "source": [
        "tamilvec.to_csv('tamilvec_wiki8k.csv')"
      ],
      "execution_count": 0,
      "outputs": []
    },
    {
      "metadata": {
        "id": "qOSCpV8I-C8k",
        "colab_type": "text"
      },
      "cell_type": "markdown",
      "source": [
        "## Exploring Word vectors"
      ]
    },
    {
      "metadata": {
        "id": "YEKJj0qg-SBD",
        "colab_type": "code",
        "colab": {}
      },
      "cell_type": "code",
      "source": [
        "word2index = tamilvec.index\n",
        "tam2vec = dict(zip(tamilvec.index, emb_np))\n"
      ],
      "execution_count": 0,
      "outputs": []
    },
    {
      "metadata": {
        "id": "GxkiwYW5_DyM",
        "colab_type": "code",
        "colab": {
          "base_uri": "https://localhost:8080/",
          "height": 35
        },
        "outputId": "7c8dcc5a-ffef-477e-b2b1-2e60696aca3f"
      },
      "cell_type": "code",
      "source": [
        "tam2vec['▁பல்கலைக்கழகம்']"
      ],
      "execution_count": 117,
      "outputs": [
        {
          "output_type": "execute_result",
          "data": {
            "text/plain": [
              "array([-0.203724,  0.020787,  0.32179 , -0.130676, ..., -0.058546, -0.193656,  0.322165, -0.799783], dtype=float32)"
            ]
          },
          "metadata": {
            "tags": []
          },
          "execution_count": 117
        }
      ]
    },
    {
      "metadata": {
        "id": "fxQz7ywk5eI_",
        "colab_type": "code",
        "colab": {}
      },
      "cell_type": "code",
      "source": [
        "from collections import Counter\n",
        "import math \n",
        "\n",
        "def similar(target='▁பல்கலைக்கழகம்', N=15):\n",
        "    scores = Counter()\n",
        "    for word in word2index:\n",
        "        raw_difference = tam2vec[word] - (tam2vec[target])\n",
        "        squared_difference = raw_difference * raw_difference\n",
        "        scores[word] = -math.sqrt(sum(squared_difference))\n",
        "\n",
        "    return scores.most_common(N)"
      ],
      "execution_count": 0,
      "outputs": []
    },
    {
      "metadata": {
        "id": "tZ8fG700-tzA",
        "colab_type": "code",
        "colab": {
          "base_uri": "https://localhost:8080/",
          "height": 276
        },
        "outputId": "92f2390b-c576-4ca7-9017-e117e9fe1fc0"
      },
      "cell_type": "code",
      "source": [
        "similar('▁பல்கலைக்கழகம்')"
      ],
      "execution_count": 119,
      "outputs": [
        {
          "output_type": "execute_result",
          "data": {
            "text/plain": [
              "[('▁பல்கலைக்கழகம்', -0.0),\n",
              " ('▁பல்கலைக்கழக', -7.622758631724941),\n",
              " ('▁பல்கலைக்', -8.381474130733048),\n",
              " ('▁அருங்காட்சியகம்', -9.934804107363593),\n",
              " ('▁கல்லூரி', -10.041136493606821),\n",
              " ('▁நூலகம்', -10.318009302485999),\n",
              " ('▁பாடசாலை', -10.527922100302066),\n",
              " ('▁பள்ளி', -10.59030479469354),\n",
              " ('▁உயர்நிலைப்பள்ளி', -10.687967829421753),\n",
              " ('▁கழகம்', -10.696278333915997),\n",
              " ('▁நிறுவனம்', -10.705079108673019),\n",
              " ('▁நூலக', -10.819976809333246),\n",
              " ('▁பேரரசு', -10.837515571472192),\n",
              " ('▁பொறியியல்', -10.891923176733965),\n",
              " ('▁தேவாலய', -10.900616360515421)]"
            ]
          },
          "metadata": {
            "tags": []
          },
          "execution_count": 119
        }
      ]
    },
    {
      "metadata": {
        "id": "gUfaLd3V-wSf",
        "colab_type": "text"
      },
      "cell_type": "markdown",
      "source": [
        ""
      ]
    },
    {
      "metadata": {
        "id": "3j7OfOqb-u2A",
        "colab_type": "code",
        "colab": {}
      },
      "cell_type": "code",
      "source": [
        "import random\n",
        "def random_word_similarity():\n",
        "  word = random.choice(word2index)\n",
        "  print('Words most similar to:', word, 'are:')\n",
        "  for w,d in similar(word):\n",
        "    print(w,d)"
      ],
      "execution_count": 0,
      "outputs": []
    },
    {
      "metadata": {
        "id": "4aWjX3roAb04",
        "colab_type": "code",
        "colab": {
          "base_uri": "https://localhost:8080/",
          "height": 294
        },
        "outputId": "8fced4ab-bc84-45d4-99ec-78e04945c33f"
      },
      "cell_type": "code",
      "source": [
        "random_word_similarity()"
      ],
      "execution_count": 121,
      "outputs": [
        {
          "output_type": "stream",
          "text": [
            "Words most similar to: ▁பொதுமக்கள் are:\n",
            "▁பொதுமக்கள் -0.0\n",
            "▁பொதுமக்கள -7.311791132445025\n",
            "▁தனிநபர் -8.11006542331366\n",
            "▁பார்வையாளர் -8.458276101922129\n",
            "▁ஆயிரக்கணக்கான -8.805056662231298\n",
            "▁தன்னார்வ -8.930435492939377\n",
            "▁சுற்றுச்சூழல் -8.939269502319872\n",
            "▁தொழில்துறை -9.029742338632035\n",
            "▁வாடிக்கையாளர் -9.057488201825205\n",
            "▁ஊழல் -9.105347385604688\n",
            "▁முற்றிலும் -9.13567447780089\n",
            "▁ஏழை -9.154276349677357\n",
            "▁வாடகை -9.16692868653695\n",
            "▁இரகசிய -9.18638676898657\n",
            "▁இளைஞர் -9.19533455846729\n"
          ],
          "name": "stdout"
        }
      ]
    },
    {
      "metadata": {
        "id": "mVAn5bnXAdbv",
        "colab_type": "code",
        "colab": {
          "base_uri": "https://localhost:8080/",
          "height": 294
        },
        "outputId": "11ba65c4-1395-448a-f7e3-0d1ffd8c5cb7"
      },
      "cell_type": "code",
      "source": [
        "random_word_similarity()"
      ],
      "execution_count": 122,
      "outputs": [
        {
          "output_type": "stream",
          "text": [
            "Words most similar to: த்தாக்க are:\n",
            "த்தாக்க -0.0\n",
            "▁இறுக்க -12.691843130267445\n",
            "▁சூத்திர -12.721162441701232\n",
            "▁உண்டாக்க -12.737521652437568\n",
            "▁வரைபட -12.768830127707032\n",
            "▁உருமாற்ற -12.782229213630288\n",
            "▁வெளிப்பாடு -12.82524256073423\n",
            "▁எந்திர -12.840977995027243\n",
            "=\"120 -12.84932002275394\n",
            "▁அளவீடு -12.88993905821583\n",
            "▁முதலீட்ட -12.917301073560777\n",
            "▁பலவீன -12.917775157007249\n",
            "▁நுணுக்க -12.917878760376594\n",
            "க்கோள -12.92487661726165\n",
            "=\"364 -12.92950152204314\n"
          ],
          "name": "stdout"
        }
      ]
    },
    {
      "metadata": {
        "id": "hie5rxHIAv4b",
        "colab_type": "code",
        "colab": {
          "base_uri": "https://localhost:8080/",
          "height": 2954
        },
        "outputId": "61cdc641-0346-47e5-b7aa-0f3c315125ac"
      },
      "cell_type": "code",
      "source": [
        "for _ in range(10):\n",
        "  random_word_similarity()\n",
        "  print()"
      ],
      "execution_count": 123,
      "outputs": [
        {
          "output_type": "stream",
          "text": [
            "Words most similar to: ▁இங்கிலாந்தில் are:\n",
            "▁இங்கிலாந்தில் -0.0\n",
            "▁இங்கிலாந்தின் -7.315344645966783\n",
            "▁இங்கிலாந்த -7.576312923061142\n",
            "▁ஐரோப்பாவில் -7.669542609285551\n",
            "▁ஸ்பெயின -8.136127158267897\n",
            "▁நெதர்லாந்த -8.222772243618472\n",
            "▁சீனாவில் -8.260297278307958\n",
            "▁அயர்லாந்து -8.39196202988463\n",
            "▁பிரிட்டன -8.410181398580907\n",
            "▁பிரான்சின் -8.434232077852023\n",
            "▁சுவிட்சர்லாந்த -8.448634197637523\n",
            "▁சிகாகோ -8.485547406671344\n",
            "▁டென்மார்க் -8.486482326598376\n",
            "▁லண்டன் -8.495074259212648\n",
            "▁நோர்வே -8.499953224843622\n",
            "\n",
            "Words most similar to: மடைந்த are:\n",
            "மடைந்த -0.0\n",
            "முற்ற -10.445327544531828\n",
            "மடை -10.70328315345914\n",
            "ங்களுடன் -11.65593482115408\n",
            "மூட்ட -11.862272778139955\n",
            "த்துடன் -11.912952068325405\n",
            "டைந்த -11.95720243513975\n",
            "ப்படுத்தப்பட்ட -11.974903330243833\n",
            "=\"270 -12.016728299186642\n",
            "த்திற்குப் -12.047011655999412\n",
            "▁அடைந்த -12.071368862900227\n",
            "ப்படுத்திய -12.09185544693538\n",
            "ப்பெற்ற -12.192605321079991\n",
            "▁மேம்பட்ட -12.230622755358013\n",
            "ங்களுக்கு -12.297557645367915\n",
            "\n",
            "Words most similar to: ப்பின் are:\n",
            "ப்பின் -0.0\n",
            "ப்பில் -8.952442785370923\n",
            "ப்பை -10.280321299746408\n",
            "=\"341 -11.535610069588834\n",
            "ப்பாக -11.555082331902279\n",
            "=\"270 -11.581992157464287\n",
            "▁H -11.604955179701435\n",
            "E -11.606294293849613\n",
            "IP -11.60651346561366\n",
            "Mar -11.606987962399232\n",
            "Co -11.60743043682862\n",
            "▁Pro -11.607510097660882\n",
            "II -11.607809893753728\n",
            "D -11.608408078651962\n",
            "N -11.608923949558445\n",
            "\n",
            "Words most similar to: ▁விழுந்த are:\n",
            "▁விழுந்த -0.0\n",
            "▁விழ -8.680994687790523\n",
            "▁வீழ்ந்த -8.827528513206532\n",
            "▁இழுத்து -10.169170069016406\n",
            "▁நெருப்ப -10.185175616108733\n",
            "▁ஏமாற்ற -10.22092177853824\n",
            "▁மறைந்த -10.234546537149416\n",
            "▁மோசமான -10.28934397304095\n",
            "▁அமர்ந்த -10.374028694311702\n",
            "▁பறக்க -10.374343235563787\n",
            "▁தொங்க -10.378993429061575\n",
            "▁திடீரென -10.387555131584254\n",
            "▁இயல்பாக -10.3966287281055\n",
            "▁ஆழ்ந்த -10.435485924085249\n",
            "▁அகன்ற -10.435833995091956\n",
            "\n",
            "Words most similar to: ▁1949 are:\n",
            "▁1949 -0.0\n",
            "▁1946 -5.0505638353855575\n",
            "▁1955 -5.216008130396765\n",
            "▁1948 -5.248571045060885\n",
            "▁1953 -5.34335999424093\n",
            "▁1951 -5.477878146196838\n",
            "▁1938 -5.500535994569418\n",
            "▁1959 -5.508471936066226\n",
            "▁1961 -5.52511844349609\n",
            "▁1964 -5.621951908800793\n",
            "▁1937 -5.639619574465982\n",
            "▁1954 -5.651029279562498\n",
            "▁1958 -5.66875669726893\n",
            "▁1936 -5.6884557293427696\n",
            "▁1963 -5.689402199079709\n",
            "\n",
            "Words most similar to: க்கிறார் are:\n",
            "க்கிறார் -0.0\n",
            "க்கிறது -10.154687770299345\n",
            "க்கின்றன -10.26766144130491\n",
            "கிறார் -10.623808503332608\n",
            "ப்பார் -10.830493625002994\n",
            "த்தனர் -11.210141853296806\n",
            "ப்பது -11.494152731186109\n",
            "ப்பதற்கான -11.561595640973096\n",
            "▁செய்கிறார் -11.574305578867333\n",
            "ப்பதற்காக -11.603769815347237\n",
            "க்கப்படும் -11.680257642479683\n",
            "த்தது -11.68676918881375\n",
            "கொள்கிறார் -11.764807129248942\n",
            "ப்பதற்கு -11.833653721017233\n",
            "கிறான் -11.9127358224695\n",
            "\n",
            "Words most similar to: ▁சனநாயக are:\n",
            "▁சனநாயக -0.0\n",
            "▁ஜனநாயக -7.948989190705821\n",
            "▁சோசலிச -7.949848423348916\n",
            "▁மக்களாட்சி -8.045339851353368\n",
            "▁பொதுவுடமை -8.975123508308693\n",
            "▁பொதுவுடைமை -9.02374386443842\n",
            "▁கம்யூனிஸ்ட் -9.516820791776139\n",
            "▁படைத்துறை -9.739270557203389\n",
            "▁கலாசார -9.810700792819974\n",
            "▁தற்காப்பு -9.966966958366305\n",
            "▁ஊழல் -9.981498972567273\n",
            "▁அரசியல -10.029045389350983\n",
            "▁சுற்றுச்சூழல் -10.04275081373166\n",
            "▁காற்பந்து -10.059257198196345\n",
            "▁அரசியலமைப்பு -10.082798582170847\n",
            "\n",
            "Words most similar to: ▁திணைக்கள are:\n",
            "▁திணைக்கள -0.0\n",
            "▁ஆய்வக -10.828769051000409\n",
            "▁துறையில் -10.830051273457926\n",
            "▁விஞ்ஞான -11.122692089562635\n",
            "▁சங்கத்தின் -11.17570010122168\n",
            "▁அபிவிருத்தி -11.212606474844014\n",
            "▁பேராசிரிய -11.223708595155356\n",
            "▁அலுவலக -11.238991918806871\n",
            "▁வலையமைப்ப -11.253511045640739\n",
            "▁சஞ்சிகை -11.273414989384044\n",
            "▁தொழிற்துறை -11.29385488998102\n",
            "▁நிறுவனங்களின் -11.306932156971795\n",
            "▁சரணாலய -11.320896333024757\n",
            "▁நூலக -11.328329178123411\n",
            "▁இணையதள -11.336331427509057\n",
            "\n",
            "Words most similar to: ch are:\n",
            "ch -0.0\n",
            "co -13.035401126371244\n",
            "sc -13.638380454881291\n",
            "te -13.665826887063995\n",
            "tra -13.74568436247551\n",
            "z -13.807257366401558\n",
            "tr -13.901566144989875\n",
            "th -13.931605110860113\n",
            "▁l -13.956207708155134\n",
            "▁s -13.981513031654767\n",
            "▁f -14.019947847506785\n",
            "▁p -14.025213333453717\n",
            "pp -14.04000738555413\n",
            "pl -14.051141051190651\n",
            "pe -14.051163299971819\n",
            "\n",
            "Words most similar to: ▁விலை are:\n",
            "▁விலை -0.0\n",
            "▁விற்பனை -9.526374846531416\n",
            "▁செலவு -9.666303331429434\n",
            "▁சுவை -9.842801079990053\n",
            "▁வலிமை -9.845869085178906\n",
            "▁சந்தை -9.88968596453777\n",
            "▁மதிப்பு -9.89454582371472\n",
            "▁வருமான -9.916729164799982\n",
            "▁இலாப -9.992239218570544\n",
            "▁கட்டண -10.00857965883631\n",
            "▁செறிவ -10.079473855003252\n",
            "▁பயன் -10.096726011529384\n",
            "▁மதிப்ப -10.114511254555321\n",
            "▁எதிர்கால -10.160046493664312\n",
            "▁வாடகை -10.162599338502586\n",
            "\n"
          ],
          "name": "stdout"
        }
      ]
    },
    {
      "metadata": {
        "id": "ML3VqHo3ChLB",
        "colab_type": "code",
        "colab": {}
      },
      "cell_type": "code",
      "source": [
        "def ten_random_words():\n",
        "  for _ in range(10):\n",
        "    random_word_similarity()\n",
        "    print()"
      ],
      "execution_count": 0,
      "outputs": []
    },
    {
      "metadata": {
        "id": "QHq_nPptDy9f",
        "colab_type": "code",
        "colab": {
          "base_uri": "https://localhost:8080/",
          "height": 2954
        },
        "outputId": "57a7d6f9-877b-4ad6-8a3b-97146bae7d81"
      },
      "cell_type": "code",
      "source": [
        "ten_random_words()"
      ],
      "execution_count": 158,
      "outputs": [
        {
          "output_type": "stream",
          "text": [
            "Words most similar to: ாலும் are:\n",
            "ாலும் -0.0\n",
            "ினாலும் -11.50416925436963\n",
            "ால் -12.238528245754344\n",
            "ாலேயே -12.392875786454107\n",
            "ிருந்தாலும் -12.55110066983433\n",
            "ுடனும் -12.58962048722541\n",
            "ிடமிருந்து -12.662696338813307\n",
            "=\"106 -12.802532662734464\n",
            "%25 -12.845250415562589\n",
            "=\"270 -12.895210523172317\n",
            "தோடு -12.909532446020693\n",
            "▁போதும் -12.926834938567456\n",
            "ோடு -13.005850698323137\n",
            "ுடனான -13.05179008804898\n",
            "=\"349 -13.054159724766237\n",
            "\n",
            "Words most similar to: and are:\n",
            "and -0.0\n",
            "amb -11.782760418899533\n",
            "ank -12.066623676561559\n",
            "app -12.16313600515206\n",
            "amp -12.203073412284358\n",
            "aw -12.311364281336406\n",
            "att -12.363953684631184\n",
            "ara -12.481839214558365\n",
            "ava -12.54877433647053\n",
            "ant -12.595197248628269\n",
            "ath -12.623819692007451\n",
            "eg -12.643674736513232\n",
            "ag -12.666560981819856\n",
            "ak -12.73685297475567\n",
            "ad -12.773424811643851\n",
            "\n",
            "Words most similar to: ▁குற்ற are:\n",
            "▁குற்ற -0.0\n",
            "=\"270 -8.779132853743242\n",
            "▁H -8.997777965496361\n",
            "Ar -8.998914133287355\n",
            "CO -8.99912050869038\n",
            "▁Pro -8.999210347926848\n",
            "F -8.999330251534237\n",
            "National -8.999435536651761\n",
            "▁S -8.999789119966012\n",
            "E -8.999951252972615\n",
            "▁The -9.000011011853868\n",
            "▁U -9.000172301873231\n",
            "▁F -9.000246186667075\n",
            "AE -9.000279233935384\n",
            "▁Ch -9.000407620784225\n",
            "\n",
            "Words most similar to: ▁செயற்பாட்ட are:\n",
            "▁செயற்பாட்ட -0.0\n",
            "▁செயல்பாட்ட -7.039349755763971\n",
            "▁சிந்தனை -8.774485898620616\n",
            "▁செயற்பாடு -8.821875366880704\n",
            "▁செயல்பாடு -9.06494272615214\n",
            "▁ஒருங்கிணைப்ப -9.284823039426325\n",
            "▁செயலாக்க -9.369841423423884\n",
            "▁சமுதாய -9.414979158414134\n",
            "▁சூழல -9.437193971436011\n",
            "▁கோட்பாட்ட -9.452963942755437\n",
            "▁செயல்முறை -9.455148455105872\n",
            "▁வடிவமைப்ப -9.482429696235316\n",
            "▁கட்டமைப்ப -9.485536427351049\n",
            "▁இயல்ப -9.525512791334515\n",
            "▁முதலீட்ட -9.577669294017591\n",
            "\n",
            "Words most similar to: வைக் are:\n",
            "வைக் -0.0\n",
            "வைப் -7.073963816095311\n",
            "வைத் -7.778415232474589\n",
            "வைச் -8.428386139705637\n",
            "வையும் -8.75437277078568\n",
            "விற்கு -9.089306195489952\n",
            "வினால் -9.604285238993018\n",
            "வுக்கு -9.68139067281615\n",
            "வை -9.823512104565365\n",
            "விலிருந்து -10.339690746116165\n",
            "வானது -10.758570836291097\n",
            "=\"270 -10.881076621843178\n",
            "விலுள்ள -10.889634253352364\n",
            "வின் -10.898739159730386\n",
            "=124 -10.93622873398416\n",
            "\n",
            "Words most similar to: ▁படு are:\n",
            "▁படு -0.0\n",
            "=\"270 -9.853474050888181\n",
            "=270 -9.939147792128159\n",
            "=124 -9.960485919412891\n",
            "The -10.00861549713758\n",
            "▁H -10.009506634922667\n",
            "Co -10.010201109494886\n",
            "National -10.010245947824775\n",
            "▁Jump -10.010265710633336\n",
            "Ar -10.010931117837453\n",
            "▁F -10.010980899471996\n",
            "Per -10.010996507792198\n",
            "Mar -10.011040774561916\n",
            "▁M -10.01104764454746\n",
            "▁G -10.011510704055814\n",
            "\n",
            "Words most similar to: ▁அடுக்க are:\n",
            "▁அடுக்க -0.0\n",
            "▁அடுக்கு -7.471881199572883\n",
            "▁கட்டமைப்ப -8.935967588538862\n",
            "▁இணைப்ப -9.02103502417009\n",
            "▁வரிசை -9.155450095326103\n",
            "▁வெளிப்புற -9.247986658821455\n",
            "▁செயல்பாட்ட -9.283327459988966\n",
            "▁இணைப்பு -9.345682135111856\n",
            "▁ஒழுங்க -9.35568219393509\n",
            "▁கட்டமைப்பு -9.35677446194665\n",
            "▁ஒருங்கிணைப்ப -9.3763186265931\n",
            "▁வரையறை -9.390047862463332\n",
            "▁அடித்தள -9.435807876368395\n",
            "▁இயல்ப -9.437741401054\n",
            "▁சவ்வ -9.555576680869386\n",
            "\n",
            "Words most similar to: ▁இலை are:\n",
            "▁இலை -0.0\n",
            "▁விதை -8.894276180922095\n",
            "▁தண்டு -9.476627190938881\n",
            "▁பாறை -9.616438272986839\n",
            "▁மர -9.705858005766927\n",
            "▁பயிர் -9.785747860609916\n",
            "▁தாவர -9.794422478405538\n",
            "▁இறகு -9.809406485904258\n",
            "▁விலங்கு -9.837774002552687\n",
            "▁செடி -9.86242446791173\n",
            "▁கால்நடை -9.880459757161118\n",
            "▁வளைவு -9.922157106576304\n",
            "▁வேர் -9.923005101690595\n",
            "▁பூஞ்சை -9.939666006817818\n",
            "▁காற்று -9.949025870025741\n",
            "\n",
            "Words most similar to: முற்ற are:\n",
            "முற்ற -0.0\n",
            "மடைந்த -10.445327544531828\n",
            "மூட்ட -11.880035335141994\n",
            "=\"349 -11.946839243852567\n",
            "▁மேம்பட்ட -12.087278492868244\n",
            "=\"341 -12.137572095024177\n",
            "=\"270 -12.179924525369545\n",
            "=\"106 -12.25133065747619\n",
            "▁தொழில்முறை -12.276809158703898\n",
            "▁மேலதிக -12.298445585433992\n",
            "=124 -12.317349217763786\n",
            "▁சமுதாய -12.335393852359532\n",
            "▁செவ்வ -12.343444955669458\n",
            "உலக -12.359839209655489\n",
            "▁துருக்கிய -12.374546304637873\n",
            "\n",
            "Words most similar to: ▁கருதப்படுகின்றன are:\n",
            "▁கருதப்படுகின்றன -0.0\n",
            "▁கருதப்பட்ட -10.155196925009825\n",
            "▁கூறலாம் -10.324761775295848\n",
            "▁கருதப்படுகிறது -10.380483657122138\n",
            "▁கூறப்படுகிறது -10.505688999907656\n",
            "▁கருதப்பட்டது -10.553416819843076\n",
            "▁அடையாளப்படுத்த -10.629859166913501\n",
            "▁கூறுகின்றன -10.641843449361923\n",
            "▁கிடைக்கின்றன -10.694786160027865\n",
            "▁இருக்கின்றன -10.798839455207107\n",
            "▁அமைகின்றன -10.815935839070983\n",
            "▁நம்பப்படுகிறது -10.853248278746307\n",
            "▁கருதப்படுகிறார் -10.8568814457206\n",
            "▁காணப்படுகின்றன -10.960563874906203\n",
            "▁பயன்படுகின்றன -10.960676764768248\n",
            "\n"
          ],
          "name": "stdout"
        }
      ]
    },
    {
      "metadata": {
        "id": "cl_WawYiEuCC",
        "colab_type": "code",
        "colab": {
          "base_uri": "https://localhost:8080/",
          "height": 276
        },
        "outputId": "4180bcae-6412-4328-ea81-c309c48cbbee"
      },
      "cell_type": "code",
      "source": [
        "similar('▁ராமசாமி')"
      ],
      "execution_count": 126,
      "outputs": [
        {
          "output_type": "execute_result",
          "data": {
            "text/plain": [
              "[('▁ராமசாமி', -0.0),\n",
              " ('▁சந்திரசேகர', -9.54532195374704),\n",
              " ('▁மோகன்', -10.401543462473082),\n",
              " ('▁லட்சுமி', -10.41289789273595),\n",
              " ('▁கணபதி', -10.480418163663533),\n",
              " ('▁சரஸ்வதி', -10.516065672799293),\n",
              " ('▁கார்த்திக்', -10.773850896618205),\n",
              " ('▁நடராஜ', -10.779588982132745),\n",
              " ('▁சரவண', -10.789375278462977),\n",
              " ('▁மகாதேவ', -10.835675146767029),\n",
              " ('▁விஸ்வநாத', -10.888252048870958),\n",
              " ('▁ராதா', -10.889131102231273),\n",
              " ('▁சுப்பிரமணிய', -10.902323328384806),\n",
              " ('▁சாஸ்தா', -10.943302353859444),\n",
              " ('▁ஜோசப்', -10.966607630312273)]"
            ]
          },
          "metadata": {
            "tags": []
          },
          "execution_count": 126
        }
      ]
    },
    {
      "metadata": {
        "id": "l7OJiuxNE3E4",
        "colab_type": "code",
        "colab": {
          "base_uri": "https://localhost:8080/",
          "height": 276
        },
        "outputId": "781d0ee2-0c2b-4e12-a4cc-5ca9436e4fad"
      },
      "cell_type": "code",
      "source": [
        "similar('▁ஜோசப்')"
      ],
      "execution_count": 127,
      "outputs": [
        {
          "output_type": "execute_result",
          "data": {
            "text/plain": [
              "[('▁ஜோசப்', -0.0),\n",
              " ('▁டேவிட்', -7.779510261975913),\n",
              " ('▁ராபர்ட்', -7.8284473989000976),\n",
              " ('▁அந்தோனி', -7.841824199835671),\n",
              " ('▁மைக்கேல்', -7.858238270135278),\n",
              " ('▁தாமஸ்', -8.02338192402103),\n",
              " ('▁சார்லஸ்', -8.264686424530728),\n",
              " ('▁ஜேம்ஸ்', -8.32321120202982),\n",
              " ('▁லூயி', -8.471510423365268),\n",
              " ('▁ஹென்றி', -8.491007852703259),\n",
              " ('▁பிரான்சிஸ்', -8.613287537556847),\n",
              " ('▁ரிச்சர்ட்', -8.757825038339764),\n",
              " ('▁மேரி', -8.782933898887592),\n",
              " ('▁ஜார்ஜ்', -8.799716191733692),\n",
              " ('▁ஸ்காட்', -8.873270538462407)]"
            ]
          },
          "metadata": {
            "tags": []
          },
          "execution_count": 127
        }
      ]
    },
    {
      "metadata": {
        "id": "3lDlIPwPE7hf",
        "colab_type": "code",
        "colab": {
          "base_uri": "https://localhost:8080/",
          "height": 276
        },
        "outputId": "8d55a394-98f2-4421-92d8-8d345d702c38"
      },
      "cell_type": "code",
      "source": [
        "similar('▁சரஸ்வதி')"
      ],
      "execution_count": 128,
      "outputs": [
        {
          "output_type": "execute_result",
          "data": {
            "text/plain": [
              "[('▁சரஸ்வதி', -0.0),\n",
              " ('▁பார்வதி', -8.901737269767553),\n",
              " ('▁லட்சுமி', -9.022779847792453),\n",
              " ('▁பகவதி', -9.254674648756799),\n",
              " ('▁விஷ்ணு', -9.256148167600216),\n",
              " ('▁பவானி', -9.444592772933724),\n",
              " ('▁துர்க்கை', -9.494334391964024),\n",
              " ('▁காவேரி', -9.509799344996821),\n",
              " ('▁கிருஷ்ணா', -9.561535599285317),\n",
              " ('▁கணபதி', -9.607123751864426),\n",
              " ('▁ஹரி', -9.608417053612943),\n",
              " ('▁சமசுகிருத', -9.614878965722438),\n",
              " ('▁காளி', -9.618903142611305),\n",
              " ('▁பிரம்ம', -9.738397167370227),\n",
              " ('▁மைசூர்', -9.776696960662528)]"
            ]
          },
          "metadata": {
            "tags": []
          },
          "execution_count": 128
        }
      ]
    },
    {
      "metadata": {
        "id": "Mh1yXNiqFBhN",
        "colab_type": "code",
        "colab": {
          "base_uri": "https://localhost:8080/",
          "height": 276
        },
        "outputId": "9e9628a7-3b00-408f-9c72-935a788d34e6"
      },
      "cell_type": "code",
      "source": [
        "similar('▁கன்னியாகுமரி')"
      ],
      "execution_count": 129,
      "outputs": [
        {
          "output_type": "execute_result",
          "data": {
            "text/plain": [
              "[('▁கன்னியாகுமரி', -0.0),\n",
              " ('▁திருநெல்வேலி', -7.527455691819665),\n",
              " ('▁இராமநாதபுரம்', -7.573070251247375),\n",
              " ('▁தூத்துக்குடி', -7.949094952619637),\n",
              " ('▁கோயம்புத்தூர்', -8.042168855819247),\n",
              " ('▁கடலூர்', -8.151464592979943),\n",
              " ('▁புதுக்கோட்டை', -8.167071993045594),\n",
              " ('▁ஈரோடு', -8.19541341881066),\n",
              " ('▁விருதுநகர்', -8.271042453532667),\n",
              " ('▁நீலகிரி', -8.291753518733088),\n",
              " ('▁திருப்பூர்', -8.371182704832854),\n",
              " ('▁சேலம்', -8.389907388885343),\n",
              " ('▁திண்டுக்கல்', -8.437733686418069),\n",
              " ('▁விழுப்புரம்', -8.583561505773364),\n",
              " ('▁கர்நாடகா', -8.586033472059603)]"
            ]
          },
          "metadata": {
            "tags": []
          },
          "execution_count": 129
        }
      ]
    },
    {
      "metadata": {
        "id": "yTcsHp78FIXk",
        "colab_type": "code",
        "colab": {
          "base_uri": "https://localhost:8080/",
          "height": 276
        },
        "outputId": "3b4c5b7c-b909-471e-9cd4-c8b3530e52fa"
      },
      "cell_type": "code",
      "source": [
        "similar('▁கர்நாடகா')"
      ],
      "execution_count": 130,
      "outputs": [
        {
          "output_type": "execute_result",
          "data": {
            "text/plain": [
              "[('▁கர்நாடகா', -0.0),\n",
              " ('▁கேரளா', -6.157619228265201),\n",
              " ('▁மகாராஷ்டிரா', -6.4709969603943165),\n",
              " ('▁கர்நாடக', -6.587882040414094),\n",
              " ('▁ஒடிசா', -7.376039538781334),\n",
              " ('▁மகாராட்டிர', -7.556998792598648),\n",
              " ('▁கோவா', -7.895222022448399),\n",
              " ('▁அரியானா', -7.905754684586284),\n",
              " ('▁குசராத்', -7.917046637531333),\n",
              " ('▁புதுச்சேரி', -8.001225127736078),\n",
              " ('▁கேரள', -8.072821314444006),\n",
              " ('▁பெங்களூரு', -8.082008293857768),\n",
              " ('▁குஜராத்', -8.106104624638144),\n",
              " ('▁ஆந்திர', -8.31719240784472),\n",
              " ('▁ராஜஸ்தான்', -8.335459715579125)]"
            ]
          },
          "metadata": {
            "tags": []
          },
          "execution_count": 130
        }
      ]
    },
    {
      "metadata": {
        "id": "bG6cUsVTFcYY",
        "colab_type": "code",
        "colab": {
          "base_uri": "https://localhost:8080/",
          "height": 294
        },
        "outputId": "a8f81183-1a99-4afd-bf91-3c614f529e85"
      },
      "cell_type": "code",
      "source": [
        "random_word_similarity()"
      ],
      "execution_count": 131,
      "outputs": [
        {
          "output_type": "stream",
          "text": [
            "Words most similar to: ▁ஐய are:\n",
            "▁ஐய -0.0\n",
            "▁அய்ய -8.85300473261025\n",
            "▁சந்தேக -9.601295265937896\n",
            "=\"106 -9.874883438438179\n",
            "=\"270 -9.899027460057466\n",
            "%25 -9.900223235034074\n",
            "=\"349 -9.91724822634812\n",
            "=\"367 -10.064806074542847\n",
            "▁அறிவ -10.149942055816046\n",
            "▁ஆழ்ந்த -10.160315241117678\n",
            "▁உரோம -10.191083869757493\n",
            "▁இன்னும் -10.242025476213183\n",
            "▁ஆன்மீக -10.244959156704075\n",
            "▁போலி -10.256480477912707\n",
            "▁ஐரோப்பிய -10.328563584407522\n"
          ],
          "name": "stdout"
        }
      ]
    },
    {
      "metadata": {
        "id": "73eg6E3ZLTVR",
        "colab_type": "code",
        "colab": {
          "base_uri": "https://localhost:8080/",
          "height": 2954
        },
        "outputId": "af45d538-7c1f-44a0-8d2d-7044bcf85379"
      },
      "cell_type": "code",
      "source": [
        "ten_random_words()"
      ],
      "execution_count": 156,
      "outputs": [
        {
          "output_type": "stream",
          "text": [
            "Words most similar to: யோடு are:\n",
            "யோடு -0.0\n",
            "யுடன் -8.840733505209863\n",
            "யினால் -9.767475028085022\n",
            "யுடனும் -9.934276982380087\n",
            "யால் -10.174591894505156\n",
            "யினை -10.270553361071448\n",
            "யைத் -10.421312241628822\n",
            "யைப் -10.530115057662075\n",
            "யையும் -10.643601224399173\n",
            "யிடம் -10.925329371555097\n",
            "களோடு -10.96884680800126\n",
            "யிலே -10.969741695852\n",
            "யைக் -10.974313024690337\n",
            "யிலிருந்து -11.026692742798437\n",
            "யாய் -11.042025830231387\n",
            "\n",
            "Words most similar to: her are:\n",
            "her -0.0\n",
            "he -10.97578164330279\n",
            "ass -12.105565453824813\n",
            "ho -12.228109966435456\n",
            "oph -12.292087927469682\n",
            "hi -12.426776675881154\n",
            "tr -12.50534397595288\n",
            "tra -12.627115721865525\n",
            "ound -12.673961877094573\n",
            "we -12.67490916184979\n",
            "gen -12.67823949117384\n",
            "pe -12.757655889576233\n",
            "mo -12.760798189885659\n",
            "han -12.787713542065356\n",
            "be -12.798593135041278\n",
            "\n",
            "Words most similar to: ▁கற் are:\n",
            "▁கற் -0.0\n",
            "▁பாறை -9.287481439352007\n",
            "▁பற் -9.413664446119645\n",
            "▁களிமண் -9.502272436968873\n",
            "▁மண் -9.55597259128389\n",
            "▁பொற் -9.563502967113008\n",
            "▁கற்ப -9.613873018350544\n",
            "=\"270 -9.753088517543748\n",
            "▁கல் -9.810768711032495\n",
            "▁கண்ணாடி -9.837619517530856\n",
            "▁கண் -9.909778471375642\n",
            "▁சுழல் -9.951916574968173\n",
            "▁Pro -9.953682913358502\n",
            "Mar -9.954512306217369\n",
            "▁H -9.95485097200304\n",
            "\n",
            "Words most similar to: ▁தொலைவிலும் are:\n",
            "▁தொலைவிலும் -0.0\n",
            "▁தொலைவில் -8.992339490900221\n",
            "▁தூரத்தில் -9.420645331565611\n",
            "▁பரப்பளவில் -11.156412974619663\n",
            "▁தூர -11.176093727530693\n",
            "▁தொலைவு -11.414044931754168\n",
            "▁நீளமான -11.614750609012976\n",
            "▁கிட்டத்தட்ட -11.7165324192189\n",
            "▁இரயில் -11.730512845674227\n",
            "▁உயரத்தில் -11.75002587193718\n",
            "▁மெல்லிய -11.812668811744757\n",
            "▁நிலப்பகுதி -11.817056176976427\n",
            "▁பரப்பளவு -11.846803467692247\n",
            "▁தெற்கில் -11.847845730236262\n",
            "▁செங்குத்து -11.868810239838483\n",
            "\n",
            "Words most similar to: ம்பா are:\n",
            "ம்பா -0.0\n",
            "=124 -12.232136036349566\n",
            "=\"364 -12.287753985663883\n",
            "=\"120 -12.403877398379612\n",
            "=\"270 -12.441857345928657\n",
            "=\"370 -12.539391928423667\n",
            "=376 -12.582040329469793\n",
            "=\"367 -12.6040880907847\n",
            "=\"106 -12.646393684457411\n",
            "=\"355 -12.700057854913874\n",
            "=270 -12.7246695173051\n",
            "ம்மா -12.731620626427071\n",
            "=\"349 -12.754847397693355\n",
            "▁நியாய -12.818070670085703\n",
            "=\"341 -12.818204356035944\n",
            "\n",
            "Words most similar to: ▁நன்மை are:\n",
            "▁நன்மை -0.0\n",
            "▁பயன் -8.537105993949195\n",
            "▁மகிழ்ச்சி -8.57481118803924\n",
            "▁ஆபத்து -8.588622107439871\n",
            "▁இயல்பான -8.787327342157692\n",
            "▁கவலை -8.816333755633156\n",
            "▁நியாய -8.876204536080035\n",
            "▁இயல்ப -8.967050750761238\n",
            "▁அச்சுறுத்த -8.985324373869041\n",
            "▁அபாய -9.021105787308533\n",
            "▁பாதிப்பு -9.035428432939351\n",
            "▁புதுமை -9.076890521427076\n",
            "▁சிரம -9.12581537142206\n",
            "▁சிக்கல் -9.190429734550722\n",
            "▁பிரச்சனை -9.244780426903139\n",
            "\n",
            "Words most similar to: ▁காப்பக are:\n",
            "▁காப்பக -0.0\n",
            "▁சரணாலய -8.50076608049484\n",
            "▁பண்ணை -10.433503106455221\n",
            "▁கண்காட்சி -10.689034590320773\n",
            "▁இருப்பிட -10.70079292243531\n",
            "▁படிம -10.715497390897148\n",
            "▁அருங்காட்சியக -10.717441079286521\n",
            "▁பூங்கா -10.83646078860334\n",
            "▁கடலோர -10.838795177885798\n",
            "▁சேகரிப்ப -10.843874212394185\n",
            "▁குடியிருப்பு -10.857020330166032\n",
            "▁நூலகம் -10.862123696862929\n",
            "▁நூலக -10.872130710388973\n",
            "▁மருத்துவமனை -10.893047072358485\n",
            "▁குகை -10.895371401518716\n",
            "\n",
            "Words most similar to: ▁பாவ are:\n",
            "▁பாவ -0.0\n",
            "▁பண -9.527118667717527\n",
            "▁பயன் -9.69573211037521\n",
            "▁நியாய -9.70203186918995\n",
            "=\"270 -9.736124535326557\n",
            "▁சித்திர -9.818759517692824\n",
            "▁பிரபல -9.82134973505203\n",
            "▁சித்த -9.859546490394486\n",
            "▁தவ -10.004852496919401\n",
            "▁வர்ண -10.047182272828643\n",
            "=\"364 -10.068367257210317\n",
            "▁தனிப்பட்ட -10.072451673032766\n",
            "▁பாதுகாப்ப -10.077338133566249\n",
            "▁போலி -10.101900570262705\n",
            "▁உபயோக -10.114247990016937\n",
            "\n",
            "Words most similar to: ▁பக்த are:\n",
            "▁பக்த -0.0\n",
            "▁சகோதர -10.513994333472438\n",
            "=\"349 -10.597910922210982\n",
            "=\"270 -10.60101387289231\n",
            "▁ஆலய -10.737882458645682\n",
            "=\"364 -10.798392023450656\n",
            "▁பக்தி -10.798959761211444\n",
            "▁சந்த -10.815149736714094\n",
            "▁ஆன்மீக -10.831937512314093\n",
            "▁அன்னை -10.852438303508992\n",
            "▁சமூக -10.86730048838185\n",
            "▁மன்னர் -10.874701196425976\n",
            "▁சமுதாய -10.878361957259687\n",
            "▁கமல -10.878412883049764\n",
            "▁தர்ம -10.891712662658515\n",
            "\n",
            "Words most similar to: ▁வண்டி are:\n",
            "▁வண்டி -0.0\n",
            "▁தொடர்வண்டி -9.35045356964946\n",
            "▁தானுந்து -9.56314310204223\n",
            "▁வாகன -9.89353458712491\n",
            "▁இரயில் -9.981046300796313\n",
            "▁படகு -10.007978420131062\n",
            "▁கப்பல் -10.038502051731133\n",
            "▁இயந்திர -10.315828900362682\n",
            "▁தொழிற்சாலை -10.34355294300105\n",
            "▁சுழல் -10.369885376345902\n",
            "=\"270 -10.37034285590024\n",
            "▁குண்டு -10.381111749021338\n",
            "▁ரயில் -10.392965676143382\n",
            "▁சாலை -10.393863219336094\n",
            "▁பெட்டி -10.40515994503788\n",
            "\n"
          ],
          "name": "stdout"
        }
      ]
    },
    {
      "metadata": {
        "id": "J1xj5owLLZHh",
        "colab_type": "code",
        "colab": {
          "base_uri": "https://localhost:8080/",
          "height": 2954
        },
        "outputId": "41e0e494-a532-4801-831c-e8446faee46b"
      },
      "cell_type": "code",
      "source": [
        "ten_random_words()"
      ],
      "execution_count": 157,
      "outputs": [
        {
          "output_type": "stream",
          "text": [
            "Words most similar to: ▁முடிவுகள் are:\n",
            "▁முடிவுகள் -0.0\n",
            "▁நடவடிக்கைகள் -9.55479623668584\n",
            "▁மதிப்பீடு -10.038379673108986\n",
            "▁ஆய்வுகள் -10.068495110166985\n",
            "▁புள்ளிவிவர -10.175114923449723\n",
            "▁தகவல்கள் -10.21661680073663\n",
            "▁கூற்று -10.242190364950229\n",
            "▁செய்முறை -10.269941407897328\n",
            "▁கருதுகோள -10.360168177963885\n",
            "▁விவாத -10.40005274468901\n",
            "▁விதிமுறை -10.413624694577827\n",
            "▁கண்டுபிடிப்பு -10.430034884327988\n",
            "▁விளைவுகளை -10.47917922290925\n",
            "▁அளவீடு -10.530027455765275\n",
            "▁படிம -10.570232000045548\n",
            "\n",
            "Words most similar to: ▁திட்ட are:\n",
            "▁திட்ட -0.0\n",
            "▁திட்டம் -8.851953956821927\n",
            "=\"270 -9.126066229250076\n",
            "=124 -9.367733706146899\n",
            "▁E -9.370397711434208\n",
            "IP -9.370959304517568\n",
            "National -9.37122732556526\n",
            "▁H -9.37141178328729\n",
            "D -9.371747793569023\n",
            "John -9.371939015915508\n",
            "SO -9.37194994202661\n",
            "▁Ch -9.37223430499589\n",
            "<s> -9.37226530040868\n",
            "II -9.372288960069207\n",
            "▁Pro -9.37236940649341\n",
            "\n",
            "Words most similar to: ▁28 are:\n",
            "▁28 -0.0\n",
            "▁27 -4.176051140868481\n",
            "▁29 -4.379672965706315\n",
            "▁26 -4.41276755686684\n",
            "▁25 -5.386994941155828\n",
            "▁31 -5.414353377474656\n",
            "▁23 -5.435396662487667\n",
            "▁22 -5.486198396585915\n",
            "▁24 -5.508181850180543\n",
            "▁30 -5.527551008445188\n",
            "▁21 -5.596528271209932\n",
            "▁35 -6.233724740224584\n",
            "▁32 -6.481415218731354\n",
            "▁45 -6.48985698645485\n",
            "▁40 -6.5868723666692\n",
            "\n",
            "Words most similar to: யாகப் are:\n",
            "யாகப் -0.0\n",
            "யாகக் -8.771260380712267\n",
            "யாக -9.498590131798597\n",
            "யாகவும் -10.121898811810121\n",
            "யாய் -11.115105582205471\n",
            "களாகப் -11.255648603540237\n",
            "யைத் -11.733528191952496\n",
            "யைப் -11.845592704732946\n",
            "யிடம் -12.048241809232913\n",
            "யோடு -12.074703403228735\n",
            "யைச் -12.086267198339112\n",
            "களாக -12.27462426900671\n",
            "ாகப் -12.370026137610628\n",
            "யினை -12.390608906497198\n",
            "யுடன் -12.540385028885758\n",
            "\n",
            "Words most similar to: ▁கோவிந்த are:\n",
            "▁கோவிந்த -0.0\n",
            "▁சரவண -8.615279828321034\n",
            "▁விக்கிரம -9.087522615127218\n",
            "▁கமல -9.633679350134406\n",
            "▁விஸ்வநாத -9.680279808704293\n",
            "▁ராம் -9.829806036063577\n",
            "▁அனந்த -9.888865073029715\n",
            "▁சந்திரசேகர -9.905923931329447\n",
            "▁மோகன் -9.930266650282777\n",
            "▁ஹரி -9.951958409752043\n",
            "▁சங்கர -9.979291966646322\n",
            "▁சத்ய -10.034718191278289\n",
            "▁நாராயண -10.050770493478808\n",
            "▁மகாதேவ -10.06628519622511\n",
            "▁கௌதம -10.08288587729937\n",
            "\n",
            "Words most similar to: ▁அப்பொழுது are:\n",
            "▁அப்பொழுது -0.0\n",
            "▁இப்பொழுது -8.72562916203482\n",
            "▁அப்போது -8.872587508735798\n",
            "▁இதற்காக -8.925902277650522\n",
            "▁பின்னாளில் -8.978236225103455\n",
            "▁அத்தகைய -9.046358296273574\n",
            "▁ஆகவே -9.280149677764436\n",
            "▁பிற்காலத்தில் -9.312293787286096\n",
            "▁ஏற்கனவே -9.315030351724172\n",
            "▁ஆகையால் -9.443102393717615\n",
            "▁காலப்போக்கில் -9.473015363060068\n",
            "▁இறுதியாக -9.492211881125415\n",
            "▁1955 -9.558175631171986\n",
            "▁அவனுக்கு -9.583979736560917\n",
            "▁மறுபடியும் -9.669517591947427\n",
            "\n",
            "Words most similar to: ▁பரப்பளவு are:\n",
            "▁பரப்பளவு -0.0\n",
            "▁பரப்பளவில் -8.570800122547244\n",
            "▁நிலப்பரப்பு -8.941072791041256\n",
            "▁பரப்பு -9.387261838796771\n",
            "▁நீளம் -9.637811178677605\n",
            "▁நிலப்பகுதி -9.656313138015323\n",
            "▁தொலைவு -9.713502368898466\n",
            "=\"270 -9.744284657149105\n",
            "▁மேற்பரப்பு -9.792957866904086\n",
            "=124 -9.96795963469132\n",
            "▁புவியியல் -10.034386748511428\n",
            "▁பரப்ப -10.037953269861719\n",
            "▁வருமான -10.067544779611946\n",
            "▁அகல -10.097764536818945\n",
            "▁செலவு -10.10810307137494\n",
            "\n",
            "Words most similar to: ▁தெய்வ are:\n",
            "▁தெய்வ -0.0\n",
            "தெய்வ -8.260945442832448\n",
            "▁தேவ -9.678736607869265\n",
            "▁கடவுள -9.736426560820632\n",
            "▁கடவுள் -9.775225055206425\n",
            "▁சமூக -9.95062882155532\n",
            "▁சமய -10.156212943005505\n",
            "▁விலங்கு -10.187603605625709\n",
            "=\"270 -10.226377050378632\n",
            "=270 -10.243351658789463\n",
            "▁தத்துவ -10.321841051105139\n",
            "▁மிருக -10.322543737495936\n",
            "▁சமுதாய -10.361502229343692\n",
            "▁சிற்ப -10.372033336702627\n",
            "▁H -10.422963295185793\n",
            "\n",
            "Words most similar to: கொண்டிருக்கின்றன are:\n",
            "கொண்டிருக்கின்றன -0.0\n",
            "கொள்கிறார் -12.2434360620761\n",
            "குறியீட -12.315836072822854\n",
            "கொள்கின்றனர் -12.348968508869019\n",
            "விட்டன -12.371387757438498\n",
            "கருதப்படுகின்றது -12.384833890109466\n",
            "கொள்கிறது -12.472040589866339\n",
            "செய்யப்படுகின்றன -12.484482421248481\n",
            "▁இரகசிய -12.564071753828108\n",
            "▁கிட்டத்தட்ட -12.67500653378963\n",
            "▁பிரதிபலிக்க -12.692628509769511\n",
            "▁பன்னிரண்டு -12.696545590080708\n",
            "▁கொண்டிருக்க -12.700635990061686\n",
            "▁நூற்றுக்கணக்கான -12.726074524824337\n",
            "▁மிகச்சிறந்த -12.733318312397804\n",
            "\n",
            "Words most similar to: குளம் are:\n",
            "குளம் -0.0\n",
            "க்குளம் -11.367269751738215\n",
            "நத்தம் -12.096164859560579\n",
            "குள -12.205731214975565\n",
            "▁குளம் -12.361033110446938\n",
            "▁பள்ளத்தாக்கு -12.410764719868087\n",
            "=124 -12.487596688248344\n",
            "கோட்டை -12.495024549551834\n",
            "=\"270 -12.53279358261618\n",
            "▁திருப்பூர் -12.553540137797281\n",
            "=\"364 -12.601300921705505\n",
            "=\"279 -12.603538426017426\n",
            "▁கிராமம் -12.605178099800378\n",
            "குப்பம் -12.638148486592184\n",
            "=\"341 -12.72839943279676\n",
            "\n"
          ],
          "name": "stdout"
        }
      ]
    },
    {
      "metadata": {
        "id": "AT3JtsQtSU6j",
        "colab_type": "code",
        "colab": {
          "base_uri": "https://localhost:8080/",
          "height": 276
        },
        "outputId": "fc1ff680-1851-492f-a6ad-877ae8fce7ed"
      },
      "cell_type": "code",
      "source": [
        "similar('▁சிறந்த')"
      ],
      "execution_count": 170,
      "outputs": [
        {
          "output_type": "execute_result",
          "data": {
            "text/plain": [
              "[('▁சிறந்த', -0.0),\n",
              " ('▁மிகச்சிறந்த', -9.458921686357114),\n",
              " ('▁சிறப்பான', -9.481669685361945),\n",
              " ('▁சிறப்பு', -9.54751757206307),\n",
              " ('▁மிகவும்', -9.631494487408778),\n",
              " ('▁முக்கியமான', -9.642608511865244),\n",
              " ('▁மிக', -9.742925606673618),\n",
              " ('▁சரியான', -9.751300920568529),\n",
              " ('▁நல்ல', -9.810143624373481),\n",
              " ('▁புகழ்பெற்ற', -9.829707228346788),\n",
              " ('▁முதன்மையான', -9.906328622143203),\n",
              " ('▁மிகப்பெரிய', -9.953689728206163),\n",
              " ('=124', -9.976620269960195),\n",
              " ('▁மிகச்', -10.015156365847014),\n",
              " ('▁அதிக', -10.018205591905877)]"
            ]
          },
          "metadata": {
            "tags": []
          },
          "execution_count": 170
        }
      ]
    },
    {
      "metadata": {
        "id": "7OAhdte6Gx7b",
        "colab_type": "text"
      },
      "cell_type": "markdown",
      "source": [
        "## Analogy (To be completed)\n",
        "Code for this function adapted from https://github.com/iamtrask/Grokking-Deep-Learning/blob/master/Chapter11%20-%20Intro%20to%20Word%20Embeddings%20-%20Neural%20Networks%20that%20Understand%20Language.ipynb"
      ]
    },
    {
      "metadata": {
        "id": "xvSYN-fBFkzv",
        "colab_type": "code",
        "colab": {}
      },
      "cell_type": "code",
      "source": [
        "norms = np.sum(emb_np * emb_np,axis=1)\n",
        "norms.resize(norms.shape[0],1)\n",
        "normed_weights = emb_np * 1 #norms\n",
        "\n",
        "def analogy(set1=['terrible','good'],set2=['bad']):\n",
        "    query_vect = np.zeros(len(emb_np[0]))\n",
        "    query_vect = normed_weights[word2index.get_loc(set1[0])] + normed_weights[word2index.get_loc(set1[1])] \n",
        "    query_vect -= normed_weights[word2index.get_loc(set2[0])]\n",
        "    \n",
        "    scores = Counter()\n",
        "    for word in word2index:\n",
        "        raw_difference = tam2vec[word] - query_vect\n",
        "        squared_difference = raw_difference * raw_difference\n",
        "        scores[word] = -math.sqrt(sum(squared_difference))\n",
        "        \n",
        "    return scores.most_common(10)[1:]"
      ],
      "execution_count": 0,
      "outputs": []
    },
    {
      "metadata": {
        "id": "moDfwnwSHsIo",
        "colab_type": "code",
        "colab": {
          "base_uri": "https://localhost:8080/",
          "height": 173
        },
        "outputId": "aa519689-d776-4383-8c3e-b4c0d64b6685"
      },
      "cell_type": "code",
      "source": [
        "analogy(set1=['▁அற்புத', '▁நல்ல'], set2=['▁துல்லிய'])\n",
        "## needs some more work."
      ],
      "execution_count": 167,
      "outputs": [
        {
          "output_type": "execute_result",
          "data": {
            "text/plain": [
              "[('▁அற்புத', -11.066252350065602),\n",
              " ('▁அழகு', -12.761643243976454),\n",
              " ('▁மிகச்சிறந்த', -12.788050229467792),\n",
              " ('▁அழகான', -12.83636766203465),\n",
              " ('▁அரிய', -12.840842443098275),\n",
              " ('▁அழகிய', -12.873413857744971),\n",
              " ('▁சிறப்பான', -12.92263649782561),\n",
              " ('▁சிறந்த', -13.022609914288727),\n",
              " ('▁புதுமை', -13.051496786361945)]"
            ]
          },
          "metadata": {
            "tags": []
          },
          "execution_count": 167
        }
      ]
    },
    {
      "metadata": {
        "id": "qm4lYgG-JL6q",
        "colab_type": "code",
        "colab": {}
      },
      "cell_type": "code",
      "source": [
        ""
      ],
      "execution_count": 0,
      "outputs": []
    }
  ]
}