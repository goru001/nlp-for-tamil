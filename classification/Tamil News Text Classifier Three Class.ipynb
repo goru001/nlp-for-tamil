{
 "cells": [
  {
   "cell_type": "code",
   "execution_count": 1,
   "metadata": {},
   "outputs": [],
   "source": [
    "from fastai.text import *\n",
    "import numpy as np\n",
    "import pandas as pd\n",
    "from sklearn.model_selection import train_test_split\n",
    "import pickle\n",
    "import sentencepiece as spm\n",
    "import re\n",
    "import pdb"
   ]
  },
  {
   "cell_type": "code",
   "execution_count": 2,
   "metadata": {},
   "outputs": [
    {
     "data": {
      "text/plain": [
       "('1.0.57', '1.1.0')"
      ]
     },
     "execution_count": 2,
     "metadata": {},
     "output_type": "execute_result"
    }
   ],
   "source": [
    "import fastai, torch\n",
    "fastai.__version__ , torch.__version__"
   ]
  },
  {
   "cell_type": "code",
   "execution_count": 3,
   "metadata": {},
   "outputs": [],
   "source": [
    "torch.cuda.set_device(0)"
   ]
  },
  {
   "cell_type": "code",
   "execution_count": 5,
   "metadata": {},
   "outputs": [
    {
     "name": "stdout",
     "output_type": "stream",
     "text": [
      "/home/gaurav/PycharmProjects/nlp-for-tamil/classification\r\n"
     ]
    }
   ],
   "source": [
    "!pwd"
   ]
  },
  {
   "cell_type": "code",
   "execution_count": 6,
   "metadata": {},
   "outputs": [],
   "source": [
    "path = Path('/home/gaurav/PycharmProjects/nlp-for-tamil/classification')"
   ]
  },
  {
   "cell_type": "code",
   "execution_count": 7,
   "metadata": {},
   "outputs": [
    {
     "data": {
      "text/html": [
       "<div>\n",
       "<style scoped>\n",
       "    .dataframe tbody tr th:only-of-type {\n",
       "        vertical-align: middle;\n",
       "    }\n",
       "\n",
       "    .dataframe tbody tr th {\n",
       "        vertical-align: top;\n",
       "    }\n",
       "\n",
       "    .dataframe thead th {\n",
       "        text-align: right;\n",
       "    }\n",
       "</style>\n",
       "<table border=\"1\" class=\"dataframe\">\n",
       "  <thead>\n",
       "    <tr style=\"text-align: right;\">\n",
       "      <th></th>\n",
       "      <th>text</th>\n",
       "      <th>label</th>\n",
       "    </tr>\n",
       "  </thead>\n",
       "  <tbody>\n",
       "    <tr>\n",
       "      <td>0</td>\n",
       "      <td>ஏற்றுமதியை நம்பியுள்ள நாடுகளுக்குத்தான் இதனால்...</td>\n",
       "      <td>business</td>\n",
       "    </tr>\n",
       "    <tr>\n",
       "      <td>1</td>\n",
       "      <td>* \"ரயிலில் தொங்கிக் கொண்டே சண்டையிடுவது போன்ற ...</td>\n",
       "      <td>tamil-cinema</td>\n",
       "    </tr>\n",
       "    <tr>\n",
       "      <td>2</td>\n",
       "      <td>செளந்தர்ய லஹரி, லலிதா சகஸ்ரநாமம், சூக்தம், பூ...</td>\n",
       "      <td>spirituality</td>\n",
       "    </tr>\n",
       "    <tr>\n",
       "      <td>3</td>\n",
       "      <td>‘கடவுளே... என் சிவனே... எனக்கு நல்ல குருவை அட...</td>\n",
       "      <td>spirituality</td>\n",
       "    </tr>\n",
       "    <tr>\n",
       "      <td>4</td>\n",
       "      <td>'அப்பா' படம் வசனங்களாலேயே நகர்கிறது. காட்சிப்ப...</td>\n",
       "      <td>tamil-cinema</td>\n",
       "    </tr>\n",
       "  </tbody>\n",
       "</table>\n",
       "</div>"
      ],
      "text/plain": [
       "                                                text         label\n",
       "0  ஏற்றுமதியை நம்பியுள்ள நாடுகளுக்குத்தான் இதனால்...      business\n",
       "1  * \"ரயிலில் தொங்கிக் கொண்டே சண்டையிடுவது போன்ற ...  tamil-cinema\n",
       "2  செளந்தர்ய லஹரி, லலிதா சகஸ்ரநாமம், சூக்தம், பூ...  spirituality\n",
       "3   ‘கடவுளே... என் சிவனே... எனக்கு நல்ல குருவை அட...  spirituality\n",
       "4  'அப்பா' படம் வசனங்களாலேயே நகர்கிறது. காட்சிப்ப...  tamil-cinema"
      ]
     },
     "execution_count": 7,
     "metadata": {},
     "output_type": "execute_result"
    }
   ],
   "source": [
    "train_df = pd.read_csv(path/'train.csv')\n",
    "train_df.head()"
   ]
  },
  {
   "cell_type": "code",
   "execution_count": 8,
   "metadata": {},
   "outputs": [
    {
     "data": {
      "text/html": [
       "<div>\n",
       "<style scoped>\n",
       "    .dataframe tbody tr th:only-of-type {\n",
       "        vertical-align: middle;\n",
       "    }\n",
       "\n",
       "    .dataframe tbody tr th {\n",
       "        vertical-align: top;\n",
       "    }\n",
       "\n",
       "    .dataframe thead th {\n",
       "        text-align: right;\n",
       "    }\n",
       "</style>\n",
       "<table border=\"1\" class=\"dataframe\">\n",
       "  <thead>\n",
       "    <tr style=\"text-align: right;\">\n",
       "      <th></th>\n",
       "      <th>text</th>\n",
       "      <th>label</th>\n",
       "    </tr>\n",
       "  </thead>\n",
       "  <tbody>\n",
       "    <tr>\n",
       "      <td>0</td>\n",
       "      <td>விழிப்புணர்வு நிகழ்ச்சிகள் காரணமாக சிறிய நகரங்...</td>\n",
       "      <td>business</td>\n",
       "    </tr>\n",
       "    <tr>\n",
       "      <td>1</td>\n",
       "      <td>இறைவனை விட இறைவனின் நாமமே சிறந்தது என்பார்கள் ...</td>\n",
       "      <td>spirituality</td>\n",
       "    </tr>\n",
       "    <tr>\n",
       "      <td>2</td>\n",
       "      <td>தொடர்ச்சியாக காதல் படங்களில் நடித்தீர்கள். காத...</td>\n",
       "      <td>tamil-cinema</td>\n",
       "    </tr>\n",
       "    <tr>\n",
       "      <td>3</td>\n",
       "      <td>மெரிக்க சந்தையில் சிறந்த வரவேற்பைப் பெற்றுவிட்...</td>\n",
       "      <td>business</td>\n",
       "    </tr>\n",
       "    <tr>\n",
       "      <td>4</td>\n",
       "      <td>பெரிய பதவியில் இருப்பவர்கள் அறிமுகமாவார்கள். ச...</td>\n",
       "      <td>spirituality</td>\n",
       "    </tr>\n",
       "  </tbody>\n",
       "</table>\n",
       "</div>"
      ],
      "text/plain": [
       "                                                text         label\n",
       "0  விழிப்புணர்வு நிகழ்ச்சிகள் காரணமாக சிறிய நகரங்...      business\n",
       "1  இறைவனை விட இறைவனின் நாமமே சிறந்தது என்பார்கள் ...  spirituality\n",
       "2  தொடர்ச்சியாக காதல் படங்களில் நடித்தீர்கள். காத...  tamil-cinema\n",
       "3  மெரிக்க சந்தையில் சிறந்த வரவேற்பைப் பெற்றுவிட்...      business\n",
       "4  பெரிய பதவியில் இருப்பவர்கள் அறிமுகமாவார்கள். ச...  spirituality"
      ]
     },
     "execution_count": 8,
     "metadata": {},
     "output_type": "execute_result"
    }
   ],
   "source": [
    "valid_df = pd.read_csv(path/'valid.csv')\n",
    "valid_df.head()"
   ]
  },
  {
   "cell_type": "code",
   "execution_count": 9,
   "metadata": {},
   "outputs": [
    {
     "name": "stdout",
     "output_type": "stream",
     "text": [
      "In Training data:\n",
      "business 1552\n",
      "tamil-cinema 2271\n",
      "spirituality 1524\n"
     ]
    }
   ],
   "source": [
    "print('In Training data:')\n",
    "for cls in train_df['label'].unique():\n",
    "    print(cls, (train_df['label'] == cls).sum())"
   ]
  },
  {
   "cell_type": "code",
   "execution_count": 10,
   "metadata": {},
   "outputs": [
    {
     "name": "stdout",
     "output_type": "stream",
     "text": [
      "In Validation data:\n",
      "business 402\n",
      "spirituality 380\n",
      "tamil-cinema 555\n"
     ]
    }
   ],
   "source": [
    "print('In Validation data:')\n",
    "for cls in valid_df['label'].unique():\n",
    "    print(cls, (valid_df['label'] == cls).sum())"
   ]
  },
  {
   "cell_type": "code",
   "execution_count": 12,
   "metadata": {},
   "outputs": [
    {
     "data": {
      "text/plain": [
       "'ஏற்றுமதியை நம்பியுள்ள நாடுகளுக்குத்தான் இதனால் பாதிப்பு. உள்நாட்டிலேயே தேவை அதிகமாக உள்ள இந்தியா போன்ற மக்கள் தொகை அதிகம் கொண்ட வளரும் பொருளாதார நாட்டில் பிரச்சினை ஏற்படாது என்று அவர் திட்டவட்டமாகக் கூறினார்.'"
      ]
     },
     "execution_count": 12,
     "metadata": {},
     "output_type": "execute_result"
    }
   ],
   "source": [
    "train_df['text'][0]"
   ]
  },
  {
   "cell_type": "code",
   "execution_count": 13,
   "metadata": {},
   "outputs": [
    {
     "data": {
      "text/plain": [
       "((5347, 2), (1337, 2))"
      ]
     },
     "execution_count": 13,
     "metadata": {},
     "output_type": "execute_result"
    }
   ],
   "source": [
    "train_df.shape, valid_df.shape"
   ]
  },
  {
   "cell_type": "code",
   "execution_count": 14,
   "metadata": {},
   "outputs": [
    {
     "data": {
      "text/plain": [
       "((0, 2), (0, 2))"
      ]
     },
     "execution_count": 14,
     "metadata": {},
     "output_type": "execute_result"
    }
   ],
   "source": [
    "train_df[train_df['text'].isnull()].shape, valid_df[valid_df['text'].isnull()].shape"
   ]
  },
  {
   "cell_type": "code",
   "execution_count": 24,
   "metadata": {},
   "outputs": [],
   "source": [
    "class TamilTokenizer(BaseTokenizer):\n",
    "    def __init__(self, lang:str):\n",
    "        self.lang = lang\n",
    "        self.sp = spm.SentencePieceProcessor()\n",
    "        self.sp.Load(str(path/'../tokenizer/tamil_spm_8k.model'))\n",
    "        \n",
    "    def tokenizer(self, t:str) -> List[str]:\n",
    "        return self.sp.EncodeAsPieces(t)"
   ]
  },
  {
   "cell_type": "code",
   "execution_count": 25,
   "metadata": {},
   "outputs": [],
   "source": [
    "sp = spm.SentencePieceProcessor()\n",
    "sp.Load(str(path/'../tokenizer/tamil_spm_8k.model'))\n",
    "itos = [sp.IdToPiece(int(i)) for i in range(8000)]"
   ]
  },
  {
   "cell_type": "code",
   "execution_count": 26,
   "metadata": {},
   "outputs": [],
   "source": [
    "tamil_vocab = Vocab(itos)"
   ]
  },
  {
   "cell_type": "code",
   "execution_count": 27,
   "metadata": {},
   "outputs": [],
   "source": [
    "tokenizer = Tokenizer(tok_func=TamilTokenizer, lang='ta')"
   ]
  },
  {
   "cell_type": "code",
   "execution_count": 28,
   "metadata": {},
   "outputs": [],
   "source": [
    "label_cols = [1]"
   ]
  },
  {
   "cell_type": "code",
   "execution_count": 29,
   "metadata": {},
   "outputs": [],
   "source": [
    "data_lm = TextLMDataBunch.from_df(path=path, train_df=train_df, valid_df=valid_df, text_cols=[0], label_cols=label_cols, tokenizer=tokenizer, vocab=tamil_vocab, bs=16)"
   ]
  },
  {
   "cell_type": "code",
   "execution_count": 30,
   "metadata": {},
   "outputs": [],
   "source": [
    "data_lm.save()"
   ]
  },
  {
   "cell_type": "code",
   "execution_count": 31,
   "metadata": {},
   "outputs": [
    {
     "data": {
      "text/html": [
       "<table border=\"1\" class=\"dataframe\">\n",
       "  <thead>\n",
       "    <tr style=\"text-align: right;\">\n",
       "      <th>idx</th>\n",
       "      <th>text</th>\n",
       "    </tr>\n",
       "  </thead>\n",
       "  <tbody>\n",
       "    <tr>\n",
       "      <td>0</td>\n",
       "      <td>▁பய மாக ▁இருக்கும் . ▁அவர் ▁மட்டுமன்றி ▁சண்டை ▁பயிற்சி யாளர்கள் ▁அனைவர ு மே ▁நிறைய ▁ரி ஸ் க் ▁எடுத்த ிருக்க ிறோம் \" ▁என்று ▁தெரிவித்தார் ▁சண்டை ப்ப யி ற் ச்சி ▁இயக்குநர் ▁ ஸ்ட ண்ட் ▁சி வா . ▁ x x b os ▁செ ள ந்தர் ய ▁ல ஹ ரி , ▁ல லி தா ▁சக ஸ் ர நாம ம் , ▁ &lt;unk&gt; சூ க் தம் , ▁பூ ▁சூ க் தம் , ▁நீள ா ▁சூ</td>\n",
       "    </tr>\n",
       "    <tr>\n",
       "      <td>1</td>\n",
       "      <td>. ▁ x x b os ▁2005 - ம் ▁ஆண்டு ▁வெளிநாட்டு ▁குளிர் பா ன ▁விளம்பர ம் ▁ஒன்றில் ▁நடித்தார் ▁ரா தி கா . ▁அந்த ▁விளம்பர த்தை ▁எடுத்து , ▁ரா தி கா வை ▁கி ண்ட ல் ▁செய்யும் ▁தோ னி யில் ▁எ டி ட் ▁செய்து ▁வெளியிடப்பட்டது . ▁அந்த ▁வீடியோ ▁பதி வை ▁சமூக ▁வலை தள த்தில் ▁பலரும் ▁பகிர்ந்து ▁வந்தார் கள் . ▁ x x b os ▁இனி ▁இந்தக் ▁கா ரை ▁வாங்க ▁விரும்ப ுவோர் ▁சில</td>\n",
       "    </tr>\n",
       "    <tr>\n",
       "      <td>2</td>\n",
       "      <td>x b os ▁கரு மையான ▁குரோ மிய ▁பூ ச்சு ▁கொண்ட ▁முன்பு ற ▁கிரி ல் , ▁ஸ் டை லான ▁வடிவ த்தைக் ▁கொண்ட ▁முன்பு ற ▁ப ம்பர் , ▁அழகிய ▁உயர் ▁ ரக க் ▁கார் களில் ▁இடம்பெற ும் ▁பின்புற ▁விளக்கு , ▁உயர் வாக ▁அமைக்கப்பட்ட ▁பின்புற ▁எச்சரிக்கை ▁விளக்கு ▁ஆகியன ▁பி ரை யோ வின் ▁தோற்ற த்தை ▁முழுமையாக ▁மாற்ற ியுள்ளது . ▁ x x b os ▁ஐ ஏ என் ▁இன் கு பே ட்டர் , ▁வெ ன்</td>\n",
       "    </tr>\n",
       "    <tr>\n",
       "      <td>3</td>\n",
       "      <td>▁வாகன ம் ▁முதல் ▁கார் கள் ▁வரையிலான ▁விலை ▁குறை ப்பு ▁வாகன ▁பிரி யர்கள் ▁மத்தியில் ▁வரவேற்ப ைப் ▁பெற்றுள்ளது . ▁ x x b os ▁பழைய ன ▁கழி த லும் , ▁புதிய ன ▁புகு த லும் ▁புத்த ாண்ட ின் ▁முக்கிய ▁அம்ச மாகும் . ▁குறிப்பாக ▁தமிழர் ▁திரு நா ளா ம் ▁பொ ங்க லுக்கு ▁முந்தைய ▁போ கி ப் ▁பண்டிகை யை ▁பழைய ன ▁கழி தல் ▁முக்கிய ▁நிகழ்வ ாகவே ▁கருதப்படுகிறது . ▁ x x b os ▁இந்தியப்</td>\n",
       "    </tr>\n",
       "    <tr>\n",
       "      <td>4</td>\n",
       "      <td>மெ டி யாக ச் ▁சொல்ல ப்பட்ட ▁விஷ யம் , ▁மன தில் ▁பதி ந்த ிருக்கும் . ▁ஆனால் ▁இந்த ▁வார்த்தை ▁கா மெ டி ▁அல்ல . ▁வெறும் ▁விளையாட்டு ▁இல்லை . ▁ x x b os ▁அது ▁ஒரு ▁காலை ▁நேரம் . ▁ந பி களா ரின் ▁திருச்சபை யில் ▁ந பி த்தோ ழ ர்கள் ▁அமர்ந்த ிருக்க , ▁சிலர் ▁மு ர ட்டு க் ▁கம்ப ளி யைப் ▁போர் த்தி க்கொண்டு ▁அங்கு ▁வந்தார் கள் . ▁மு ள ர் ▁குல</td>\n",
       "    </tr>\n",
       "  </tbody>\n",
       "</table>"
      ],
      "text/plain": [
       "<IPython.core.display.HTML object>"
      ]
     },
     "metadata": {},
     "output_type": "display_data"
    }
   ],
   "source": [
    "data_lm.show_batch()"
   ]
  },
  {
   "cell_type": "code",
   "execution_count": 34,
   "metadata": {},
   "outputs": [],
   "source": [
    "awd_lstm_config = awd_lstm_lm_config.copy()\n",
    "awd_lstm_config['n_hid'] = 1150\n",
    "learn = language_model_learner(data_lm, arch=AWD_LSTM, drop_mult=0.3, config=awd_lstm_config, pretrained=False)"
   ]
  },
  {
   "cell_type": "code",
   "execution_count": 35,
   "metadata": {
    "scrolled": true
   },
   "outputs": [
    {
     "data": {
      "text/plain": [
       "LanguageLearner(data=TextLMDataBunch;\n",
       "\n",
       "Train: LabelList (5347 items)\n",
       "x: LMTextList\n",
       "▁ x x b os ▁ஏற்றுமதி யை ▁நம்பி யுள்ள ▁நாடுகளுக்கு த்தான் ▁இதனால் ▁பாதிப்பு . ▁உள் நாட்ட ிலேயே ▁தேவை ▁அதிகமாக ▁உள்ள ▁இந்தியா ▁போன்ற ▁மக்கள் ▁தொகை ▁அதிகம் ▁கொண்ட ▁வளரும் ▁பொருளாதார ▁நாட்டில் ▁பிரச்சினை ▁ஏற்பட ாது ▁என்று ▁அவர் ▁திட்ட வட்ட மாகக் ▁கூறினார் .,▁ x x b os ▁ <unk> ▁\" ர யில ில் ▁தொங்க ிக் ▁கொண்டே ▁சண்டை யிட ுவது ▁போன்ற ▁காட்சி களில் ▁நடித்த ிருக்கிறார் ▁த னு ஷ் . ▁அதனை ப் ▁பார்க்க ும் ▁போது ▁பய மாக ▁இருக்கும் . ▁அவர் ▁மட்டுமன்றி ▁சண்டை ▁பயிற்சி யாளர்கள் ▁அனைவர ு மே ▁நிறைய ▁ரி ஸ் க் ▁எடுத்த ிருக்க ிறோம் \" ▁என்று ▁தெரிவித்தார் ▁சண்டை ப்ப யி ற் ச்சி ▁இயக்குநர் ▁ ஸ்ட ண்ட் ▁சி வா .,▁ x x b os ▁செ ள ந்தர் ய ▁ல ஹ ரி , ▁ல லி தா ▁சக ஸ் ர நாம ம் , ▁ <unk> சூ க் தம் , ▁பூ ▁சூ க் தம் , ▁நீள ா ▁சூ க் தம் , ▁இந்திர ன் ▁கூறிய ▁மகா ல ஷ் மி ▁அ ஷ்ட கம் , ▁ஆதி சங்க ர ர் ▁அருள ிய ▁மகா ல ஷ் மி ▁ஸ் தோ த்திரம் ▁ஆகியவற்றில் ▁இ ய ன்ற தை ▁இல்ல த்தா ரே ▁சொல்ல லாம் . ▁மேலும் ▁இதனை ச் ▁சொல்ல ▁வல்ல ார ைக் ▁கொண்டு ▁இல்ல த்தில் ▁பா ராய ணம் ▁செய்யலாம் .,▁ x x b os ▁‘ கடவுள ே . . . ▁என் ▁சிவ னே . . . ▁என க்கு ▁நல்ல ▁குரு வை ▁அடையாளம் ▁காட்டு ’ ▁என ▁வேண்டி னான் . ▁அங்கே . . . ▁அண்ட மாய் , ▁பேர ண்ட மாய் , ▁வெளி யாய் , ▁வெட்ட வெளி யாய் , ▁ஏ காந்த ▁வெளி யாய் ▁அந்த ச் ▁சிறு வ னுக்கு க் ▁காட்சி ▁தந்த ார் ▁சிவபெருமான் .,▁ x x b os ▁' அ ப்பா ' ▁படம் ▁வசன ங்கள ாலேயே ▁நகர் கிறது . ▁காட்சி ப்படுத்த ுதல் ▁இல்லை ▁என்றும் ▁சில ரால் ▁சொல்ல ப்பட்டது . ▁ஆனால் , ▁சிறுவர் களின் ▁உலக ை ▁பக்கத்தில் ▁இருந்து ▁பார்த்து ▁அறிவு ரை ▁சொல் வதை ப் ▁போல ▁சம ு த்திர க்க னி ▁பதிவு ▁செய்த ▁வித ம் ▁அக்கறை ▁மிக்க து ▁என்று ▁பெரும்பாலான வர்கள் ▁கூறிய தும் ▁கவனிக்க த்தக்க து .\n",
       "y: LMLabelList\n",
       ",,,,\n",
       "Path: /home/gaurav/PycharmProjects/nlp-for-tamil/classification;\n",
       "\n",
       "Valid: LabelList (1337 items)\n",
       "x: LMTextList\n",
       "▁ x x b os ▁விழிப்புணர்வு ▁நிகழ்ச்சி கள் ▁காரணமாக ▁சிறிய ▁நகரங்களில் ▁இருந்து ▁மி யூ ச்சு வல் ▁ப ண்ட் களில் ▁முதலீடு ▁செய்பவர் களின் ▁எண்ணிக்கை ▁உயர்ந்த ிருக்கிறது . ▁மி யூ ச்சு வல் ▁ப ண்ட் ▁நிறுவனங்கள் ▁கையாள ும் ▁மொத்த ▁சொ த்தில் ▁சிறிய ▁நகர ங்களின் ▁பங்கு ▁18 ▁சதவீத மாக ▁உயர்ந்த ிருக்கிறது .,▁ x x b os ▁இறைவன ை ▁விட ▁இறைவன ின் ▁நா ம மே ▁சிறந்த து ▁என்ப ார்கள் ▁அருள ாளர்கள் . ▁அதனால் தான் ▁நா ம சங்க ீர் த்தன ம் ▁என்பதே ▁இறைவன ை ▁உ பா ச னை ▁செய்வ தில் ▁மிக ▁உயர்ந்த ▁மார் க்க மாக ▁விளங்குகிறது . ▁ரா மா , ▁கிருஷ்ணா ▁என்னும் ▁நா ம ங்களே , ▁தீ மை கள் ▁நம் மை ▁அண்ட ாமல் ▁த டு த்தி டும் ▁வல்ல மை ▁உடையது ▁என்ற னர் ▁சாய் ரா மும் ▁ஸ்ரீ மா த் மி கா வும் .,▁ x x b os ▁தொடர்ச்சியாக ▁காதல் ▁படங்களில் ▁நடித்த ீர் கள் . ▁காதல் ▁பட ங்கள் ▁தற்போது ▁குறைந்து விட்ட தே . .,▁ x x b os ▁மெ ரி க்க ▁சந்தை யில் ▁சிறந்த ▁வரவேற்ப ைப் ▁பெற்று வி ட்டா லே , ▁சர்வதேச ▁அளவில் ▁தங்களது ▁தயாரிப்பு களுக்கு ▁மிகச் ▁சிறந்த ▁எதிர்கால ம் ▁என்று ▁அனைத்து த் ▁துறை யின ரும் ▁கருதுகின்றனர் . ▁அ திலும் ▁குறிப்பாக ▁ஆ ட்டோ மொ பை ல் ▁துறை யினர் ▁அமெரிக்கா வை ▁நோக்கி ▁படையெடுப்ப தே ▁இதற்கு த்தான் .,▁ x x b os ▁பெரிய ▁பதவி யில் ▁இருப்ப வர்கள் ▁அறிமுக மா வார் கள் . ▁சு க்கிர னின் ▁பூ ரா டம் ▁நட்சத்திர த்தில் ▁19 . 01 . 20 19 ▁முதல் ▁11 . 8 . 20 19 ▁மற்றும் ▁27 . 9 . 20 19 ▁முதல் ▁24 . 2 . 20 20 ▁மற்றும் ▁17 . 7 . 20 20 ▁முதல் ▁20 . 11 . 20 20 ▁வரை ▁ச னி ▁செல்வ தால் ▁தெலுங்கு , ▁இந்தி ▁மொழி ▁பேச ுபவர்கள் ▁உதவ ுவார்கள் .\n",
       "y: LMLabelList\n",
       ",,,,\n",
       "Path: /home/gaurav/PycharmProjects/nlp-for-tamil/classification;\n",
       "\n",
       "Test: None, model=SequentialRNN(\n",
       "  (0): AWD_LSTM(\n",
       "    (encoder): Embedding(8000, 400, padding_idx=1)\n",
       "    (encoder_dp): EmbeddingDropout(\n",
       "      (emb): Embedding(8000, 400, padding_idx=1)\n",
       "    )\n",
       "    (rnns): ModuleList(\n",
       "      (0): WeightDropout(\n",
       "        (module): LSTM(400, 1150, batch_first=True)\n",
       "      )\n",
       "      (1): WeightDropout(\n",
       "        (module): LSTM(1150, 1150, batch_first=True)\n",
       "      )\n",
       "      (2): WeightDropout(\n",
       "        (module): LSTM(1150, 400, batch_first=True)\n",
       "      )\n",
       "    )\n",
       "    (input_dp): RNNDropout()\n",
       "    (hidden_dps): ModuleList(\n",
       "      (0): RNNDropout()\n",
       "      (1): RNNDropout()\n",
       "      (2): RNNDropout()\n",
       "    )\n",
       "  )\n",
       "  (1): LinearDecoder(\n",
       "    (decoder): Linear(in_features=400, out_features=8000, bias=True)\n",
       "    (output_dp): RNNDropout()\n",
       "  )\n",
       "), opt_func=functools.partial(<class 'torch.optim.adam.Adam'>, betas=(0.9, 0.99)), loss_func=FlattenedLoss of CrossEntropyLoss(), metrics=[<function accuracy at 0x7ff6409f24d0>], true_wd=True, bn_wd=True, wd=0.01, train_bn=True, path=PosixPath('/home/gaurav/PycharmProjects/nlp-for-tamil/classification'), model_dir='models', callback_fns=[functools.partial(<class 'fastai.basic_train.Recorder'>, add_time=True, silent=False)], callbacks=[RNNTrainer\n",
       "learn: ...\n",
       "alpha: 2.0\n",
       "beta: 1.0], layer_groups=[Sequential(\n",
       "  (0): WeightDropout(\n",
       "    (module): LSTM(400, 1150, batch_first=True)\n",
       "  )\n",
       "  (1): RNNDropout()\n",
       "), Sequential(\n",
       "  (0): WeightDropout(\n",
       "    (module): LSTM(1150, 1150, batch_first=True)\n",
       "  )\n",
       "  (1): RNNDropout()\n",
       "), Sequential(\n",
       "  (0): WeightDropout(\n",
       "    (module): LSTM(1150, 400, batch_first=True)\n",
       "  )\n",
       "  (1): RNNDropout()\n",
       "), Sequential(\n",
       "  (0): Embedding(8000, 400, padding_idx=1)\n",
       "  (1): EmbeddingDropout(\n",
       "    (emb): Embedding(8000, 400, padding_idx=1)\n",
       "  )\n",
       "  (2): LinearDecoder(\n",
       "    (decoder): Linear(in_features=400, out_features=8000, bias=True)\n",
       "    (output_dp): RNNDropout()\n",
       "  )\n",
       ")], add_time=True, silent=False, cb_fns_registered=False)"
      ]
     },
     "execution_count": 35,
     "metadata": {},
     "output_type": "execute_result"
    }
   ],
   "source": [
    "learn.load('/home/gaurav/PycharmProjects/nlp-for-tamil/language-model/TamilWikiDataset/models/wikitalm_8k_447_third')"
   ]
  },
  {
   "cell_type": "code",
   "execution_count": 36,
   "metadata": {},
   "outputs": [
    {
     "data": {
      "text/html": [],
      "text/plain": [
       "<IPython.core.display.HTML object>"
      ]
     },
     "metadata": {},
     "output_type": "display_data"
    },
    {
     "name": "stdout",
     "output_type": "stream",
     "text": [
      "LR Finder is complete, type {learner_name}.recorder.plot() to see the graph.\n"
     ]
    }
   ],
   "source": [
    "learn.lr_find()"
   ]
  },
  {
   "cell_type": "code",
   "execution_count": 37,
   "metadata": {},
   "outputs": [
    {
     "data": {
      "image/png": "[encoded data removed]",
      "text/plain": [
       "<Figure size 432x288 with 1 Axes>"
      ]
     },
     "metadata": {
      "needs_background": "light"
     },
     "output_type": "display_data"
    }
   ],
   "source": [
    "learn.recorder.plot()"
   ]
  },
  {
   "cell_type": "code",
   "execution_count": 38,
   "metadata": {},
   "outputs": [],
   "source": [
    "learn.freeze()"
   ]
  },
  {
   "cell_type": "code",
   "execution_count": 39,
   "metadata": {},
   "outputs": [
    {
     "data": {
      "text/html": [
       "<table border=\"1\" class=\"dataframe\">\n",
       "  <thead>\n",
       "    <tr style=\"text-align: left;\">\n",
       "      <th>epoch</th>\n",
       "      <th>train_loss</th>\n",
       "      <th>valid_loss</th>\n",
       "      <th>accuracy</th>\n",
       "      <th>time</th>\n",
       "    </tr>\n",
       "  </thead>\n",
       "  <tbody>\n",
       "    <tr>\n",
       "      <td>0</td>\n",
       "      <td>3.911180</td>\n",
       "      <td>3.780526</td>\n",
       "      <td>0.361059</td>\n",
       "      <td>00:15</td>\n",
       "    </tr>\n",
       "  </tbody>\n",
       "</table>"
      ],
      "text/plain": [
       "<IPython.core.display.HTML object>"
      ]
     },
     "metadata": {},
     "output_type": "display_data"
    }
   ],
   "source": [
    "learn.fit_one_cycle(1, 1e-2)"
   ]
  },
  {
   "cell_type": "code",
   "execution_count": 40,
   "metadata": {},
   "outputs": [],
   "source": [
    "learn.unfreeze()"
   ]
  },
  {
   "cell_type": "code",
   "execution_count": 41,
   "metadata": {},
   "outputs": [
    {
     "data": {
      "text/html": [
       "<table border=\"1\" class=\"dataframe\">\n",
       "  <thead>\n",
       "    <tr style=\"text-align: left;\">\n",
       "      <th>epoch</th>\n",
       "      <th>train_loss</th>\n",
       "      <th>valid_loss</th>\n",
       "      <th>accuracy</th>\n",
       "      <th>time</th>\n",
       "    </tr>\n",
       "  </thead>\n",
       "  <tbody>\n",
       "    <tr>\n",
       "      <td>0</td>\n",
       "      <td>3.526932</td>\n",
       "      <td>3.618111</td>\n",
       "      <td>0.378430</td>\n",
       "      <td>00:18</td>\n",
       "    </tr>\n",
       "    <tr>\n",
       "      <td>1</td>\n",
       "      <td>3.346618</td>\n",
       "      <td>3.495475</td>\n",
       "      <td>0.394815</td>\n",
       "      <td>00:18</td>\n",
       "    </tr>\n",
       "    <tr>\n",
       "      <td>2</td>\n",
       "      <td>3.077790</td>\n",
       "      <td>3.451136</td>\n",
       "      <td>0.402021</td>\n",
       "      <td>00:18</td>\n",
       "    </tr>\n",
       "    <tr>\n",
       "      <td>3</td>\n",
       "      <td>2.867625</td>\n",
       "      <td>3.447613</td>\n",
       "      <td>0.405216</td>\n",
       "      <td>00:18</td>\n",
       "    </tr>\n",
       "    <tr>\n",
       "      <td>4</td>\n",
       "      <td>2.780879</td>\n",
       "      <td>3.457287</td>\n",
       "      <td>0.405059</td>\n",
       "      <td>00:18</td>\n",
       "    </tr>\n",
       "  </tbody>\n",
       "</table>"
      ],
      "text/plain": [
       "<IPython.core.display.HTML object>"
      ]
     },
     "metadata": {},
     "output_type": "display_data"
    }
   ],
   "source": [
    "learn.fit_one_cycle(5, 1e-3)"
   ]
  },
  {
   "cell_type": "code",
   "execution_count": 42,
   "metadata": {},
   "outputs": [
    {
     "data": {
      "text/plain": [
       "'▁தனது ▁சொந்த ▁ஊரில் ▁படை ய ெடுக்க ிற ங்கிய ▁ஹரி ப் ப ரும்'"
      ]
     },
     "execution_count": 42,
     "metadata": {},
     "output_type": "execute_result"
    }
   ],
   "source": [
    "learn.predict('▁தனது ▁சொந்த',n_words=10)"
   ]
  },
  {
   "cell_type": "code",
   "execution_count": 43,
   "metadata": {},
   "outputs": [],
   "source": [
    "learn.save_encoder('fine_tuned_enc')"
   ]
  },
  {
   "cell_type": "code",
   "execution_count": 44,
   "metadata": {},
   "outputs": [],
   "source": [
    "data_clas = TextClasDataBunch.from_df(path=path, train_df=train_df, valid_df=valid_df, tokenizer=tokenizer, vocab=tamil_vocab, text_cols=[0], label_cols=label_cols, bs=16)"
   ]
  },
  {
   "cell_type": "code",
   "execution_count": 45,
   "metadata": {},
   "outputs": [
    {
     "data": {
      "text/html": [
       "<table border=\"1\" class=\"dataframe\">\n",
       "  <thead>\n",
       "    <tr style=\"text-align: right;\">\n",
       "      <th>text</th>\n",
       "      <th>target</th>\n",
       "    </tr>\n",
       "  </thead>\n",
       "  <tbody>\n",
       "    <tr>\n",
       "      <td>▁ x x b os ▁நடிகர் ▁ச சி குமார் ▁மிகவும் ▁சிறந்த ▁இயக்குநர் ▁மற்றும் ▁நல்ல ▁மனிதர் . ▁அவரது ▁உறவினர் ▁அ சோ க்கு மர் ▁தற்கொலை யை ▁நினைத்த ு ▁நான் ▁மிகவும் ▁மன வே தனை ப்படுகிற ேன் . ▁அசோக ் குமார் ▁தனது ▁மனைவி , ▁பெற்றோர் ▁மற்றும் ▁குழந்தை களை ▁தவ ிக்க விட்டு விட்டு ▁தற்கொலை ▁செய்யும் ▁முடி வை ▁தவிர ் த்த ிருக்க ▁வேண்டும் . ▁ ta m il - c ine ma | ந டி கை</td>\n",
       "      <td>tamil-cinema</td>\n",
       "    </tr>\n",
       "    <tr>\n",
       "      <td>▁ x x b os ▁இந்தியாவில் ▁புதிய ▁வரி ▁முறையான ▁ஜி எஸ் டி ▁அ மல் படுத்த ப்பட்டது ▁மிகப்பெரிய ▁பொருளாதார ▁மாற ுதலை ▁ஏற்படுத்திய ுள்ளது . ▁இதனால் ▁உடனடியாக ▁சில ▁பாதிப்பு கள் ▁இருந்தன . ▁பொருளாதார ▁வளர்ச்சி ▁விகிதம் ▁குறை யும் ▁என்ற ▁எதிர் பார் ப்பு ▁இருந்தது . ▁b us in ess | ந ட ப்பு ▁நிதி யா ண்டி ல் ▁பொருளாதார ▁வளர்ச்சி ▁6 . 5 ▁சதவீத மாக ▁இருக்கும் ▁என ▁இந்திய ▁அரசு ▁மதிப்ப ிட்ட ுள்ளது . ▁ஆனால் ,</td>\n",
       "      <td>business</td>\n",
       "    </tr>\n",
       "    <tr>\n",
       "      <td>▁ x x b os ▁குரு ப க வான் ▁தன் ▁சுய ▁நட்சத்திர மான ▁விசாக ம் ▁1, ▁2, ▁3 - ம் ▁பாத ம் ▁து லாம் ▁ரா சி யிலேயே ▁ 08 . 12 . 20 17 ▁முதல் ▁13 . 02 . 20 18 ▁மற்றும் ▁ 04 . 07 . 20 18 ▁முதல் ▁ 02 . 10 . 20 18 ▁வரை ▁பயணி ப்ப தால் ▁கவு ர வ க் ▁குறைவான ▁சம்பவ ங்கள் ▁நிகழ க்கூடும்</td>\n",
       "      <td>spirituality</td>\n",
       "    </tr>\n",
       "    <tr>\n",
       "      <td>▁ x x b os ▁ர ஜி னி யின் ▁ ட் விட்ட ர் ▁ஐ டி , ▁ &lt;unk&gt; s up ers ta r ra j in i ▁என ▁இருந்தது . ▁தற்போது ▁அதில் ▁உள்ள ▁சூப்பர் ▁ஸ்டா ரை த் ▁தூக்கி விட்டு ▁ர ஜி னி காந்த ் ▁என ▁மாற்ற ப்பட்ட ிருக்கிறது . ▁அதாவது , ▁ &lt;unk&gt; ra j in ik an th ▁என்று ▁மாற்ற ிய ிருக்கின்றன ர் . ▁இரண்டு ▁நாட்களுக்கு ▁முன்னர் ▁இன் ஸ்டா</td>\n",
       "      <td>tamil-cinema</td>\n",
       "    </tr>\n",
       "    <tr>\n",
       "      <td>▁ x x b os ▁பெ ட்ரோ ல் ▁மாட ல் ▁15 ▁அங்கு ல ▁அ லாய் ▁சக்கர ங்களையும் , ▁டீ சல் ▁மாட ல் ▁14 ▁அங்கு ல ▁அ லாய் ▁சக்கர ங்களையும் ▁கொண்டுள்ளது . ▁கா ரின் ▁நீளம் ▁3, 99 2 ▁மி . மீ , ▁அகல ம் ▁1, 6 77 ▁மி . மீ , ▁உயரம் ▁1, 5 37 ▁மி . மீ . ▁சக்கர த்தின் ▁அகல ம் ▁2, 4 50 ▁மி . மீ யாகவும் ,</td>\n",
       "      <td>business</td>\n",
       "    </tr>\n",
       "  </tbody>\n",
       "</table>"
      ],
      "text/plain": [
       "<IPython.core.display.HTML object>"
      ]
     },
     "metadata": {},
     "output_type": "display_data"
    }
   ],
   "source": [
    "data_clas.show_batch()"
   ]
  },
  {
   "cell_type": "code",
   "execution_count": 46,
   "metadata": {},
   "outputs": [],
   "source": [
    "del awd_lstm_config['tie_weights']\n",
    "del awd_lstm_config['out_bias']"
   ]
  },
  {
   "cell_type": "code",
   "execution_count": 47,
   "metadata": {},
   "outputs": [],
   "source": [
    "learn = text_classifier_learner(data_clas, arch=AWD_LSTM, drop_mult=0.5, config=awd_lstm_config)"
   ]
  },
  {
   "cell_type": "code",
   "execution_count": 48,
   "metadata": {},
   "outputs": [
    {
     "data": {
      "text/plain": [
       "RNNLearner(data=TextClasDataBunch;\n",
       "\n",
       "Train: LabelList (5347 items)\n",
       "x: TextList\n",
       "▁ x x b os ▁ஏற்றுமதி யை ▁நம்பி யுள்ள ▁நாடுகளுக்கு த்தான் ▁இதனால் ▁பாதிப்பு . ▁உள் நாட்ட ிலேயே ▁தேவை ▁அதிகமாக ▁உள்ள ▁இந்தியா ▁போன்ற ▁மக்கள் ▁தொகை ▁அதிகம் ▁கொண்ட ▁வளரும் ▁பொருளாதார ▁நாட்டில் ▁பிரச்சினை ▁ஏற்பட ாது ▁என்று ▁அவர் ▁திட்ட வட்ட மாகக் ▁கூறினார் .,▁ x x b os ▁ <unk> ▁\" ர யில ில் ▁தொங்க ிக் ▁கொண்டே ▁சண்டை யிட ுவது ▁போன்ற ▁காட்சி களில் ▁நடித்த ிருக்கிறார் ▁த னு ஷ் . ▁அதனை ப் ▁பார்க்க ும் ▁போது ▁பய மாக ▁இருக்கும் . ▁அவர் ▁மட்டுமன்றி ▁சண்டை ▁பயிற்சி யாளர்கள் ▁அனைவர ு மே ▁நிறைய ▁ரி ஸ் க் ▁எடுத்த ிருக்க ிறோம் \" ▁என்று ▁தெரிவித்தார் ▁சண்டை ப்ப யி ற் ச்சி ▁இயக்குநர் ▁ ஸ்ட ண்ட் ▁சி வா .,▁ x x b os ▁செ ள ந்தர் ய ▁ல ஹ ரி , ▁ல லி தா ▁சக ஸ் ர நாம ம் , ▁ <unk> சூ க் தம் , ▁பூ ▁சூ க் தம் , ▁நீள ா ▁சூ க் தம் , ▁இந்திர ன் ▁கூறிய ▁மகா ல ஷ் மி ▁அ ஷ்ட கம் , ▁ஆதி சங்க ர ர் ▁அருள ிய ▁மகா ல ஷ் மி ▁ஸ் தோ த்திரம் ▁ஆகியவற்றில் ▁இ ய ன்ற தை ▁இல்ல த்தா ரே ▁சொல்ல லாம் . ▁மேலும் ▁இதனை ச் ▁சொல்ல ▁வல்ல ார ைக் ▁கொண்டு ▁இல்ல த்தில் ▁பா ராய ணம் ▁செய்யலாம் .,▁ x x b os ▁‘ கடவுள ே . . . ▁என் ▁சிவ னே . . . ▁என க்கு ▁நல்ல ▁குரு வை ▁அடையாளம் ▁காட்டு ’ ▁என ▁வேண்டி னான் . ▁அங்கே . . . ▁அண்ட மாய் , ▁பேர ண்ட மாய் , ▁வெளி யாய் , ▁வெட்ட வெளி யாய் , ▁ஏ காந்த ▁வெளி யாய் ▁அந்த ச் ▁சிறு வ னுக்கு க் ▁காட்சி ▁தந்த ார் ▁சிவபெருமான் .,▁ x x b os ▁' அ ப்பா ' ▁படம் ▁வசன ங்கள ாலேயே ▁நகர் கிறது . ▁காட்சி ப்படுத்த ுதல் ▁இல்லை ▁என்றும் ▁சில ரால் ▁சொல்ல ப்பட்டது . ▁ஆனால் , ▁சிறுவர் களின் ▁உலக ை ▁பக்கத்தில் ▁இருந்து ▁பார்த்து ▁அறிவு ரை ▁சொல் வதை ப் ▁போல ▁சம ு த்திர க்க னி ▁பதிவு ▁செய்த ▁வித ம் ▁அக்கறை ▁மிக்க து ▁என்று ▁பெரும்பாலான வர்கள் ▁கூறிய தும் ▁கவனிக்க த்தக்க து .\n",
       "y: CategoryList\n",
       "business,tamil-cinema,spirituality,spirituality,tamil-cinema\n",
       "Path: /home/gaurav/PycharmProjects/nlp-for-tamil/classification;\n",
       "\n",
       "Valid: LabelList (1337 items)\n",
       "x: TextList\n",
       "▁ x x b os ▁விழிப்புணர்வு ▁நிகழ்ச்சி கள் ▁காரணமாக ▁சிறிய ▁நகரங்களில் ▁இருந்து ▁மி யூ ச்சு வல் ▁ப ண்ட் களில் ▁முதலீடு ▁செய்பவர் களின் ▁எண்ணிக்கை ▁உயர்ந்த ிருக்கிறது . ▁மி யூ ச்சு வல் ▁ப ண்ட் ▁நிறுவனங்கள் ▁கையாள ும் ▁மொத்த ▁சொ த்தில் ▁சிறிய ▁நகர ங்களின் ▁பங்கு ▁18 ▁சதவீத மாக ▁உயர்ந்த ிருக்கிறது .,▁ x x b os ▁இறைவன ை ▁விட ▁இறைவன ின் ▁நா ம மே ▁சிறந்த து ▁என்ப ார்கள் ▁அருள ாளர்கள் . ▁அதனால் தான் ▁நா ம சங்க ீர் த்தன ம் ▁என்பதே ▁இறைவன ை ▁உ பா ச னை ▁செய்வ தில் ▁மிக ▁உயர்ந்த ▁மார் க்க மாக ▁விளங்குகிறது . ▁ரா மா , ▁கிருஷ்ணா ▁என்னும் ▁நா ம ங்களே , ▁தீ மை கள் ▁நம் மை ▁அண்ட ாமல் ▁த டு த்தி டும் ▁வல்ல மை ▁உடையது ▁என்ற னர் ▁சாய் ரா மும் ▁ஸ்ரீ மா த் மி கா வும் .,▁ x x b os ▁தொடர்ச்சியாக ▁காதல் ▁படங்களில் ▁நடித்த ீர் கள் . ▁காதல் ▁பட ங்கள் ▁தற்போது ▁குறைந்து விட்ட தே . .,▁ x x b os ▁மெ ரி க்க ▁சந்தை யில் ▁சிறந்த ▁வரவேற்ப ைப் ▁பெற்று வி ட்டா லே , ▁சர்வதேச ▁அளவில் ▁தங்களது ▁தயாரிப்பு களுக்கு ▁மிகச் ▁சிறந்த ▁எதிர்கால ம் ▁என்று ▁அனைத்து த் ▁துறை யின ரும் ▁கருதுகின்றனர் . ▁அ திலும் ▁குறிப்பாக ▁ஆ ட்டோ மொ பை ல் ▁துறை யினர் ▁அமெரிக்கா வை ▁நோக்கி ▁படையெடுப்ப தே ▁இதற்கு த்தான் .,▁ x x b os ▁பெரிய ▁பதவி யில் ▁இருப்ப வர்கள் ▁அறிமுக மா வார் கள் . ▁சு க்கிர னின் ▁பூ ரா டம் ▁நட்சத்திர த்தில் ▁19 . 01 . 20 19 ▁முதல் ▁11 . 8 . 20 19 ▁மற்றும் ▁27 . 9 . 20 19 ▁முதல் ▁24 . 2 . 20 20 ▁மற்றும் ▁17 . 7 . 20 20 ▁முதல் ▁20 . 11 . 20 20 ▁வரை ▁ச னி ▁செல்வ தால் ▁தெலுங்கு , ▁இந்தி ▁மொழி ▁பேச ுபவர்கள் ▁உதவ ுவார்கள் .\n",
       "y: CategoryList\n",
       "business,spirituality,tamil-cinema,business,spirituality\n",
       "Path: /home/gaurav/PycharmProjects/nlp-for-tamil/classification;\n",
       "\n",
       "Test: None, model=SequentialRNN(\n",
       "  (0): MultiBatchEncoder(\n",
       "    (module): AWD_LSTM(\n",
       "      (encoder): Embedding(8000, 400, padding_idx=1)\n",
       "      (encoder_dp): EmbeddingDropout(\n",
       "        (emb): Embedding(8000, 400, padding_idx=1)\n",
       "      )\n",
       "      (rnns): ModuleList(\n",
       "        (0): WeightDropout(\n",
       "          (module): LSTM(400, 1150, batch_first=True)\n",
       "        )\n",
       "        (1): WeightDropout(\n",
       "          (module): LSTM(1150, 1150, batch_first=True)\n",
       "        )\n",
       "        (2): WeightDropout(\n",
       "          (module): LSTM(1150, 400, batch_first=True)\n",
       "        )\n",
       "      )\n",
       "      (input_dp): RNNDropout()\n",
       "      (hidden_dps): ModuleList(\n",
       "        (0): RNNDropout()\n",
       "        (1): RNNDropout()\n",
       "        (2): RNNDropout()\n",
       "      )\n",
       "    )\n",
       "  )\n",
       "  (1): PoolingLinearClassifier(\n",
       "    (layers): Sequential(\n",
       "      (0): BatchNorm1d(1200, eps=1e-05, momentum=0.1, affine=True, track_running_stats=True)\n",
       "      (1): Dropout(p=0.05)\n",
       "      (2): Linear(in_features=1200, out_features=50, bias=True)\n",
       "      (3): ReLU(inplace)\n",
       "      (4): BatchNorm1d(50, eps=1e-05, momentum=0.1, affine=True, track_running_stats=True)\n",
       "      (5): Dropout(p=0.1)\n",
       "      (6): Linear(in_features=50, out_features=3, bias=True)\n",
       "    )\n",
       "  )\n",
       "), opt_func=functools.partial(<class 'torch.optim.adam.Adam'>, betas=(0.9, 0.99)), loss_func=FlattenedLoss of CrossEntropyLoss(), metrics=[<function accuracy at 0x7ff6409f24d0>], true_wd=True, bn_wd=True, wd=0.01, train_bn=True, path=PosixPath('/home/gaurav/PycharmProjects/nlp-for-tamil/classification'), model_dir='models', callback_fns=[functools.partial(<class 'fastai.basic_train.Recorder'>, add_time=True, silent=False)], callbacks=[RNNTrainer\n",
       "learn: ...\n",
       "alpha: 2.0\n",
       "beta: 1.0], layer_groups=[Sequential(\n",
       "  (0): Embedding(8000, 400, padding_idx=1)\n",
       "  (1): EmbeddingDropout(\n",
       "    (emb): Embedding(8000, 400, padding_idx=1)\n",
       "  )\n",
       "), Sequential(\n",
       "  (0): WeightDropout(\n",
       "    (module): LSTM(400, 1150, batch_first=True)\n",
       "  )\n",
       "  (1): RNNDropout()\n",
       "), Sequential(\n",
       "  (0): WeightDropout(\n",
       "    (module): LSTM(1150, 1150, batch_first=True)\n",
       "  )\n",
       "  (1): RNNDropout()\n",
       "), Sequential(\n",
       "  (0): WeightDropout(\n",
       "    (module): LSTM(1150, 400, batch_first=True)\n",
       "  )\n",
       "  (1): RNNDropout()\n",
       "), Sequential(\n",
       "  (0): PoolingLinearClassifier(\n",
       "    (layers): Sequential(\n",
       "      (0): BatchNorm1d(1200, eps=1e-05, momentum=0.1, affine=True, track_running_stats=True)\n",
       "      (1): Dropout(p=0.05)\n",
       "      (2): Linear(in_features=1200, out_features=50, bias=True)\n",
       "      (3): ReLU(inplace)\n",
       "      (4): BatchNorm1d(50, eps=1e-05, momentum=0.1, affine=True, track_running_stats=True)\n",
       "      (5): Dropout(p=0.1)\n",
       "      (6): Linear(in_features=50, out_features=3, bias=True)\n",
       "    )\n",
       "  )\n",
       ")], add_time=True, silent=False, cb_fns_registered=False)"
      ]
     },
     "execution_count": 48,
     "metadata": {},
     "output_type": "execute_result"
    }
   ],
   "source": [
    "learn.load_encoder('fine_tuned_enc')"
   ]
  },
  {
   "cell_type": "code",
   "execution_count": 49,
   "metadata": {},
   "outputs": [],
   "source": [
    "learn.freeze()"
   ]
  },
  {
   "cell_type": "code",
   "execution_count": 50,
   "metadata": {},
   "outputs": [
    {
     "data": {
      "text/html": [],
      "text/plain": [
       "<IPython.core.display.HTML object>"
      ]
     },
     "metadata": {},
     "output_type": "display_data"
    },
    {
     "name": "stdout",
     "output_type": "stream",
     "text": [
      "LR Finder is complete, type {learner_name}.recorder.plot() to see the graph.\n"
     ]
    }
   ],
   "source": [
    "learn.lr_find()"
   ]
  },
  {
   "cell_type": "code",
   "execution_count": 51,
   "metadata": {},
   "outputs": [
    {
     "data": {
      "image/png": "[encoded data removed]",
      "text/plain": [
       "<Figure size 432x288 with 1 Axes>"
      ]
     },
     "metadata": {
      "needs_background": "light"
     },
     "output_type": "display_data"
    }
   ],
   "source": [
    "learn.recorder.plot()"
   ]
  },
  {
   "cell_type": "code",
   "execution_count": 52,
   "metadata": {},
   "outputs": [
    {
     "data": {
      "text/plain": [
       "CrossEntropyLoss()"
      ]
     },
     "execution_count": 52,
     "metadata": {},
     "output_type": "execute_result"
    }
   ],
   "source": [
    "learn.loss_func.func"
   ]
  },
  {
   "cell_type": "code",
   "execution_count": 53,
   "metadata": {},
   "outputs": [],
   "source": [
    "kappa = KappaScore()"
   ]
  },
  {
   "cell_type": "code",
   "execution_count": 54,
   "metadata": {},
   "outputs": [],
   "source": [
    "learn.metrics = [kappa, accuracy]"
   ]
  },
  {
   "cell_type": "code",
   "execution_count": 55,
   "metadata": {},
   "outputs": [
    {
     "data": {
      "text/html": [
       "<table border=\"1\" class=\"dataframe\">\n",
       "  <thead>\n",
       "    <tr style=\"text-align: left;\">\n",
       "      <th>epoch</th>\n",
       "      <th>train_loss</th>\n",
       "      <th>valid_loss</th>\n",
       "      <th>kappa_score</th>\n",
       "      <th>accuracy</th>\n",
       "      <th>time</th>\n",
       "    </tr>\n",
       "  </thead>\n",
       "  <tbody>\n",
       "    <tr>\n",
       "      <td>0</td>\n",
       "      <td>0.285563</td>\n",
       "      <td>0.167643</td>\n",
       "      <td>0.907482</td>\n",
       "      <td>0.939417</td>\n",
       "      <td>00:17</td>\n",
       "    </tr>\n",
       "  </tbody>\n",
       "</table>"
      ],
      "text/plain": [
       "<IPython.core.display.HTML object>"
      ]
     },
     "metadata": {},
     "output_type": "display_data"
    }
   ],
   "source": [
    "learn.fit_one_cycle(1, 1e-2)"
   ]
  },
  {
   "cell_type": "code",
   "execution_count": 56,
   "metadata": {},
   "outputs": [
    {
     "data": {
      "text/html": [
       "<table border=\"1\" class=\"dataframe\">\n",
       "  <thead>\n",
       "    <tr style=\"text-align: left;\">\n",
       "      <th>epoch</th>\n",
       "      <th>train_loss</th>\n",
       "      <th>valid_loss</th>\n",
       "      <th>kappa_score</th>\n",
       "      <th>accuracy</th>\n",
       "      <th>time</th>\n",
       "    </tr>\n",
       "  </thead>\n",
       "  <tbody>\n",
       "    <tr>\n",
       "      <td>0</td>\n",
       "      <td>0.196215</td>\n",
       "      <td>0.125699</td>\n",
       "      <td>0.938551</td>\n",
       "      <td>0.959611</td>\n",
       "      <td>00:18</td>\n",
       "    </tr>\n",
       "  </tbody>\n",
       "</table>"
      ],
      "text/plain": [
       "<IPython.core.display.HTML object>"
      ]
     },
     "metadata": {},
     "output_type": "display_data"
    }
   ],
   "source": [
    "learn.freeze_to(-2)\n",
    "learn.fit_one_cycle(1, 1e-2)"
   ]
  },
  {
   "cell_type": "code",
   "execution_count": 57,
   "metadata": {},
   "outputs": [
    {
     "data": {
      "text/html": [
       "<table border=\"1\" class=\"dataframe\">\n",
       "  <thead>\n",
       "    <tr style=\"text-align: left;\">\n",
       "      <th>epoch</th>\n",
       "      <th>train_loss</th>\n",
       "      <th>valid_loss</th>\n",
       "      <th>kappa_score</th>\n",
       "      <th>accuracy</th>\n",
       "      <th>time</th>\n",
       "    </tr>\n",
       "  </thead>\n",
       "  <tbody>\n",
       "    <tr>\n",
       "      <td>0</td>\n",
       "      <td>0.127554</td>\n",
       "      <td>0.118773</td>\n",
       "      <td>0.930402</td>\n",
       "      <td>0.954375</td>\n",
       "      <td>00:26</td>\n",
       "    </tr>\n",
       "    <tr>\n",
       "      <td>1</td>\n",
       "      <td>0.099802</td>\n",
       "      <td>0.102559</td>\n",
       "      <td>0.941894</td>\n",
       "      <td>0.961855</td>\n",
       "      <td>00:26</td>\n",
       "    </tr>\n",
       "    <tr>\n",
       "      <td>2</td>\n",
       "      <td>0.100311</td>\n",
       "      <td>0.098860</td>\n",
       "      <td>0.945176</td>\n",
       "      <td>0.964099</td>\n",
       "      <td>00:27</td>\n",
       "    </tr>\n",
       "    <tr>\n",
       "      <td>3</td>\n",
       "      <td>0.081874</td>\n",
       "      <td>0.121290</td>\n",
       "      <td>0.933662</td>\n",
       "      <td>0.956619</td>\n",
       "      <td>00:27</td>\n",
       "    </tr>\n",
       "    <tr>\n",
       "      <td>4</td>\n",
       "      <td>0.051257</td>\n",
       "      <td>0.095735</td>\n",
       "      <td>0.950926</td>\n",
       "      <td>0.967838</td>\n",
       "      <td>00:26</td>\n",
       "    </tr>\n",
       "  </tbody>\n",
       "</table>"
      ],
      "text/plain": [
       "<IPython.core.display.HTML object>"
      ]
     },
     "metadata": {},
     "output_type": "display_data"
    },
    {
     "name": "stdout",
     "output_type": "stream",
     "text": [
      "Better model found at epoch 0 with accuracy value: 0.9543754458427429.\n",
      "Better model found at epoch 1 with accuracy value: 0.961854875087738.\n",
      "Better model found at epoch 2 with accuracy value: 0.9640987515449524.\n",
      "Better model found at epoch 4 with accuracy value: 0.96783846616745.\n"
     ]
    }
   ],
   "source": [
    "learn.unfreeze()\n",
    "learn.fit_one_cycle(5, 1e-3, callbacks=[callbacks.SaveModelCallback(learn, every='improvement', monitor='accuracy', name='final')])"
   ]
  },
  {
   "cell_type": "code",
   "execution_count": 58,
   "metadata": {},
   "outputs": [
    {
     "data": {
      "text/plain": [
       "Category spirituality"
      ]
     },
     "execution_count": 58,
     "metadata": {},
     "output_type": "execute_result"
    }
   ],
   "source": [
    "learn.predict('திருக்காஞ்சியில் ஸ்ரீ கங்கைவராக நதீஸ்வரர் ஆலயம் அமைந்துள்ளது.')[0]"
   ]
  },
  {
   "cell_type": "code",
   "execution_count": 59,
   "metadata": {},
   "outputs": [
    {
     "data": {
      "text/plain": [
       "Category spirituality"
      ]
     },
     "execution_count": 59,
     "metadata": {},
     "output_type": "execute_result"
    }
   ],
   "source": [
    "learn.predict('கீழ்த்திசை ஞானியர் குழந்தை இயேசுவைக் கண்டு வணங்கிய நிகழ்வை')[0]"
   ]
  },
  {
   "cell_type": "code",
   "execution_count": 60,
   "metadata": {},
   "outputs": [
    {
     "data": {
      "text/plain": [
       "Category spirituality"
      ]
     },
     "execution_count": 60,
     "metadata": {},
     "output_type": "execute_result"
    }
   ],
   "source": [
    "learn.predict(\"தர்காவுக்கு அருகிலேயே ஒரு பள்ளிவாசல் இருக்கிறது. உள்ளூர் மக்களும், தர்காவுக்கு வரும் வெளியூர் அன்பர்களும் அங்கு தொழுகிறார்கள்.\")[0]"
   ]
  },
  {
   "cell_type": "code",
   "execution_count": 61,
   "metadata": {},
   "outputs": [
    {
     "data": {
      "text/plain": [
       "Category tamil-cinema"
      ]
     },
     "execution_count": 61,
     "metadata": {},
     "output_type": "execute_result"
    }
   ],
   "source": [
    "learn.predict('இப்படத்தில் இன்னொரு நாயகனாக நாகார்ஜூனா நடிக்கவிருக்கிறார் என்றவுடன் உடனே இப்படத்தை ஒப்புக் கொண்டேன். அவருடைய பெரிய ரசிகன் நான்')[0]"
   ]
  },
  {
   "cell_type": "code",
   "execution_count": 62,
   "metadata": {},
   "outputs": [
    {
     "data": {
      "text/plain": [
       "Category tamil-cinema"
      ]
     },
     "execution_count": 62,
     "metadata": {},
     "output_type": "execute_result"
    }
   ],
   "source": [
    "learn.predict('ஒரு தொலைக்காட்சியில் ஒரு நடிகை தன்னுடைய நாடகங்களில் நடிக்கிறார் என்றால், மற்ற தொலைக்காட்சியில் நடிக்கக் கூடாது, ஷோவிற்கு போகக் கூடாது என்று கையெழுத்து வாங்கிக் கொள்கிறார்கள்.')[0]"
   ]
  },
  {
   "cell_type": "code",
   "execution_count": 63,
   "metadata": {},
   "outputs": [
    {
     "data": {
      "text/plain": [
       "Category tamil-cinema"
      ]
     },
     "execution_count": 63,
     "metadata": {},
     "output_type": "execute_result"
    }
   ],
   "source": [
    "learn.predict('இயக்குநர் ஷங்கர் - ரஜினிகாந்த் இணையின் 2.0 படத்தின் படப்பிடிப்பு மும்முரமாக நடைபெற்றுவருகிறது.')[0]"
   ]
  },
  {
   "cell_type": "code",
   "execution_count": 64,
   "metadata": {},
   "outputs": [
    {
     "data": {
      "text/plain": [
       "Category business"
      ]
     },
     "execution_count": 64,
     "metadata": {},
     "output_type": "execute_result"
    }
   ],
   "source": [
    "learn.predict('அருகில் இருங்காட்டுக் கோட்டையில் செயல்படும் ஹூண்டாய் நிறுவனம் இது போன்ற ஹீட் அலவன்ஸை பணியாளர்களுக்கு அளிக்கிறது. ஊழியர்கள் விடுத்த கோரிக்கையை ரெனால்ட் நிசான் நிர்வாகம் பரிசீலித்து வருவதாகத் தெரிகிறது.')[0]"
   ]
  },
  {
   "cell_type": "code",
   "execution_count": 65,
   "metadata": {},
   "outputs": [
    {
     "data": {
      "text/plain": [
       "Category business"
      ]
     },
     "execution_count": 65,
     "metadata": {},
     "output_type": "execute_result"
    }
   ],
   "source": [
    "learn.predict('சர்வதேச சந்தையில் கச்சா எண்ணெய் விலை அதிகரித்து வருவதால் முதலீட்டாளர்கள் கவனம் அதன் பக்கம் திரும்பியுள்ளது.')[0]"
   ]
  },
  {
   "cell_type": "code",
   "execution_count": 66,
   "metadata": {},
   "outputs": [
    {
     "data": {
      "text/plain": [
       "Category business"
      ]
     },
     "execution_count": 66,
     "metadata": {},
     "output_type": "execute_result"
    }
   ],
   "source": [
    "learn.predict('மேடிசன் ஸ்போர்ட்ஸ் குழுமத்தின் இயக்குநர் பொறுப்பில் இருந்தவர். இன்ச்கேப் நிறுவனத்தின் பொறுப்புகள் அல்லாத இயக்குநர் பொறுப்பில் இருந்தவர்.')[0]"
   ]
  },
  {
   "cell_type": "code",
   "execution_count": null,
   "metadata": {},
   "outputs": [],
   "source": []
  }
 ],
 "metadata": {
  "kernelspec": {
   "display_name": "Python 3",
   "language": "python",
   "name": "python3"
  },
  "language_info": {
   "codemirror_mode": {
    "name": "ipython",
    "version": 3
   },
   "file_extension": ".py",
   "mimetype": "text/x-python",
   "name": "python",
   "nbconvert_exporter": "python",
   "pygments_lexer": "ipython3",
   "version": "3.7.4"
  }
 },
 "nbformat": 4,
 "nbformat_minor": 2
}
