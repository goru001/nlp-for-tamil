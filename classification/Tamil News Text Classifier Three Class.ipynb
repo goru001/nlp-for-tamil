{
 "cells": [
  {
   "cell_type": "code",
   "execution_count": 1,
   "metadata": {},
   "outputs": [],
   "source": [
    "from fastai.text import *\n",
    "import numpy as np\n",
    "import pandas as pd\n",
    "from sklearn.model_selection import train_test_split\n",
    "import pickle\n",
    "import sentencepiece as spm\n",
    "import re\n",
    "import pdb"
   ]
  },
  {
   "cell_type": "code",
   "execution_count": 2,
   "metadata": {},
   "outputs": [
    {
     "data": {
      "text/plain": [
       "('1.0.50.post1', '1.0.0')"
      ]
     },
     "execution_count": 2,
     "metadata": {},
     "output_type": "execute_result"
    }
   ],
   "source": [
    "import fastai, torch\n",
    "fastai.__version__ , torch.__version__"
   ]
  },
  {
   "cell_type": "code",
   "execution_count": 3,
   "metadata": {},
   "outputs": [],
   "source": [
    "torch.cuda.set_device(0)"
   ]
  },
  {
   "cell_type": "code",
   "execution_count": 4,
   "metadata": {},
   "outputs": [
    {
     "data": {
      "text/html": [
       "<div>\n",
       "<style scoped>\n",
       "    .dataframe tbody tr th:only-of-type {\n",
       "        vertical-align: middle;\n",
       "    }\n",
       "\n",
       "    .dataframe tbody tr th {\n",
       "        vertical-align: top;\n",
       "    }\n",
       "\n",
       "    .dataframe thead th {\n",
       "        text-align: right;\n",
       "    }\n",
       "</style>\n",
       "<table border=\"1\" class=\"dataframe\">\n",
       "  <thead>\n",
       "    <tr style=\"text-align: right;\">\n",
       "      <th></th>\n",
       "      <th>text</th>\n",
       "      <th>label</th>\n",
       "    </tr>\n",
       "  </thead>\n",
       "  <tbody>\n",
       "    <tr>\n",
       "      <th>0</th>\n",
       "      <td>'ஹர ஹர மஹாதேவகி' படத்தின் பத்திரிகையாளர் காட்ச...</td>\n",
       "      <td>tamil-cinema</td>\n",
       "    </tr>\n",
       "    <tr>\n",
       "      <th>1</th>\n",
       "      <td>கடந்த ஆண்டு இலக்கியப் படைப்புகளுக்கு அதிக நேரம...</td>\n",
       "      <td>tamil-cinema</td>\n",
       "    </tr>\n",
       "    <tr>\n",
       "      <th>2</th>\n",
       "      <td>பாலாவின் 'நாச்சியார்' பிப்ரவரி 9-ம் தேதி வெளிய...</td>\n",
       "      <td>tamil-cinema</td>\n",
       "    </tr>\n",
       "    <tr>\n",
       "      <th>3</th>\n",
       "      <td>அதிர்ஷ்டமான தேதிகள்: பிப்ரவரி 9, 15 (பிற்பகல்)</td>\n",
       "      <td>spirituality</td>\n",
       "    </tr>\n",
       "    <tr>\n",
       "      <th>4</th>\n",
       "      <td>ஆழ்வார்கள், ஆச்சாரியர்கள் தரிசித்து, பாடல் பெற...</td>\n",
       "      <td>spirituality</td>\n",
       "    </tr>\n",
       "  </tbody>\n",
       "</table>\n",
       "</div>"
      ],
      "text/plain": [
       "                                                text         label\n",
       "0  'ஹர ஹர மஹாதேவகி' படத்தின் பத்திரிகையாளர் காட்ச...  tamil-cinema\n",
       "1  கடந்த ஆண்டு இலக்கியப் படைப்புகளுக்கு அதிக நேரம...  tamil-cinema\n",
       "2  பாலாவின் 'நாச்சியார்' பிப்ரவரி 9-ம் தேதி வெளிய...  tamil-cinema\n",
       "3     அதிர்ஷ்டமான தேதிகள்: பிப்ரவரி 9, 15 (பிற்பகல்)  spirituality\n",
       "4  ஆழ்வார்கள், ஆச்சாரியர்கள் தரிசித்து, பாடல் பெற...  spirituality"
      ]
     },
     "execution_count": 4,
     "metadata": {},
     "output_type": "execute_result"
    }
   ],
   "source": [
    "df = pd.read_csv('Tamil_News_Classification_3class.csv', sep=',', encoding='utf-8')\n",
    "df.head()"
   ]
  },
  {
   "cell_type": "code",
   "execution_count": 5,
   "metadata": {},
   "outputs": [],
   "source": [
    "class TamilTokenizer(BaseTokenizer):\n",
    "    def __init__(self, lang:str):\n",
    "        self.lang = lang\n",
    "        self.sp = spm.SentencePieceProcessor()\n",
    "        self.sp.Load(str('tamil_spm_8k.model'))\n",
    "        \n",
    "    def tokenizer(self, t:str) -> List[str]:\n",
    "        return self.sp.EncodeAsPieces(t)"
   ]
  },
  {
   "cell_type": "code",
   "execution_count": 6,
   "metadata": {},
   "outputs": [],
   "source": [
    "sp = spm.SentencePieceProcessor()\n",
    "sp.Load('tamil_spm_8k.model')\n",
    "itos = [sp.IdToPiece(int(i)) for i in range(8000)]"
   ]
  },
  {
   "cell_type": "code",
   "execution_count": 7,
   "metadata": {},
   "outputs": [],
   "source": [
    "tamil_vocab = Vocab(itos)"
   ]
  },
  {
   "cell_type": "code",
   "execution_count": 8,
   "metadata": {},
   "outputs": [],
   "source": [
    "tokenizer = Tokenizer(tok_func=TamilTokenizer, lang='ta')"
   ]
  },
  {
   "cell_type": "code",
   "execution_count": 9,
   "metadata": {},
   "outputs": [],
   "source": [
    "path = Path('.')"
   ]
  },
  {
   "cell_type": "code",
   "execution_count": 10,
   "metadata": {},
   "outputs": [],
   "source": [
    "label_cols = [1]"
   ]
  },
  {
   "cell_type": "code",
   "execution_count": 11,
   "metadata": {},
   "outputs": [],
   "source": [
    "data_lm = TextLMDataBunch.from_csv(path=path, csv_name='Tamil_News_Classification_3class.csv', text_cols=[0], label_cols=label_cols, tokenizer=tokenizer, vocab=tamil_vocab)"
   ]
  },
  {
   "cell_type": "code",
   "execution_count": 12,
   "metadata": {},
   "outputs": [],
   "source": [
    "data_lm.save()"
   ]
  },
  {
   "cell_type": "code",
   "execution_count": 13,
   "metadata": {},
   "outputs": [],
   "source": [
    "bs=32"
   ]
  },
  {
   "cell_type": "code",
   "execution_count": 14,
   "metadata": {},
   "outputs": [
    {
     "data": {
      "text/html": [
       "<table border=\"1\" class=\"dataframe\">\n",
       "  <thead>\n",
       "    <tr style=\"text-align: right;\">\n",
       "      <th>idx</th>\n",
       "      <th>text</th>\n",
       "    </tr>\n",
       "  </thead>\n",
       "  <tbody>\n",
       "    <tr>\n",
       "      <td>0</td>\n",
       "      <td>யில் ▁பல ▁இறுதி ப் ▁பாசு ர ங்களில் ▁‘ கு று கூர் ச் ▁ச ட கோ பன் ’ ▁என்றே ▁தன் ▁பெயரை க் ▁ குறிப்பிடுகிறார் . ▁ x x b os ▁இதே போல ▁ரெ னால் ட் ▁நிறுவனம் ▁தனது ▁ க் வி ட் ▁மார் வெல் ▁சிறப்பு ▁பதிப்பு ▁கார் ▁குறித்த ▁விமர்சன ங்களை ▁இளைஞர் களைக் ▁க வரும் ▁வகையில் ▁பதிவு ▁செய்த ிருந்தது . ▁சா க ச ப் ▁பிரி யர் களைக் ▁க வரும் ▁வகையில் ▁நிகழ்ச்சி க்கு</td>\n",
       "    </tr>\n",
       "    <tr>\n",
       "      <td>1</td>\n",
       "      <td>▁மாத வ னின் ▁தந்தை ▁டெல்லி ▁குமார ிடம் ▁தொழில ாளி யாக ▁வேலை ▁பார்த்த வர் . ▁இவர்கள் ▁இரு வர் ▁குடும்பத்தினர ும் ▁மாத வன் , ஜோ தி கா விற்கு த் ▁திருமணம் ▁செய்ய ▁முடிவு ▁செய்கின்றன ர் . ▁ x x b os ▁மத்திய ▁அரசால் ▁நிர்வாக ிக்க ப்படும் ▁தணிக்கை க்குழு ▁அதற்கான ▁சட்ட ▁திட்ட ங்களுக்கு ▁உட்பட்ட ு ▁அனுமதி ய ளித்த ▁பின் ▁வெளியிட ப்படும் ▁திரைப்பட ங்களை ▁தனி ▁நபர் களின் ▁விமர்சன ங்களுக்காக ▁மாற்ற ிய மை ப்ப தோ</td>\n",
       "    </tr>\n",
       "    <tr>\n",
       "      <td>2</td>\n",
       "      <td>யாக ▁விழுந்த ார் . ▁அவரது ▁சி ரம் ▁துறவி யின் ▁கால ில் ▁பட்ட து . ▁துறவி ▁தமது ▁கை களை ▁உயர் த்தி ▁மன்னன ை ▁ஆ சி ர் வதி த்தார் . ▁ x x b os ▁5 ஜி ▁தொழில்நுட்ப த்துக்கான ▁இந்த ▁குழு ▁அமைச்ச க ங்களின் ▁செயல ர் களை ▁உள்ளடக்கிய தாக ▁இருக்கும் . ▁குறிப்பாக ▁தொலை த் ▁தொடர்பு ▁செயல ர் , ▁மின்னணு ▁மற்றும் ▁தகவல் ▁தொழில்நுட்ப ம் , ▁அறிவியல் ▁மற்றும் ▁தொழில்நுட்ப ▁அமைச்ச க ▁செயல ர்கள்</td>\n",
       "    </tr>\n",
       "    <tr>\n",
       "      <td>3</td>\n",
       "      <td>து பதி ▁அடுத்தடுத்த ு ▁' சூ ப்பர் ▁டீ ல க்ஸ் ' , ▁' 69 ' , ▁' சீ த க்கா தி ' ▁உள்ளிட்ட ▁பட ங்களிலும் ▁நடித்து ▁வருவது ▁குறிப்பிடத்தக்க து . ▁ x x b os ▁பேச்சுவார்த்தை ▁நடக்கிறது . ▁அ னே க மாக , ▁அடுத்த ▁பட மும் ▁சமூக ▁சிந்தனை ▁நி ரம்ப ிய தாக வே ▁இருக்கும் . ▁இனி ▁வரும் ▁என் ▁எல்லா ▁பட ங்களி லு மே ▁திரைக்கதை யில் ▁உரையாட ல் , ▁கதாபாத்திர</td>\n",
       "    </tr>\n",
       "    <tr>\n",
       "      <td>4</td>\n",
       "      <td>ப்பட்டுள்ள தாக ▁அ மல ாக்க த்துறை ▁அறிவித்த ுள்ளது . ▁தலை மறை வா கி ▁இருக்கும் ▁நி ர வ் ▁மோ டி யை ▁சி பி ஐ ▁தேடி ▁வருவது ▁குறிப்பிடத்தக்க து . ▁ x x b os ▁அம்மா ▁பாத்திர த்துக்கு ▁உ ங்களை ▁எப்படி ▁த யார் படுத்தி க் ▁கொண்ட ீர் கள் ? ▁ x x b os ▁பெண்களுக்கு ▁அ க்கம் பக்க த்தினர ுடன் ▁இருந்து ▁வந்த ▁மன வரு த்தம் ▁நீங்க ும் . ▁சொன்ன ▁சொல்ல ை</td>\n",
       "    </tr>\n",
       "  </tbody>\n",
       "</table>"
      ],
      "text/plain": [
       "<IPython.core.display.HTML object>"
      ]
     },
     "metadata": {},
     "output_type": "display_data"
    }
   ],
   "source": [
    "data_lm.show_batch()"
   ]
  },
  {
   "cell_type": "code",
   "execution_count": 15,
   "metadata": {},
   "outputs": [],
   "source": [
    "learn = language_model_learner(data_lm, AWD_LSTM, drop_mult=0.3, pretrained=False)"
   ]
  },
  {
   "cell_type": "code",
   "execution_count": 16,
   "metadata": {},
   "outputs": [
    {
     "name": "stdout",
     "output_type": "stream",
     "text": [
      "data_save.pkl\r\n",
      "models\r\n",
      "Tamil_News_Classification_3class.csv\r\n",
      "Tamil_News_Classification_4class.csv\r\n",
      "Tamil News Classifier Four Class Data.ipynb\r\n",
      "Tamil News Text Classifier Three Class.ipynb\r\n",
      "tamil_spm_8k.model\r\n",
      "tamil_spm_8k.vocab\r\n"
     ]
    }
   ],
   "source": [
    "!ls"
   ]
  },
  {
   "cell_type": "code",
   "execution_count": 17,
   "metadata": {},
   "outputs": [
    {
     "data": {
      "text/plain": [
       "LanguageLearner(data=TextLMDataBunch;\n",
       "\n",
       "Train: LabelList (5347 items)\n",
       "x: LMTextList\n",
       "▁ x x b os ▁அரியலூர் ▁மாணவ ி ▁அ னி தா வின் ▁தற்கொலை க்கு ▁காரண மான ▁நீ ட் ▁தேர் வை ▁கொண்டு ▁வந்த ▁மத்திய ▁அரசு க்கும் , ▁அதை ▁கண்டு ம் ▁காண ாமல் ▁விட்ட ▁மாநில ▁அரசு க்கும் ▁கண்ட னம் ▁தெரிவித்த ு ▁திரையுலக ினர் ▁தொடர்ந்து ▁தங்கள் ▁கருத்து களைப் ▁பதிவு செய் து ▁வருகின்றனர் .,▁ x x b os ▁நகரின் ▁பழைய ▁பெயர் ▁திரு க்கு ரு கூர் . ▁நம் ம ாழ்வார் ▁தம் ▁திரு வாய் மொழி யில் ▁பல ▁இறுதி ப் ▁பாசு ர ங்களில் ▁‘ கு று கூர் ச் ▁ச ட கோ பன் ’ ▁என்றே ▁தன் ▁பெயரை க் ▁ குறிப்பிடுகிறார் .,▁ x x b os ▁இதே போல ▁ரெ னால் ட் ▁நிறுவனம் ▁தனது ▁ க் வி ட் ▁மார் வெல் ▁சிறப்பு ▁பதிப்பு ▁கார் ▁குறித்த ▁விமர்சன ங்களை ▁இளைஞர் களைக் ▁க வரும் ▁வகையில் ▁பதிவு ▁செய்த ிருந்தது . ▁சா க ச ப் ▁பிரி யர் களைக் ▁க வரும் ▁வகையில் ▁நிகழ்ச்சி க்கு ▁ஏற்பாடு ▁செய்த ிருந்தது . ▁இது ▁இன் ஸ்டா ▁கிராம ில் ▁வெளியானது .,▁ x x b os ▁தமிழில் ▁ச ன்னி லியோ ன் ▁அறிமுக மாகும் ▁' வீர மா தேவி ',▁ x x b os ▁ ப் ரிய தர் ஷன் ▁இயக்கத்தில் ▁உருவாகிய ுள்ள ▁' நி மி ர் ' ▁படத்தின் ▁பணிகளை ▁முடித்து விட்டார் ▁உதய நிதி ▁ஸ்டா லின் . ▁ஜனவரி யில் ▁வெளியிட லாம் ▁என்று ▁பட க்குழு ▁முடிவு ▁செய்த ிருக்கிறது .\n",
       "y: LMLabelList\n",
       ",,,,\n",
       "Path: .;\n",
       "\n",
       "Valid: LabelList (1337 items)\n",
       "x: LMTextList\n",
       "▁ x x b os ▁கா மெ டி ▁கலந்த ▁ஆக் ▁ ஷன் ▁பட மாக ▁உருவாகும் ▁இப்படத்தில் ▁8 ▁கெ ட்ட ப் களில் ▁நடித்துள்ளார் ▁விஜய் ▁சே து பதி . ▁பழங்குடி ▁மக்களின் ▁தலைவராக ▁நடித்த ுள்ள ▁விஜய் ▁சே து பதி ▁முதல் ▁பாதி யில் ▁நகரத்தில் ▁வாழ் ப வராகவும் , ▁இரண்டாம் ▁பாதி ▁முழுவதும் ▁காட்டு க்குள் ▁வாழ்வ து ▁போல வும் ▁திரைக்கதை ▁அமைத்த ுள்ளார் ▁இயக்குநர் ▁ஆறு முக ▁குமார் .,▁ x x b os ▁இயக்குநர் ▁சு குமார் ▁தயாரிக்க வ ுள்ள ▁இப்படத்தில் ▁ நாயக னாக ▁நடித்து , ▁இசை ய மை க்க வ ுள்ளார் ▁ஜி . வி . பிர கா ஷ் . ▁ நாயகி யாக ▁' அ ர் ஜ ு ன் ▁ரெட்டி ' ▁புகழ் ▁ஷா லி னி ▁பா ண்டே ▁நடிக்க வ ுள்ளார் . ▁எம் . எம் . ▁சந்திர மெ ள லி ▁இப்படத்தின் ▁மூலம் ▁இயக்குநராக ▁அறிமுக மாக ▁இருக்கிறார் . ▁ஒளிப்பதி வ ாளராக ▁ட ட் லி ▁ஒப்பந்தம் ▁செய்யப்பட்ட ுள்ளார் .,▁ x x b os ▁இவ்வாறு ▁ஜி . வி . பிர கா ஷ் ▁தெரிவித்த ிருக்கிறார் .,▁ x x b os ▁ச ந்தோ ஷ் ▁சிவன் ▁ஒளிப்பதி வ ாளராகவும் , ▁ஏ . ஆர் . ர ஹ் மான் ▁இசையமைப்ப ாளராகவும் ▁பணிபுரிய வ ுள்ளார் கள் . ▁எ டி ட்ட ராக ▁ஸ்ரீ கர் ▁பிரசாத் ▁ஒப்பந்தம் ▁செய்யப்பட்ட ுள்ளார் . ▁இப்படத்தை ▁பெரும் ▁பொருட் செ ல வில் ▁தங்களுடைய ▁17 - வது ▁தயாரிப்ப ாக ▁மெ ட்ரா ஸ் ▁டா க்கீ ஸ் ▁நிறுவனம் ▁தயாரிக்க ிறது .,▁ x x b os ▁மாணவர்கள் ▁கவன ▁த டு மாற்றம் ▁ஏற்பட ாமல் ▁பாட ங்களை ▁படிப்ப து ▁நல்ல து . ▁பொறுப்பு கள் ▁கூடும் .\n",
       "y: LMLabelList\n",
       ",,,,\n",
       "Path: .;\n",
       "\n",
       "Test: None, model=SequentialRNN(\n",
       "  (0): AWD_LSTM(\n",
       "    (encoder): Embedding(8000, 400, padding_idx=1)\n",
       "    (encoder_dp): EmbeddingDropout(\n",
       "      (emb): Embedding(8000, 400, padding_idx=1)\n",
       "    )\n",
       "    (rnns): ModuleList(\n",
       "      (0): WeightDropout(\n",
       "        (module): LSTM(400, 1150, batch_first=True)\n",
       "      )\n",
       "      (1): WeightDropout(\n",
       "        (module): LSTM(1150, 1150, batch_first=True)\n",
       "      )\n",
       "      (2): WeightDropout(\n",
       "        (module): LSTM(1150, 400, batch_first=True)\n",
       "      )\n",
       "    )\n",
       "    (input_dp): RNNDropout()\n",
       "    (hidden_dps): ModuleList(\n",
       "      (0): RNNDropout()\n",
       "      (1): RNNDropout()\n",
       "      (2): RNNDropout()\n",
       "    )\n",
       "  )\n",
       "  (1): LinearDecoder(\n",
       "    (decoder): Linear(in_features=400, out_features=8000, bias=True)\n",
       "    (output_dp): RNNDropout()\n",
       "  )\n",
       "), opt_func=functools.partial(<class 'torch.optim.adam.Adam'>, betas=(0.9, 0.99)), loss_func=FlattenedLoss of CrossEntropyLoss(), metrics=[<function accuracy at 0x7f3dc899ef28>], true_wd=True, bn_wd=True, wd=0.01, train_bn=True, path=PosixPath('.'), model_dir='models', callback_fns=[functools.partial(<class 'fastai.basic_train.Recorder'>, add_time=True)], callbacks=[RNNTrainer\n",
       "learn: LanguageLearner(data=TextLMDataBunch;\n",
       "\n",
       "Train: LabelList (5347 items)\n",
       "x: LMTextList\n",
       "▁ x x b os ▁அரியலூர் ▁மாணவ ி ▁அ னி தா வின் ▁தற்கொலை க்கு ▁காரண மான ▁நீ ட் ▁தேர் வை ▁கொண்டு ▁வந்த ▁மத்திய ▁அரசு க்கும் , ▁அதை ▁கண்டு ம் ▁காண ாமல் ▁விட்ட ▁மாநில ▁அரசு க்கும் ▁கண்ட னம் ▁தெரிவித்த ு ▁திரையுலக ினர் ▁தொடர்ந்து ▁தங்கள் ▁கருத்து களைப் ▁பதிவு செய் து ▁வருகின்றனர் .,▁ x x b os ▁நகரின் ▁பழைய ▁பெயர் ▁திரு க்கு ரு கூர் . ▁நம் ம ாழ்வார் ▁தம் ▁திரு வாய் மொழி யில் ▁பல ▁இறுதி ப் ▁பாசு ர ங்களில் ▁‘ கு று கூர் ச் ▁ச ட கோ பன் ’ ▁என்றே ▁தன் ▁பெயரை க் ▁ குறிப்பிடுகிறார் .,▁ x x b os ▁இதே போல ▁ரெ னால் ட் ▁நிறுவனம் ▁தனது ▁ க் வி ட் ▁மார் வெல் ▁சிறப்பு ▁பதிப்பு ▁கார் ▁குறித்த ▁விமர்சன ங்களை ▁இளைஞர் களைக் ▁க வரும் ▁வகையில் ▁பதிவு ▁செய்த ிருந்தது . ▁சா க ச ப் ▁பிரி யர் களைக் ▁க வரும் ▁வகையில் ▁நிகழ்ச்சி க்கு ▁ஏற்பாடு ▁செய்த ிருந்தது . ▁இது ▁இன் ஸ்டா ▁கிராம ில் ▁வெளியானது .,▁ x x b os ▁தமிழில் ▁ச ன்னி லியோ ன் ▁அறிமுக மாகும் ▁' வீர மா தேவி ',▁ x x b os ▁ ப் ரிய தர் ஷன் ▁இயக்கத்தில் ▁உருவாகிய ுள்ள ▁' நி மி ர் ' ▁படத்தின் ▁பணிகளை ▁முடித்து விட்டார் ▁உதய நிதி ▁ஸ்டா லின் . ▁ஜனவரி யில் ▁வெளியிட லாம் ▁என்று ▁பட க்குழு ▁முடிவு ▁செய்த ிருக்கிறது .\n",
       "y: LMLabelList\n",
       ",,,,\n",
       "Path: .;\n",
       "\n",
       "Valid: LabelList (1337 items)\n",
       "x: LMTextList\n",
       "▁ x x b os ▁கா மெ டி ▁கலந்த ▁ஆக் ▁ ஷன் ▁பட மாக ▁உருவாகும் ▁இப்படத்தில் ▁8 ▁கெ ட்ட ப் களில் ▁நடித்துள்ளார் ▁விஜய் ▁சே து பதி . ▁பழங்குடி ▁மக்களின் ▁தலைவராக ▁நடித்த ுள்ள ▁விஜய் ▁சே து பதி ▁முதல் ▁பாதி யில் ▁நகரத்தில் ▁வாழ் ப வராகவும் , ▁இரண்டாம் ▁பாதி ▁முழுவதும் ▁காட்டு க்குள் ▁வாழ்வ து ▁போல வும் ▁திரைக்கதை ▁அமைத்த ுள்ளார் ▁இயக்குநர் ▁ஆறு முக ▁குமார் .,▁ x x b os ▁இயக்குநர் ▁சு குமார் ▁தயாரிக்க வ ுள்ள ▁இப்படத்தில் ▁ நாயக னாக ▁நடித்து , ▁இசை ய மை க்க வ ுள்ளார் ▁ஜி . வி . பிர கா ஷ் . ▁ நாயகி யாக ▁' அ ர் ஜ ு ன் ▁ரெட்டி ' ▁புகழ் ▁ஷா லி னி ▁பா ண்டே ▁நடிக்க வ ுள்ளார் . ▁எம் . எம் . ▁சந்திர மெ ள லி ▁இப்படத்தின் ▁மூலம் ▁இயக்குநராக ▁அறிமுக மாக ▁இருக்கிறார் . ▁ஒளிப்பதி வ ாளராக ▁ட ட் லி ▁ஒப்பந்தம் ▁செய்யப்பட்ட ுள்ளார் .,▁ x x b os ▁இவ்வாறு ▁ஜி . வி . பிர கா ஷ் ▁தெரிவித்த ிருக்கிறார் .,▁ x x b os ▁ச ந்தோ ஷ் ▁சிவன் ▁ஒளிப்பதி வ ாளராகவும் , ▁ஏ . ஆர் . ர ஹ் மான் ▁இசையமைப்ப ாளராகவும் ▁பணிபுரிய வ ுள்ளார் கள் . ▁எ டி ட்ட ராக ▁ஸ்ரீ கர் ▁பிரசாத் ▁ஒப்பந்தம் ▁செய்யப்பட்ட ுள்ளார் . ▁இப்படத்தை ▁பெரும் ▁பொருட் செ ல வில் ▁தங்களுடைய ▁17 - வது ▁தயாரிப்ப ாக ▁மெ ட்ரா ஸ் ▁டா க்கீ ஸ் ▁நிறுவனம் ▁தயாரிக்க ிறது .,▁ x x b os ▁மாணவர்கள் ▁கவன ▁த டு மாற்றம் ▁ஏற்பட ாமல் ▁பாட ங்களை ▁படிப்ப து ▁நல்ல து . ▁பொறுப்பு கள் ▁கூடும் .\n",
       "y: LMLabelList\n",
       ",,,,\n",
       "Path: .;\n",
       "\n",
       "Test: None, model=SequentialRNN(\n",
       "  (0): AWD_LSTM(\n",
       "    (encoder): Embedding(8000, 400, padding_idx=1)\n",
       "    (encoder_dp): EmbeddingDropout(\n",
       "      (emb): Embedding(8000, 400, padding_idx=1)\n",
       "    )\n",
       "    (rnns): ModuleList(\n",
       "      (0): WeightDropout(\n",
       "        (module): LSTM(400, 1150, batch_first=True)\n",
       "      )\n",
       "      (1): WeightDropout(\n",
       "        (module): LSTM(1150, 1150, batch_first=True)\n",
       "      )\n",
       "      (2): WeightDropout(\n",
       "        (module): LSTM(1150, 400, batch_first=True)\n",
       "      )\n",
       "    )\n",
       "    (input_dp): RNNDropout()\n",
       "    (hidden_dps): ModuleList(\n",
       "      (0): RNNDropout()\n",
       "      (1): RNNDropout()\n",
       "      (2): RNNDropout()\n",
       "    )\n",
       "  )\n",
       "  (1): LinearDecoder(\n",
       "    (decoder): Linear(in_features=400, out_features=8000, bias=True)\n",
       "    (output_dp): RNNDropout()\n",
       "  )\n",
       "), opt_func=functools.partial(<class 'torch.optim.adam.Adam'>, betas=(0.9, 0.99)), loss_func=FlattenedLoss of CrossEntropyLoss(), metrics=[<function accuracy at 0x7f3dc899ef28>], true_wd=True, bn_wd=True, wd=0.01, train_bn=True, path=PosixPath('.'), model_dir='models', callback_fns=[functools.partial(<class 'fastai.basic_train.Recorder'>, add_time=True)], callbacks=[...], layer_groups=[Sequential(\n",
       "  (0): WeightDropout(\n",
       "    (module): LSTM(400, 1150, batch_first=True)\n",
       "  )\n",
       "  (1): RNNDropout()\n",
       "), Sequential(\n",
       "  (0): WeightDropout(\n",
       "    (module): LSTM(1150, 1150, batch_first=True)\n",
       "  )\n",
       "  (1): RNNDropout()\n",
       "), Sequential(\n",
       "  (0): WeightDropout(\n",
       "    (module): LSTM(1150, 400, batch_first=True)\n",
       "  )\n",
       "  (1): RNNDropout()\n",
       "), Sequential(\n",
       "  (0): Embedding(8000, 400, padding_idx=1)\n",
       "  (1): EmbeddingDropout(\n",
       "    (emb): Embedding(8000, 400, padding_idx=1)\n",
       "  )\n",
       "  (2): LinearDecoder(\n",
       "    (decoder): Linear(in_features=400, out_features=8000, bias=True)\n",
       "    (output_dp): RNNDropout()\n",
       "  )\n",
       ")], add_time=True)\n",
       "alpha: 2.0\n",
       "beta: 1.0], layer_groups=[Sequential(\n",
       "  (0): WeightDropout(\n",
       "    (module): LSTM(400, 1150, batch_first=True)\n",
       "  )\n",
       "  (1): RNNDropout()\n",
       "), Sequential(\n",
       "  (0): WeightDropout(\n",
       "    (module): LSTM(1150, 1150, batch_first=True)\n",
       "  )\n",
       "  (1): RNNDropout()\n",
       "), Sequential(\n",
       "  (0): WeightDropout(\n",
       "    (module): LSTM(1150, 400, batch_first=True)\n",
       "  )\n",
       "  (1): RNNDropout()\n",
       "), Sequential(\n",
       "  (0): Embedding(8000, 400, padding_idx=1)\n",
       "  (1): EmbeddingDropout(\n",
       "    (emb): Embedding(8000, 400, padding_idx=1)\n",
       "  )\n",
       "  (2): LinearDecoder(\n",
       "    (decoder): Linear(in_features=400, out_features=8000, bias=True)\n",
       "    (output_dp): RNNDropout()\n",
       "  )\n",
       ")], add_time=True)"
      ]
     },
     "execution_count": 17,
     "metadata": {},
     "output_type": "execute_result"
    }
   ],
   "source": [
    "learn.load('wikitalm_8k_447_third')"
   ]
  },
  {
   "cell_type": "code",
   "execution_count": 18,
   "metadata": {},
   "outputs": [
    {
     "data": {
      "text/html": [],
      "text/plain": [
       "<IPython.core.display.HTML object>"
      ]
     },
     "metadata": {},
     "output_type": "display_data"
    },
    {
     "name": "stdout",
     "output_type": "stream",
     "text": [
      "LR Finder is complete, type {learner_name}.recorder.plot() to see the graph.\n"
     ]
    }
   ],
   "source": [
    "learn.lr_find()"
   ]
  },
  {
   "cell_type": "code",
   "execution_count": 19,
   "metadata": {},
   "outputs": [
    {
     "data": {
      "image/png": "[encoded data removed]",
      "text/plain": [
       "<Figure size 432x288 with 1 Axes>"
      ]
     },
     "metadata": {
      "needs_background": "light"
     },
     "output_type": "display_data"
    }
   ],
   "source": [
    "learn.recorder.plot()"
   ]
  },
  {
   "cell_type": "code",
   "execution_count": 20,
   "metadata": {},
   "outputs": [],
   "source": [
    "learn.freeze()"
   ]
  },
  {
   "cell_type": "code",
   "execution_count": 21,
   "metadata": {},
   "outputs": [
    {
     "data": {
      "text/html": [
       "Total time: 00:20 <p><table border=\"1\" class=\"dataframe\">\n",
       "  <thead>\n",
       "    <tr style=\"text-align: left;\">\n",
       "      <th>epoch</th>\n",
       "      <th>train_loss</th>\n",
       "      <th>valid_loss</th>\n",
       "      <th>accuracy</th>\n",
       "      <th>time</th>\n",
       "    </tr>\n",
       "  </thead>\n",
       "  <tbody>\n",
       "    <tr>\n",
       "      <td>0</td>\n",
       "      <td>4.042740</td>\n",
       "      <td>3.715982</td>\n",
       "      <td>0.372640</td>\n",
       "      <td>00:20</td>\n",
       "    </tr>\n",
       "  </tbody>\n",
       "</table>"
      ],
      "text/plain": [
       "<IPython.core.display.HTML object>"
      ]
     },
     "metadata": {},
     "output_type": "display_data"
    }
   ],
   "source": [
    "learn.fit_one_cycle(1, 5e-2, moms=(0.8, 0.7))"
   ]
  },
  {
   "cell_type": "code",
   "execution_count": 22,
   "metadata": {},
   "outputs": [],
   "source": [
    "learn.save('fit_head', with_opt=True)"
   ]
  },
  {
   "cell_type": "code",
   "execution_count": 23,
   "metadata": {},
   "outputs": [],
   "source": [
    "learn.load('fit_head', with_opt=True);"
   ]
  },
  {
   "cell_type": "code",
   "execution_count": 24,
   "metadata": {},
   "outputs": [],
   "source": [
    "learn.unfreeze()"
   ]
  },
  {
   "cell_type": "code",
   "execution_count": 25,
   "metadata": {},
   "outputs": [
    {
     "data": {
      "text/html": [
       "\n",
       "    <div>\n",
       "        <style>\n",
       "            /* Turns off some styling */\n",
       "            progress {\n",
       "                /* gets rid of default border in Firefox and Opera. */\n",
       "                border: none;\n",
       "                /* Needs to be in here for Safari polyfill so background images work as expected. */\n",
       "                background-size: auto;\n",
       "            }\n",
       "            .progress-bar-interrupted, .progress-bar-interrupted::-webkit-progress-bar {\n",
       "                background: #F44336;\n",
       "            }\n",
       "        </style>\n",
       "      <progress value='9' class='' max='10', style='width:300px; height:20px; vertical-align: middle;'></progress>\n",
       "      90.00% [9/10 03:52<00:25]\n",
       "    </div>\n",
       "    \n",
       "<table border=\"1\" class=\"dataframe\">\n",
       "  <thead>\n",
       "    <tr style=\"text-align: left;\">\n",
       "      <th>epoch</th>\n",
       "      <th>train_loss</th>\n",
       "      <th>valid_loss</th>\n",
       "      <th>accuracy</th>\n",
       "      <th>time</th>\n",
       "    </tr>\n",
       "  </thead>\n",
       "  <tbody>\n",
       "    <tr>\n",
       "      <td>0</td>\n",
       "      <td>3.425970</td>\n",
       "      <td>3.668674</td>\n",
       "      <td>0.378093</td>\n",
       "      <td>00:25</td>\n",
       "    </tr>\n",
       "    <tr>\n",
       "      <td>1</td>\n",
       "      <td>3.356874</td>\n",
       "      <td>3.576308</td>\n",
       "      <td>0.389238</td>\n",
       "      <td>00:25</td>\n",
       "    </tr>\n",
       "    <tr>\n",
       "      <td>2</td>\n",
       "      <td>3.250970</td>\n",
       "      <td>3.510751</td>\n",
       "      <td>0.397608</td>\n",
       "      <td>00:25</td>\n",
       "    </tr>\n",
       "    <tr>\n",
       "      <td>3</td>\n",
       "      <td>3.123372</td>\n",
       "      <td>3.472193</td>\n",
       "      <td>0.404273</td>\n",
       "      <td>00:25</td>\n",
       "    </tr>\n",
       "    <tr>\n",
       "      <td>4</td>\n",
       "      <td>2.983011</td>\n",
       "      <td>3.459617</td>\n",
       "      <td>0.408498</td>\n",
       "      <td>00:25</td>\n",
       "    </tr>\n",
       "    <tr>\n",
       "      <td>5</td>\n",
       "      <td>2.858832</td>\n",
       "      <td>3.454983</td>\n",
       "      <td>0.410427</td>\n",
       "      <td>00:25</td>\n",
       "    </tr>\n",
       "    <tr>\n",
       "      <td>6</td>\n",
       "      <td>2.749488</td>\n",
       "      <td>3.462519</td>\n",
       "      <td>0.411464</td>\n",
       "      <td>00:25</td>\n",
       "    </tr>\n",
       "    <tr>\n",
       "      <td>7</td>\n",
       "      <td>2.673619</td>\n",
       "      <td>3.468269</td>\n",
       "      <td>0.412436</td>\n",
       "      <td>00:25</td>\n",
       "    </tr>\n",
       "    <tr>\n",
       "      <td>8</td>\n",
       "      <td>2.620757</td>\n",
       "      <td>3.472952</td>\n",
       "      <td>0.412245</td>\n",
       "      <td>00:25</td>\n",
       "    </tr>\n",
       "  </tbody>\n",
       "</table><p>\n",
       "\n",
       "    <div>\n",
       "        <style>\n",
       "            /* Turns off some styling */\n",
       "            progress {\n",
       "                /* gets rid of default border in Firefox and Opera. */\n",
       "                border: none;\n",
       "                /* Needs to be in here for Safari polyfill so background images work as expected. */\n",
       "                background-size: auto;\n",
       "            }\n",
       "            .progress-bar-interrupted, .progress-bar-interrupted::-webkit-progress-bar {\n",
       "                background: #F44336;\n",
       "            }\n",
       "        </style>\n",
       "      <progress value='0' class='progress-bar-interrupted' max='56', style='width:300px; height:20px; vertical-align: middle;'></progress>\n",
       "      Interrupted\n",
       "    </div>\n",
       "    "
      ],
      "text/plain": [
       "<IPython.core.display.HTML object>"
      ]
     },
     "metadata": {},
     "output_type": "display_data"
    },
    {
     "ename": "KeyboardInterrupt",
     "evalue": "",
     "output_type": "error",
     "traceback": [
      "\u001b[0;31m---------------------------------------------------------------------------\u001b[0m",
      "\u001b[0;31mKeyboardInterrupt\u001b[0m                         Traceback (most recent call last)",
      "\u001b[0;32m<ipython-input-25-161bd06a200b>\u001b[0m in \u001b[0;36m<module>\u001b[0;34m\u001b[0m\n\u001b[0;32m----> 1\u001b[0;31m \u001b[0mlearn\u001b[0m\u001b[0;34m.\u001b[0m\u001b[0mfit_one_cycle\u001b[0m\u001b[0;34m(\u001b[0m\u001b[0;36m10\u001b[0m\u001b[0;34m,\u001b[0m \u001b[0;36m1e-3\u001b[0m\u001b[0;34m,\u001b[0m \u001b[0mmoms\u001b[0m\u001b[0;34m=\u001b[0m\u001b[0;34m(\u001b[0m\u001b[0;36m0.8\u001b[0m\u001b[0;34m,\u001b[0m\u001b[0;36m0.7\u001b[0m\u001b[0;34m)\u001b[0m\u001b[0;34m)\u001b[0m\u001b[0;34m\u001b[0m\u001b[0;34m\u001b[0m\u001b[0m\n\u001b[0m",
      "\u001b[0;32m~/.local/lib/python3.7/site-packages/fastai/train.py\u001b[0m in \u001b[0;36mfit_one_cycle\u001b[0;34m(learn, cyc_len, max_lr, moms, div_factor, pct_start, final_div, wd, callbacks, tot_epochs, start_epoch)\u001b[0m\n\u001b[1;32m     20\u001b[0m     callbacks.append(OneCycleScheduler(learn, max_lr, moms=moms, div_factor=div_factor, pct_start=pct_start,\n\u001b[1;32m     21\u001b[0m                                        final_div=final_div, tot_epochs=tot_epochs, start_epoch=start_epoch))\n\u001b[0;32m---> 22\u001b[0;31m     \u001b[0mlearn\u001b[0m\u001b[0;34m.\u001b[0m\u001b[0mfit\u001b[0m\u001b[0;34m(\u001b[0m\u001b[0mcyc_len\u001b[0m\u001b[0;34m,\u001b[0m \u001b[0mmax_lr\u001b[0m\u001b[0;34m,\u001b[0m \u001b[0mwd\u001b[0m\u001b[0;34m=\u001b[0m\u001b[0mwd\u001b[0m\u001b[0;34m,\u001b[0m \u001b[0mcallbacks\u001b[0m\u001b[0;34m=\u001b[0m\u001b[0mcallbacks\u001b[0m\u001b[0;34m)\u001b[0m\u001b[0;34m\u001b[0m\u001b[0;34m\u001b[0m\u001b[0m\n\u001b[0m\u001b[1;32m     23\u001b[0m \u001b[0;34m\u001b[0m\u001b[0m\n\u001b[1;32m     24\u001b[0m \u001b[0;32mdef\u001b[0m \u001b[0mlr_find\u001b[0m\u001b[0;34m(\u001b[0m\u001b[0mlearn\u001b[0m\u001b[0;34m:\u001b[0m\u001b[0mLearner\u001b[0m\u001b[0;34m,\u001b[0m \u001b[0mstart_lr\u001b[0m\u001b[0;34m:\u001b[0m\u001b[0mFloats\u001b[0m\u001b[0;34m=\u001b[0m\u001b[0;36m1e-7\u001b[0m\u001b[0;34m,\u001b[0m \u001b[0mend_lr\u001b[0m\u001b[0;34m:\u001b[0m\u001b[0mFloats\u001b[0m\u001b[0;34m=\u001b[0m\u001b[0;36m10\u001b[0m\u001b[0;34m,\u001b[0m \u001b[0mnum_it\u001b[0m\u001b[0;34m:\u001b[0m\u001b[0mint\u001b[0m\u001b[0;34m=\u001b[0m\u001b[0;36m100\u001b[0m\u001b[0;34m,\u001b[0m \u001b[0mstop_div\u001b[0m\u001b[0;34m:\u001b[0m\u001b[0mbool\u001b[0m\u001b[0;34m=\u001b[0m\u001b[0;32mTrue\u001b[0m\u001b[0;34m,\u001b[0m \u001b[0mwd\u001b[0m\u001b[0;34m:\u001b[0m\u001b[0mfloat\u001b[0m\u001b[0;34m=\u001b[0m\u001b[0;32mNone\u001b[0m\u001b[0;34m)\u001b[0m\u001b[0;34m:\u001b[0m\u001b[0;34m\u001b[0m\u001b[0;34m\u001b[0m\u001b[0m\n",
      "\u001b[0;32m~/.local/lib/python3.7/site-packages/fastai/basic_train.py\u001b[0m in \u001b[0;36mfit\u001b[0;34m(self, epochs, lr, wd, callbacks)\u001b[0m\n\u001b[1;32m    194\u001b[0m         \u001b[0mcallbacks\u001b[0m \u001b[0;34m=\u001b[0m \u001b[0;34m[\u001b[0m\u001b[0mcb\u001b[0m\u001b[0;34m(\u001b[0m\u001b[0mself\u001b[0m\u001b[0;34m)\u001b[0m \u001b[0;32mfor\u001b[0m \u001b[0mcb\u001b[0m \u001b[0;32min\u001b[0m \u001b[0mself\u001b[0m\u001b[0;34m.\u001b[0m\u001b[0mcallback_fns\u001b[0m\u001b[0;34m]\u001b[0m \u001b[0;34m+\u001b[0m \u001b[0mlistify\u001b[0m\u001b[0;34m(\u001b[0m\u001b[0mcallbacks\u001b[0m\u001b[0;34m)\u001b[0m\u001b[0;34m\u001b[0m\u001b[0;34m\u001b[0m\u001b[0m\n\u001b[1;32m    195\u001b[0m         \u001b[0;32mif\u001b[0m \u001b[0mdefaults\u001b[0m\u001b[0;34m.\u001b[0m\u001b[0mextra_callbacks\u001b[0m \u001b[0;32mis\u001b[0m \u001b[0;32mnot\u001b[0m \u001b[0;32mNone\u001b[0m\u001b[0;34m:\u001b[0m \u001b[0mcallbacks\u001b[0m \u001b[0;34m+=\u001b[0m \u001b[0mdefaults\u001b[0m\u001b[0;34m.\u001b[0m\u001b[0mextra_callbacks\u001b[0m\u001b[0;34m\u001b[0m\u001b[0;34m\u001b[0m\u001b[0m\n\u001b[0;32m--> 196\u001b[0;31m         \u001b[0mfit\u001b[0m\u001b[0;34m(\u001b[0m\u001b[0mepochs\u001b[0m\u001b[0;34m,\u001b[0m \u001b[0mself\u001b[0m\u001b[0;34m,\u001b[0m \u001b[0mmetrics\u001b[0m\u001b[0;34m=\u001b[0m\u001b[0mself\u001b[0m\u001b[0;34m.\u001b[0m\u001b[0mmetrics\u001b[0m\u001b[0;34m,\u001b[0m \u001b[0mcallbacks\u001b[0m\u001b[0;34m=\u001b[0m\u001b[0mself\u001b[0m\u001b[0;34m.\u001b[0m\u001b[0mcallbacks\u001b[0m\u001b[0;34m+\u001b[0m\u001b[0mcallbacks\u001b[0m\u001b[0;34m)\u001b[0m\u001b[0;34m\u001b[0m\u001b[0;34m\u001b[0m\u001b[0m\n\u001b[0m\u001b[1;32m    197\u001b[0m \u001b[0;34m\u001b[0m\u001b[0m\n\u001b[1;32m    198\u001b[0m     \u001b[0;32mdef\u001b[0m \u001b[0mcreate_opt\u001b[0m\u001b[0;34m(\u001b[0m\u001b[0mself\u001b[0m\u001b[0;34m,\u001b[0m \u001b[0mlr\u001b[0m\u001b[0;34m:\u001b[0m\u001b[0mFloats\u001b[0m\u001b[0;34m,\u001b[0m \u001b[0mwd\u001b[0m\u001b[0;34m:\u001b[0m\u001b[0mFloats\u001b[0m\u001b[0;34m=\u001b[0m\u001b[0;36m0.\u001b[0m\u001b[0;34m)\u001b[0m\u001b[0;34m->\u001b[0m\u001b[0;32mNone\u001b[0m\u001b[0;34m:\u001b[0m\u001b[0;34m\u001b[0m\u001b[0;34m\u001b[0m\u001b[0m\n",
      "\u001b[0;32m~/.local/lib/python3.7/site-packages/fastai/basic_train.py\u001b[0m in \u001b[0;36mfit\u001b[0;34m(epochs, learn, callbacks, metrics)\u001b[0m\n\u001b[1;32m     98\u001b[0m             \u001b[0;32mfor\u001b[0m \u001b[0mxb\u001b[0m\u001b[0;34m,\u001b[0m\u001b[0myb\u001b[0m \u001b[0;32min\u001b[0m \u001b[0mprogress_bar\u001b[0m\u001b[0;34m(\u001b[0m\u001b[0mlearn\u001b[0m\u001b[0;34m.\u001b[0m\u001b[0mdata\u001b[0m\u001b[0;34m.\u001b[0m\u001b[0mtrain_dl\u001b[0m\u001b[0;34m,\u001b[0m \u001b[0mparent\u001b[0m\u001b[0;34m=\u001b[0m\u001b[0mpbar\u001b[0m\u001b[0;34m)\u001b[0m\u001b[0;34m:\u001b[0m\u001b[0;34m\u001b[0m\u001b[0;34m\u001b[0m\u001b[0m\n\u001b[1;32m     99\u001b[0m                 \u001b[0mxb\u001b[0m\u001b[0;34m,\u001b[0m \u001b[0myb\u001b[0m \u001b[0;34m=\u001b[0m \u001b[0mcb_handler\u001b[0m\u001b[0;34m.\u001b[0m\u001b[0mon_batch_begin\u001b[0m\u001b[0;34m(\u001b[0m\u001b[0mxb\u001b[0m\u001b[0;34m,\u001b[0m \u001b[0myb\u001b[0m\u001b[0;34m)\u001b[0m\u001b[0;34m\u001b[0m\u001b[0;34m\u001b[0m\u001b[0m\n\u001b[0;32m--> 100\u001b[0;31m                 \u001b[0mloss\u001b[0m \u001b[0;34m=\u001b[0m \u001b[0mloss_batch\u001b[0m\u001b[0;34m(\u001b[0m\u001b[0mlearn\u001b[0m\u001b[0;34m.\u001b[0m\u001b[0mmodel\u001b[0m\u001b[0;34m,\u001b[0m \u001b[0mxb\u001b[0m\u001b[0;34m,\u001b[0m \u001b[0myb\u001b[0m\u001b[0;34m,\u001b[0m \u001b[0mlearn\u001b[0m\u001b[0;34m.\u001b[0m\u001b[0mloss_func\u001b[0m\u001b[0;34m,\u001b[0m \u001b[0mlearn\u001b[0m\u001b[0;34m.\u001b[0m\u001b[0mopt\u001b[0m\u001b[0;34m,\u001b[0m \u001b[0mcb_handler\u001b[0m\u001b[0;34m)\u001b[0m\u001b[0;34m\u001b[0m\u001b[0;34m\u001b[0m\u001b[0m\n\u001b[0m\u001b[1;32m    101\u001b[0m                 \u001b[0;32mif\u001b[0m \u001b[0mcb_handler\u001b[0m\u001b[0;34m.\u001b[0m\u001b[0mon_batch_end\u001b[0m\u001b[0;34m(\u001b[0m\u001b[0mloss\u001b[0m\u001b[0;34m)\u001b[0m\u001b[0;34m:\u001b[0m \u001b[0;32mbreak\u001b[0m\u001b[0;34m\u001b[0m\u001b[0;34m\u001b[0m\u001b[0m\n\u001b[1;32m    102\u001b[0m \u001b[0;34m\u001b[0m\u001b[0m\n",
      "\u001b[0;32m~/.local/lib/python3.7/site-packages/fastai/basic_train.py\u001b[0m in \u001b[0;36mloss_batch\u001b[0;34m(model, xb, yb, loss_func, opt, cb_handler)\u001b[0m\n\u001b[1;32m     32\u001b[0m         \u001b[0mloss\u001b[0m\u001b[0;34m,\u001b[0m\u001b[0mskip_bwd\u001b[0m \u001b[0;34m=\u001b[0m \u001b[0mcb_handler\u001b[0m\u001b[0;34m.\u001b[0m\u001b[0mon_backward_begin\u001b[0m\u001b[0;34m(\u001b[0m\u001b[0mloss\u001b[0m\u001b[0;34m)\u001b[0m\u001b[0;34m\u001b[0m\u001b[0;34m\u001b[0m\u001b[0m\n\u001b[1;32m     33\u001b[0m         \u001b[0;32mif\u001b[0m \u001b[0;32mnot\u001b[0m \u001b[0mskip_bwd\u001b[0m\u001b[0;34m:\u001b[0m                     \u001b[0mloss\u001b[0m\u001b[0;34m.\u001b[0m\u001b[0mbackward\u001b[0m\u001b[0;34m(\u001b[0m\u001b[0;34m)\u001b[0m\u001b[0;34m\u001b[0m\u001b[0;34m\u001b[0m\u001b[0m\n\u001b[0;32m---> 34\u001b[0;31m         \u001b[0;32mif\u001b[0m \u001b[0;32mnot\u001b[0m \u001b[0mcb_handler\u001b[0m\u001b[0;34m.\u001b[0m\u001b[0mon_backward_end\u001b[0m\u001b[0;34m(\u001b[0m\u001b[0;34m)\u001b[0m\u001b[0;34m:\u001b[0m \u001b[0mopt\u001b[0m\u001b[0;34m.\u001b[0m\u001b[0mstep\u001b[0m\u001b[0;34m(\u001b[0m\u001b[0;34m)\u001b[0m\u001b[0;34m\u001b[0m\u001b[0;34m\u001b[0m\u001b[0m\n\u001b[0m\u001b[1;32m     35\u001b[0m         \u001b[0;32mif\u001b[0m \u001b[0;32mnot\u001b[0m \u001b[0mcb_handler\u001b[0m\u001b[0;34m.\u001b[0m\u001b[0mon_step_end\u001b[0m\u001b[0;34m(\u001b[0m\u001b[0;34m)\u001b[0m\u001b[0;34m:\u001b[0m     \u001b[0mopt\u001b[0m\u001b[0;34m.\u001b[0m\u001b[0mzero_grad\u001b[0m\u001b[0;34m(\u001b[0m\u001b[0;34m)\u001b[0m\u001b[0;34m\u001b[0m\u001b[0;34m\u001b[0m\u001b[0m\n\u001b[1;32m     36\u001b[0m \u001b[0;34m\u001b[0m\u001b[0m\n",
      "\u001b[0;32m~/.local/lib/python3.7/site-packages/fastai/callback.py\u001b[0m in \u001b[0;36mstep\u001b[0;34m(self)\u001b[0m\n\u001b[1;32m     50\u001b[0m         \u001b[0;32mif\u001b[0m \u001b[0mself\u001b[0m\u001b[0;34m.\u001b[0m\u001b[0mtrue_wd\u001b[0m\u001b[0;34m:\u001b[0m\u001b[0;34m\u001b[0m\u001b[0;34m\u001b[0m\u001b[0m\n\u001b[1;32m     51\u001b[0m             \u001b[0;32mfor\u001b[0m \u001b[0mlr\u001b[0m\u001b[0;34m,\u001b[0m\u001b[0mwd\u001b[0m\u001b[0;34m,\u001b[0m\u001b[0mpg1\u001b[0m\u001b[0;34m,\u001b[0m\u001b[0mpg2\u001b[0m \u001b[0;32min\u001b[0m \u001b[0mzip\u001b[0m\u001b[0;34m(\u001b[0m\u001b[0mself\u001b[0m\u001b[0;34m.\u001b[0m\u001b[0m_lr\u001b[0m\u001b[0;34m,\u001b[0m\u001b[0mself\u001b[0m\u001b[0;34m.\u001b[0m\u001b[0m_wd\u001b[0m\u001b[0;34m,\u001b[0m\u001b[0mself\u001b[0m\u001b[0;34m.\u001b[0m\u001b[0mopt\u001b[0m\u001b[0;34m.\u001b[0m\u001b[0mparam_groups\u001b[0m\u001b[0;34m[\u001b[0m\u001b[0;34m:\u001b[0m\u001b[0;34m:\u001b[0m\u001b[0;36m2\u001b[0m\u001b[0;34m]\u001b[0m\u001b[0;34m,\u001b[0m\u001b[0mself\u001b[0m\u001b[0;34m.\u001b[0m\u001b[0mopt\u001b[0m\u001b[0;34m.\u001b[0m\u001b[0mparam_groups\u001b[0m\u001b[0;34m[\u001b[0m\u001b[0;36m1\u001b[0m\u001b[0;34m:\u001b[0m\u001b[0;34m:\u001b[0m\u001b[0;36m2\u001b[0m\u001b[0;34m]\u001b[0m\u001b[0;34m)\u001b[0m\u001b[0;34m:\u001b[0m\u001b[0;34m\u001b[0m\u001b[0;34m\u001b[0m\u001b[0m\n\u001b[0;32m---> 52\u001b[0;31m                 \u001b[0;32mfor\u001b[0m \u001b[0mp\u001b[0m \u001b[0;32min\u001b[0m \u001b[0mpg1\u001b[0m\u001b[0;34m[\u001b[0m\u001b[0;34m'params'\u001b[0m\u001b[0;34m]\u001b[0m\u001b[0;34m:\u001b[0m \u001b[0mp\u001b[0m\u001b[0;34m.\u001b[0m\u001b[0mdata\u001b[0m\u001b[0;34m.\u001b[0m\u001b[0mmul_\u001b[0m\u001b[0;34m(\u001b[0m\u001b[0;36m1\u001b[0m \u001b[0;34m-\u001b[0m \u001b[0mwd\u001b[0m\u001b[0;34m*\u001b[0m\u001b[0mlr\u001b[0m\u001b[0;34m)\u001b[0m\u001b[0;34m\u001b[0m\u001b[0;34m\u001b[0m\u001b[0m\n\u001b[0m\u001b[1;32m     53\u001b[0m                 \u001b[0;32mif\u001b[0m \u001b[0mself\u001b[0m\u001b[0;34m.\u001b[0m\u001b[0mbn_wd\u001b[0m\u001b[0;34m:\u001b[0m\u001b[0;34m\u001b[0m\u001b[0;34m\u001b[0m\u001b[0m\n\u001b[1;32m     54\u001b[0m                     \u001b[0;32mfor\u001b[0m \u001b[0mp\u001b[0m \u001b[0;32min\u001b[0m \u001b[0mpg2\u001b[0m\u001b[0;34m[\u001b[0m\u001b[0;34m'params'\u001b[0m\u001b[0;34m]\u001b[0m\u001b[0;34m:\u001b[0m \u001b[0mp\u001b[0m\u001b[0;34m.\u001b[0m\u001b[0mdata\u001b[0m\u001b[0;34m.\u001b[0m\u001b[0mmul_\u001b[0m\u001b[0;34m(\u001b[0m\u001b[0;36m1\u001b[0m \u001b[0;34m-\u001b[0m \u001b[0mwd\u001b[0m\u001b[0;34m*\u001b[0m\u001b[0mlr\u001b[0m\u001b[0;34m)\u001b[0m\u001b[0;34m\u001b[0m\u001b[0;34m\u001b[0m\u001b[0m\n",
      "\u001b[0;31mKeyboardInterrupt\u001b[0m: "
     ]
    }
   ],
   "source": [
    "learn.fit_one_cycle(10, 1e-3, moms=(0.8,0.7))"
   ]
  },
  {
   "cell_type": "code",
   "execution_count": 26,
   "metadata": {},
   "outputs": [],
   "source": [
    "learn.save('fine_tuned', with_opt=True)"
   ]
  },
  {
   "cell_type": "code",
   "execution_count": 27,
   "metadata": {},
   "outputs": [],
   "source": [
    "learn.load('fine_tuned', with_opt=True);"
   ]
  },
  {
   "cell_type": "code",
   "execution_count": 32,
   "metadata": {},
   "outputs": [
    {
     "data": {
      "text/plain": [
       "'▁தனது ▁சொந்த ▁ஊரில் ▁நடக்கும் ▁ஆ ட்டோ மொ பை ல் ▁கண்காட்சி யில் ▁அதிக'"
      ]
     },
     "execution_count": 32,
     "metadata": {},
     "output_type": "execute_result"
    }
   ],
   "source": [
    "learn.predict('▁தனது ▁சொந்த',n_words=10)"
   ]
  },
  {
   "cell_type": "code",
   "execution_count": 33,
   "metadata": {},
   "outputs": [],
   "source": [
    "learn.save_encoder('fine_tuned_enc')"
   ]
  },
  {
   "cell_type": "code",
   "execution_count": 34,
   "metadata": {},
   "outputs": [],
   "source": [
    "data_clas = TextClasDataBunch.from_csv(path=path, csv_name='Tamil_News_Classification_3class.csv', tokenizer=tokenizer, vocab=tamil_vocab, text_cols=[0], label_cols=label_cols)"
   ]
  },
  {
   "cell_type": "code",
   "execution_count": 35,
   "metadata": {},
   "outputs": [
    {
     "data": {
      "text/html": [
       "<table border=\"1\" class=\"dataframe\">\n",
       "  <thead>\n",
       "    <tr style=\"text-align: right;\">\n",
       "      <th>text</th>\n",
       "      <th>target</th>\n",
       "    </tr>\n",
       "  </thead>\n",
       "  <tbody>\n",
       "    <tr>\n",
       "      <td>▁ x x b os ▁நடிகர் ▁ச சி குமார் ▁மிகவும் ▁சிறந்த ▁இயக்குநர் ▁மற்றும் ▁நல்ல ▁மனிதர் . ▁அவரது ▁உறவினர் ▁அ சோ க்கு மர் ▁தற்கொலை யை ▁நினைத்த ு ▁நான் ▁மிகவும் ▁மன வே தனை ப்படுகிற ேன் . ▁அசோக ் குமார் ▁தனது ▁மனைவி , ▁பெற்றோர் ▁மற்றும் ▁குழந்தை களை ▁தவ ிக்க விட்டு விட்டு ▁தற்கொலை ▁செய்யும் ▁முடி வை ▁தவிர ் த்த ிருக்க ▁வேண்டும் . ▁ ta m il - c ine ma | ந டி கை</td>\n",
       "      <td>tamil-cinema</td>\n",
       "    </tr>\n",
       "    <tr>\n",
       "      <td>▁ x x b os ▁மி ட் கே ப் ▁பங்கு களின் ▁வர்த்தக ம் ▁நே ற்று ▁இதுவரை ▁இல்லாத ▁வகையில் ▁ஏற்ற த்தைச் ▁சந்தித்த ன . ▁நே ற்றை ய ▁தினசரி ▁வர்த்தக த்தில் ▁பே ஜ் ▁இ ண்ட ஸ்ட் ரீ ஸ் ▁( 8 . 67 % ), ▁ஜி ண்டா ல் ▁ஸ்டீ ல் ▁( 6 . 45 % ) ▁யூனியன் ▁பே ங்க் ▁( 4 . 2% ), ▁அ தானி ▁எ ண்டர் பி ரை ஸ ஸ் ▁(</td>\n",
       "      <td>business</td>\n",
       "    </tr>\n",
       "    <tr>\n",
       "      <td>▁ x x b os ▁அமைதி யாக ▁இருந்து ▁' வெ டி க்கும் ' ▁நிதி ன் ▁சத்ய ா , ▁' சொ த ப்ப ல் ' ▁பிரே ம் ஜி ▁அமர ன் , ▁' உ ல் டா ' ▁அ ஜ ய் ▁ராஜ் , ▁சர் ப் ரை ஸ் ▁இனி கோ வின் ▁வருகை , ▁க ற ார் ▁விஜய லட்சுமி ▁ஆகியோர் ▁படத்தின் ▁சு வார ஸ் ய த்துக்கு ▁உதவ ுகிறார்கள் . ▁டி . சி வா , ▁சு</td>\n",
       "      <td>tamil-cinema</td>\n",
       "    </tr>\n",
       "    <tr>\n",
       "      <td>▁ x x b os ▁அவர் ▁என்ன ▁ஜா தி . ▁அது ▁முக்கிய மே ▁இல்லை . ▁அவ்வ ளவு ▁ஏ ன் . . . ▁உயிர ுக்குப் ▁போராட ிக் ▁கொண்டிருக்கும் ▁அந்த ▁நபர் , ▁நல்ல வ ரா ▁கெ ட்ட வ ரா . . . ▁அவசிய மே ▁இல்லை . ▁பாலின மோ ▁பெயர ோ ▁ஜா தி ▁மத மோ , ▁நல்ல வர் ▁கெ ட்ட வர் ▁குண ாதி ச ய ங்கள ோ ▁அவசிய மே ▁இல்லை . ▁முதலில் ▁அவர்</td>\n",
       "      <td>spirituality</td>\n",
       "    </tr>\n",
       "    <tr>\n",
       "      <td>▁ x x b os ▁கி றி ஸ் து ம ஸ் ▁தா த்தா , ▁அவர் ▁தரும் ▁கி றி ஸ் து ம ஸ் ▁பரிசு , ▁கி றி ஸ் து ம ஸ் ▁ஸ்டார் , ▁கி றி ஸ் து ம ஸ் ▁வாழ் த்து ▁அட்டை , ▁கி றி ஸ் து ம ஸ் ▁குடி ல் , ▁கி றி ஸ் து ம ஸ் ▁கே க் ▁போலவே ▁கி றி ஸ் து ம ஸ் ▁மர மும் ▁கி றி</td>\n",
       "      <td>spirituality</td>\n",
       "    </tr>\n",
       "  </tbody>\n",
       "</table>"
      ],
      "text/plain": [
       "<IPython.core.display.HTML object>"
      ]
     },
     "metadata": {},
     "output_type": "display_data"
    }
   ],
   "source": [
    "data_clas.show_batch()"
   ]
  },
  {
   "cell_type": "code",
   "execution_count": 36,
   "metadata": {},
   "outputs": [],
   "source": [
    "data_clas.sanity_check()"
   ]
  },
  {
   "cell_type": "code",
   "execution_count": 37,
   "metadata": {},
   "outputs": [],
   "source": [
    "data_clas.save('data_clas.pkl')"
   ]
  },
  {
   "cell_type": "code",
   "execution_count": 38,
   "metadata": {},
   "outputs": [],
   "source": [
    "bs=32\n",
    "data_clas = load_data(path, 'data_clas.pkl', bs=bs)"
   ]
  },
  {
   "cell_type": "code",
   "execution_count": 39,
   "metadata": {},
   "outputs": [],
   "source": [
    "learn = text_classifier_learner(data_clas, AWD_LSTM, drop_mult=0.5)\n",
    "learn.load_encoder('fine_tuned_enc')"
   ]
  },
  {
   "cell_type": "code",
   "execution_count": 40,
   "metadata": {},
   "outputs": [],
   "source": [
    "learn.freeze()"
   ]
  },
  {
   "cell_type": "code",
   "execution_count": 41,
   "metadata": {},
   "outputs": [
    {
     "data": {
      "text/html": [],
      "text/plain": [
       "<IPython.core.display.HTML object>"
      ]
     },
     "metadata": {},
     "output_type": "display_data"
    },
    {
     "name": "stdout",
     "output_type": "stream",
     "text": [
      "LR Finder is complete, type {learner_name}.recorder.plot() to see the graph.\n"
     ]
    }
   ],
   "source": [
    "learn.lr_find()"
   ]
  },
  {
   "cell_type": "code",
   "execution_count": 42,
   "metadata": {},
   "outputs": [
    {
     "data": {
      "image/png": "[encoded data removed]",
      "text/plain": [
       "<Figure size 432x288 with 1 Axes>"
      ]
     },
     "metadata": {
      "needs_background": "light"
     },
     "output_type": "display_data"
    }
   ],
   "source": [
    "learn.recorder.plot()"
   ]
  },
  {
   "cell_type": "code",
   "execution_count": 43,
   "metadata": {},
   "outputs": [
    {
     "data": {
      "text/plain": [
       "CrossEntropyLoss()"
      ]
     },
     "execution_count": 43,
     "metadata": {},
     "output_type": "execute_result"
    }
   ],
   "source": [
    "learn.loss_func.func"
   ]
  },
  {
   "cell_type": "code",
   "execution_count": 44,
   "metadata": {},
   "outputs": [],
   "source": [
    "kappa = KappaScore()"
   ]
  },
  {
   "cell_type": "code",
   "execution_count": 45,
   "metadata": {},
   "outputs": [],
   "source": [
    "learn.metrics = [kappa, accuracy]"
   ]
  },
  {
   "cell_type": "code",
   "execution_count": 46,
   "metadata": {},
   "outputs": [
    {
     "data": {
      "text/html": [
       "Total time: 00:31 <p><table border=\"1\" class=\"dataframe\">\n",
       "  <thead>\n",
       "    <tr style=\"text-align: left;\">\n",
       "      <th>epoch</th>\n",
       "      <th>train_loss</th>\n",
       "      <th>valid_loss</th>\n",
       "      <th>kappa_score</th>\n",
       "      <th>accuracy</th>\n",
       "      <th>time</th>\n",
       "    </tr>\n",
       "  </thead>\n",
       "  <tbody>\n",
       "    <tr>\n",
       "      <td>0</td>\n",
       "      <td>0.332072</td>\n",
       "      <td>0.167326</td>\n",
       "      <td>0.917669</td>\n",
       "      <td>0.946148</td>\n",
       "      <td>00:31</td>\n",
       "    </tr>\n",
       "  </tbody>\n",
       "</table>"
      ],
      "text/plain": [
       "<IPython.core.display.HTML object>"
      ]
     },
     "metadata": {},
     "output_type": "display_data"
    }
   ],
   "source": [
    "learn.fit_one_cycle(1, 1e-2, moms=(0.8,0.7))"
   ]
  },
  {
   "cell_type": "code",
   "execution_count": 47,
   "metadata": {},
   "outputs": [],
   "source": [
    "learn.save('first-full')"
   ]
  },
  {
   "cell_type": "code",
   "execution_count": 48,
   "metadata": {},
   "outputs": [],
   "source": [
    "learn.load('first-full');"
   ]
  },
  {
   "cell_type": "code",
   "execution_count": 49,
   "metadata": {},
   "outputs": [
    {
     "data": {
      "text/html": [
       "Total time: 02:57 <p><table border=\"1\" class=\"dataframe\">\n",
       "  <thead>\n",
       "    <tr style=\"text-align: left;\">\n",
       "      <th>epoch</th>\n",
       "      <th>train_loss</th>\n",
       "      <th>valid_loss</th>\n",
       "      <th>kappa_score</th>\n",
       "      <th>accuracy</th>\n",
       "      <th>time</th>\n",
       "    </tr>\n",
       "  </thead>\n",
       "  <tbody>\n",
       "    <tr>\n",
       "      <td>0</td>\n",
       "      <td>0.289393</td>\n",
       "      <td>0.158559</td>\n",
       "      <td>0.914040</td>\n",
       "      <td>0.943904</td>\n",
       "      <td>00:36</td>\n",
       "    </tr>\n",
       "    <tr>\n",
       "      <td>1</td>\n",
       "      <td>0.236703</td>\n",
       "      <td>0.137950</td>\n",
       "      <td>0.923113</td>\n",
       "      <td>0.949888</td>\n",
       "      <td>00:34</td>\n",
       "    </tr>\n",
       "    <tr>\n",
       "      <td>2</td>\n",
       "      <td>0.197404</td>\n",
       "      <td>0.110904</td>\n",
       "      <td>0.939548</td>\n",
       "      <td>0.960359</td>\n",
       "      <td>00:35</td>\n",
       "    </tr>\n",
       "    <tr>\n",
       "      <td>3</td>\n",
       "      <td>0.129235</td>\n",
       "      <td>0.097855</td>\n",
       "      <td>0.952144</td>\n",
       "      <td>0.968586</td>\n",
       "      <td>00:34</td>\n",
       "    </tr>\n",
       "    <tr>\n",
       "      <td>4</td>\n",
       "      <td>0.095978</td>\n",
       "      <td>0.092282</td>\n",
       "      <td>0.950921</td>\n",
       "      <td>0.967838</td>\n",
       "      <td>00:36</td>\n",
       "    </tr>\n",
       "  </tbody>\n",
       "</table>"
      ],
      "text/plain": [
       "<IPython.core.display.HTML object>"
      ]
     },
     "metadata": {},
     "output_type": "display_data"
    }
   ],
   "source": [
    "learn.freeze_to(-2)\n",
    "learn.fit_one_cycle(5, slice(1e-2/(2.6**4),1e-2), moms=(0.8,0.7))"
   ]
  },
  {
   "cell_type": "code",
   "execution_count": 50,
   "metadata": {},
   "outputs": [],
   "source": [
    "learn.save('final')"
   ]
  },
  {
   "cell_type": "code",
   "execution_count": 51,
   "metadata": {},
   "outputs": [
    {
     "data": {
      "text/plain": [
       "Category spirituality"
      ]
     },
     "execution_count": 51,
     "metadata": {},
     "output_type": "execute_result"
    }
   ],
   "source": [
    "learn.predict('திருக்காஞ்சியில் ஸ்ரீ கங்கைவராக நதீஸ்வரர் ஆலயம் அமைந்துள்ளது.')[0]"
   ]
  },
  {
   "cell_type": "code",
   "execution_count": 52,
   "metadata": {},
   "outputs": [
    {
     "data": {
      "text/plain": [
       "Category spirituality"
      ]
     },
     "execution_count": 52,
     "metadata": {},
     "output_type": "execute_result"
    }
   ],
   "source": [
    "learn.predict('கீழ்த்திசை ஞானியர் குழந்தை இயேசுவைக் கண்டு வணங்கிய நிகழ்வை')[0]"
   ]
  },
  {
   "cell_type": "code",
   "execution_count": 53,
   "metadata": {},
   "outputs": [
    {
     "data": {
      "text/plain": [
       "Category spirituality"
      ]
     },
     "execution_count": 53,
     "metadata": {},
     "output_type": "execute_result"
    }
   ],
   "source": [
    "learn.predict(\"தர்காவுக்கு அருகிலேயே ஒரு பள்ளிவாசல் இருக்கிறது. உள்ளூர் மக்களும், தர்காவுக்கு வரும் வெளியூர் அன்பர்களும் அங்கு தொழுகிறார்கள்.\")[0]"
   ]
  },
  {
   "cell_type": "code",
   "execution_count": 54,
   "metadata": {},
   "outputs": [
    {
     "data": {
      "text/plain": [
       "Category tamil-cinema"
      ]
     },
     "execution_count": 54,
     "metadata": {},
     "output_type": "execute_result"
    }
   ],
   "source": [
    "learn.predict('இப்படத்தில் இன்னொரு நாயகனாக நாகார்ஜூனா நடிக்கவிருக்கிறார் என்றவுடன் உடனே இப்படத்தை ஒப்புக் கொண்டேன். அவருடைய பெரிய ரசிகன் நான்')[0]"
   ]
  },
  {
   "cell_type": "code",
   "execution_count": 55,
   "metadata": {},
   "outputs": [
    {
     "data": {
      "text/plain": [
       "Category tamil-cinema"
      ]
     },
     "execution_count": 55,
     "metadata": {},
     "output_type": "execute_result"
    }
   ],
   "source": [
    "learn.predict('ஒரு தொலைக்காட்சியில் ஒரு நடிகை தன்னுடைய நாடகங்களில் நடிக்கிறார் என்றால், மற்ற தொலைக்காட்சியில் நடிக்கக் கூடாது, ஷோவிற்கு போகக் கூடாது என்று கையெழுத்து வாங்கிக் கொள்கிறார்கள்.')[0]"
   ]
  },
  {
   "cell_type": "code",
   "execution_count": 57,
   "metadata": {},
   "outputs": [
    {
     "data": {
      "text/plain": [
       "Category tamil-cinema"
      ]
     },
     "execution_count": 57,
     "metadata": {},
     "output_type": "execute_result"
    }
   ],
   "source": [
    "learn.predict('இயக்குநர் ஷங்கர் - ரஜினிகாந்த் இணையின் 2.0 படத்தின் படப்பிடிப்பு மும்முரமாக நடைபெற்றுவருகிறது.')[0]"
   ]
  },
  {
   "cell_type": "code",
   "execution_count": 58,
   "metadata": {},
   "outputs": [
    {
     "data": {
      "text/plain": [
       "Category business"
      ]
     },
     "execution_count": 58,
     "metadata": {},
     "output_type": "execute_result"
    }
   ],
   "source": [
    "learn.predict('அருகில் இருங்காட்டுக் கோட்டையில் செயல்படும் ஹூண்டாய் நிறுவனம் இது போன்ற ஹீட் அலவன்ஸை பணியாளர்களுக்கு அளிக்கிறது. ஊழியர்கள் விடுத்த கோரிக்கையை ரெனால்ட் நிசான் நிர்வாகம் பரிசீலித்து வருவதாகத் தெரிகிறது.')[0]"
   ]
  },
  {
   "cell_type": "code",
   "execution_count": 59,
   "metadata": {},
   "outputs": [
    {
     "data": {
      "text/plain": [
       "Category business"
      ]
     },
     "execution_count": 59,
     "metadata": {},
     "output_type": "execute_result"
    }
   ],
   "source": [
    "learn.predict('சர்வதேச சந்தையில் கச்சா எண்ணெய் விலை அதிகரித்து வருவதால் முதலீட்டாளர்கள் கவனம் அதன் பக்கம் திரும்பியுள்ளது.')[0]"
   ]
  },
  {
   "cell_type": "code",
   "execution_count": 60,
   "metadata": {},
   "outputs": [
    {
     "data": {
      "text/plain": [
       "Category business"
      ]
     },
     "execution_count": 60,
     "metadata": {},
     "output_type": "execute_result"
    }
   ],
   "source": [
    "learn.predict('மேடிசன் ஸ்போர்ட்ஸ் குழுமத்தின் இயக்குநர் பொறுப்பில் இருந்தவர். இன்ச்கேப் நிறுவனத்தின் பொறுப்புகள் அல்லாத இயக்குநர் பொறுப்பில் இருந்தவர்.')[0]"
   ]
  },
  {
   "cell_type": "code",
   "execution_count": null,
   "metadata": {},
   "outputs": [],
   "source": []
  }
 ],
 "metadata": {
  "kernelspec": {
   "display_name": "Python 3",
   "language": "python",
   "name": "python3"
  },
  "language_info": {
   "codemirror_mode": {
    "name": "ipython",
    "version": 3
   },
   "file_extension": ".py",
   "mimetype": "text/x-python",
   "name": "python",
   "nbconvert_exporter": "python",
   "pygments_lexer": "ipython3",
   "version": "3.7.1"
  }
 },
 "nbformat": 4,
 "nbformat_minor": 2
}
