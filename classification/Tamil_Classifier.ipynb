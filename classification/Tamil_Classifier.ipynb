{
 "cells": [
  {
   "cell_type": "code",
   "execution_count": 1,
   "metadata": {},
   "outputs": [],
   "source": [
    "from fastai.text import *\n",
    "import numpy as np\n",
    "import pandas as pd\n",
    "from sklearn.model_selection import train_test_split\n",
    "import pickle\n",
    "import sentencepiece as spm\n",
    "import re\n",
    "import pdb"
   ]
  },
  {
   "cell_type": "code",
   "execution_count": 2,
   "metadata": {},
   "outputs": [
    {
     "data": {
      "text/plain": [
       "('1.0.57', '1.0.0')"
      ]
     },
     "execution_count": 2,
     "metadata": {},
     "output_type": "execute_result"
    }
   ],
   "source": [
    "import fastai, torch\n",
    "fastai.__version__ , torch.__version__"
   ]
  },
  {
   "cell_type": "code",
   "execution_count": 3,
   "metadata": {},
   "outputs": [],
   "source": [
    "torch.cuda.set_device(0)"
   ]
  },
  {
   "cell_type": "code",
   "execution_count": 4,
   "metadata": {},
   "outputs": [],
   "source": [
    "def random_seed(seed_value, use_cuda):\n",
    "    np.random.seed(seed_value)  \n",
    "    torch.manual_seed(seed_value)  \n",
    "    random.seed(seed_value)\n",
    "    if use_cuda:\n",
    "        torch.cuda.manual_seed(seed_value)\n",
    "        torch.cuda.manual_seed_all(seed_value)  \n",
    "        torch.backends.cudnn.deterministic = True\n",
    "        torch.backends.cudnn.benchmark = False"
   ]
  },
  {
   "cell_type": "code",
   "execution_count": 5,
   "metadata": {},
   "outputs": [],
   "source": [
    "random_seed(42, True)"
   ]
  },
  {
   "cell_type": "code",
   "execution_count": 6,
   "metadata": {},
   "outputs": [],
   "source": [
    "path = Path('./')"
   ]
  },
  {
   "cell_type": "code",
   "execution_count": 7,
   "metadata": {},
   "outputs": [
    {
     "name": "stdout",
     "output_type": "stream",
     "text": [
      "/data/home/ubuntu/gaurav/in/nlp-for-tamil/classification\r\n"
     ]
    }
   ],
   "source": [
    "!pwd"
   ]
  },
  {
   "cell_type": "code",
   "execution_count": 8,
   "metadata": {},
   "outputs": [
    {
     "data": {
      "text/html": [
       "<div>\n",
       "<style scoped>\n",
       "    .dataframe tbody tr th:only-of-type {\n",
       "        vertical-align: middle;\n",
       "    }\n",
       "\n",
       "    .dataframe tbody tr th {\n",
       "        vertical-align: top;\n",
       "    }\n",
       "\n",
       "    .dataframe thead th {\n",
       "        text-align: right;\n",
       "    }\n",
       "</style>\n",
       "<table border=\"1\" class=\"dataframe\">\n",
       "  <thead>\n",
       "    <tr style=\"text-align: right;\">\n",
       "      <th></th>\n",
       "      <th>0</th>\n",
       "      <th>1</th>\n",
       "    </tr>\n",
       "  </thead>\n",
       "  <tbody>\n",
       "    <tr>\n",
       "      <th>0</th>\n",
       "      <td>tamil-cinema</td>\n",
       "      <td>கே.வி.ஆனந்தே ட்விட்டரில் இதை அறிவித்துள்ளார். ...</td>\n",
       "    </tr>\n",
       "    <tr>\n",
       "      <th>1</th>\n",
       "      <td>spirituality</td>\n",
       "      <td>பரிகாரம்: சுக்கிரன், கேதுவுக்குப் பிரீதி, பரிக...</td>\n",
       "    </tr>\n",
       "    <tr>\n",
       "      <th>2</th>\n",
       "      <td>business</td>\n",
       "      <td>8 லட்சம் கார்களை திரும்பப் பெற்றது ஹோண்டா நிறு...</td>\n",
       "    </tr>\n",
       "    <tr>\n",
       "      <th>3</th>\n",
       "      <td>business</td>\n",
       "      <td>2003-ம் ஆண்டு அக்டோபர் மாதத்திலிருந்து 2013-ம்...</td>\n",
       "    </tr>\n",
       "    <tr>\n",
       "      <th>4</th>\n",
       "      <td>spirituality</td>\n",
       "      <td>தொழில் வியாபாரத்தில் பணத்தேவை ஏற்படலாம். கடன் ...</td>\n",
       "    </tr>\n",
       "  </tbody>\n",
       "</table>\n",
       "</div>"
      ],
      "text/plain": [
       "              0                                                  1\n",
       "0  tamil-cinema  கே.வி.ஆனந்தே ட்விட்டரில் இதை அறிவித்துள்ளார். ...\n",
       "1  spirituality  பரிகாரம்: சுக்கிரன், கேதுவுக்குப் பிரீதி, பரிக...\n",
       "2      business  8 லட்சம் கார்களை திரும்பப் பெற்றது ஹோண்டா நிறு...\n",
       "3      business  2003-ம் ஆண்டு அக்டோபர் மாதத்திலிருந்து 2013-ம்...\n",
       "4  spirituality  தொழில் வியாபாரத்தில் பணத்தேவை ஏற்படலாம். கடன் ..."
      ]
     },
     "execution_count": 8,
     "metadata": {},
     "output_type": "execute_result"
    }
   ],
   "source": [
    "df_train = pd.read_csv(path/'../../classification_public_datasets/inltk-headlines/ta/ta-train.csv', header=None)\n",
    "df_train.head()"
   ]
  },
  {
   "cell_type": "code",
   "execution_count": 9,
   "metadata": {},
   "outputs": [
    {
     "data": {
      "text/html": [
       "<div>\n",
       "<style scoped>\n",
       "    .dataframe tbody tr th:only-of-type {\n",
       "        vertical-align: middle;\n",
       "    }\n",
       "\n",
       "    .dataframe tbody tr th {\n",
       "        vertical-align: top;\n",
       "    }\n",
       "\n",
       "    .dataframe thead th {\n",
       "        text-align: right;\n",
       "    }\n",
       "</style>\n",
       "<table border=\"1\" class=\"dataframe\">\n",
       "  <thead>\n",
       "    <tr style=\"text-align: right;\">\n",
       "      <th></th>\n",
       "      <th>0</th>\n",
       "      <th>1</th>\n",
       "    </tr>\n",
       "  </thead>\n",
       "  <tbody>\n",
       "    <tr>\n",
       "      <th>0</th>\n",
       "      <td>tamil-cinema</td>\n",
       "      <td>'4ஜி', 'சர்வம் தாளமயம்', 'அடங்காதே' உள்ளிட்ட ப...</td>\n",
       "    </tr>\n",
       "    <tr>\n",
       "      <th>1</th>\n",
       "      <td>spirituality</td>\n",
       "      <td>பாண்டிச்சேரியில் அம்பலத்தாடையார் மடத்து வீதியி...</td>\n",
       "    </tr>\n",
       "    <tr>\n",
       "      <th>2</th>\n",
       "      <td>business</td>\n",
       "      <td>விளைபொருட்களை உரிய விலையில் சந்தைப்படுத்த 10 ம...</td>\n",
       "    </tr>\n",
       "    <tr>\n",
       "      <th>3</th>\n",
       "      <td>spirituality</td>\n",
       "      <td>’காஞ்சிபுரத்திலே ஸ்ரீசக்ரம், மாங்காட்டிலே அர்த...</td>\n",
       "    </tr>\n",
       "    <tr>\n",
       "      <th>4</th>\n",
       "      <td>spirituality</td>\n",
       "      <td>ஈசன் புளிய மரத்தருகே தோன்றியதால் புளிய மரம் தல...</td>\n",
       "    </tr>\n",
       "  </tbody>\n",
       "</table>\n",
       "</div>"
      ],
      "text/plain": [
       "              0                                                  1\n",
       "0  tamil-cinema  '4ஜி', 'சர்வம் தாளமயம்', 'அடங்காதே' உள்ளிட்ட ப...\n",
       "1  spirituality  பாண்டிச்சேரியில் அம்பலத்தாடையார் மடத்து வீதியி...\n",
       "2      business  விளைபொருட்களை உரிய விலையில் சந்தைப்படுத்த 10 ம...\n",
       "3  spirituality  ’காஞ்சிபுரத்திலே ஸ்ரீசக்ரம், மாங்காட்டிலே அர்த...\n",
       "4  spirituality  ஈசன் புளிய மரத்தருகே தோன்றியதால் புளிய மரம் தல..."
      ]
     },
     "execution_count": 9,
     "metadata": {},
     "output_type": "execute_result"
    }
   ],
   "source": [
    "df_valid = pd.read_csv(path/'../../classification_public_datasets/inltk-headlines/ta/ta-valid.csv', header=None)\n",
    "df_valid.head()"
   ]
  },
  {
   "cell_type": "code",
   "execution_count": 10,
   "metadata": {},
   "outputs": [
    {
     "data": {
      "text/html": [
       "<div>\n",
       "<style scoped>\n",
       "    .dataframe tbody tr th:only-of-type {\n",
       "        vertical-align: middle;\n",
       "    }\n",
       "\n",
       "    .dataframe tbody tr th {\n",
       "        vertical-align: top;\n",
       "    }\n",
       "\n",
       "    .dataframe thead th {\n",
       "        text-align: right;\n",
       "    }\n",
       "</style>\n",
       "<table border=\"1\" class=\"dataframe\">\n",
       "  <thead>\n",
       "    <tr style=\"text-align: right;\">\n",
       "      <th></th>\n",
       "      <th>0</th>\n",
       "      <th>1</th>\n",
       "    </tr>\n",
       "  </thead>\n",
       "  <tbody>\n",
       "    <tr>\n",
       "      <th>0</th>\n",
       "      <td>spirituality</td>\n",
       "      <td>மாலவனின் மீது மாளாத அன்பும் பக்தியும் கொண்டு ப...</td>\n",
       "    </tr>\n",
       "    <tr>\n",
       "      <th>1</th>\n",
       "      <td>tamil-cinema</td>\n",
       "      <td>நண்பன் காதலுக்கும், தன் காதலுக்கும் சேர்ந்து ப...</td>\n",
       "    </tr>\n",
       "    <tr>\n",
       "      <th>2</th>\n",
       "      <td>tamil-cinema</td>\n",
       "      <td>ஒரு திரைப்படத்தைப் பார்க்கும் பலருக்கும் பலவித...</td>\n",
       "    </tr>\n",
       "    <tr>\n",
       "      <th>3</th>\n",
       "      <td>spirituality</td>\n",
       "      <td>செவ்வாயின் சித்திரை நட்சத்திரம் 3, 4-ம் பாதம் ...</td>\n",
       "    </tr>\n",
       "    <tr>\n",
       "      <th>4</th>\n",
       "      <td>spirituality</td>\n",
       "      <td>அந்தச் சமயத்தில் தாளக் கருவிகளோடு மணியும் சேர்...</td>\n",
       "    </tr>\n",
       "  </tbody>\n",
       "</table>\n",
       "</div>"
      ],
      "text/plain": [
       "              0                                                  1\n",
       "0  spirituality  மாலவனின் மீது மாளாத அன்பும் பக்தியும் கொண்டு ப...\n",
       "1  tamil-cinema  நண்பன் காதலுக்கும், தன் காதலுக்கும் சேர்ந்து ப...\n",
       "2  tamil-cinema  ஒரு திரைப்படத்தைப் பார்க்கும் பலருக்கும் பலவித...\n",
       "3  spirituality  செவ்வாயின் சித்திரை நட்சத்திரம் 3, 4-ம் பாதம் ...\n",
       "4  spirituality  அந்தச் சமயத்தில் தாளக் கருவிகளோடு மணியும் சேர்..."
      ]
     },
     "execution_count": 10,
     "metadata": {},
     "output_type": "execute_result"
    }
   ],
   "source": [
    "df_test = pd.read_csv(path/'../../classification_public_datasets/inltk-headlines/ta/ta-test.csv', header=None)\n",
    "df_test.head()"
   ]
  },
  {
   "cell_type": "code",
   "execution_count": 11,
   "metadata": {},
   "outputs": [
    {
     "data": {
      "text/plain": [
       "((5346, 2), (669, 2), (669, 2))"
      ]
     },
     "execution_count": 11,
     "metadata": {},
     "output_type": "execute_result"
    }
   ],
   "source": [
    "df_train.shape, df_valid.shape, df_test.shape"
   ]
  },
  {
   "cell_type": "code",
   "execution_count": 12,
   "metadata": {},
   "outputs": [
    {
     "data": {
      "text/plain": [
       "((0, 2), (0, 2), (0, 2))"
      ]
     },
     "execution_count": 12,
     "metadata": {},
     "output_type": "execute_result"
    }
   ],
   "source": [
    "df_train[df_train[0].isnull()].shape, df_valid[df_valid[0].isnull()].shape, df_test[df_test[0].isnull()].shape"
   ]
  },
  {
   "cell_type": "code",
   "execution_count": 13,
   "metadata": {},
   "outputs": [],
   "source": [
    "class TamilTokenizer(BaseTokenizer):\n",
    "    def __init__(self, lang:str):\n",
    "        self.lang = lang\n",
    "        self.sp = spm.SentencePieceProcessor()\n",
    "        self.sp.Load(str('./../../models/tamil/tokenizer/tamil_spm_8k.model'))\n",
    "        \n",
    "    def tokenizer(self, t:str) -> List[str]:\n",
    "        return self.sp.EncodeAsPieces(t)"
   ]
  },
  {
   "cell_type": "code",
   "execution_count": 14,
   "metadata": {},
   "outputs": [],
   "source": [
    "sp = spm.SentencePieceProcessor()\n",
    "sp.Load(str('./../../models/tamil/tokenizer/tamil_spm_8k.model'))\n",
    "itos = [sp.IdToPiece(int(i)) for i in range(8000)]"
   ]
  },
  {
   "cell_type": "code",
   "execution_count": 15,
   "metadata": {},
   "outputs": [],
   "source": [
    "tamil_vocab = Vocab(itos)"
   ]
  },
  {
   "cell_type": "code",
   "execution_count": 16,
   "metadata": {},
   "outputs": [],
   "source": [
    "tokenizer = Tokenizer(tok_func=TamilTokenizer, lang='ta')"
   ]
  },
  {
   "cell_type": "code",
   "execution_count": 17,
   "metadata": {},
   "outputs": [],
   "source": [
    "label_cols = [0]"
   ]
  },
  {
   "cell_type": "code",
   "execution_count": 18,
   "metadata": {},
   "outputs": [
    {
     "data": {
      "text/html": [],
      "text/plain": [
       "<IPython.core.display.HTML object>"
      ]
     },
     "metadata": {},
     "output_type": "display_data"
    },
    {
     "data": {
      "text/html": [],
      "text/plain": [
       "<IPython.core.display.HTML object>"
      ]
     },
     "metadata": {},
     "output_type": "display_data"
    },
    {
     "data": {
      "text/html": [],
      "text/plain": [
       "<IPython.core.display.HTML object>"
      ]
     },
     "metadata": {},
     "output_type": "display_data"
    }
   ],
   "source": [
    "data_lm = TextLMDataBunch.from_df(path=path, train_df=df_train, valid_df=df_valid, test_df=df_test, tokenizer=tokenizer, vocab=tamil_vocab)"
   ]
  },
  {
   "cell_type": "code",
   "execution_count": 19,
   "metadata": {},
   "outputs": [
    {
     "data": {
      "text/html": [
       "<table border=\"1\" class=\"dataframe\">\n",
       "  <thead>\n",
       "    <tr style=\"text-align: right;\">\n",
       "      <th>idx</th>\n",
       "      <th>text</th>\n",
       "    </tr>\n",
       "  </thead>\n",
       "  <tbody>\n",
       "    <tr>\n",
       "      <td>0</td>\n",
       "      <td>ன்ஸ் ▁நிறுவனம் ▁தயாரிக்க ிறது . ▁ x x b os ▁பரி கார ம் : ▁சு க்கிர ன் , ▁கே து வுக்கு ப் ▁பி ரீ தி , ▁பரி கார ங்கள் ▁செய்து ▁கொள்ள வும் . ▁ x x b os ▁8 ▁லட்ச ம் ▁கார் களை ▁திரும்ப ப் ▁பெற்றது ▁ஹோ ண்டா ▁நிறுவனம் ▁ x x b os ▁2003 - ம் ▁ஆண்டு ▁அக்டோபர் ▁மாத த்திலிருந்து ▁2013 - ம் ▁ஆண்டு ▁மார்ச் ▁மாதம் ▁வரை ▁ஜெனரல் ▁டை</td>\n",
       "    </tr>\n",
       "    <tr>\n",
       "      <td>1</td>\n",
       "      <td>ார் ந்த ▁நன் றி யை ▁தெரிவித்த ுக் ▁கொள் கிற ேன் ' ' ▁என்று ▁விஜய் ▁கூறியுள்ளார் . ▁ x x b os ▁ஆதார ் ▁பதிவு ▁இயந்திர ங்களை ▁கொள் முதல் ▁செய்ய ▁வங்கி களுக்கு ▁அனுமதி ▁ x x b os ▁இந்தப் ▁படம் ▁தமிழ் , ▁தெலுங்கு ▁என்று ▁இரண்டு ▁மொழி களிலும் ▁ரி லீ ஸ ாகப் ▁போ கிறது . ▁இனி ▁நீ ங்கள் ▁தொடர்ந்து ▁ தெலுங்க ிலும் ▁கவனம் ▁செலுத்த ு வீ ர் களா ? ▁ x x</td>\n",
       "    </tr>\n",
       "    <tr>\n",
       "      <td>2</td>\n",
       "      <td>ம் ▁காட்ட ாமல் ▁அன்ப ாக ▁பேச ுவது ▁நல்ல து . ▁மகிழ்ச்சி ▁உண்டாகும் . ▁ x x b os ▁ராம் சு ர த் கு ன் வர் ▁எனும் ▁சிறு வன் . . . ▁16 ▁வயது ▁வா லி பன் ▁தன்னை ச் ▁சுற்றியுள்ள ▁எல்லா ▁விஷயங்கள ையும் ▁உள்வாங்க ிக் ▁கொண்ட ான் . ▁தான் ▁செய்யும் ▁எல்லா க் ▁கா ரிய ங்களிலும் ▁முழு து மாக த் ▁தன்னை ▁ஒ ப்படை த்தான் . ▁ x x b os ▁அனு தி</td>\n",
       "    </tr>\n",
       "    <tr>\n",
       "      <td>3</td>\n",
       "      <td>x x b os ▁குறைந்த ▁விலை ▁கார் ▁என்ற ▁பிரா ண்டி ல் ▁அறிமுக மான ▁நா னோ ▁இன்று ▁மூ டு விழா ▁காண ும் ▁நிலைக்கு த் ▁தள்ள ப்பட்டு ▁ விட்டது . ▁ x x b os ▁தொலை த் ▁தொடர்பு ▁சேவை ▁அளிக்கும் ▁நிறுவனங்கள் ▁இடை யூ றி ல்லா ▁சேவை ▁அளிக்க ▁ராணுவ த்துக்கு ▁சொந்தமான ▁இடங்களில் ▁செல் போ ன் ▁ட வர்கள் ▁அமைக்க ▁அனுமதிக்க ப்படும் ▁என்று ▁மத்திய ▁தகவல் ▁தொழில்நுட்ப த் ▁துறை ▁அமைச்சர் ▁ரவி சங்க ர் ▁பிரசாத் ▁தெரிவித்தார் .</td>\n",
       "    </tr>\n",
       "    <tr>\n",
       "      <td>4</td>\n",
       "      <td>த்தார் ▁அனைவரும் ▁விழுந்த ு ▁ந ம ஸ் கர ித்தார் கள் . ▁ x x b os ▁பு வன் ▁ஆர் . ந ல்லா ன் ▁இயக்கத்தில் ▁ டபிள்யூ டி எஃப் ▁என் டர் டெ யின் மென் ட் ▁சார்பில் ▁ரோ ஹி த் ▁ர மே ஷ் ▁மற்றும் ▁ஹரி ▁ கிருஷ்ணன் ▁ஆகியோர் ▁இணைந்து ▁தயாரிக்க ும் ▁‘ மோ ’ ▁படத்தின் ▁பு ரொ மோ ஷன் , ▁புத்த ாண்டு ▁கொண்டாட்ட ம் ▁என்று ▁பர பர ப்பாக ▁இருந்த ▁அவ ரிடம் ▁ஒரு</td>\n",
       "    </tr>\n",
       "  </tbody>\n",
       "</table>"
      ],
      "text/plain": [
       "<IPython.core.display.HTML object>"
      ]
     },
     "metadata": {},
     "output_type": "display_data"
    }
   ],
   "source": [
    "data_lm.show_batch()"
   ]
  },
  {
   "cell_type": "code",
   "execution_count": 20,
   "metadata": {},
   "outputs": [],
   "source": [
    "awd_lstm_config = awd_lstm_lm_config.copy()\n",
    "awd_lstm_config['n_hid'] = 1150\n",
    "learn = language_model_learner(data_lm, arch=AWD_LSTM, drop_mult=0.3, config=awd_lstm_config, pretrained=False)"
   ]
  },
  {
   "cell_type": "code",
   "execution_count": 21,
   "metadata": {
    "scrolled": true
   },
   "outputs": [
    {
     "data": {
      "text/plain": [
       "LanguageLearner(data=TextLMDataBunch;\n",
       "\n",
       "Train: LabelList (5346 items)\n",
       "x: LMTextList\n",
       "▁ x x b os ▁கே . வி . ஆ ன ந்தே ▁ ட் விட்ட ரில் ▁இதை ▁அறிவித்த ுள்ளார் . ▁இந்தப் ▁பட த்துக்கு ▁கே வ் மி க் ▁ஆ ரி ▁ஒளிப்பதி வு ▁செய்ய , ▁ஹா ரி ஸ் ▁ஜெய ராஜ் ▁இசை ய மை க்கிறார் . ▁பட்டு க்கோட்டை ▁பிர பா கர் ▁வசன ம் ▁எழுத , ▁கலை ▁இயக்குநராக ▁கிர ண் ▁பணியாற்ற ுகிறார் . ▁இந்தப் ▁பட த்தை ▁ லை கா ▁பு ரொ ட க் ▁ஷ ன்ஸ் ▁நிறுவனம் ▁தயாரிக்க ிறது .,▁ x x b os ▁பரி கார ம் : ▁சு க்கிர ன் , ▁கே து வுக்கு ப் ▁பி ரீ தி , ▁பரி கார ங்கள் ▁செய்து ▁கொள்ள வும் .,▁ x x b os ▁8 ▁லட்ச ம் ▁கார் களை ▁திரும்ப ப் ▁பெற்றது ▁ஹோ ண்டா ▁நிறுவனம்,▁ x x b os ▁2003 - ம் ▁ஆண்டு ▁அக்டோபர் ▁மாத த்திலிருந்து ▁2013 - ம் ▁ஆண்டு ▁மார்ச் ▁மாதம் ▁வரை ▁ஜெனரல் ▁டை ன மி க் ▁கார் ப்ப ரே ஷன் ▁நிறுவனத்தின் ▁நிர்வாக த் ▁துணை த்தலைவர் ▁பொறுப்ப ில் ▁இருந்தவர் .,▁ x x b os ▁தொழில் ▁வியாபார த்தில் ▁பண த்தே வை ▁ஏற்படலாம் . ▁கடன் ▁விவகார ங்களில் ▁கவன மாக ▁செயல்பட ுவது ▁நல்ல து . ▁உத்தி யோ க த்தில் ▁இருப்ப வர்கள் ▁ஓய்வு ▁இல்லாமல் ▁பணியாற்ற ▁வேண்டி ▁இருக்கும் . ▁இயந்திர ம் , ▁நெருப்ப ு , ▁ஆயுத த்தை ▁பயன்படுத்த ுவோர் ▁மிகவும் ▁கவன மாக ▁இருப்பது ▁அவசிய ம் .\n",
       "y: LMLabelList\n",
       ",,,,\n",
       "Path: .;\n",
       "\n",
       "Valid: LabelList (669 items)\n",
       "x: LMTextList\n",
       "▁ x x b os ▁' 4 ஜி ' , ▁' சர் வம் ▁தாள மய ம் ' , ▁' அ ட ங்கா தே ' ▁உள்ளிட்ட ▁படங்களில் ▁கவனம் ▁செலுத்தி ▁வருகிறார் ▁ஜி . வி . பிர கா ஷ் . ▁மேலும் ▁அவர் ▁நடிப்ப ில் ▁பொ ங்க லுக்கு ▁வெளி யாக வ ிருந்த ▁' பு ரூ ஸ் ▁லீ ' ▁பட மும் ▁வெளி யீட்ட ில் ▁இருந்து ▁பின்வாங்க ியுள்ளது .,▁ x x b os ▁ பாண்டி ச்சேரி யில் ▁அ ம்பல த்தா டைய ார் ▁மட த்து ▁வீதி யில் ▁உள்ள ▁அ ம்பல த்தா டைய ார் ▁மட த்த ினுள் ▁அருள் பால ிக்கும் ▁ஸ்ரீ நாக லிங்க ▁சுவாமி களின் ▁ஜீ வ ▁சமாதி க்கு ▁ரோ கி ணி ▁நட்சத்திர ம் ▁நடைபெறும் ▁நாளில் ▁சென்று ▁வணங்க ு ங்கள் . ▁ஆதரவ ற்ற ▁குழந்தைகளுக்கு ▁உதவ ு ங்கள் . ▁உ ங்களின் ▁எதிர்ப்ப ார் ப்பு கள் ▁தடை யின் றி ▁நிறை வே றும் .,▁ x x b os ▁விளை பொருட் களை ▁உரிய ▁விலை யில் ▁சந்தை ப்படுத்த ▁10 ▁மாவட்டங்களில் ▁ரூ . 36 8 ▁கோடி யில் ▁டெ ர் மி னல் ▁மார் க்கெட் டுகள் : ▁ந பார் டு ▁வங்கி ▁தலைமை ▁பொது மே ல ாளர் ▁தகவல்,▁ x x b os ▁ ’ கா ஞ்சி புர த்தி லே ▁ஸ்ரீ ச க் ரம் , ▁மா ங்கா ட்டி லே ▁அர்த்த மே ரு ▁ஸ்ரீ ச க் ரம் , ▁திரு வா னை க்கா வி லே ▁ஸ்ரீ ச க் ர ▁ ரூப மான ▁தா ட கம் . . . ▁இன்னும் ▁இது போன்ற ▁பல ▁கோயில் களில் , ▁ஆதி சங்க ர ▁பக வ த் ▁பாத ரால் ▁ஸ் தா பி க்கப்பட்டு ▁உள்ளன . ▁இவற்றின் ▁வி சே ஷ ▁காரணங்கள ் ▁என்ன ▁சுவாமி ? ▁ ’ என் று ▁காஞ்சி ▁மகா பெரிய வ ரிடம் ▁பக்த ர் ▁ஒருவர் ▁கேட்ட ார் .,▁ x x b os ▁ஈ சன் ▁புளிய ▁மர த்த ரு கே ▁தோன்றிய தால் ▁புளிய ▁மரம் ▁தல வி ரு ட் சம் ▁ஆனது . ▁புளிய ▁மர ப் ▁பொ ந்த ில் ▁நடராஜ ர் ▁ஒளி த்து ▁வைக்கப்பட்ட தால் ▁இந்த ▁ க் ஷ ே த்திர மும் ▁புளிய றை ▁என்று ▁ அழைக்கப்படுகிறது .\n",
       "y: LMLabelList\n",
       ",,,,\n",
       "Path: .;\n",
       "\n",
       "Test: LabelList (669 items)\n",
       "x: LMTextList\n",
       "▁ x x b os ▁மா ல வ னின் ▁மீது ▁மா ளா த ▁அன்பு ம் ▁பக்தி யும் ▁கொண்டு ▁பூ மாலை யோடு ▁பா மாலை யும் ▁தொடு த்து ▁மூ டி , ▁மா ல வ னுடன் ▁இரண்ட ற க ▁கலந்த வர் . ▁எனவே ▁இறைவன ை யே ▁ஆட் கொண்ட தால் ▁' ஆ ண்டா ள் ' ▁எனவும் , ▁கோ தை ▁நா ச்சி யார் ▁என்றும் ▁சூ டிக் கொடு த்த ▁நா ச்சி யார் ▁என்றும் ▁பெயர் ▁பெற்றவர் .,▁ x x b os ▁நண்பன ் ▁காதல ுக்கும் , ▁தன் ▁காதல ுக்கும் ▁சேர்ந்து ▁போராட ும் ▁ நாயக னின் ▁கதை யே ▁‘ ச க்க ▁போ டு ▁போ டு ▁ராஜா ’ .,▁ x x b os ▁ஒரு ▁திரைப்பட த்தைப் ▁பார்க்க ும் ▁பல ருக்கும் ▁பல வித மான ▁கருத்து கள் ▁எ ழ லாம் . ▁அ க்கரு த்துக் களை ▁பகிர் வ தோடு ▁இருக்க லா மே ▁தவிர , ▁தணிக்கை ▁செய்யப்பட்ட ▁ஒரு ▁படத்தின் ▁காட்சி களை ▁நீக்க ச் ▁சொல் வது ▁தவறு .,▁ x x b os ▁செவ்வ ா யின் ▁சித்திரை ▁நட்சத்திர ம் ▁3, ▁4 - ம் ▁பாத ம் ▁து லாம் ▁ரா சி யில் ▁ 02 . 09 . 20 17 ▁முதல் ▁ 05 . 10 . 20 17 ▁வரை ▁குரு ப க வான் ▁செல்வ தால் ▁குடும்பத்தில் ▁நி ம் மதி ▁உண்டாகும் . ▁புது ▁வேலை ▁அமையும் . ▁வீடு , ▁ம னை ▁வாங்க ும் ▁யோக ம் ▁உண்டாகும் .,▁ x x b os ▁அந்த ச் ▁சமயத்தில் ▁தாள க் ▁கருவி களோடு ▁மணி யும் ▁சேர்ந்து ▁எழுச்சி யூட்ட ும் ▁இசை யின் ▁ஒலி ▁மெய் சி லி ர் க்க ▁வைக்க ிறது .\n",
       "y: EmptyLabelList\n",
       ",,,,\n",
       "Path: ., model=SequentialRNN(\n",
       "  (0): AWD_LSTM(\n",
       "    (encoder): Embedding(8000, 400, padding_idx=1)\n",
       "    (encoder_dp): EmbeddingDropout(\n",
       "      (emb): Embedding(8000, 400, padding_idx=1)\n",
       "    )\n",
       "    (rnns): ModuleList(\n",
       "      (0): WeightDropout(\n",
       "        (module): LSTM(400, 1150, batch_first=True)\n",
       "      )\n",
       "      (1): WeightDropout(\n",
       "        (module): LSTM(1150, 1150, batch_first=True)\n",
       "      )\n",
       "      (2): WeightDropout(\n",
       "        (module): LSTM(1150, 400, batch_first=True)\n",
       "      )\n",
       "    )\n",
       "    (input_dp): RNNDropout()\n",
       "    (hidden_dps): ModuleList(\n",
       "      (0): RNNDropout()\n",
       "      (1): RNNDropout()\n",
       "      (2): RNNDropout()\n",
       "    )\n",
       "  )\n",
       "  (1): LinearDecoder(\n",
       "    (decoder): Linear(in_features=400, out_features=8000, bias=True)\n",
       "    (output_dp): RNNDropout()\n",
       "  )\n",
       "), opt_func=functools.partial(<class 'torch.optim.adam.Adam'>, betas=(0.9, 0.99)), loss_func=FlattenedLoss of CrossEntropyLoss(), metrics=[<function accuracy at 0x7f03eb072c80>], true_wd=True, bn_wd=True, wd=0.01, train_bn=True, path=PosixPath('.'), model_dir='models', callback_fns=[functools.partial(<class 'fastai.basic_train.Recorder'>, add_time=True, silent=False)], callbacks=[RNNTrainer\n",
       "learn: LanguageLearner(data=TextLMDataBunch;\n",
       "\n",
       "Train: LabelList (5346 items)\n",
       "x: LMTextList\n",
       "▁ x x b os ▁கே . வி . ஆ ன ந்தே ▁ ட் விட்ட ரில் ▁இதை ▁அறிவித்த ுள்ளார் . ▁இந்தப் ▁பட த்துக்கு ▁கே வ் மி க் ▁ஆ ரி ▁ஒளிப்பதி வு ▁செய்ய , ▁ஹா ரி ஸ் ▁ஜெய ராஜ் ▁இசை ய மை க்கிறார் . ▁பட்டு க்கோட்டை ▁பிர பா கர் ▁வசன ம் ▁எழுத , ▁கலை ▁இயக்குநராக ▁கிர ண் ▁பணியாற்ற ுகிறார் . ▁இந்தப் ▁பட த்தை ▁ லை கா ▁பு ரொ ட க் ▁ஷ ன்ஸ் ▁நிறுவனம் ▁தயாரிக்க ிறது .,▁ x x b os ▁பரி கார ம் : ▁சு க்கிர ன் , ▁கே து வுக்கு ப் ▁பி ரீ தி , ▁பரி கார ங்கள் ▁செய்து ▁கொள்ள வும் .,▁ x x b os ▁8 ▁லட்ச ம் ▁கார் களை ▁திரும்ப ப் ▁பெற்றது ▁ஹோ ண்டா ▁நிறுவனம்,▁ x x b os ▁2003 - ம் ▁ஆண்டு ▁அக்டோபர் ▁மாத த்திலிருந்து ▁2013 - ம் ▁ஆண்டு ▁மார்ச் ▁மாதம் ▁வரை ▁ஜெனரல் ▁டை ன மி க் ▁கார் ப்ப ரே ஷன் ▁நிறுவனத்தின் ▁நிர்வாக த் ▁துணை த்தலைவர் ▁பொறுப்ப ில் ▁இருந்தவர் .,▁ x x b os ▁தொழில் ▁வியாபார த்தில் ▁பண த்தே வை ▁ஏற்படலாம் . ▁கடன் ▁விவகார ங்களில் ▁கவன மாக ▁செயல்பட ுவது ▁நல்ல து . ▁உத்தி யோ க த்தில் ▁இருப்ப வர்கள் ▁ஓய்வு ▁இல்லாமல் ▁பணியாற்ற ▁வேண்டி ▁இருக்கும் . ▁இயந்திர ம் , ▁நெருப்ப ு , ▁ஆயுத த்தை ▁பயன்படுத்த ுவோர் ▁மிகவும் ▁கவன மாக ▁இருப்பது ▁அவசிய ம் .\n",
       "y: LMLabelList\n",
       ",,,,\n",
       "Path: .;\n",
       "\n",
       "Valid: LabelList (669 items)\n",
       "x: LMTextList\n",
       "▁ x x b os ▁' 4 ஜி ' , ▁' சர் வம் ▁தாள மய ம் ' , ▁' அ ட ங்கா தே ' ▁உள்ளிட்ட ▁படங்களில் ▁கவனம் ▁செலுத்தி ▁வருகிறார் ▁ஜி . வி . பிர கா ஷ் . ▁மேலும் ▁அவர் ▁நடிப்ப ில் ▁பொ ங்க லுக்கு ▁வெளி யாக வ ிருந்த ▁' பு ரூ ஸ் ▁லீ ' ▁பட மும் ▁வெளி யீட்ட ில் ▁இருந்து ▁பின்வாங்க ியுள்ளது .,▁ x x b os ▁ பாண்டி ச்சேரி யில் ▁அ ம்பல த்தா டைய ார் ▁மட த்து ▁வீதி யில் ▁உள்ள ▁அ ம்பல த்தா டைய ார் ▁மட த்த ினுள் ▁அருள் பால ிக்கும் ▁ஸ்ரீ நாக லிங்க ▁சுவாமி களின் ▁ஜீ வ ▁சமாதி க்கு ▁ரோ கி ணி ▁நட்சத்திர ம் ▁நடைபெறும் ▁நாளில் ▁சென்று ▁வணங்க ு ங்கள் . ▁ஆதரவ ற்ற ▁குழந்தைகளுக்கு ▁உதவ ு ங்கள் . ▁உ ங்களின் ▁எதிர்ப்ப ார் ப்பு கள் ▁தடை யின் றி ▁நிறை வே றும் .,▁ x x b os ▁விளை பொருட் களை ▁உரிய ▁விலை யில் ▁சந்தை ப்படுத்த ▁10 ▁மாவட்டங்களில் ▁ரூ . 36 8 ▁கோடி யில் ▁டெ ர் மி னல் ▁மார் க்கெட் டுகள் : ▁ந பார் டு ▁வங்கி ▁தலைமை ▁பொது மே ல ாளர் ▁தகவல்,▁ x x b os ▁ ’ கா ஞ்சி புர த்தி லே ▁ஸ்ரீ ச க் ரம் , ▁மா ங்கா ட்டி லே ▁அர்த்த மே ரு ▁ஸ்ரீ ச க் ரம் , ▁திரு வா னை க்கா வி லே ▁ஸ்ரீ ச க் ர ▁ ரூப மான ▁தா ட கம் . . . ▁இன்னும் ▁இது போன்ற ▁பல ▁கோயில் களில் , ▁ஆதி சங்க ர ▁பக வ த் ▁பாத ரால் ▁ஸ் தா பி க்கப்பட்டு ▁உள்ளன . ▁இவற்றின் ▁வி சே ஷ ▁காரணங்கள ் ▁என்ன ▁சுவாமி ? ▁ ’ என் று ▁காஞ்சி ▁மகா பெரிய வ ரிடம் ▁பக்த ர் ▁ஒருவர் ▁கேட்ட ார் .,▁ x x b os ▁ஈ சன் ▁புளிய ▁மர த்த ரு கே ▁தோன்றிய தால் ▁புளிய ▁மரம் ▁தல வி ரு ட் சம் ▁ஆனது . ▁புளிய ▁மர ப் ▁பொ ந்த ில் ▁நடராஜ ர் ▁ஒளி த்து ▁வைக்கப்பட்ட தால் ▁இந்த ▁ க் ஷ ே த்திர மும் ▁புளிய றை ▁என்று ▁ அழைக்கப்படுகிறது .\n",
       "y: LMLabelList\n",
       ",,,,\n",
       "Path: .;\n",
       "\n",
       "Test: LabelList (669 items)\n",
       "x: LMTextList\n",
       "▁ x x b os ▁மா ல வ னின் ▁மீது ▁மா ளா த ▁அன்பு ம் ▁பக்தி யும் ▁கொண்டு ▁பூ மாலை யோடு ▁பா மாலை யும் ▁தொடு த்து ▁மூ டி , ▁மா ல வ னுடன் ▁இரண்ட ற க ▁கலந்த வர் . ▁எனவே ▁இறைவன ை யே ▁ஆட் கொண்ட தால் ▁' ஆ ண்டா ள் ' ▁எனவும் , ▁கோ தை ▁நா ச்சி யார் ▁என்றும் ▁சூ டிக் கொடு த்த ▁நா ச்சி யார் ▁என்றும் ▁பெயர் ▁பெற்றவர் .,▁ x x b os ▁நண்பன ் ▁காதல ுக்கும் , ▁தன் ▁காதல ுக்கும் ▁சேர்ந்து ▁போராட ும் ▁ நாயக னின் ▁கதை யே ▁‘ ச க்க ▁போ டு ▁போ டு ▁ராஜா ’ .,▁ x x b os ▁ஒரு ▁திரைப்பட த்தைப் ▁பார்க்க ும் ▁பல ருக்கும் ▁பல வித மான ▁கருத்து கள் ▁எ ழ லாம் . ▁அ க்கரு த்துக் களை ▁பகிர் வ தோடு ▁இருக்க லா மே ▁தவிர , ▁தணிக்கை ▁செய்யப்பட்ட ▁ஒரு ▁படத்தின் ▁காட்சி களை ▁நீக்க ச் ▁சொல் வது ▁தவறு .,▁ x x b os ▁செவ்வ ா யின் ▁சித்திரை ▁நட்சத்திர ம் ▁3, ▁4 - ம் ▁பாத ம் ▁து லாம் ▁ரா சி யில் ▁ 02 . 09 . 20 17 ▁முதல் ▁ 05 . 10 . 20 17 ▁வரை ▁குரு ப க வான் ▁செல்வ தால் ▁குடும்பத்தில் ▁நி ம் மதி ▁உண்டாகும் . ▁புது ▁வேலை ▁அமையும் . ▁வீடு , ▁ம னை ▁வாங்க ும் ▁யோக ம் ▁உண்டாகும் .,▁ x x b os ▁அந்த ச் ▁சமயத்தில் ▁தாள க் ▁கருவி களோடு ▁மணி யும் ▁சேர்ந்து ▁எழுச்சி யூட்ட ும் ▁இசை யின் ▁ஒலி ▁மெய் சி லி ர் க்க ▁வைக்க ிறது .\n",
       "y: EmptyLabelList\n",
       ",,,,\n",
       "Path: ., model=SequentialRNN(\n",
       "  (0): AWD_LSTM(\n",
       "    (encoder): Embedding(8000, 400, padding_idx=1)\n",
       "    (encoder_dp): EmbeddingDropout(\n",
       "      (emb): Embedding(8000, 400, padding_idx=1)\n",
       "    )\n",
       "    (rnns): ModuleList(\n",
       "      (0): WeightDropout(\n",
       "        (module): LSTM(400, 1150, batch_first=True)\n",
       "      )\n",
       "      (1): WeightDropout(\n",
       "        (module): LSTM(1150, 1150, batch_first=True)\n",
       "      )\n",
       "      (2): WeightDropout(\n",
       "        (module): LSTM(1150, 400, batch_first=True)\n",
       "      )\n",
       "    )\n",
       "    (input_dp): RNNDropout()\n",
       "    (hidden_dps): ModuleList(\n",
       "      (0): RNNDropout()\n",
       "      (1): RNNDropout()\n",
       "      (2): RNNDropout()\n",
       "    )\n",
       "  )\n",
       "  (1): LinearDecoder(\n",
       "    (decoder): Linear(in_features=400, out_features=8000, bias=True)\n",
       "    (output_dp): RNNDropout()\n",
       "  )\n",
       "), opt_func=functools.partial(<class 'torch.optim.adam.Adam'>, betas=(0.9, 0.99)), loss_func=FlattenedLoss of CrossEntropyLoss(), metrics=[<function accuracy at 0x7f03eb072c80>], true_wd=True, bn_wd=True, wd=0.01, train_bn=True, path=PosixPath('.'), model_dir='models', callback_fns=[functools.partial(<class 'fastai.basic_train.Recorder'>, add_time=True, silent=False)], callbacks=[...], layer_groups=[Sequential(\n",
       "  (0): WeightDropout(\n",
       "    (module): LSTM(400, 1150, batch_first=True)\n",
       "  )\n",
       "  (1): RNNDropout()\n",
       "), Sequential(\n",
       "  (0): WeightDropout(\n",
       "    (module): LSTM(1150, 1150, batch_first=True)\n",
       "  )\n",
       "  (1): RNNDropout()\n",
       "), Sequential(\n",
       "  (0): WeightDropout(\n",
       "    (module): LSTM(1150, 400, batch_first=True)\n",
       "  )\n",
       "  (1): RNNDropout()\n",
       "), Sequential(\n",
       "  (0): Embedding(8000, 400, padding_idx=1)\n",
       "  (1): EmbeddingDropout(\n",
       "    (emb): Embedding(8000, 400, padding_idx=1)\n",
       "  )\n",
       "  (2): LinearDecoder(\n",
       "    (decoder): Linear(in_features=400, out_features=8000, bias=True)\n",
       "    (output_dp): RNNDropout()\n",
       "  )\n",
       ")], add_time=True, silent=False, cb_fns_registered=False)\n",
       "alpha: 2.0\n",
       "beta: 1.0], layer_groups=[Sequential(\n",
       "  (0): WeightDropout(\n",
       "    (module): LSTM(400, 1150, batch_first=True)\n",
       "  )\n",
       "  (1): RNNDropout()\n",
       "), Sequential(\n",
       "  (0): WeightDropout(\n",
       "    (module): LSTM(1150, 1150, batch_first=True)\n",
       "  )\n",
       "  (1): RNNDropout()\n",
       "), Sequential(\n",
       "  (0): WeightDropout(\n",
       "    (module): LSTM(1150, 400, batch_first=True)\n",
       "  )\n",
       "  (1): RNNDropout()\n",
       "), Sequential(\n",
       "  (0): Embedding(8000, 400, padding_idx=1)\n",
       "  (1): EmbeddingDropout(\n",
       "    (emb): Embedding(8000, 400, padding_idx=1)\n",
       "  )\n",
       "  (2): LinearDecoder(\n",
       "    (decoder): Linear(in_features=400, out_features=8000, bias=True)\n",
       "    (output_dp): RNNDropout()\n",
       "  )\n",
       ")], add_time=True, silent=False, cb_fns_registered=False)"
      ]
     },
     "execution_count": 21,
     "metadata": {},
     "output_type": "execute_result"
    }
   ],
   "source": [
    "learn.load('../../../models/tamil/lm/wikitalm_8k_447_third')"
   ]
  },
  {
   "cell_type": "code",
   "execution_count": 22,
   "metadata": {},
   "outputs": [],
   "source": [
    "learn.freeze()"
   ]
  },
  {
   "cell_type": "code",
   "execution_count": 23,
   "metadata": {},
   "outputs": [
    {
     "data": {
      "text/html": [
       "<table border=\"1\" class=\"dataframe\">\n",
       "  <thead>\n",
       "    <tr style=\"text-align: left;\">\n",
       "      <th>epoch</th>\n",
       "      <th>train_loss</th>\n",
       "      <th>valid_loss</th>\n",
       "      <th>accuracy</th>\n",
       "      <th>time</th>\n",
       "    </tr>\n",
       "  </thead>\n",
       "  <tbody>\n",
       "    <tr>\n",
       "      <td>0</td>\n",
       "      <td>4.135746</td>\n",
       "      <td>3.873413</td>\n",
       "      <td>0.349617</td>\n",
       "      <td>00:04</td>\n",
       "    </tr>\n",
       "  </tbody>\n",
       "</table>"
      ],
      "text/plain": [
       "<IPython.core.display.HTML object>"
      ]
     },
     "metadata": {},
     "output_type": "display_data"
    }
   ],
   "source": [
    "learn.fit_one_cycle(1, 1e-2)"
   ]
  },
  {
   "cell_type": "code",
   "execution_count": 24,
   "metadata": {},
   "outputs": [],
   "source": [
    "learn.unfreeze()"
   ]
  },
  {
   "cell_type": "code",
   "execution_count": 25,
   "metadata": {},
   "outputs": [
    {
     "data": {
      "text/html": [
       "<table border=\"1\" class=\"dataframe\">\n",
       "  <thead>\n",
       "    <tr style=\"text-align: left;\">\n",
       "      <th>epoch</th>\n",
       "      <th>train_loss</th>\n",
       "      <th>valid_loss</th>\n",
       "      <th>accuracy</th>\n",
       "      <th>time</th>\n",
       "    </tr>\n",
       "  </thead>\n",
       "  <tbody>\n",
       "    <tr>\n",
       "      <td>0</td>\n",
       "      <td>3.787318</td>\n",
       "      <td>3.718931</td>\n",
       "      <td>0.366327</td>\n",
       "      <td>00:05</td>\n",
       "    </tr>\n",
       "    <tr>\n",
       "      <td>1</td>\n",
       "      <td>3.626427</td>\n",
       "      <td>3.568200</td>\n",
       "      <td>0.383865</td>\n",
       "      <td>00:05</td>\n",
       "    </tr>\n",
       "    <tr>\n",
       "      <td>2</td>\n",
       "      <td>3.444955</td>\n",
       "      <td>3.501889</td>\n",
       "      <td>0.393208</td>\n",
       "      <td>00:05</td>\n",
       "    </tr>\n",
       "    <tr>\n",
       "      <td>3</td>\n",
       "      <td>3.307620</td>\n",
       "      <td>3.482186</td>\n",
       "      <td>0.396333</td>\n",
       "      <td>00:05</td>\n",
       "    </tr>\n",
       "    <tr>\n",
       "      <td>4</td>\n",
       "      <td>3.224816</td>\n",
       "      <td>3.479567</td>\n",
       "      <td>0.397034</td>\n",
       "      <td>00:05</td>\n",
       "    </tr>\n",
       "  </tbody>\n",
       "</table>"
      ],
      "text/plain": [
       "<IPython.core.display.HTML object>"
      ]
     },
     "metadata": {},
     "output_type": "display_data"
    }
   ],
   "source": [
    "learn.fit_one_cycle(5, 1e-3)"
   ]
  },
  {
   "cell_type": "code",
   "execution_count": 26,
   "metadata": {},
   "outputs": [
    {
     "data": {
      "text/plain": [
       "'▁தனது ▁சொந்த ▁ஊரில் ▁முனை ப்போ டு ▁ஆர் யு பு க்கு ▁‘ கு'"
      ]
     },
     "execution_count": 26,
     "metadata": {},
     "output_type": "execute_result"
    }
   ],
   "source": [
    "learn.predict('▁தனது ▁சொந்த',n_words=10)"
   ]
  },
  {
   "cell_type": "code",
   "execution_count": 27,
   "metadata": {},
   "outputs": [],
   "source": [
    "learn.save_encoder('fine_tuned_enc')"
   ]
  },
  {
   "cell_type": "code",
   "execution_count": 28,
   "metadata": {},
   "outputs": [
    {
     "data": {
      "text/html": [],
      "text/plain": [
       "<IPython.core.display.HTML object>"
      ]
     },
     "metadata": {},
     "output_type": "display_data"
    },
    {
     "data": {
      "text/html": [],
      "text/plain": [
       "<IPython.core.display.HTML object>"
      ]
     },
     "metadata": {},
     "output_type": "display_data"
    },
    {
     "data": {
      "text/html": [],
      "text/plain": [
       "<IPython.core.display.HTML object>"
      ]
     },
     "metadata": {},
     "output_type": "display_data"
    }
   ],
   "source": [
    "data_clas = TextClasDataBunch.from_df(path=path, train_df=df_train, valid_df=df_valid, test_df=df_test, tokenizer=tokenizer, vocab=tamil_vocab, label_cols=label_cols, bs=64)"
   ]
  },
  {
   "cell_type": "code",
   "execution_count": 29,
   "metadata": {},
   "outputs": [
    {
     "data": {
      "text/html": [
       "<table border=\"1\" class=\"dataframe\">\n",
       "  <thead>\n",
       "    <tr style=\"text-align: right;\">\n",
       "      <th>text</th>\n",
       "      <th>target</th>\n",
       "    </tr>\n",
       "  </thead>\n",
       "  <tbody>\n",
       "    <tr>\n",
       "      <td>▁ x x b os ▁நடிகர் ▁ச சி குமார் ▁மிகவும் ▁சிறந்த ▁இயக்குநர் ▁மற்றும் ▁நல்ல ▁மனிதர் . ▁அவரது ▁உறவினர் ▁அ சோ க்கு மர் ▁தற்கொலை யை ▁நினைத்த ு ▁நான் ▁மிகவும் ▁மன வே தனை ப்படுகிற ேன் . ▁அசோக ் குமார் ▁தனது ▁மனைவி , ▁பெற்றோர் ▁மற்றும் ▁குழந்தை களை ▁தவ ிக்க விட்டு விட்டு ▁தற்கொலை ▁செய்யும் ▁முடி வை ▁தவிர ் த்த ிருக்க ▁வேண்டும் . ▁ ta m il - c ine ma | ந டி கை</td>\n",
       "      <td>tamil-cinema</td>\n",
       "    </tr>\n",
       "    <tr>\n",
       "      <td>▁ x x b os ▁நா னும் ▁கமல ் ஹா சன ும் ▁ஒரு ▁படத்தில் ▁இணைய ும் ▁சூழல் ▁வந்தது . ▁கதை ▁விவாத ம் ▁செய்த ோம் . ▁அது ▁பௌத்த ▁சித்தாந்த ங்களைப் ▁பற்றிய ▁ஒரு ▁படம் . ▁புத்தர் ▁வாழ்ந்த ▁கால த்துக்கு ப் ▁பிறகு ▁நடப்ப து ▁போன்ற ▁கதை . ▁அவரது ▁பல் ▁எப்படி ▁இலங்கை ▁வரை ▁சென்ற து ▁என்பது தான் ▁படத்தின் ▁ஒரு வரி க் ▁கதை . ▁ ta m il - c ine ma | உ ண்மை</td>\n",
       "      <td>tamil-cinema</td>\n",
       "    </tr>\n",
       "    <tr>\n",
       "      <td>▁ x x b os ▁இவ்வி ழா ▁ரொ ம்ப ▁ஈர்க்க ும ளவு க்கு ▁இருந்தது . ▁இந்த ▁விழா வைப் ▁பார்த்த வுடன் ▁2. 0 ▁இசை ▁வெளியீட்டு ▁விழா வை ▁எப்படி ▁ப ண்ண லாம் ▁என்ற ▁ஐ டியா ▁எல்லாம் ▁வந்த ிருக்கிறது . ▁' ரெ மோ ' ▁ரொ ம்ப ▁ஈர்க்க க்கூடிய ▁ஒரு ▁படம் . ▁நடிகர் கள் , ▁தொழில்நுட்ப க் ▁கலைஞர் கள் ▁என ▁அனைத்து ▁வகை யிலும் ▁ரொ ம்ப ▁கவனம் ▁செலுத்த ிய ிருக்கிறார் கள் . ▁b us in</td>\n",
       "      <td>tamil-cinema</td>\n",
       "    </tr>\n",
       "    <tr>\n",
       "      <td>▁ x x b os ▁இந்தியாவில் ▁புதிய ▁வரி ▁முறையான ▁ஜி எஸ் டி ▁அ மல் படுத்த ப்பட்டது ▁மிகப்பெரிய ▁பொருளாதார ▁மாற ுதலை ▁ஏற்படுத்திய ுள்ளது . ▁இதனால் ▁உடனடியாக ▁சில ▁பாதிப்பு கள் ▁இருந்தன . ▁பொருளாதார ▁வளர்ச்சி ▁விகிதம் ▁குறை யும் ▁என்ற ▁எதிர் பார் ப்பு ▁இருந்தது . ▁b us in ess | ந ட ப்பு ▁நிதி யா ண்டி ல் ▁பொருளாதார ▁வளர்ச்சி ▁6 . 5 ▁சதவீத மாக ▁இருக்கும் ▁என ▁இந்திய ▁அரசு ▁மதிப்ப ிட்ட ுள்ளது . ▁ஆனால் ,</td>\n",
       "      <td>business</td>\n",
       "    </tr>\n",
       "    <tr>\n",
       "      <td>▁ x x b os &lt;unk&gt; ▁a s ▁ sp ec ul ate d ▁m y ▁n ex t ▁ d ir ect or ial ▁ v en ture ▁w ill ▁ be ▁w ith ▁ &lt;unk&gt; &lt;unk&gt; &lt;unk&gt; n and al f il m s ▁ &lt;unk&gt; ▁ d d 2 . &lt;unk&gt; ▁w ill ▁ al s o ▁ be ▁ pl ay ing ▁the ▁ le ad</td>\n",
       "      <td>tamil-cinema</td>\n",
       "    </tr>\n",
       "  </tbody>\n",
       "</table>"
      ],
      "text/plain": [
       "<IPython.core.display.HTML object>"
      ]
     },
     "metadata": {},
     "output_type": "display_data"
    }
   ],
   "source": [
    "data_clas.show_batch()"
   ]
  },
  {
   "cell_type": "code",
   "execution_count": 30,
   "metadata": {},
   "outputs": [],
   "source": [
    "del awd_lstm_config['tie_weights']\n",
    "del awd_lstm_config['out_bias']"
   ]
  },
  {
   "cell_type": "code",
   "execution_count": 31,
   "metadata": {},
   "outputs": [],
   "source": [
    "learn = text_classifier_learner(data_clas, arch=AWD_LSTM, drop_mult=0.5, config=awd_lstm_config)"
   ]
  },
  {
   "cell_type": "code",
   "execution_count": 32,
   "metadata": {},
   "outputs": [
    {
     "data": {
      "text/plain": [
       "RNNLearner(data=TextClasDataBunch;\n",
       "\n",
       "Train: LabelList (5346 items)\n",
       "x: TextList\n",
       "▁ x x b os ▁கே . வி . ஆ ன ந்தே ▁ ட் விட்ட ரில் ▁இதை ▁அறிவித்த ுள்ளார் . ▁இந்தப் ▁பட த்துக்கு ▁கே வ் மி க் ▁ஆ ரி ▁ஒளிப்பதி வு ▁செய்ய , ▁ஹா ரி ஸ் ▁ஜெய ராஜ் ▁இசை ய மை க்கிறார் . ▁பட்டு க்கோட்டை ▁பிர பா கர் ▁வசன ம் ▁எழுத , ▁கலை ▁இயக்குநராக ▁கிர ண் ▁பணியாற்ற ுகிறார் . ▁இந்தப் ▁பட த்தை ▁ லை கா ▁பு ரொ ட க் ▁ஷ ன்ஸ் ▁நிறுவனம் ▁தயாரிக்க ிறது .,▁ x x b os ▁பரி கார ம் : ▁சு க்கிர ன் , ▁கே து வுக்கு ப் ▁பி ரீ தி , ▁பரி கார ங்கள் ▁செய்து ▁கொள்ள வும் .,▁ x x b os ▁8 ▁லட்ச ம் ▁கார் களை ▁திரும்ப ப் ▁பெற்றது ▁ஹோ ண்டா ▁நிறுவனம்,▁ x x b os ▁2003 - ம் ▁ஆண்டு ▁அக்டோபர் ▁மாத த்திலிருந்து ▁2013 - ம் ▁ஆண்டு ▁மார்ச் ▁மாதம் ▁வரை ▁ஜெனரல் ▁டை ன மி க் ▁கார் ப்ப ரே ஷன் ▁நிறுவனத்தின் ▁நிர்வாக த் ▁துணை த்தலைவர் ▁பொறுப்ப ில் ▁இருந்தவர் .,▁ x x b os ▁தொழில் ▁வியாபார த்தில் ▁பண த்தே வை ▁ஏற்படலாம் . ▁கடன் ▁விவகார ங்களில் ▁கவன மாக ▁செயல்பட ுவது ▁நல்ல து . ▁உத்தி யோ க த்தில் ▁இருப்ப வர்கள் ▁ஓய்வு ▁இல்லாமல் ▁பணியாற்ற ▁வேண்டி ▁இருக்கும் . ▁இயந்திர ம் , ▁நெருப்ப ு , ▁ஆயுத த்தை ▁பயன்படுத்த ுவோர் ▁மிகவும் ▁கவன மாக ▁இருப்பது ▁அவசிய ம் .\n",
       "y: CategoryList\n",
       "tamil-cinema,spirituality,business,business,spirituality\n",
       "Path: .;\n",
       "\n",
       "Valid: LabelList (669 items)\n",
       "x: TextList\n",
       "▁ x x b os ▁' 4 ஜி ' , ▁' சர் வம் ▁தாள மய ம் ' , ▁' அ ட ங்கா தே ' ▁உள்ளிட்ட ▁படங்களில் ▁கவனம் ▁செலுத்தி ▁வருகிறார் ▁ஜி . வி . பிர கா ஷ் . ▁மேலும் ▁அவர் ▁நடிப்ப ில் ▁பொ ங்க லுக்கு ▁வெளி யாக வ ிருந்த ▁' பு ரூ ஸ் ▁லீ ' ▁பட மும் ▁வெளி யீட்ட ில் ▁இருந்து ▁பின்வாங்க ியுள்ளது .,▁ x x b os ▁ பாண்டி ச்சேரி யில் ▁அ ம்பல த்தா டைய ார் ▁மட த்து ▁வீதி யில் ▁உள்ள ▁அ ம்பல த்தா டைய ார் ▁மட த்த ினுள் ▁அருள் பால ிக்கும் ▁ஸ்ரீ நாக லிங்க ▁சுவாமி களின் ▁ஜீ வ ▁சமாதி க்கு ▁ரோ கி ணி ▁நட்சத்திர ம் ▁நடைபெறும் ▁நாளில் ▁சென்று ▁வணங்க ு ங்கள் . ▁ஆதரவ ற்ற ▁குழந்தைகளுக்கு ▁உதவ ு ங்கள் . ▁உ ங்களின் ▁எதிர்ப்ப ார் ப்பு கள் ▁தடை யின் றி ▁நிறை வே றும் .,▁ x x b os ▁விளை பொருட் களை ▁உரிய ▁விலை யில் ▁சந்தை ப்படுத்த ▁10 ▁மாவட்டங்களில் ▁ரூ . 36 8 ▁கோடி யில் ▁டெ ர் மி னல் ▁மார் க்கெட் டுகள் : ▁ந பார் டு ▁வங்கி ▁தலைமை ▁பொது மே ல ாளர் ▁தகவல்,▁ x x b os ▁ ’ கா ஞ்சி புர த்தி லே ▁ஸ்ரீ ச க் ரம் , ▁மா ங்கா ட்டி லே ▁அர்த்த மே ரு ▁ஸ்ரீ ச க் ரம் , ▁திரு வா னை க்கா வி லே ▁ஸ்ரீ ச க் ர ▁ ரூப மான ▁தா ட கம் . . . ▁இன்னும் ▁இது போன்ற ▁பல ▁கோயில் களில் , ▁ஆதி சங்க ர ▁பக வ த் ▁பாத ரால் ▁ஸ் தா பி க்கப்பட்டு ▁உள்ளன . ▁இவற்றின் ▁வி சே ஷ ▁காரணங்கள ் ▁என்ன ▁சுவாமி ? ▁ ’ என் று ▁காஞ்சி ▁மகா பெரிய வ ரிடம் ▁பக்த ர் ▁ஒருவர் ▁கேட்ட ார் .,▁ x x b os ▁ஈ சன் ▁புளிய ▁மர த்த ரு கே ▁தோன்றிய தால் ▁புளிய ▁மரம் ▁தல வி ரு ட் சம் ▁ஆனது . ▁புளிய ▁மர ப் ▁பொ ந்த ில் ▁நடராஜ ர் ▁ஒளி த்து ▁வைக்கப்பட்ட தால் ▁இந்த ▁ க் ஷ ே த்திர மும் ▁புளிய றை ▁என்று ▁ அழைக்கப்படுகிறது .\n",
       "y: CategoryList\n",
       "tamil-cinema,spirituality,business,spirituality,spirituality\n",
       "Path: .;\n",
       "\n",
       "Test: LabelList (669 items)\n",
       "x: TextList\n",
       "▁ x x b os ▁மா ல வ னின் ▁மீது ▁மா ளா த ▁அன்பு ம் ▁பக்தி யும் ▁கொண்டு ▁பூ மாலை யோடு ▁பா மாலை யும் ▁தொடு த்து ▁மூ டி , ▁மா ல வ னுடன் ▁இரண்ட ற க ▁கலந்த வர் . ▁எனவே ▁இறைவன ை யே ▁ஆட் கொண்ட தால் ▁' ஆ ண்டா ள் ' ▁எனவும் , ▁கோ தை ▁நா ச்சி யார் ▁என்றும் ▁சூ டிக் கொடு த்த ▁நா ச்சி யார் ▁என்றும் ▁பெயர் ▁பெற்றவர் .,▁ x x b os ▁நண்பன ் ▁காதல ுக்கும் , ▁தன் ▁காதல ுக்கும் ▁சேர்ந்து ▁போராட ும் ▁ நாயக னின் ▁கதை யே ▁‘ ச க்க ▁போ டு ▁போ டு ▁ராஜா ’ .,▁ x x b os ▁ஒரு ▁திரைப்பட த்தைப் ▁பார்க்க ும் ▁பல ருக்கும் ▁பல வித மான ▁கருத்து கள் ▁எ ழ லாம் . ▁அ க்கரு த்துக் களை ▁பகிர் வ தோடு ▁இருக்க லா மே ▁தவிர , ▁தணிக்கை ▁செய்யப்பட்ட ▁ஒரு ▁படத்தின் ▁காட்சி களை ▁நீக்க ச் ▁சொல் வது ▁தவறு .,▁ x x b os ▁செவ்வ ா யின் ▁சித்திரை ▁நட்சத்திர ம் ▁3, ▁4 - ம் ▁பாத ம் ▁து லாம் ▁ரா சி யில் ▁ 02 . 09 . 20 17 ▁முதல் ▁ 05 . 10 . 20 17 ▁வரை ▁குரு ப க வான் ▁செல்வ தால் ▁குடும்பத்தில் ▁நி ம் மதி ▁உண்டாகும் . ▁புது ▁வேலை ▁அமையும் . ▁வீடு , ▁ம னை ▁வாங்க ும் ▁யோக ம் ▁உண்டாகும் .,▁ x x b os ▁அந்த ச் ▁சமயத்தில் ▁தாள க் ▁கருவி களோடு ▁மணி யும் ▁சேர்ந்து ▁எழுச்சி யூட்ட ும் ▁இசை யின் ▁ஒலி ▁மெய் சி லி ர் க்க ▁வைக்க ிறது .\n",
       "y: EmptyLabelList\n",
       ",,,,\n",
       "Path: ., model=SequentialRNN(\n",
       "  (0): MultiBatchEncoder(\n",
       "    (module): AWD_LSTM(\n",
       "      (encoder): Embedding(8000, 400, padding_idx=1)\n",
       "      (encoder_dp): EmbeddingDropout(\n",
       "        (emb): Embedding(8000, 400, padding_idx=1)\n",
       "      )\n",
       "      (rnns): ModuleList(\n",
       "        (0): WeightDropout(\n",
       "          (module): LSTM(400, 1150, batch_first=True)\n",
       "        )\n",
       "        (1): WeightDropout(\n",
       "          (module): LSTM(1150, 1150, batch_first=True)\n",
       "        )\n",
       "        (2): WeightDropout(\n",
       "          (module): LSTM(1150, 400, batch_first=True)\n",
       "        )\n",
       "      )\n",
       "      (input_dp): RNNDropout()\n",
       "      (hidden_dps): ModuleList(\n",
       "        (0): RNNDropout()\n",
       "        (1): RNNDropout()\n",
       "        (2): RNNDropout()\n",
       "      )\n",
       "    )\n",
       "  )\n",
       "  (1): PoolingLinearClassifier(\n",
       "    (layers): Sequential(\n",
       "      (0): BatchNorm1d(1200, eps=1e-05, momentum=0.1, affine=True, track_running_stats=True)\n",
       "      (1): Dropout(p=0.05)\n",
       "      (2): Linear(in_features=1200, out_features=50, bias=True)\n",
       "      (3): ReLU(inplace)\n",
       "      (4): BatchNorm1d(50, eps=1e-05, momentum=0.1, affine=True, track_running_stats=True)\n",
       "      (5): Dropout(p=0.1)\n",
       "      (6): Linear(in_features=50, out_features=3, bias=True)\n",
       "    )\n",
       "  )\n",
       "), opt_func=functools.partial(<class 'torch.optim.adam.Adam'>, betas=(0.9, 0.99)), loss_func=FlattenedLoss of CrossEntropyLoss(), metrics=[<function accuracy at 0x7f03eb072c80>], true_wd=True, bn_wd=True, wd=0.01, train_bn=True, path=PosixPath('.'), model_dir='models', callback_fns=[functools.partial(<class 'fastai.basic_train.Recorder'>, add_time=True, silent=False)], callbacks=[RNNTrainer\n",
       "learn: RNNLearner(data=TextClasDataBunch;\n",
       "\n",
       "Train: LabelList (5346 items)\n",
       "x: TextList\n",
       "▁ x x b os ▁கே . வி . ஆ ன ந்தே ▁ ட் விட்ட ரில் ▁இதை ▁அறிவித்த ுள்ளார் . ▁இந்தப் ▁பட த்துக்கு ▁கே வ் மி க் ▁ஆ ரி ▁ஒளிப்பதி வு ▁செய்ய , ▁ஹா ரி ஸ் ▁ஜெய ராஜ் ▁இசை ய மை க்கிறார் . ▁பட்டு க்கோட்டை ▁பிர பா கர் ▁வசன ம் ▁எழுத , ▁கலை ▁இயக்குநராக ▁கிர ண் ▁பணியாற்ற ுகிறார் . ▁இந்தப் ▁பட த்தை ▁ லை கா ▁பு ரொ ட க் ▁ஷ ன்ஸ் ▁நிறுவனம் ▁தயாரிக்க ிறது .,▁ x x b os ▁பரி கார ம் : ▁சு க்கிர ன் , ▁கே து வுக்கு ப் ▁பி ரீ தி , ▁பரி கார ங்கள் ▁செய்து ▁கொள்ள வும் .,▁ x x b os ▁8 ▁லட்ச ம் ▁கார் களை ▁திரும்ப ப் ▁பெற்றது ▁ஹோ ண்டா ▁நிறுவனம்,▁ x x b os ▁2003 - ம் ▁ஆண்டு ▁அக்டோபர் ▁மாத த்திலிருந்து ▁2013 - ம் ▁ஆண்டு ▁மார்ச் ▁மாதம் ▁வரை ▁ஜெனரல் ▁டை ன மி க் ▁கார் ப்ப ரே ஷன் ▁நிறுவனத்தின் ▁நிர்வாக த் ▁துணை த்தலைவர் ▁பொறுப்ப ில் ▁இருந்தவர் .,▁ x x b os ▁தொழில் ▁வியாபார த்தில் ▁பண த்தே வை ▁ஏற்படலாம் . ▁கடன் ▁விவகார ங்களில் ▁கவன மாக ▁செயல்பட ுவது ▁நல்ல து . ▁உத்தி யோ க த்தில் ▁இருப்ப வர்கள் ▁ஓய்வு ▁இல்லாமல் ▁பணியாற்ற ▁வேண்டி ▁இருக்கும் . ▁இயந்திர ம் , ▁நெருப்ப ு , ▁ஆயுத த்தை ▁பயன்படுத்த ுவோர் ▁மிகவும் ▁கவன மாக ▁இருப்பது ▁அவசிய ம் .\n",
       "y: CategoryList\n",
       "tamil-cinema,spirituality,business,business,spirituality\n",
       "Path: .;\n",
       "\n",
       "Valid: LabelList (669 items)\n",
       "x: TextList\n",
       "▁ x x b os ▁' 4 ஜி ' , ▁' சர் வம் ▁தாள மய ம் ' , ▁' அ ட ங்கா தே ' ▁உள்ளிட்ட ▁படங்களில் ▁கவனம் ▁செலுத்தி ▁வருகிறார் ▁ஜி . வி . பிர கா ஷ் . ▁மேலும் ▁அவர் ▁நடிப்ப ில் ▁பொ ங்க லுக்கு ▁வெளி யாக வ ிருந்த ▁' பு ரூ ஸ் ▁லீ ' ▁பட மும் ▁வெளி யீட்ட ில் ▁இருந்து ▁பின்வாங்க ியுள்ளது .,▁ x x b os ▁ பாண்டி ச்சேரி யில் ▁அ ம்பல த்தா டைய ார் ▁மட த்து ▁வீதி யில் ▁உள்ள ▁அ ம்பல த்தா டைய ார் ▁மட த்த ினுள் ▁அருள் பால ிக்கும் ▁ஸ்ரீ நாக லிங்க ▁சுவாமி களின் ▁ஜீ வ ▁சமாதி க்கு ▁ரோ கி ணி ▁நட்சத்திர ம் ▁நடைபெறும் ▁நாளில் ▁சென்று ▁வணங்க ு ங்கள் . ▁ஆதரவ ற்ற ▁குழந்தைகளுக்கு ▁உதவ ு ங்கள் . ▁உ ங்களின் ▁எதிர்ப்ப ார் ப்பு கள் ▁தடை யின் றி ▁நிறை வே றும் .,▁ x x b os ▁விளை பொருட் களை ▁உரிய ▁விலை யில் ▁சந்தை ப்படுத்த ▁10 ▁மாவட்டங்களில் ▁ரூ . 36 8 ▁கோடி யில் ▁டெ ர் மி னல் ▁மார் க்கெட் டுகள் : ▁ந பார் டு ▁வங்கி ▁தலைமை ▁பொது மே ல ாளர் ▁தகவல்,▁ x x b os ▁ ’ கா ஞ்சி புர த்தி லே ▁ஸ்ரீ ச க் ரம் , ▁மா ங்கா ட்டி லே ▁அர்த்த மே ரு ▁ஸ்ரீ ச க் ரம் , ▁திரு வா னை க்கா வி லே ▁ஸ்ரீ ச க் ர ▁ ரூப மான ▁தா ட கம் . . . ▁இன்னும் ▁இது போன்ற ▁பல ▁கோயில் களில் , ▁ஆதி சங்க ர ▁பக வ த் ▁பாத ரால் ▁ஸ் தா பி க்கப்பட்டு ▁உள்ளன . ▁இவற்றின் ▁வி சே ஷ ▁காரணங்கள ் ▁என்ன ▁சுவாமி ? ▁ ’ என் று ▁காஞ்சி ▁மகா பெரிய வ ரிடம் ▁பக்த ர் ▁ஒருவர் ▁கேட்ட ார் .,▁ x x b os ▁ஈ சன் ▁புளிய ▁மர த்த ரு கே ▁தோன்றிய தால் ▁புளிய ▁மரம் ▁தல வி ரு ட் சம் ▁ஆனது . ▁புளிய ▁மர ப் ▁பொ ந்த ில் ▁நடராஜ ர் ▁ஒளி த்து ▁வைக்கப்பட்ட தால் ▁இந்த ▁ க் ஷ ே த்திர மும் ▁புளிய றை ▁என்று ▁ அழைக்கப்படுகிறது .\n",
       "y: CategoryList\n",
       "tamil-cinema,spirituality,business,spirituality,spirituality\n",
       "Path: .;\n",
       "\n",
       "Test: LabelList (669 items)\n",
       "x: TextList\n",
       "▁ x x b os ▁மா ல வ னின் ▁மீது ▁மா ளா த ▁அன்பு ம் ▁பக்தி யும் ▁கொண்டு ▁பூ மாலை யோடு ▁பா மாலை யும் ▁தொடு த்து ▁மூ டி , ▁மா ல வ னுடன் ▁இரண்ட ற க ▁கலந்த வர் . ▁எனவே ▁இறைவன ை யே ▁ஆட் கொண்ட தால் ▁' ஆ ண்டா ள் ' ▁எனவும் , ▁கோ தை ▁நா ச்சி யார் ▁என்றும் ▁சூ டிக் கொடு த்த ▁நா ச்சி யார் ▁என்றும் ▁பெயர் ▁பெற்றவர் .,▁ x x b os ▁நண்பன ் ▁காதல ுக்கும் , ▁தன் ▁காதல ுக்கும் ▁சேர்ந்து ▁போராட ும் ▁ நாயக னின் ▁கதை யே ▁‘ ச க்க ▁போ டு ▁போ டு ▁ராஜா ’ .,▁ x x b os ▁ஒரு ▁திரைப்பட த்தைப் ▁பார்க்க ும் ▁பல ருக்கும் ▁பல வித மான ▁கருத்து கள் ▁எ ழ லாம் . ▁அ க்கரு த்துக் களை ▁பகிர் வ தோடு ▁இருக்க லா மே ▁தவிர , ▁தணிக்கை ▁செய்யப்பட்ட ▁ஒரு ▁படத்தின் ▁காட்சி களை ▁நீக்க ச் ▁சொல் வது ▁தவறு .,▁ x x b os ▁செவ்வ ா யின் ▁சித்திரை ▁நட்சத்திர ம் ▁3, ▁4 - ம் ▁பாத ம் ▁து லாம் ▁ரா சி யில் ▁ 02 . 09 . 20 17 ▁முதல் ▁ 05 . 10 . 20 17 ▁வரை ▁குரு ப க வான் ▁செல்வ தால் ▁குடும்பத்தில் ▁நி ம் மதி ▁உண்டாகும் . ▁புது ▁வேலை ▁அமையும் . ▁வீடு , ▁ம னை ▁வாங்க ும் ▁யோக ம் ▁உண்டாகும் .,▁ x x b os ▁அந்த ச் ▁சமயத்தில் ▁தாள க் ▁கருவி களோடு ▁மணி யும் ▁சேர்ந்து ▁எழுச்சி யூட்ட ும் ▁இசை யின் ▁ஒலி ▁மெய் சி லி ர் க்க ▁வைக்க ிறது .\n",
       "y: EmptyLabelList\n",
       ",,,,\n",
       "Path: ., model=SequentialRNN(\n",
       "  (0): MultiBatchEncoder(\n",
       "    (module): AWD_LSTM(\n",
       "      (encoder): Embedding(8000, 400, padding_idx=1)\n",
       "      (encoder_dp): EmbeddingDropout(\n",
       "        (emb): Embedding(8000, 400, padding_idx=1)\n",
       "      )\n",
       "      (rnns): ModuleList(\n",
       "        (0): WeightDropout(\n",
       "          (module): LSTM(400, 1150, batch_first=True)\n",
       "        )\n",
       "        (1): WeightDropout(\n",
       "          (module): LSTM(1150, 1150, batch_first=True)\n",
       "        )\n",
       "        (2): WeightDropout(\n",
       "          (module): LSTM(1150, 400, batch_first=True)\n",
       "        )\n",
       "      )\n",
       "      (input_dp): RNNDropout()\n",
       "      (hidden_dps): ModuleList(\n",
       "        (0): RNNDropout()\n",
       "        (1): RNNDropout()\n",
       "        (2): RNNDropout()\n",
       "      )\n",
       "    )\n",
       "  )\n",
       "  (1): PoolingLinearClassifier(\n",
       "    (layers): Sequential(\n",
       "      (0): BatchNorm1d(1200, eps=1e-05, momentum=0.1, affine=True, track_running_stats=True)\n",
       "      (1): Dropout(p=0.05)\n",
       "      (2): Linear(in_features=1200, out_features=50, bias=True)\n",
       "      (3): ReLU(inplace)\n",
       "      (4): BatchNorm1d(50, eps=1e-05, momentum=0.1, affine=True, track_running_stats=True)\n",
       "      (5): Dropout(p=0.1)\n",
       "      (6): Linear(in_features=50, out_features=3, bias=True)\n",
       "    )\n",
       "  )\n",
       "), opt_func=functools.partial(<class 'torch.optim.adam.Adam'>, betas=(0.9, 0.99)), loss_func=FlattenedLoss of CrossEntropyLoss(), metrics=[<function accuracy at 0x7f03eb072c80>], true_wd=True, bn_wd=True, wd=0.01, train_bn=True, path=PosixPath('.'), model_dir='models', callback_fns=[functools.partial(<class 'fastai.basic_train.Recorder'>, add_time=True, silent=False)], callbacks=[...], layer_groups=[Sequential(\n",
       "  (0): Embedding(8000, 400, padding_idx=1)\n",
       "  (1): EmbeddingDropout(\n",
       "    (emb): Embedding(8000, 400, padding_idx=1)\n",
       "  )\n",
       "), Sequential(\n",
       "  (0): WeightDropout(\n",
       "    (module): LSTM(400, 1150, batch_first=True)\n",
       "  )\n",
       "  (1): RNNDropout()\n",
       "), Sequential(\n",
       "  (0): WeightDropout(\n",
       "    (module): LSTM(1150, 1150, batch_first=True)\n",
       "  )\n",
       "  (1): RNNDropout()\n",
       "), Sequential(\n",
       "  (0): WeightDropout(\n",
       "    (module): LSTM(1150, 400, batch_first=True)\n",
       "  )\n",
       "  (1): RNNDropout()\n",
       "), Sequential(\n",
       "  (0): PoolingLinearClassifier(\n",
       "    (layers): Sequential(\n",
       "      (0): BatchNorm1d(1200, eps=1e-05, momentum=0.1, affine=True, track_running_stats=True)\n",
       "      (1): Dropout(p=0.05)\n",
       "      (2): Linear(in_features=1200, out_features=50, bias=True)\n",
       "      (3): ReLU(inplace)\n",
       "      (4): BatchNorm1d(50, eps=1e-05, momentum=0.1, affine=True, track_running_stats=True)\n",
       "      (5): Dropout(p=0.1)\n",
       "      (6): Linear(in_features=50, out_features=3, bias=True)\n",
       "    )\n",
       "  )\n",
       ")], add_time=True, silent=False, cb_fns_registered=False)\n",
       "alpha: 2.0\n",
       "beta: 1.0], layer_groups=[Sequential(\n",
       "  (0): Embedding(8000, 400, padding_idx=1)\n",
       "  (1): EmbeddingDropout(\n",
       "    (emb): Embedding(8000, 400, padding_idx=1)\n",
       "  )\n",
       "), Sequential(\n",
       "  (0): WeightDropout(\n",
       "    (module): LSTM(400, 1150, batch_first=True)\n",
       "  )\n",
       "  (1): RNNDropout()\n",
       "), Sequential(\n",
       "  (0): WeightDropout(\n",
       "    (module): LSTM(1150, 1150, batch_first=True)\n",
       "  )\n",
       "  (1): RNNDropout()\n",
       "), Sequential(\n",
       "  (0): WeightDropout(\n",
       "    (module): LSTM(1150, 400, batch_first=True)\n",
       "  )\n",
       "  (1): RNNDropout()\n",
       "), Sequential(\n",
       "  (0): PoolingLinearClassifier(\n",
       "    (layers): Sequential(\n",
       "      (0): BatchNorm1d(1200, eps=1e-05, momentum=0.1, affine=True, track_running_stats=True)\n",
       "      (1): Dropout(p=0.05)\n",
       "      (2): Linear(in_features=1200, out_features=50, bias=True)\n",
       "      (3): ReLU(inplace)\n",
       "      (4): BatchNorm1d(50, eps=1e-05, momentum=0.1, affine=True, track_running_stats=True)\n",
       "      (5): Dropout(p=0.1)\n",
       "      (6): Linear(in_features=50, out_features=3, bias=True)\n",
       "    )\n",
       "  )\n",
       ")], add_time=True, silent=False, cb_fns_registered=False)"
      ]
     },
     "execution_count": 32,
     "metadata": {},
     "output_type": "execute_result"
    }
   ],
   "source": [
    "learn.load_encoder('fine_tuned_enc')"
   ]
  },
  {
   "cell_type": "code",
   "execution_count": 33,
   "metadata": {},
   "outputs": [],
   "source": [
    "learn.freeze()"
   ]
  },
  {
   "cell_type": "code",
   "execution_count": 34,
   "metadata": {},
   "outputs": [
    {
     "data": {
      "text/plain": [
       "CrossEntropyLoss()"
      ]
     },
     "execution_count": 34,
     "metadata": {},
     "output_type": "execute_result"
    }
   ],
   "source": [
    "learn.loss_func.func"
   ]
  },
  {
   "cell_type": "code",
   "execution_count": 35,
   "metadata": {},
   "outputs": [],
   "source": [
    "mcc = MatthewsCorreff()"
   ]
  },
  {
   "cell_type": "code",
   "execution_count": 36,
   "metadata": {},
   "outputs": [],
   "source": [
    "learn.metrics = [mcc, accuracy]"
   ]
  },
  {
   "cell_type": "code",
   "execution_count": 37,
   "metadata": {},
   "outputs": [
    {
     "data": {
      "text/html": [
       "<table border=\"1\" class=\"dataframe\">\n",
       "  <thead>\n",
       "    <tr style=\"text-align: left;\">\n",
       "      <th>epoch</th>\n",
       "      <th>train_loss</th>\n",
       "      <th>valid_loss</th>\n",
       "      <th>matthews_correff</th>\n",
       "      <th>accuracy</th>\n",
       "      <th>time</th>\n",
       "    </tr>\n",
       "  </thead>\n",
       "  <tbody>\n",
       "    <tr>\n",
       "      <td>0</td>\n",
       "      <td>0.281653</td>\n",
       "      <td>0.168225</td>\n",
       "      <td>0.909438</td>\n",
       "      <td>0.940209</td>\n",
       "      <td>00:05</td>\n",
       "    </tr>\n",
       "  </tbody>\n",
       "</table>"
      ],
      "text/plain": [
       "<IPython.core.display.HTML object>"
      ]
     },
     "metadata": {},
     "output_type": "display_data"
    }
   ],
   "source": [
    "learn.fit_one_cycle(1, 1e-2)"
   ]
  },
  {
   "cell_type": "code",
   "execution_count": 38,
   "metadata": {},
   "outputs": [
    {
     "data": {
      "text/html": [
       "<table border=\"1\" class=\"dataframe\">\n",
       "  <thead>\n",
       "    <tr style=\"text-align: left;\">\n",
       "      <th>epoch</th>\n",
       "      <th>train_loss</th>\n",
       "      <th>valid_loss</th>\n",
       "      <th>matthews_correff</th>\n",
       "      <th>accuracy</th>\n",
       "      <th>time</th>\n",
       "    </tr>\n",
       "  </thead>\n",
       "  <tbody>\n",
       "    <tr>\n",
       "      <td>0</td>\n",
       "      <td>0.211382</td>\n",
       "      <td>0.139259</td>\n",
       "      <td>0.932308</td>\n",
       "      <td>0.955157</td>\n",
       "      <td>00:05</td>\n",
       "    </tr>\n",
       "  </tbody>\n",
       "</table>"
      ],
      "text/plain": [
       "<IPython.core.display.HTML object>"
      ]
     },
     "metadata": {},
     "output_type": "display_data"
    }
   ],
   "source": [
    "learn.freeze_to(-2)\n",
    "learn.fit_one_cycle(1, 1e-2)"
   ]
  },
  {
   "cell_type": "code",
   "execution_count": 39,
   "metadata": {},
   "outputs": [
    {
     "data": {
      "text/html": [
       "<table border=\"1\" class=\"dataframe\">\n",
       "  <thead>\n",
       "    <tr style=\"text-align: left;\">\n",
       "      <th>epoch</th>\n",
       "      <th>train_loss</th>\n",
       "      <th>valid_loss</th>\n",
       "      <th>matthews_correff</th>\n",
       "      <th>accuracy</th>\n",
       "      <th>time</th>\n",
       "    </tr>\n",
       "  </thead>\n",
       "  <tbody>\n",
       "    <tr>\n",
       "      <td>0</td>\n",
       "      <td>0.115121</td>\n",
       "      <td>0.120591</td>\n",
       "      <td>0.940761</td>\n",
       "      <td>0.961136</td>\n",
       "      <td>00:10</td>\n",
       "    </tr>\n",
       "    <tr>\n",
       "      <td>1</td>\n",
       "      <td>0.091555</td>\n",
       "      <td>0.119007</td>\n",
       "      <td>0.938388</td>\n",
       "      <td>0.959641</td>\n",
       "      <td>00:12</td>\n",
       "    </tr>\n",
       "    <tr>\n",
       "      <td>2</td>\n",
       "      <td>0.070927</td>\n",
       "      <td>0.119227</td>\n",
       "      <td>0.936555</td>\n",
       "      <td>0.958147</td>\n",
       "      <td>00:11</td>\n",
       "    </tr>\n",
       "    <tr>\n",
       "      <td>3</td>\n",
       "      <td>0.050470</td>\n",
       "      <td>0.130328</td>\n",
       "      <td>0.929559</td>\n",
       "      <td>0.953662</td>\n",
       "      <td>00:10</td>\n",
       "    </tr>\n",
       "    <tr>\n",
       "      <td>4</td>\n",
       "      <td>0.046812</td>\n",
       "      <td>0.121785</td>\n",
       "      <td>0.931623</td>\n",
       "      <td>0.955157</td>\n",
       "      <td>00:11</td>\n",
       "    </tr>\n",
       "  </tbody>\n",
       "</table>"
      ],
      "text/plain": [
       "<IPython.core.display.HTML object>"
      ]
     },
     "metadata": {},
     "output_type": "display_data"
    },
    {
     "name": "stdout",
     "output_type": "stream",
     "text": [
      "Better model found at epoch 0 with accuracy value: 0.9611360430717468.\n"
     ]
    }
   ],
   "source": [
    "learn.unfreeze()\n",
    "learn.fit_one_cycle(5, 1e-3, callbacks=[callbacks.SaveModelCallback(learn, every='improvement', monitor='accuracy', name='final')])"
   ]
  },
  {
   "cell_type": "code",
   "execution_count": 40,
   "metadata": {},
   "outputs": [
    {
     "data": {
      "text/html": [],
      "text/plain": [
       "<IPython.core.display.HTML object>"
      ]
     },
     "metadata": {},
     "output_type": "display_data"
    },
    {
     "data": {
      "text/html": [
       "<div>\n",
       "<style scoped>\n",
       "    .dataframe tbody tr th:only-of-type {\n",
       "        vertical-align: middle;\n",
       "    }\n",
       "\n",
       "    .dataframe tbody tr th {\n",
       "        vertical-align: top;\n",
       "    }\n",
       "\n",
       "    .dataframe thead th {\n",
       "        text-align: right;\n",
       "    }\n",
       "</style>\n",
       "<table border=\"1\" class=\"dataframe\">\n",
       "  <thead>\n",
       "    <tr style=\"text-align: right;\">\n",
       "      <th></th>\n",
       "      <th>query</th>\n",
       "      <th>actual_label</th>\n",
       "      <th>predicted_label</th>\n",
       "      <th>tamil-cinema</th>\n",
       "      <th>spirituality</th>\n",
       "      <th>business</th>\n",
       "    </tr>\n",
       "  </thead>\n",
       "  <tbody>\n",
       "    <tr>\n",
       "      <th>0</th>\n",
       "      <td>மாலவனின் மீது மாளாத அன்பும் பக்தியும் கொண்டு ப...</td>\n",
       "      <td>spirituality</td>\n",
       "      <td>spirituality</td>\n",
       "      <td>0.000588091</td>\n",
       "      <td>0.998337</td>\n",
       "      <td>0.00107544</td>\n",
       "    </tr>\n",
       "    <tr>\n",
       "      <th>1</th>\n",
       "      <td>நண்பன் காதலுக்கும், தன் காதலுக்கும் சேர்ந்து ப...</td>\n",
       "      <td>tamil-cinema</td>\n",
       "      <td>tamil-cinema</td>\n",
       "      <td>0.992359</td>\n",
       "      <td>0.00406395</td>\n",
       "      <td>0.00357747</td>\n",
       "    </tr>\n",
       "    <tr>\n",
       "      <th>2</th>\n",
       "      <td>ஒரு திரைப்படத்தைப் பார்க்கும் பலருக்கும் பலவித...</td>\n",
       "      <td>tamil-cinema</td>\n",
       "      <td>tamil-cinema</td>\n",
       "      <td>0.985132</td>\n",
       "      <td>0.00887207</td>\n",
       "      <td>0.00599544</td>\n",
       "    </tr>\n",
       "    <tr>\n",
       "      <th>3</th>\n",
       "      <td>செவ்வாயின் சித்திரை நட்சத்திரம் 3, 4-ம் பாதம் ...</td>\n",
       "      <td>spirituality</td>\n",
       "      <td>spirituality</td>\n",
       "      <td>7.77528e-05</td>\n",
       "      <td>0.999504</td>\n",
       "      <td>0.000418323</td>\n",
       "    </tr>\n",
       "    <tr>\n",
       "      <th>4</th>\n",
       "      <td>அந்தச் சமயத்தில் தாளக் கருவிகளோடு மணியும் சேர்...</td>\n",
       "      <td>spirituality</td>\n",
       "      <td>spirituality</td>\n",
       "      <td>0.0794979</td>\n",
       "      <td>0.888068</td>\n",
       "      <td>0.0324337</td>\n",
       "    </tr>\n",
       "  </tbody>\n",
       "</table>\n",
       "</div>"
      ],
      "text/plain": [
       "                                               query  actual_label  \\\n",
       "0  மாலவனின் மீது மாளாத அன்பும் பக்தியும் கொண்டு ப...  spirituality   \n",
       "1  நண்பன் காதலுக்கும், தன் காதலுக்கும் சேர்ந்து ப...  tamil-cinema   \n",
       "2  ஒரு திரைப்படத்தைப் பார்க்கும் பலருக்கும் பலவித...  tamil-cinema   \n",
       "3  செவ்வாயின் சித்திரை நட்சத்திரம் 3, 4-ம் பாதம் ...  spirituality   \n",
       "4  அந்தச் சமயத்தில் தாளக் கருவிகளோடு மணியும் சேர்...  spirituality   \n",
       "\n",
       "  predicted_label tamil-cinema spirituality     business  \n",
       "0    spirituality  0.000588091     0.998337   0.00107544  \n",
       "1    tamil-cinema     0.992359   0.00406395   0.00357747  \n",
       "2    tamil-cinema     0.985132   0.00887207   0.00599544  \n",
       "3    spirituality  7.77528e-05     0.999504  0.000418323  \n",
       "4    spirituality    0.0794979     0.888068    0.0324337  "
      ]
     },
     "execution_count": 40,
     "metadata": {},
     "output_type": "execute_result"
    }
   ],
   "source": [
    "from sklearn.metrics import accuracy_score, matthews_corrcoef\n",
    "df_dict = {'query': list(df_test[1]), 'actual_label': list(df_test[0]), 'predicted_label': ['']*df_test.shape[0]}\n",
    "all_nodes = list(set(df_train[0]))\n",
    "for node in all_nodes:\n",
    "    df_dict[node] = ['']*df_test.shape[0]\n",
    "    \n",
    "i2c = {}\n",
    "for key, value in learn.data.c2i.items():\n",
    "    i2c[value] = key\n",
    "    \n",
    "df_result = pd.DataFrame(df_dict)\n",
    "preds = learn.get_preds(ds_type=DatasetType.Test, ordered=True)\n",
    "for index, row in df_result.iterrows():\n",
    "    for node in all_nodes:\n",
    "        row[node] = preds[0][index][learn.data.c2i[node]].item()\n",
    "    row['predicted_label'] = i2c[np.argmax(preds[0][index]).data.item()]\n",
    "df_result.head()"
   ]
  },
  {
   "cell_type": "code",
   "execution_count": 41,
   "metadata": {},
   "outputs": [
    {
     "data": {
      "text/plain": [
       "0.9521674140508222"
      ]
     },
     "execution_count": 41,
     "metadata": {},
     "output_type": "execute_result"
    }
   ],
   "source": [
    "accuracy_score(df_result['actual_label'], df_result['predicted_label'])"
   ]
  },
  {
   "cell_type": "code",
   "execution_count": 42,
   "metadata": {},
   "outputs": [
    {
     "data": {
      "text/plain": [
       "0.9269514834025239"
      ]
     },
     "execution_count": 42,
     "metadata": {},
     "output_type": "execute_result"
    }
   ],
   "source": [
    "matthews_corrcoef(df_result['actual_label'], df_result['predicted_label'])"
   ]
  },
  {
   "cell_type": "code",
   "execution_count": 43,
   "metadata": {},
   "outputs": [],
   "source": [
    "df_result.to_csv('inltk_headlines_ta.csv', index=False)"
   ]
  },
  {
   "cell_type": "code",
   "execution_count": null,
   "metadata": {},
   "outputs": [],
   "source": []
  }
 ],
 "metadata": {
  "kernelspec": {
   "display_name": "in",
   "language": "python",
   "name": "in"
  },
  "language_info": {
   "codemirror_mode": {
    "name": "ipython",
    "version": 3
   },
   "file_extension": ".py",
   "mimetype": "text/x-python",
   "name": "python",
   "nbconvert_exporter": "python",
   "pygments_lexer": "ipython3",
   "version": "3.6.3"
  }
 },
 "nbformat": 4,
 "nbformat_minor": 2
}
