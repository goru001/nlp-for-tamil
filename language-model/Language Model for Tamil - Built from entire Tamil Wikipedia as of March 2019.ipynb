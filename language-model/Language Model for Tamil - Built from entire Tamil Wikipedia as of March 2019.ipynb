{
 "cells": [
  {
   "cell_type": "markdown",
   "metadata": {
    "colab_type": "text",
    "id": "0AWt_a15m68f"
   },
   "source": [
    "\n",
    "# Language Model for Tamil - Built from entire Tamil Wikipedia\n",
    "\n",
    "First Draft: Ravi Annaswamy April 6, 2019.\n",
    "\n",
    "\n",
    "## What is a Language Model?\n",
    "\n",
    "What is a Model, first of all? A model is a organized knowledge-store that can help predict what will happen in various situations. \n",
    "\n",
    "Model of the solar system helps  us predict when will Sun rise at a given place on globe on a given day.\n",
    "\n",
    "A language model, similarly helps predict what word will come next in a sequence of words. This is done by the model systematically learning what usually comes in a context. \n",
    "\n",
    "\n",
    "## Why is it needed?\n",
    "\n",
    "Humans interpret what is being said, because they have the mental model of the language. That is how we know that 'dog bites a man' is different from 'man bites a dog'.\n",
    "\n",
    "Understanding speech in a noisy room, finding and fixing spelling mistakes, and grammatical mistakes are immediate obvious uses of a language model. But it goes more than that. ALL OUR COMMUNICATION is noisy and partial statement, and it is made possible because listener fills in the gaps (reads between lines) because of the language and world model he shares with the speaker or writer.\n",
    "\n",
    "## How do we build a language model?\n",
    "\n",
    "Pre-2010 ngram models were the state of the art. An ngram (say a three word phrase) serving as a context and a table showing what all words followed it how many times in a large text, serves as a prediction model.\n",
    "\n",
    "With Deep learning, several breakthroughs happened in this field. \n",
    "\n",
    "First, words are mapped to meaning vectors in a continuous space so generalization becomes vastly easy. \n",
    "\n",
    "Secondly the system can figure out contexts that are optimal and useful.\n",
    "\n",
    "Third, GPU computing, wikipedia, deep learning libraries such as tensorflow, keras, pytorch and fastai have made doing this a piece of cake.\n",
    "\n",
    "As you will see, we can build a state of the art language model for any language in less than four hours, from collecting text, to tokenizer construction to language model. This is a miracle.\n",
    "\n",
    "Also, even though these are termed as language models, they go beyond just figuring out the grammar (syntax), they also recognize patterns in usage, semantics, so they are a model of the world to the extent it can be inferred from the language. This is why recent recognition that language models with very little fine tuning can be used for question answering and other natural language tasks that are not linguistic but real-world tasks.\n",
    "\n",
    "\n",
    "This code is adapted from https://github.com/goru001/nlp-for-hindi/blob/master/language-model/Hindi_Language_Model.ipynb\n",
    "\n",
    "Modifications for tamil:\n",
    "\n",
    "- Chose to use 8000 word vocabulary for Sentence Piece.\n",
    "\n",
    "- Perplexity of ~20 when trained on 120,000 articles.\n",
    "\n",
    "- Updated the text generator section with a slightly better probing function.\n"
   ]
  },
  {
   "cell_type": "markdown",
   "metadata": {},
   "source": [
    "# Part I. Get the Tools"
   ]
  },
  {
   "cell_type": "markdown",
   "metadata": {
    "colab_type": "text",
    "id": "RZ9dGP92ej_l"
   },
   "source": [
    "## Step 1. Install fastai Deep Learning Library"
   ]
  },
  {
   "cell_type": "code",
   "execution_count": 1,
   "metadata": {
    "colab": {
     "base_uri": "https://localhost:8080/",
     "height": 1074
    },
    "colab_type": "code",
    "id": "yH7WdaZ8ekBo",
    "outputId": "69dec13f-0fde-4175-99a1-abeb9b31c594"
   },
   "outputs": [
    {
     "name": "stdout",
     "output_type": "stream",
     "text": [
      "Collecting fastai\n",
      "  Using cached https://files.pythonhosted.org/packages/44/cc/dcc702cf43bb8c908d172e5be156615928f962366a20834c320cbca2b9d0/fastai-1.0.51-py3-none-any.whl\n",
      "Requirement already satisfied, skipping upgrade: matplotlib in /opt/anaconda3/lib/python3.7/site-packages (from fastai) (3.0.2)\n",
      "Requirement already satisfied, skipping upgrade: nvidia-ml-py3 in /home/ravi_annaswamy/.local/lib/python3.7/site-packages (from fastai) (7.352.0)\n",
      "Requirement already satisfied, skipping upgrade: packaging in /opt/anaconda3/lib/python3.7/site-packages (from fastai) (18.0)\n",
      "Requirement already satisfied, skipping upgrade: torchvision in /opt/anaconda3/lib/python3.7/site-packages (from fastai) (0.2.1)\n",
      "Requirement already satisfied, skipping upgrade: numpy>=1.15 in /opt/anaconda3/lib/python3.7/site-packages (from fastai) (1.15.4)\n",
      "Requirement already satisfied, skipping upgrade: spacy>=2.0.18 in /opt/anaconda3/lib/python3.7/site-packages (from fastai) (2.0.18)\n",
      "Requirement already satisfied, skipping upgrade: numexpr in /opt/anaconda3/lib/python3.7/site-packages (from fastai) (2.6.8)\n",
      "Requirement already satisfied, skipping upgrade: bottleneck in /opt/anaconda3/lib/python3.7/site-packages (from fastai) (1.2.1)\n",
      "Requirement already satisfied, skipping upgrade: pandas in /opt/anaconda3/lib/python3.7/site-packages (from fastai) (0.23.4)\n",
      "Requirement already satisfied, skipping upgrade: pyyaml in /opt/anaconda3/lib/python3.7/site-packages (from fastai) (3.13)\n",
      "Requirement already satisfied, skipping upgrade: typing in /opt/anaconda3/lib/python3.7/site-packages (from fastai) (3.6.4)\n",
      "Requirement already satisfied, skipping upgrade: requests in /opt/anaconda3/lib/python3.7/site-packages (from fastai) (2.21.0)\n",
      "Requirement already satisfied, skipping upgrade: Pillow in /opt/anaconda3/lib/python3.7/site-packages (from fastai) (5.3.0)\n",
      "Requirement already satisfied, skipping upgrade: torch>=1.0.0 in /opt/anaconda3/lib/python3.7/site-packages (from fastai) (1.0.0)\n",
      "Requirement already satisfied, skipping upgrade: beautifulsoup4 in /opt/anaconda3/lib/python3.7/site-packages (from fastai) (4.6.3)\n",
      "Requirement already satisfied, skipping upgrade: fastprogress>=0.1.19 in /home/ravi_annaswamy/.local/lib/python3.7/site-packages (from fastai) (0.1.20)\n",
      "Requirement already satisfied, skipping upgrade: scipy in /opt/anaconda3/lib/python3.7/site-packages (from fastai) (1.1.0)\n",
      "Requirement already satisfied, skipping upgrade: cycler>=0.10 in /opt/anaconda3/lib/python3.7/site-packages (from matplotlib->fastai) (0.10.0)\n",
      "Requirement already satisfied, skipping upgrade: kiwisolver>=1.0.1 in /opt/anaconda3/lib/python3.7/site-packages (from matplotlib->fastai) (1.0.1)\n",
      "Requirement already satisfied, skipping upgrade: pyparsing!=2.0.4,!=2.1.2,!=2.1.6,>=2.0.1 in /opt/anaconda3/lib/python3.7/site-packages (from matplotlib->fastai) (2.3.0)\n",
      "Requirement already satisfied, skipping upgrade: python-dateutil>=2.1 in /opt/anaconda3/lib/python3.7/site-packages (from matplotlib->fastai) (2.7.5)\n",
      "Requirement already satisfied, skipping upgrade: six in /opt/anaconda3/lib/python3.7/site-packages (from packaging->fastai) (1.12.0)\n",
      "Requirement already satisfied, skipping upgrade: murmurhash<1.1.0,>=0.28.0 in /opt/anaconda3/lib/python3.7/site-packages (from spacy>=2.0.18->fastai) (1.0.1)\n",
      "Requirement already satisfied, skipping upgrade: cymem<2.1.0,>=2.0.2 in /opt/anaconda3/lib/python3.7/site-packages (from spacy>=2.0.18->fastai) (2.0.2)\n",
      "Requirement already satisfied, skipping upgrade: preshed<2.1.0,>=2.0.1 in /opt/anaconda3/lib/python3.7/site-packages (from spacy>=2.0.18->fastai) (2.0.1)\n",
      "Requirement already satisfied, skipping upgrade: thinc<6.13.0,>=6.12.1 in /opt/anaconda3/lib/python3.7/site-packages (from spacy>=2.0.18->fastai) (6.12.1)\n",
      "Requirement already satisfied, skipping upgrade: plac<1.0.0,>=0.9.6 in /opt/anaconda3/lib/python3.7/site-packages (from spacy>=2.0.18->fastai) (0.9.6)\n",
      "Requirement already satisfied, skipping upgrade: ujson>=1.35 in /opt/anaconda3/lib/python3.7/site-packages (from spacy>=2.0.18->fastai) (1.35)\n",
      "Requirement already satisfied, skipping upgrade: dill<0.3,>=0.2 in /opt/anaconda3/lib/python3.7/site-packages (from spacy>=2.0.18->fastai) (0.2.8.2)\n",
      "Requirement already satisfied, skipping upgrade: regex==2018.01.10 in /opt/anaconda3/lib/python3.7/site-packages (from spacy>=2.0.18->fastai) (2018.1.10)\n",
      "Requirement already satisfied, skipping upgrade: pytz>=2011k in /opt/anaconda3/lib/python3.7/site-packages (from pandas->fastai) (2018.7)\n",
      "Requirement already satisfied, skipping upgrade: urllib3<1.25,>=1.21.1 in /opt/anaconda3/lib/python3.7/site-packages (from requests->fastai) (1.24.1)\n",
      "Requirement already satisfied, skipping upgrade: idna<2.9,>=2.5 in /opt/anaconda3/lib/python3.7/site-packages (from requests->fastai) (2.8)\n",
      "Requirement already satisfied, skipping upgrade: certifi>=2017.4.17 in /opt/anaconda3/lib/python3.7/site-packages (from requests->fastai) (2018.11.29)\n",
      "Requirement already satisfied, skipping upgrade: chardet<3.1.0,>=3.0.2 in /opt/anaconda3/lib/python3.7/site-packages (from requests->fastai) (3.0.4)\n",
      "Requirement already satisfied, skipping upgrade: setuptools in /opt/anaconda3/lib/python3.7/site-packages (from kiwisolver>=1.0.1->matplotlib->fastai) (40.6.3)\n",
      "Requirement already satisfied, skipping upgrade: msgpack<0.6.0,>=0.5.6 in /opt/anaconda3/lib/python3.7/site-packages (from thinc<6.13.0,>=6.12.1->spacy>=2.0.18->fastai) (0.5.6)\n",
      "Requirement already satisfied, skipping upgrade: msgpack-numpy<0.4.4 in /opt/anaconda3/lib/python3.7/site-packages (from thinc<6.13.0,>=6.12.1->spacy>=2.0.18->fastai) (0.4.3.2)\n",
      "Requirement already satisfied, skipping upgrade: cytoolz<0.10,>=0.9.0 in /opt/anaconda3/lib/python3.7/site-packages (from thinc<6.13.0,>=6.12.1->spacy>=2.0.18->fastai) (0.9.0.1)\n",
      "Requirement already satisfied, skipping upgrade: wrapt<1.11.0,>=1.10.0 in /opt/anaconda3/lib/python3.7/site-packages (from thinc<6.13.0,>=6.12.1->spacy>=2.0.18->fastai) (1.10.11)\n",
      "Requirement already satisfied, skipping upgrade: tqdm<5.0.0,>=4.10.0 in /opt/anaconda3/lib/python3.7/site-packages (from thinc<6.13.0,>=6.12.1->spacy>=2.0.18->fastai) (4.28.1)\n",
      "Requirement already satisfied, skipping upgrade: toolz>=0.8.0 in /opt/anaconda3/lib/python3.7/site-packages (from cytoolz<0.10,>=0.9.0->thinc<6.13.0,>=6.12.1->spacy>=2.0.18->fastai) (0.9.0)\n",
      "Installing collected packages: fastai\n",
      "  Found existing installation: fastai 1.0.50.post1\n",
      "    Uninstalling fastai-1.0.50.post1:\n",
      "      Successfully uninstalled fastai-1.0.50.post1\n",
      "  Rolling back uninstall of fastai\n",
      "\u001b[31mCould not install packages due to an EnvironmentError: [Errno 13] Permission denied: '/opt/anaconda3/lib/python3.7/site-packages/fastai/__init__.py'\n",
      "Consider using the `--user` option or check the permissions.\n",
      "\u001b[0m\n"
     ]
    }
   ],
   "source": [
    "!pip install fastai --upgrade"
   ]
  },
  {
   "cell_type": "markdown",
   "metadata": {},
   "source": [
    "## Step 2. Import necessary modules."
   ]
  },
  {
   "cell_type": "code",
   "execution_count": 1,
   "metadata": {
    "colab": {},
    "colab_type": "code",
    "collapsed": true,
    "id": "y8jnu89DnBtB"
   },
   "outputs": [],
   "source": [
    "from fastai.text import *\n",
    "import numpy as np\n",
    "from sklearn.model_selection import train_test_split\n",
    "import pickle\n",
    "import sentencepiece as spm"
   ]
  },
  {
   "cell_type": "code",
   "execution_count": 2,
   "metadata": {
    "colab": {},
    "colab_type": "code",
    "collapsed": true,
    "id": "B2PX5-Ysmg_Y"
   },
   "outputs": [],
   "source": [
    "%reload_ext autoreload\n",
    "%autoreload 2\n",
    "%matplotlib inline"
   ]
  },
  {
   "cell_type": "code",
   "execution_count": 3,
   "metadata": {
    "colab": {
     "base_uri": "https://localhost:8080/",
     "height": 35
    },
    "colab_type": "code",
    "id": "Grnm1xnJnDz4",
    "outputId": "5bc8a832-d82a-4958-e20a-ed2f0b17e2a7"
   },
   "outputs": [
    {
     "data": {
      "text/plain": [
       "('1.0.50.post1', '1.0.0')"
      ]
     },
     "execution_count": 3,
     "metadata": {},
     "output_type": "execute_result"
    }
   ],
   "source": [
    "import fastai, torch\n",
    "fastai.__version__ , torch.__version__"
   ]
  },
  {
   "cell_type": "markdown",
   "metadata": {},
   "source": [
    "## Step 3. Turn on GPU support."
   ]
  },
  {
   "cell_type": "code",
   "execution_count": 4,
   "metadata": {
    "colab": {},
    "colab_type": "code",
    "collapsed": true,
    "id": "zjVLJcJFnGk5"
   },
   "outputs": [],
   "source": [
    "torch.cuda.set_device(0)"
   ]
  },
  {
   "cell_type": "markdown",
   "metadata": {},
   "source": [
    "# Part II. Get data."
   ]
  },
  {
   "cell_type": "markdown",
   "metadata": {},
   "source": [
    "## Step 4. Get list of text files for training, and create validation subset of 20%"
   ]
  },
  {
   "cell_type": "code",
   "execution_count": 5,
   "metadata": {
    "colab": {},
    "colab_type": "code",
    "collapsed": true,
    "id": "lN60HogbnJvI"
   },
   "outputs": [],
   "source": [
    "path = Path('.')"
   ]
  },
  {
   "cell_type": "markdown",
   "metadata": {},
   "source": [
    "### change the following to tawiki_small if you want to train on all 12000 articles. The small one here is a subset of 40000 articles for quick testing."
   ]
  },
  {
   "cell_type": "code",
   "execution_count": null,
   "metadata": {
    "colab": {
     "base_uri": "https://localhost:8080/",
     "height": 35
    },
    "colab_type": "code",
    "collapsed": true,
    "id": "iR9sJEytnNYX",
    "outputId": "26457d8a-d555-44a1-c5cb-29f2847d51bd"
   },
   "outputs": [],
   "source": [
    "p = path.glob('../corpus/tawiki/tawiki_large/*/*.txt')\n",
    "files = [str(x) for x in p if x.is_file()]\n",
    "len(files)"
   ]
  },
  {
   "cell_type": "markdown",
   "metadata": {},
   "source": [
    "## Please note: if you want to quick experiment on this data to get a feel for the code, please choose a smaller subset of files.\n",
    " you can modify the following line to choose only 20 of the 447 files.\n",
    " \n",
    " train_files, test_files = train_test_split(files*[:20]*, test_size=0.2)"
   ]
  },
  {
   "cell_type": "code",
   "execution_count": 10,
   "metadata": {
    "colab": {},
    "colab_type": "code",
    "collapsed": true,
    "id": "VJZRIcK6nbnL"
   },
   "outputs": [],
   "source": [
    "train_files, test_files = train_test_split(files, test_size=0.2)"
   ]
  },
  {
   "cell_type": "code",
   "execution_count": 11,
   "metadata": {
    "colab": {
     "base_uri": "https://localhost:8080/",
     "height": 35
    },
    "colab_type": "code",
    "id": "hcDJVUhJny9W",
    "outputId": "e13602d5-ded6-474d-ddf7-4fe2dfddec92"
   },
   "outputs": [
    {
     "data": {
      "text/plain": [
       "(357, 90)"
      ]
     },
     "execution_count": 11,
     "metadata": {},
     "output_type": "execute_result"
    }
   ],
   "source": [
    "len(train_files), len(test_files)"
   ]
  },
  {
   "cell_type": "code",
   "execution_count": 12,
   "metadata": {
    "colab": {},
    "colab_type": "code",
    "collapsed": true,
    "id": "Lgi8MjMjioRC"
   },
   "outputs": [],
   "source": [
    "def get_article_count(filelist):\n",
    "  AC=0\n",
    "  for f in filelist:\n",
    "    with open(f, encoding='utf-8') as fp:\n",
    "      text=fp.read()\n",
    "      AC+=text.count('<doc id')\n",
    "  return AC"
   ]
  },
  {
   "cell_type": "code",
   "execution_count": 13,
   "metadata": {
    "colab": {
     "base_uri": "https://localhost:8080/",
     "height": 35
    },
    "colab_type": "code",
    "id": "IJB5XHB-i6BM",
    "outputId": "87652596-11f9-487f-d56a-6f37d0370811"
   },
   "outputs": [
    {
     "data": {
      "text/plain": [
       "(102126, 25255)"
      ]
     },
     "execution_count": 13,
     "metadata": {},
     "output_type": "execute_result"
    }
   ],
   "source": [
    "get_article_count(train_files), get_article_count(test_files)"
   ]
  },
  {
   "cell_type": "markdown",
   "metadata": {},
   "source": [
    "## Step 5. Copy files from tamil wiki into train and valid folders"
   ]
  },
  {
   "cell_type": "code",
   "execution_count": 14,
   "metadata": {
    "colab": {
     "base_uri": "https://localhost:8080/",
     "height": 69
    },
    "colab_type": "code",
    "collapsed": true,
    "id": "Ik0ciqcBoGKy",
    "outputId": "bdf913e5-46e3-44dc-d116-2832700c9509"
   },
   "outputs": [],
   "source": [
    "!mkdir TamilWikiDataset\n",
    "!mkdir TamilWikiDataset/train\n",
    "!mkdir TamilWikiDataset/valid"
   ]
  },
  {
   "cell_type": "code",
   "execution_count": 15,
   "metadata": {
    "colab": {},
    "colab_type": "code",
    "collapsed": true,
    "id": "dkDkZNiOn2YN"
   },
   "outputs": [],
   "source": [
    "# Preparing dataset for fastai\n",
    "for file in train_files:\n",
    "    with open(file, encoding='utf-8') as f:\n",
    "        text = f.read()\n",
    "    with open(path/'TamilWikiDataset'/'train'/(str(file).split('/')[-1]), \"w\") as text_file:\n",
    "        text_file.write(text)"
   ]
  },
  {
   "cell_type": "code",
   "execution_count": 16,
   "metadata": {
    "colab": {},
    "colab_type": "code",
    "collapsed": true,
    "id": "6dfzJHzNoSff"
   },
   "outputs": [],
   "source": [
    "for file in test_files:\n",
    "    with open(file, encoding='utf-8') as f:\n",
    "        text = f.read()\n",
    "    with open(path/'TamilWikiDataset'/'valid'/(str(file).split('/')[-1]), \"w\") as text_file:\n",
    "        text_file.write(text)"
   ]
  },
  {
   "cell_type": "code",
   "execution_count": 17,
   "metadata": {
    "colab": {
     "base_uri": "https://localhost:8080/",
     "height": 6201
    },
    "colab_type": "code",
    "collapsed": true,
    "id": "hxw6AUsRDoQ8",
    "outputId": "b9250c04-76ef-45b0-9ec7-986d828c2535"
   },
   "outputs": [],
   "source": [
    "#!zip -r train.zip TamilWikiDataset/train"
   ]
  },
  {
   "cell_type": "code",
   "execution_count": 18,
   "metadata": {
    "colab": {
     "base_uri": "https://localhost:8080/",
     "height": 1589
    },
    "colab_type": "code",
    "collapsed": true,
    "id": "7eLWYQ6BDosd",
    "outputId": "8e4eb8f7-491b-45ab-8473-64aabbb68142"
   },
   "outputs": [],
   "source": [
    "#!zip -r valid.zip TamilWikiDataset/valid"
   ]
  },
  {
   "cell_type": "markdown",
   "metadata": {},
   "source": [
    "# Part III. Setup learner"
   ]
  },
  {
   "cell_type": "markdown",
   "metadata": {},
   "source": [
    "## Step 6. Define Tamil Tokenizer by wrapping our SP model. "
   ]
  },
  {
   "cell_type": "markdown",
   "metadata": {},
   "source": [
    "#### We are creating a tokenizer that will use the rules from the sentencepiece model, to split each sentence into its root parts."
   ]
  },
  {
   "cell_type": "code",
   "execution_count": 19,
   "metadata": {
    "colab": {},
    "colab_type": "code",
    "collapsed": true,
    "id": "BhdVU9NSmJHp"
   },
   "outputs": [],
   "source": [
    "#class TamilTokenizer(BaseTokenizer):\n",
    "#    def __init__(self, lang:str):\n",
    "#        self.lang = lang\n",
    "#        self.sp = spm.SentencePieceProcessor()\n",
    "#        self.sp.Load(str(\"tamil_spm_8k.model\"))\n",
    "#        \n",
    "#    def tokenizer(self, t:str) -> List[str]:\n",
    "#        return self.sp.EncodeAsPieces(t)"
   ]
  },
  {
   "cell_type": "markdown",
   "metadata": {},
   "source": [
    "### I am placing this inside inltk package, to allow inltk to use this tokenizer"
   ]
  },
  {
   "cell_type": "code",
   "execution_count": 6,
   "metadata": {
    "collapsed": true
   },
   "outputs": [],
   "source": [
    "from inltk.tokenizer import TamilTokenizer"
   ]
  },
  {
   "cell_type": "code",
   "execution_count": 7,
   "metadata": {
    "colab": {},
    "colab_type": "code",
    "collapsed": true,
    "id": "V5PFgPbLolhr"
   },
   "outputs": [],
   "source": [
    "sp = spm.SentencePieceProcessor()\n",
    "sp.Load(str('tamil_spm_8k.model'))\n",
    "itos = [sp.IdToPiece(int(i)) for i in range(8000)]"
   ]
  },
  {
   "cell_type": "code",
   "execution_count": 8,
   "metadata": {
    "colab": {},
    "colab_type": "code",
    "collapsed": true,
    "id": "5gtnD-okorAR"
   },
   "outputs": [],
   "source": [
    "tamil_vocab = Vocab(itos)"
   ]
  },
  {
   "cell_type": "code",
   "execution_count": 9,
   "metadata": {
    "colab": {},
    "colab_type": "code",
    "collapsed": true,
    "id": "46wIzsm_pCgk"
   },
   "outputs": [],
   "source": [
    "tokenizer = Tokenizer(tok_func=TamilTokenizer, lang='ta')"
   ]
  },
  {
   "cell_type": "code",
   "execution_count": 10,
   "metadata": {
    "colab": {
     "base_uri": "https://localhost:8080/",
     "height": 173
    },
    "colab_type": "code",
    "id": "8VFukVAipIfj",
    "outputId": "64882e15-85ae-44bc-dda2-97e768f00116"
   },
   "outputs": [
    {
     "data": {
      "text/plain": [
       "['xxunk',\n",
       " 'xxpad',\n",
       " 'xxbos',\n",
       " 'xxeos',\n",
       " 'xxfld',\n",
       " 'xxmaj',\n",
       " 'xxup',\n",
       " 'xxrep',\n",
       " 'xxwrep']"
      ]
     },
     "execution_count": 10,
     "metadata": {},
     "output_type": "execute_result"
    }
   ],
   "source": [
    "tokenizer.special_cases"
   ]
  },
  {
   "cell_type": "markdown",
   "metadata": {},
   "source": [
    "## Step 7. Create Fast AI Data generator from the train and valid paths."
   ]
  },
  {
   "cell_type": "code",
   "execution_count": 25,
   "metadata": {
    "colab": {},
    "colab_type": "code",
    "collapsed": true,
    "id": "27mkuLLHpOGy"
   },
   "outputs": [],
   "source": [
    "data_lm = TextLMDataBunch.from_folder(path=path/'TamilWikiDataset', tokenizer=tokenizer, vocab=tamil_vocab)"
   ]
  },
  {
   "cell_type": "code",
   "execution_count": 26,
   "metadata": {
    "colab": {
     "base_uri": "https://localhost:8080/",
     "height": 35
    },
    "colab_type": "code",
    "id": "kIALPhGSpR6i",
    "outputId": "b77406cf-12f2-4c37-e747-135718bd7f81"
   },
   "outputs": [
    {
     "data": {
      "text/plain": [
       "64"
      ]
     },
     "execution_count": 26,
     "metadata": {},
     "output_type": "execute_result"
    }
   ],
   "source": [
    "data_lm.batch_size"
   ]
  },
  {
   "cell_type": "code",
   "execution_count": 27,
   "metadata": {
    "colab": {},
    "colab_type": "code",
    "collapsed": true,
    "id": "LJJUt5e7pVHY"
   },
   "outputs": [],
   "source": [
    "data_lm.save('data_lm_tawiki_8k.pkl')"
   ]
  },
  {
   "cell_type": "code",
   "execution_count": 28,
   "metadata": {
    "colab": {
     "base_uri": "https://localhost:8080/",
     "height": 440
    },
    "colab_type": "code",
    "id": "sRXTWQA7pXjg",
    "outputId": "59043ec4-fba5-4eb2-905e-4286dc890d23"
   },
   "outputs": [
    {
     "data": {
      "text/html": [
       "<table border=\"1\" class=\"dataframe\">\n",
       "  <thead>\n",
       "    <tr style=\"text-align: right;\">\n",
       "      <th>idx</th>\n",
       "      <th>text</th>\n",
       "    </tr>\n",
       "  </thead>\n",
       "  <tbody>\n",
       "    <tr>\n",
       "      <td>0</td>\n",
       "      <td>▁c ric k et &lt;unk&gt; ▁a s s o ci ation &lt;unk&gt; ▁s ta d ium ) ▁என்பது ▁ராஜ் கோட் , இந்தியா வில் ▁உள்ள ▁துடுப்பாட்ட ▁அரங்க ம் ▁ஆகும் . ▁இது ▁இது ▁காந்த ேரி ▁துடுப்பாட்ட ▁அரங்க ம் ▁எனவும் ▁ அழைக்கப்படுகிறது ) ▁ , ▁இது ▁குசராத் து ▁மாநிலத்தின் ▁முதல் ▁சூரிய ▁ஆற்றல் ▁அரங்க ம் ▁ஆகும் . ▁நவம்பர் ▁ , ▁2015 ▁இல் ▁இந்த ▁அரங்க ம் ▁உட்பட ▁இந்தியாவில் ▁உள்ள ▁ஆறு ▁புதிய ▁துடுப்பாட்ட ▁அரங்க ு</td>\n",
       "    </tr>\n",
       "    <tr>\n",
       "      <td>1</td>\n",
       "      <td>▁ / ▁ wiki ? curi d = 21 08 22 \" ▁title =\" தமிழ் ▁மொழியில் ▁உள்ள ▁பேச்சு ▁வழக்கில் ▁திரி ந்த ▁தமிழ்ச் ▁சொற்கள் \"&gt; ▁தமிழ் ▁மொழியில் ▁உள்ள ▁பேச்சு ▁வழக்கில் ▁திரி ந்த ▁தமிழ்ச் ▁சொற்கள் ▁தமிழ் ▁மொழியில் ▁உள்ள ▁சில ▁சொற்கள் ▁காலப்போக்கில் ▁பேச்சு ▁வழக்கில் ▁பொருள் ▁திரி ந்து ▁எழுத்துக்கள் ▁திரி ந்து ▁உள்ளன . ▁அவற்றின் ▁தொகுப்பு . ▁&lt; ▁ / ▁ doc &gt; ▁&lt; doc ▁id =\" 21 08 23\" ▁ url =\" https</td>\n",
       "    </tr>\n",
       "    <tr>\n",
       "      <td>2</td>\n",
       "      <td>சி க் மக ளூர் \"&gt; ▁சி க் மக ளூர் ▁சி க் மக ளூர் ▁(\" &lt;unk&gt; ch ick ma g al ur \") ▁இந்தியாவின் ▁கர்நாடகா ▁மாநிலத்தில் ▁சி க்க ம கள ூ ரு ▁மாவட்டத்தில் ▁அமைந்துள்ள ▁ஒரு ▁நகரம் . ▁குளம் பி க்கு ▁( co ff ee ) ▁புகழ்பெற்ற ▁மு ல்ல யா நகர ி ▁மலைத்தொடர் ▁அடி வார த்தில் ▁சி க் ம ங்கள ூர் ▁அமைந்துள்ளது , ▁இது ▁கர்நாடகா வின் ▁குளம் பி ▁விளை யும் ▁நில</td>\n",
       "    </tr>\n",
       "    <tr>\n",
       "      <td>3</td>\n",
       "      <td>▁1 20 ▁மில்லி ▁ஆம் பியர் ▁வரையிலும் ▁உள்ளது . ▁இவ்விரு ▁மின்னோட்ட ங்களும் ▁தனித்தனி யான வை யான ாலும் ▁ஒன்ற ி ற்க ொன்று ▁தொடர்புடைய ன . ▁இவை களை ▁இணைக்கும் ▁ஒரு ▁காரணி ▁எதிர்மின் ▁முனை க்கரு கில் ▁காணப்படும் ▁இட ▁மின்ன ூட்ட மாகும் ▁(\" s p ace ▁c har ge \") . ▁குழாய ில் ▁இரு மின் ▁முனை களுக்கு முள்ள ▁மின் ▁அழுத்த ▁வேறுபாடு ▁( p . d ) ▁குறைவாக ▁உள்ள போது , ▁இழை யிலிருந்து ▁இலத்திரன் கள்</td>\n",
       "    </tr>\n",
       "    <tr>\n",
       "      <td>4</td>\n",
       "      <td>ங்கள் ▁இடம்பெற்ற ுள்ள ▁ஒரு ▁சம் பிர தா ய ▁மத மாக ▁இருந்தது . ▁இதனால் ▁ஓவிய ம் ▁மற்றும் ▁சிற்பங்கள் ▁உள்ள ▁பட ங்கள் ▁உட்பட்ட ▁மத ப் ▁பொருட்களை ▁உருவாக்கும் ▁ஊக்க ம் ▁உ ண்ட ானது . ▁1930 ▁ களில் ▁ஸ்டா லி னின் ▁சீர்திருத்த க் ▁கருத்து களுக்குப் ▁பிறகு ▁பௌத்த ம் ▁மற்றும் ▁மத குரு ▁நம்பிக்கை கள் ▁மங்கோலிய ▁மக்கள் ▁குடியரச ில் ▁செல்வ ாக்க ிழந்த ன . ▁உட்புற ▁மங்கோலிய ாவில் ▁பாரம்பரிய ▁மத க் கொள் கை கள் ▁பாதிக்கப்பட்ட ு</td>\n",
       "    </tr>\n",
       "  </tbody>\n",
       "</table>"
      ],
      "text/plain": [
       "<IPython.core.display.HTML object>"
      ]
     },
     "metadata": {},
     "output_type": "display_data"
    }
   ],
   "source": [
    "data_lm.show_batch()"
   ]
  },
  {
   "cell_type": "code",
   "execution_count": 29,
   "metadata": {
    "colab": {
     "base_uri": "https://localhost:8080/",
     "height": 35
    },
    "colab_type": "code",
    "id": "vVI3riA8paS3",
    "outputId": "99ca1874-a5a2-4f00-e7e8-89f4531939ce"
   },
   "outputs": [
    {
     "data": {
      "text/plain": [
       "8000"
      ]
     },
     "execution_count": 29,
     "metadata": {},
     "output_type": "execute_result"
    }
   ],
   "source": [
    "len(data_lm.vocab.itos)"
   ]
  },
  {
   "cell_type": "markdown",
   "metadata": {
    "colab_type": "text",
    "id": "2eP2YMhDekDF"
   },
   "source": [
    "## Step 8. Create a LM Learner object and run it once to estimate good learning rate."
   ]
  },
  {
   "cell_type": "code",
   "execution_count": 13,
   "metadata": {
    "colab": {},
    "colab_type": "code",
    "collapsed": true,
    "id": "uFcI91lTvgBV"
   },
   "outputs": [],
   "source": [
    "data_lm = load_data('TamilWikiDataset', 'data_lm_tawiki_8k.pkl')"
   ]
  },
  {
   "cell_type": "code",
   "execution_count": 14,
   "metadata": {
    "colab": {},
    "colab_type": "code",
    "collapsed": true,
    "id": "Y1r5RCuypjsG"
   },
   "outputs": [],
   "source": [
    "learn = language_model_learner(data_lm, AWD_LSTM, drop_mult=0.3, pretrained=False)"
   ]
  },
  {
   "cell_type": "code",
   "execution_count": 15,
   "metadata": {
    "colab": {
     "base_uri": "https://localhost:8080/",
     "height": 35
    },
    "colab_type": "code",
    "id": "0yybfjejprBU",
    "outputId": "b2a72e5f-23b7-420d-df9f-2f2315c00ae5"
   },
   "outputs": [
    {
     "data": {
      "text/plain": [
       "19"
      ]
     },
     "execution_count": 15,
     "metadata": {},
     "output_type": "execute_result"
    }
   ],
   "source": [
    "gc.collect()"
   ]
  },
  {
   "cell_type": "markdown",
   "metadata": {},
   "source": [
    "# Part IV. Train."
   ]
  },
  {
   "cell_type": "code",
   "execution_count": 33,
   "metadata": {
    "colab": {
     "base_uri": "https://localhost:8080/",
     "height": 35
    },
    "colab_type": "code",
    "id": "qXYCz5voqodX",
    "outputId": "32a2a937-799f-4813-d970-fa6c77716b48"
   },
   "outputs": [
    {
     "data": {
      "text/html": [],
      "text/plain": [
       "<IPython.core.display.HTML object>"
      ]
     },
     "metadata": {},
     "output_type": "display_data"
    },
    {
     "name": "stdout",
     "output_type": "stream",
     "text": [
      "LR Finder is complete, type {learner_name}.recorder.plot() to see the graph.\n"
     ]
    }
   ],
   "source": [
    "learn.lr_find()"
   ]
  },
  {
   "cell_type": "code",
   "execution_count": 34,
   "metadata": {
    "colab": {
     "base_uri": "https://localhost:8080/",
     "height": 361
    },
    "colab_type": "code",
    "id": "OjGZ5zP4qrat",
    "outputId": "9fdd2b83-535e-48fc-86c3-33e841eeb56b"
   },
   "outputs": [
    {
     "data": {
      "image/png": "[encoded data removed]",
      "text/plain": [
       "<Figure size 432x288 with 1 Axes>"
      ]
     },
     "metadata": {
      "needs_background": "light"
     },
     "output_type": "display_data"
    }
   ],
   "source": [
    "learn.recorder.plot()"
   ]
  },
  {
   "cell_type": "markdown",
   "metadata": {},
   "source": [
    "## Step 9. Fit one cycle using an appropriate learning rate and save the model if you like it."
   ]
  },
  {
   "cell_type": "code",
   "execution_count": 35,
   "metadata": {
    "colab": {
     "base_uri": "https://localhost:8080/",
     "height": 101
    },
    "colab_type": "code",
    "id": "TD26zizeqtw0",
    "outputId": "079fbff5-5722-4b15-a8eb-a1b137af4e0f"
   },
   "outputs": [
    {
     "data": {
      "text/html": [
       "Total time: 1:00:35 <p><table border=\"1\" class=\"dataframe\">\n",
       "  <thead>\n",
       "    <tr style=\"text-align: left;\">\n",
       "      <th>epoch</th>\n",
       "      <th>train_loss</th>\n",
       "      <th>valid_loss</th>\n",
       "      <th>accuracy</th>\n",
       "      <th>time</th>\n",
       "    </tr>\n",
       "  </thead>\n",
       "  <tbody>\n",
       "    <tr>\n",
       "      <td>0</td>\n",
       "      <td>3.890449</td>\n",
       "      <td>3.762490</td>\n",
       "      <td>0.357238</td>\n",
       "      <td>1:00:35</td>\n",
       "    </tr>\n",
       "  </tbody>\n",
       "</table>"
      ],
      "text/plain": [
       "<IPython.core.display.HTML object>"
      ]
     },
     "metadata": {},
     "output_type": "display_data"
    }
   ],
   "source": [
    "learn.fit_one_cycle(1, 1e-2, moms=(0.8,0.7))"
   ]
  },
  {
   "cell_type": "code",
   "execution_count": 36,
   "metadata": {
    "colab": {},
    "colab_type": "code",
    "collapsed": true,
    "id": "nZXPvFvYq6fq"
   },
   "outputs": [],
   "source": [
    "learn.save('wikita_8k_447_first', with_opt=True)"
   ]
  },
  {
   "cell_type": "code",
   "execution_count": 37,
   "metadata": {
    "colab": {},
    "colab_type": "code",
    "collapsed": true,
    "id": "8IvrTR9Bq-_5"
   },
   "outputs": [],
   "source": [
    "learn.load('wikita_8k_447_first', with_opt=True);"
   ]
  },
  {
   "cell_type": "code",
   "execution_count": 38,
   "metadata": {},
   "outputs": [
    {
     "data": {
      "text/plain": [
       "43.05162599159145"
      ]
     },
     "execution_count": 38,
     "metadata": {},
     "output_type": "execute_result"
    }
   ],
   "source": [
    "np.exp(3.7624)"
   ]
  },
  {
   "cell_type": "markdown",
   "metadata": {},
   "source": [
    "## Step 10. Now fit a few more cycles."
   ]
  },
  {
   "cell_type": "code",
   "execution_count": 39,
   "metadata": {
    "colab": {},
    "colab_type": "code",
    "collapsed": true,
    "id": "cjr8tciMrA7g"
   },
   "outputs": [],
   "source": [
    "learn.unfreeze()"
   ]
  },
  {
   "cell_type": "code",
   "execution_count": 40,
   "metadata": {
    "colab": {
     "base_uri": "https://localhost:8080/",
     "height": 101
    },
    "colab_type": "code",
    "id": "hpRsAQbkrItO",
    "outputId": "e73ebf03-a7a3-4dcb-c3d8-fc66ff7bb8cb"
   },
   "outputs": [
    {
     "data": {
      "text/html": [
       "Total time: 5:01:00 <p><table border=\"1\" class=\"dataframe\">\n",
       "  <thead>\n",
       "    <tr style=\"text-align: left;\">\n",
       "      <th>epoch</th>\n",
       "      <th>train_loss</th>\n",
       "      <th>valid_loss</th>\n",
       "      <th>accuracy</th>\n",
       "      <th>time</th>\n",
       "    </tr>\n",
       "  </thead>\n",
       "  <tbody>\n",
       "    <tr>\n",
       "      <td>0</td>\n",
       "      <td>3.682452</td>\n",
       "      <td>3.898896</td>\n",
       "      <td>0.341597</td>\n",
       "      <td>1:00:19</td>\n",
       "    </tr>\n",
       "    <tr>\n",
       "      <td>1</td>\n",
       "      <td>3.829053</td>\n",
       "      <td>3.884494</td>\n",
       "      <td>0.342567</td>\n",
       "      <td>1:00:05</td>\n",
       "    </tr>\n",
       "    <tr>\n",
       "      <td>2</td>\n",
       "      <td>3.478386</td>\n",
       "      <td>3.672344</td>\n",
       "      <td>0.366506</td>\n",
       "      <td>1:00:14</td>\n",
       "    </tr>\n",
       "    <tr>\n",
       "      <td>3</td>\n",
       "      <td>3.480849</td>\n",
       "      <td>3.440922</td>\n",
       "      <td>0.394125</td>\n",
       "      <td>1:00:10</td>\n",
       "    </tr>\n",
       "    <tr>\n",
       "      <td>4</td>\n",
       "      <td>3.475762</td>\n",
       "      <td>3.332312</td>\n",
       "      <td>0.406661</td>\n",
       "      <td>1:00:11</td>\n",
       "    </tr>\n",
       "  </tbody>\n",
       "</table>"
      ],
      "text/plain": [
       "<IPython.core.display.HTML object>"
      ]
     },
     "metadata": {},
     "output_type": "display_data"
    }
   ],
   "source": [
    "learn.fit_one_cycle(5, 1e-2, moms=(0.8,0.7))"
   ]
  },
  {
   "cell_type": "code",
   "execution_count": 41,
   "metadata": {
    "colab": {},
    "colab_type": "code",
    "collapsed": true,
    "id": "EQ7GEC2W3BDW"
   },
   "outputs": [],
   "source": [
    "learn.save('wikita_8k_447_second', with_opt=True)"
   ]
  },
  {
   "cell_type": "code",
   "execution_count": 16,
   "metadata": {
    "colab": {},
    "colab_type": "code",
    "collapsed": true,
    "id": "UGegtbfq3Dzs"
   },
   "outputs": [],
   "source": [
    "learn.load('wikita_8k_447_second', with_opt=True);"
   ]
  },
  {
   "cell_type": "markdown",
   "metadata": {},
   "source": [
    "## Step 11. Finally, with smaller learning rate fine tune the model for lot more iterations."
   ]
  },
  {
   "cell_type": "code",
   "execution_count": 42,
   "metadata": {
    "colab": {
     "base_uri": "https://localhost:8080/",
     "height": 1498
    },
    "colab_type": "code",
    "id": "Jq0tUpNO5AcT",
    "outputId": "62d4657b-6238-4715-ee47-480425c1850d"
   },
   "outputs": [
    {
     "data": {
      "text/html": [
       "\n",
       "    <div>\n",
       "        <style>\n",
       "            /* Turns off some styling */\n",
       "            progress {\n",
       "                /* gets rid of default border in Firefox and Opera. */\n",
       "                border: none;\n",
       "                /* Needs to be in here for Safari polyfill so background images work as expected. */\n",
       "                background-size: auto;\n",
       "            }\n",
       "            .progress-bar-interrupted, .progress-bar-interrupted::-webkit-progress-bar {\n",
       "                background: #F44336;\n",
       "            }\n",
       "        </style>\n",
       "      <progress value='8' class='' max='10', style='width:300px; height:20px; vertical-align: middle;'></progress>\n",
       "      80.00% [8/10 7:25:01<1:51:15]\n",
       "    </div>\n",
       "    \n",
       "<table border=\"1\" class=\"dataframe\">\n",
       "  <thead>\n",
       "    <tr style=\"text-align: left;\">\n",
       "      <th>epoch</th>\n",
       "      <th>train_loss</th>\n",
       "      <th>valid_loss</th>\n",
       "      <th>accuracy</th>\n",
       "      <th>time</th>\n",
       "    </tr>\n",
       "  </thead>\n",
       "  <tbody>\n",
       "    <tr>\n",
       "      <td>0</td>\n",
       "      <td>3.273025</td>\n",
       "      <td>3.223268</td>\n",
       "      <td>0.500000</td>\n",
       "      <td>55:32</td>\n",
       "    </tr>\n",
       "    <tr>\n",
       "      <td>1</td>\n",
       "      <td>3.241727</td>\n",
       "      <td>3.258525</td>\n",
       "      <td>0.514286</td>\n",
       "      <td>55:29</td>\n",
       "    </tr>\n",
       "    <tr>\n",
       "      <td>2</td>\n",
       "      <td>3.188190</td>\n",
       "      <td>3.144011</td>\n",
       "      <td>0.500000</td>\n",
       "      <td>55:36</td>\n",
       "    </tr>\n",
       "    <tr>\n",
       "      <td>3</td>\n",
       "      <td>3.239507</td>\n",
       "      <td>3.027930</td>\n",
       "      <td>0.528571</td>\n",
       "      <td>55:37</td>\n",
       "    </tr>\n",
       "    <tr>\n",
       "      <td>4</td>\n",
       "      <td>3.316402</td>\n",
       "      <td>3.049245</td>\n",
       "      <td>0.514286</td>\n",
       "      <td>55:37</td>\n",
       "    </tr>\n",
       "    <tr>\n",
       "      <td>5</td>\n",
       "      <td>3.221811</td>\n",
       "      <td>3.049403</td>\n",
       "      <td>0.514286</td>\n",
       "      <td>55:43</td>\n",
       "    </tr>\n",
       "    <tr>\n",
       "      <td>6</td>\n",
       "      <td>3.225265</td>\n",
       "      <td>3.028381</td>\n",
       "      <td>0.528571</td>\n",
       "      <td>55:39</td>\n",
       "    </tr>\n",
       "    <tr>\n",
       "      <td>7</td>\n",
       "      <td>2.759860</td>\n",
       "      <td>2.986449</td>\n",
       "      <td>0.514286</td>\n",
       "      <td>55:45</td>\n",
       "    </tr>\n",
       "  </tbody>\n",
       "</table><p>\n",
       "\n",
       "    <div>\n",
       "        <style>\n",
       "            /* Turns off some styling */\n",
       "            progress {\n",
       "                /* gets rid of default border in Firefox and Opera. */\n",
       "                border: none;\n",
       "                /* Needs to be in here for Safari polyfill so background images work as expected. */\n",
       "                background-size: auto;\n",
       "            }\n",
       "            .progress-bar-interrupted, .progress-bar-interrupted::-webkit-progress-bar {\n",
       "                background: #F44336;\n",
       "            }\n",
       "        </style>\n",
       "      <progress value='0' class='progress-bar-interrupted' max='7714', style='width:300px; height:20px; vertical-align: middle;'></progress>\n",
       "      Interrupted\n",
       "    </div>\n",
       "    "
      ],
      "text/plain": [
       "<IPython.core.display.HTML object>"
      ]
     },
     "metadata": {},
     "output_type": "display_data"
    },
    {
     "ename": "KeyboardInterrupt",
     "evalue": "",
     "output_type": "error",
     "traceback": [
      "\u001b[0;31m---------------------------------------------------------------------------\u001b[0m",
      "\u001b[0;31mKeyboardInterrupt\u001b[0m                         Traceback (most recent call last)",
      "\u001b[0;32m<ipython-input-42-161bd06a200b>\u001b[0m in \u001b[0;36m<module>\u001b[0;34m\u001b[0m\n\u001b[0;32m----> 1\u001b[0;31m \u001b[0mlearn\u001b[0m\u001b[0;34m.\u001b[0m\u001b[0mfit_one_cycle\u001b[0m\u001b[0;34m(\u001b[0m\u001b[0;36m10\u001b[0m\u001b[0;34m,\u001b[0m \u001b[0;36m1e-3\u001b[0m\u001b[0;34m,\u001b[0m \u001b[0mmoms\u001b[0m\u001b[0;34m=\u001b[0m\u001b[0;34m(\u001b[0m\u001b[0;36m0.8\u001b[0m\u001b[0;34m,\u001b[0m\u001b[0;36m0.7\u001b[0m\u001b[0;34m)\u001b[0m\u001b[0;34m)\u001b[0m\u001b[0;34m\u001b[0m\u001b[0;34m\u001b[0m\u001b[0m\n\u001b[0m",
      "\u001b[0;32m~/.local/lib/python3.7/site-packages/fastai/train.py\u001b[0m in \u001b[0;36mfit_one_cycle\u001b[0;34m(learn, cyc_len, max_lr, moms, div_factor, pct_start, final_div, wd, callbacks, tot_epochs, start_epoch)\u001b[0m\n\u001b[1;32m     20\u001b[0m     callbacks.append(OneCycleScheduler(learn, max_lr, moms=moms, div_factor=div_factor, pct_start=pct_start,\n\u001b[1;32m     21\u001b[0m                                        final_div=final_div, tot_epochs=tot_epochs, start_epoch=start_epoch))\n\u001b[0;32m---> 22\u001b[0;31m     \u001b[0mlearn\u001b[0m\u001b[0;34m.\u001b[0m\u001b[0mfit\u001b[0m\u001b[0;34m(\u001b[0m\u001b[0mcyc_len\u001b[0m\u001b[0;34m,\u001b[0m \u001b[0mmax_lr\u001b[0m\u001b[0;34m,\u001b[0m \u001b[0mwd\u001b[0m\u001b[0;34m=\u001b[0m\u001b[0mwd\u001b[0m\u001b[0;34m,\u001b[0m \u001b[0mcallbacks\u001b[0m\u001b[0;34m=\u001b[0m\u001b[0mcallbacks\u001b[0m\u001b[0;34m)\u001b[0m\u001b[0;34m\u001b[0m\u001b[0;34m\u001b[0m\u001b[0m\n\u001b[0m\u001b[1;32m     23\u001b[0m \u001b[0;34m\u001b[0m\u001b[0m\n\u001b[1;32m     24\u001b[0m \u001b[0;32mdef\u001b[0m \u001b[0mlr_find\u001b[0m\u001b[0;34m(\u001b[0m\u001b[0mlearn\u001b[0m\u001b[0;34m:\u001b[0m\u001b[0mLearner\u001b[0m\u001b[0;34m,\u001b[0m \u001b[0mstart_lr\u001b[0m\u001b[0;34m:\u001b[0m\u001b[0mFloats\u001b[0m\u001b[0;34m=\u001b[0m\u001b[0;36m1e-7\u001b[0m\u001b[0;34m,\u001b[0m \u001b[0mend_lr\u001b[0m\u001b[0;34m:\u001b[0m\u001b[0mFloats\u001b[0m\u001b[0;34m=\u001b[0m\u001b[0;36m10\u001b[0m\u001b[0;34m,\u001b[0m \u001b[0mnum_it\u001b[0m\u001b[0;34m:\u001b[0m\u001b[0mint\u001b[0m\u001b[0;34m=\u001b[0m\u001b[0;36m100\u001b[0m\u001b[0;34m,\u001b[0m \u001b[0mstop_div\u001b[0m\u001b[0;34m:\u001b[0m\u001b[0mbool\u001b[0m\u001b[0;34m=\u001b[0m\u001b[0;32mTrue\u001b[0m\u001b[0;34m,\u001b[0m \u001b[0mwd\u001b[0m\u001b[0;34m:\u001b[0m\u001b[0mfloat\u001b[0m\u001b[0;34m=\u001b[0m\u001b[0;32mNone\u001b[0m\u001b[0;34m)\u001b[0m\u001b[0;34m:\u001b[0m\u001b[0;34m\u001b[0m\u001b[0;34m\u001b[0m\u001b[0m\n",
      "\u001b[0;32m~/.local/lib/python3.7/site-packages/fastai/basic_train.py\u001b[0m in \u001b[0;36mfit\u001b[0;34m(self, epochs, lr, wd, callbacks)\u001b[0m\n\u001b[1;32m    194\u001b[0m         \u001b[0mcallbacks\u001b[0m \u001b[0;34m=\u001b[0m \u001b[0;34m[\u001b[0m\u001b[0mcb\u001b[0m\u001b[0;34m(\u001b[0m\u001b[0mself\u001b[0m\u001b[0;34m)\u001b[0m \u001b[0;32mfor\u001b[0m \u001b[0mcb\u001b[0m \u001b[0;32min\u001b[0m \u001b[0mself\u001b[0m\u001b[0;34m.\u001b[0m\u001b[0mcallback_fns\u001b[0m\u001b[0;34m]\u001b[0m \u001b[0;34m+\u001b[0m \u001b[0mlistify\u001b[0m\u001b[0;34m(\u001b[0m\u001b[0mcallbacks\u001b[0m\u001b[0;34m)\u001b[0m\u001b[0;34m\u001b[0m\u001b[0;34m\u001b[0m\u001b[0m\n\u001b[1;32m    195\u001b[0m         \u001b[0;32mif\u001b[0m \u001b[0mdefaults\u001b[0m\u001b[0;34m.\u001b[0m\u001b[0mextra_callbacks\u001b[0m \u001b[0;32mis\u001b[0m \u001b[0;32mnot\u001b[0m \u001b[0;32mNone\u001b[0m\u001b[0;34m:\u001b[0m \u001b[0mcallbacks\u001b[0m \u001b[0;34m+=\u001b[0m \u001b[0mdefaults\u001b[0m\u001b[0;34m.\u001b[0m\u001b[0mextra_callbacks\u001b[0m\u001b[0;34m\u001b[0m\u001b[0;34m\u001b[0m\u001b[0m\n\u001b[0;32m--> 196\u001b[0;31m         \u001b[0mfit\u001b[0m\u001b[0;34m(\u001b[0m\u001b[0mepochs\u001b[0m\u001b[0;34m,\u001b[0m \u001b[0mself\u001b[0m\u001b[0;34m,\u001b[0m \u001b[0mmetrics\u001b[0m\u001b[0;34m=\u001b[0m\u001b[0mself\u001b[0m\u001b[0;34m.\u001b[0m\u001b[0mmetrics\u001b[0m\u001b[0;34m,\u001b[0m \u001b[0mcallbacks\u001b[0m\u001b[0;34m=\u001b[0m\u001b[0mself\u001b[0m\u001b[0;34m.\u001b[0m\u001b[0mcallbacks\u001b[0m\u001b[0;34m+\u001b[0m\u001b[0mcallbacks\u001b[0m\u001b[0;34m)\u001b[0m\u001b[0;34m\u001b[0m\u001b[0;34m\u001b[0m\u001b[0m\n\u001b[0m\u001b[1;32m    197\u001b[0m \u001b[0;34m\u001b[0m\u001b[0m\n\u001b[1;32m    198\u001b[0m     \u001b[0;32mdef\u001b[0m \u001b[0mcreate_opt\u001b[0m\u001b[0;34m(\u001b[0m\u001b[0mself\u001b[0m\u001b[0;34m,\u001b[0m \u001b[0mlr\u001b[0m\u001b[0;34m:\u001b[0m\u001b[0mFloats\u001b[0m\u001b[0;34m,\u001b[0m \u001b[0mwd\u001b[0m\u001b[0;34m:\u001b[0m\u001b[0mFloats\u001b[0m\u001b[0;34m=\u001b[0m\u001b[0;36m0.\u001b[0m\u001b[0;34m)\u001b[0m\u001b[0;34m->\u001b[0m\u001b[0;32mNone\u001b[0m\u001b[0;34m:\u001b[0m\u001b[0;34m\u001b[0m\u001b[0;34m\u001b[0m\u001b[0m\n",
      "\u001b[0;32m~/.local/lib/python3.7/site-packages/fastai/basic_train.py\u001b[0m in \u001b[0;36mfit\u001b[0;34m(epochs, learn, callbacks, metrics)\u001b[0m\n\u001b[1;32m     98\u001b[0m             \u001b[0;32mfor\u001b[0m \u001b[0mxb\u001b[0m\u001b[0;34m,\u001b[0m\u001b[0myb\u001b[0m \u001b[0;32min\u001b[0m \u001b[0mprogress_bar\u001b[0m\u001b[0;34m(\u001b[0m\u001b[0mlearn\u001b[0m\u001b[0;34m.\u001b[0m\u001b[0mdata\u001b[0m\u001b[0;34m.\u001b[0m\u001b[0mtrain_dl\u001b[0m\u001b[0;34m,\u001b[0m \u001b[0mparent\u001b[0m\u001b[0;34m=\u001b[0m\u001b[0mpbar\u001b[0m\u001b[0;34m)\u001b[0m\u001b[0;34m:\u001b[0m\u001b[0;34m\u001b[0m\u001b[0;34m\u001b[0m\u001b[0m\n\u001b[1;32m     99\u001b[0m                 \u001b[0mxb\u001b[0m\u001b[0;34m,\u001b[0m \u001b[0myb\u001b[0m \u001b[0;34m=\u001b[0m \u001b[0mcb_handler\u001b[0m\u001b[0;34m.\u001b[0m\u001b[0mon_batch_begin\u001b[0m\u001b[0;34m(\u001b[0m\u001b[0mxb\u001b[0m\u001b[0;34m,\u001b[0m \u001b[0myb\u001b[0m\u001b[0;34m)\u001b[0m\u001b[0;34m\u001b[0m\u001b[0;34m\u001b[0m\u001b[0m\n\u001b[0;32m--> 100\u001b[0;31m                 \u001b[0mloss\u001b[0m \u001b[0;34m=\u001b[0m \u001b[0mloss_batch\u001b[0m\u001b[0;34m(\u001b[0m\u001b[0mlearn\u001b[0m\u001b[0;34m.\u001b[0m\u001b[0mmodel\u001b[0m\u001b[0;34m,\u001b[0m \u001b[0mxb\u001b[0m\u001b[0;34m,\u001b[0m \u001b[0myb\u001b[0m\u001b[0;34m,\u001b[0m \u001b[0mlearn\u001b[0m\u001b[0;34m.\u001b[0m\u001b[0mloss_func\u001b[0m\u001b[0;34m,\u001b[0m \u001b[0mlearn\u001b[0m\u001b[0;34m.\u001b[0m\u001b[0mopt\u001b[0m\u001b[0;34m,\u001b[0m \u001b[0mcb_handler\u001b[0m\u001b[0;34m)\u001b[0m\u001b[0;34m\u001b[0m\u001b[0;34m\u001b[0m\u001b[0m\n\u001b[0m\u001b[1;32m    101\u001b[0m                 \u001b[0;32mif\u001b[0m \u001b[0mcb_handler\u001b[0m\u001b[0;34m.\u001b[0m\u001b[0mon_batch_end\u001b[0m\u001b[0;34m(\u001b[0m\u001b[0mloss\u001b[0m\u001b[0;34m)\u001b[0m\u001b[0;34m:\u001b[0m \u001b[0;32mbreak\u001b[0m\u001b[0;34m\u001b[0m\u001b[0;34m\u001b[0m\u001b[0m\n\u001b[1;32m    102\u001b[0m \u001b[0;34m\u001b[0m\u001b[0m\n",
      "\u001b[0;32m~/.local/lib/python3.7/site-packages/fastai/basic_train.py\u001b[0m in \u001b[0;36mloss_batch\u001b[0;34m(model, xb, yb, loss_func, opt, cb_handler)\u001b[0m\n\u001b[1;32m     32\u001b[0m         \u001b[0mloss\u001b[0m\u001b[0;34m,\u001b[0m\u001b[0mskip_bwd\u001b[0m \u001b[0;34m=\u001b[0m \u001b[0mcb_handler\u001b[0m\u001b[0;34m.\u001b[0m\u001b[0mon_backward_begin\u001b[0m\u001b[0;34m(\u001b[0m\u001b[0mloss\u001b[0m\u001b[0;34m)\u001b[0m\u001b[0;34m\u001b[0m\u001b[0;34m\u001b[0m\u001b[0m\n\u001b[1;32m     33\u001b[0m         \u001b[0;32mif\u001b[0m \u001b[0;32mnot\u001b[0m \u001b[0mskip_bwd\u001b[0m\u001b[0;34m:\u001b[0m                     \u001b[0mloss\u001b[0m\u001b[0;34m.\u001b[0m\u001b[0mbackward\u001b[0m\u001b[0;34m(\u001b[0m\u001b[0;34m)\u001b[0m\u001b[0;34m\u001b[0m\u001b[0;34m\u001b[0m\u001b[0m\n\u001b[0;32m---> 34\u001b[0;31m         \u001b[0;32mif\u001b[0m \u001b[0;32mnot\u001b[0m \u001b[0mcb_handler\u001b[0m\u001b[0;34m.\u001b[0m\u001b[0mon_backward_end\u001b[0m\u001b[0;34m(\u001b[0m\u001b[0;34m)\u001b[0m\u001b[0;34m:\u001b[0m \u001b[0mopt\u001b[0m\u001b[0;34m.\u001b[0m\u001b[0mstep\u001b[0m\u001b[0;34m(\u001b[0m\u001b[0;34m)\u001b[0m\u001b[0;34m\u001b[0m\u001b[0;34m\u001b[0m\u001b[0m\n\u001b[0m\u001b[1;32m     35\u001b[0m         \u001b[0;32mif\u001b[0m \u001b[0;32mnot\u001b[0m \u001b[0mcb_handler\u001b[0m\u001b[0;34m.\u001b[0m\u001b[0mon_step_end\u001b[0m\u001b[0;34m(\u001b[0m\u001b[0;34m)\u001b[0m\u001b[0;34m:\u001b[0m     \u001b[0mopt\u001b[0m\u001b[0;34m.\u001b[0m\u001b[0mzero_grad\u001b[0m\u001b[0;34m(\u001b[0m\u001b[0;34m)\u001b[0m\u001b[0;34m\u001b[0m\u001b[0;34m\u001b[0m\u001b[0m\n\u001b[1;32m     36\u001b[0m \u001b[0;34m\u001b[0m\u001b[0m\n",
      "\u001b[0;32m~/.local/lib/python3.7/site-packages/fastai/callback.py\u001b[0m in \u001b[0;36mstep\u001b[0;34m(self)\u001b[0m\n\u001b[1;32m     54\u001b[0m                     \u001b[0;32mfor\u001b[0m \u001b[0mp\u001b[0m \u001b[0;32min\u001b[0m \u001b[0mpg2\u001b[0m\u001b[0;34m[\u001b[0m\u001b[0;34m'params'\u001b[0m\u001b[0;34m]\u001b[0m\u001b[0;34m:\u001b[0m \u001b[0mp\u001b[0m\u001b[0;34m.\u001b[0m\u001b[0mdata\u001b[0m\u001b[0;34m.\u001b[0m\u001b[0mmul_\u001b[0m\u001b[0;34m(\u001b[0m\u001b[0;36m1\u001b[0m \u001b[0;34m-\u001b[0m \u001b[0mwd\u001b[0m\u001b[0;34m*\u001b[0m\u001b[0mlr\u001b[0m\u001b[0;34m)\u001b[0m\u001b[0;34m\u001b[0m\u001b[0;34m\u001b[0m\u001b[0m\n\u001b[1;32m     55\u001b[0m             \u001b[0mself\u001b[0m\u001b[0;34m.\u001b[0m\u001b[0mset_val\u001b[0m\u001b[0;34m(\u001b[0m\u001b[0;34m'weight_decay'\u001b[0m\u001b[0;34m,\u001b[0m \u001b[0mlistify\u001b[0m\u001b[0;34m(\u001b[0m\u001b[0;36m0\u001b[0m\u001b[0;34m,\u001b[0m \u001b[0mself\u001b[0m\u001b[0;34m.\u001b[0m\u001b[0m_wd\u001b[0m\u001b[0;34m)\u001b[0m\u001b[0;34m)\u001b[0m\u001b[0;34m\u001b[0m\u001b[0;34m\u001b[0m\u001b[0m\n\u001b[0;32m---> 56\u001b[0;31m         \u001b[0mself\u001b[0m\u001b[0;34m.\u001b[0m\u001b[0mopt\u001b[0m\u001b[0;34m.\u001b[0m\u001b[0mstep\u001b[0m\u001b[0;34m(\u001b[0m\u001b[0;34m)\u001b[0m\u001b[0;34m\u001b[0m\u001b[0;34m\u001b[0m\u001b[0m\n\u001b[0m\u001b[1;32m     57\u001b[0m \u001b[0;34m\u001b[0m\u001b[0m\n\u001b[1;32m     58\u001b[0m     \u001b[0;32mdef\u001b[0m \u001b[0mzero_grad\u001b[0m\u001b[0;34m(\u001b[0m\u001b[0mself\u001b[0m\u001b[0;34m)\u001b[0m\u001b[0;34m->\u001b[0m\u001b[0;32mNone\u001b[0m\u001b[0;34m:\u001b[0m\u001b[0;34m\u001b[0m\u001b[0;34m\u001b[0m\u001b[0m\n",
      "\u001b[0;32m/opt/anaconda3/lib/python3.7/site-packages/torch/optim/adam.py\u001b[0m in \u001b[0;36mstep\u001b[0;34m(self, closure)\u001b[0m\n\u001b[1;32m     91\u001b[0m \u001b[0;34m\u001b[0m\u001b[0m\n\u001b[1;32m     92\u001b[0m                 \u001b[0;31m# Decay the first and second moment running average coefficient\u001b[0m\u001b[0;34m\u001b[0m\u001b[0;34m\u001b[0m\u001b[0;34m\u001b[0m\u001b[0m\n\u001b[0;32m---> 93\u001b[0;31m                 \u001b[0mexp_avg\u001b[0m\u001b[0;34m.\u001b[0m\u001b[0mmul_\u001b[0m\u001b[0;34m(\u001b[0m\u001b[0mbeta1\u001b[0m\u001b[0;34m)\u001b[0m\u001b[0;34m.\u001b[0m\u001b[0madd_\u001b[0m\u001b[0;34m(\u001b[0m\u001b[0;36m1\u001b[0m \u001b[0;34m-\u001b[0m \u001b[0mbeta1\u001b[0m\u001b[0;34m,\u001b[0m \u001b[0mgrad\u001b[0m\u001b[0;34m)\u001b[0m\u001b[0;34m\u001b[0m\u001b[0;34m\u001b[0m\u001b[0m\n\u001b[0m\u001b[1;32m     94\u001b[0m                 \u001b[0mexp_avg_sq\u001b[0m\u001b[0;34m.\u001b[0m\u001b[0mmul_\u001b[0m\u001b[0;34m(\u001b[0m\u001b[0mbeta2\u001b[0m\u001b[0;34m)\u001b[0m\u001b[0;34m.\u001b[0m\u001b[0maddcmul_\u001b[0m\u001b[0;34m(\u001b[0m\u001b[0;36m1\u001b[0m \u001b[0;34m-\u001b[0m \u001b[0mbeta2\u001b[0m\u001b[0;34m,\u001b[0m \u001b[0mgrad\u001b[0m\u001b[0;34m,\u001b[0m \u001b[0mgrad\u001b[0m\u001b[0;34m)\u001b[0m\u001b[0;34m\u001b[0m\u001b[0;34m\u001b[0m\u001b[0m\n\u001b[1;32m     95\u001b[0m                 \u001b[0;32mif\u001b[0m \u001b[0mamsgrad\u001b[0m\u001b[0;34m:\u001b[0m\u001b[0;34m\u001b[0m\u001b[0;34m\u001b[0m\u001b[0m\n",
      "\u001b[0;31mKeyboardInterrupt\u001b[0m: "
     ]
    }
   ],
   "source": [
    "learn.fit_one_cycle(10, 1e-3, moms=(0.8,0.7))"
   ]
  },
  {
   "cell_type": "code",
   "execution_count": 43,
   "metadata": {
    "colab": {},
    "colab_type": "code",
    "collapsed": true,
    "id": "aVkQtpFY5W1s"
   },
   "outputs": [],
   "source": [
    "learn.save('wikitalm_8k_447_third', with_opt=True)"
   ]
  },
  {
   "cell_type": "code",
   "execution_count": 44,
   "metadata": {
    "colab": {},
    "colab_type": "code",
    "collapsed": true,
    "id": "90ugxdMT5X9q"
   },
   "outputs": [],
   "source": [
    "learn.load('wikitalm_8k_447_third', with_opt=True);"
   ]
  },
  {
   "cell_type": "markdown",
   "metadata": {},
   "source": [
    "# Part V. Evaluate the Model"
   ]
  },
  {
   "cell_type": "markdown",
   "metadata": {},
   "source": [
    "## Step 12. Calculate perplexity of the language model."
   ]
  },
  {
   "cell_type": "code",
   "execution_count": 45,
   "metadata": {
    "colab": {
     "base_uri": "https://localhost:8080/",
     "height": 35
    },
    "colab_type": "code",
    "id": "FrbfD8SDrapi",
    "outputId": "cc83bf92-8b36-487b-fdb4-c0aeedfac19b"
   },
   "outputs": [
    {
     "data": {
      "text/plain": [
       "19.806298635156402"
      ]
     },
     "execution_count": 45,
     "metadata": {},
     "output_type": "execute_result"
    }
   ],
   "source": [
    "np.exp(2.986)"
   ]
  },
  {
   "cell_type": "markdown",
   "metadata": {
    "colab_type": "text",
    "id": "yslflc_jekDw"
   },
   "source": [
    "## Step 13. Probe the LM by asking it to complete phrases.\n",
    "\n"
   ]
  },
  {
   "cell_type": "code",
   "execution_count": 46,
   "metadata": {
    "colab": {},
    "colab_type": "code",
    "collapsed": true,
    "id": "Uwi_eROg3rFG"
   },
   "outputs": [],
   "source": [
    "def create(text, spm=False, N_WORDS=50, N_SENTENCES=4):\n",
    "    TEXT=sp.EncodeAsPieces(text)\n",
    "    TEXT=' '.join(TEXT)\n",
    "    sp_merge=lambda s:s.replace(' ','').replace('▁',' ')\n",
    "    samples=[]\n",
    "    for _ in range(N_SENTENCES):\n",
    "      sample=learn.predict(TEXT, N_WORDS, temperature=0.7)\n",
    "      samples.append(sample)\n",
    "      if spm:\n",
    "          print(sample)\n",
    "          print()\n",
    "    if spm:\n",
    "        print()\n",
    "    for sample in samples:\n",
    "      sample=sp_merge(sample)\n",
    "      print(sample)\n",
    "      print()\n",
    "    \n"
   ]
  },
  {
   "cell_type": "code",
   "execution_count": 47,
   "metadata": {
    "colab": {
     "base_uri": "https://localhost:8080/",
     "height": 331
    },
    "colab_type": "code",
    "id": "o2TerKS1rgh6",
    "outputId": "b790084f-bf5b-4615-ab5b-0dcf3d72a737"
   },
   "outputs": [
    {
     "name": "stdout",
     "output_type": "stream",
     "text": [
      "▁17 - ஆம் ▁நூற்றாண்டில் ▁முதல் ▁உலகப் போர் ▁முடிவடைந்த து . ▁தனது ▁ஆட்சி க் ▁காலத்தில் ▁பிரான்சின் ▁அரசு த்தலைவர் ▁ மன் ஹா ட்டன் ▁ஒரு வரை த் ▁தேர்ந்தெடுத்த ு , ▁சோ தி க்க ▁வேண்டிய ▁பொறுப்பு ம் ▁ஆ க்கப்பட்டு , ▁நாட்டின் ▁பொருளாதார த்தைக் ▁கொண்டுவர வும் , ▁தமது ▁கட்டிட ங்களை ▁மாற்றி க்கொள்ள வும் ▁முயற்சி ▁செய்தார் . ▁அதனால் , ▁அவர்\n",
      "\n",
      "▁17 - ஆம் ▁நூற்றாண்டில் ▁ டெல் டா ▁எனும் ▁இடத்தில் ▁ஒரு ▁குடியிருப்பு ப் ▁பகுதியில் ▁உள்ளது . ▁இந்த ▁ஊர் ▁7 000 ▁சதுர ▁அடி ▁பரப்ப ள விற்கு ▁மேல் ▁அமைந்துள்ளது . ▁இங்கு ▁5 000 ▁அடி ▁உயர முள்ள ▁இந்த ▁கோவில ும் , ▁கி றி ஸ் து வ ▁மத த்தின் ▁ஒரு ▁பகுதியாக வும் ▁உள்ளது . ▁< ▁ / ▁ doc\n",
      "\n",
      "▁17 - ஆம் ▁நூற்றாண்டில் , ▁ பிரான் சில் ▁உள்ள ▁ ஃபோர்ட் ▁பிரா ங்க் ளின் , ▁டெ ன் ▁மற்றும் ▁\" இ . அ . கா ம் \" ▁என்ற ▁இரு தி ட க் ▁கூறு களை ▁கொண்டு , ▁இ க்கட்ட ளை ▁ கியூ ரி யின் ▁அ கு ஸ் தா க் ▁யோ ச னை யில் ▁அமைந்துள்ள ▁ஒரு ▁ஸ்\n",
      "\n",
      "▁17 - ஆம் ▁நூற்றாண்டில் ▁ வல் கன் ▁ ரன் ▁எனக் ▁கருதப்பட்ட னர் . ▁அ ம் ரி த் சர் , ▁லி ஹி லியா , ▁வெ னி சு லா , ▁லி சி யே சி யே ▁ஆகும் . ▁இது ▁எ த்தி யோ ப் பியா , ▁லி மா பார் ▁போன்ற ▁நாடுகளில் ▁இருந்த ▁ஒரு ▁பகுதி ▁ஆகும் . ▁இது ▁உலகில்\n",
      "\n",
      "\n",
      " 17-ஆம் நூற்றாண்டில் முதல் உலகப்போர் முடிவடைந்தது. தனது ஆட்சிக் காலத்தில் பிரான்சின் அரசுத்தலைவர் மன்ஹாட்டன் ஒருவரைத் தேர்ந்தெடுத்து, சோதிக்க வேண்டிய பொறுப்பும் ஆக்கப்பட்டு, நாட்டின் பொருளாதாரத்தைக் கொண்டுவரவும், தமது கட்டிடங்களை மாற்றிக்கொள்ளவும் முயற்சி செய்தார். அதனால், அவர்\n",
      "\n",
      " 17-ஆம் நூற்றாண்டில் டெல்டா எனும் இடத்தில் ஒரு குடியிருப்புப் பகுதியில் உள்ளது. இந்த ஊர் 7000 சதுர அடி பரப்பளவிற்கு மேல் அமைந்துள்ளது. இங்கு 5000 அடி உயரமுள்ள இந்த கோவிலும், கிறிஸ்துவ மதத்தின் ஒரு பகுதியாகவும் உள்ளது. < / doc\n",
      "\n",
      " 17-ஆம் நூற்றாண்டில், பிரான்சில் உள்ள ஃபோர்ட் பிராங்க்ளின், டென் மற்றும் \"இ.அ.காம்\" என்ற இருதிடக் கூறுகளை கொண்டு, இக்கட்டளை கியூரியின் அகுஸ்தாக் யோசனையில் அமைந்துள்ள ஒரு ஸ்\n",
      "\n",
      " 17-ஆம் நூற்றாண்டில் வல்கன் ரன் எனக் கருதப்பட்டனர். அம்ரித்சர், லிஹிலியா, வெனிசுலா, லிசியேசியே ஆகும். இது எத்தியோப்பியா, லிமாபார் போன்ற நாடுகளில் இருந்த ஒரு பகுதி ஆகும். இது உலகில்\n",
      "\n"
     ]
    }
   ],
   "source": [
    "text='17-ஆம் நூற்றாண்டில்'\n",
    "create(text, spm=True)"
   ]
  },
  {
   "cell_type": "code",
   "execution_count": 48,
   "metadata": {
    "colab": {
     "base_uri": "https://localhost:8080/",
     "height": 175
    },
    "colab_type": "code",
    "id": "SNMpnfoWekD8",
    "outputId": "c005441a-c096-4e00-cb21-e6669a1a8641"
   },
   "outputs": [
    {
     "name": "stdout",
     "output_type": "stream",
     "text": [
      " இந்த கிராமத்தில் வாழும் வாழ்க்கையைப் பின்பற்றியவர்கள். இதற்கு மாற்றாக, பொது மக்கள் அனைவரும் இதைப் பயன்படுத்த வேண்டும் என்ற கொள்கையை உடையவர்களாக இருந்தனர். இந்த விளைவைத் தோழமை செய்யும் வகையில், ஒரு தொழில் நுட்பம், மற்றும் பரந்த கிராமப்புறங்கள், பாறைகள் போன்றவற்றைக் கொண்டு அமைக்கப்பட்டிருக்கும்\n",
      "\n",
      " இந்த கிராமத்தில், ஆங்கராவின் வழிவந்தோர் புலிகள் ஆகும். இது ஒரு ஆன்மிகப் புகழ்ச்சி ஆகும். இதன் மூலம் மனிதனைப் பெண்களால் உருவாக்கலாம். பலவகையான உடல் முறைகளை உட்கொண்டு, உடலைப் பொருத்தி, விலங்குகளின் உடலில் இருந்து\n",
      "\n",
      " இந்த கிராமத்தில் பகுக்கப்பட்டுள்ளது, மற்றும் பல மக்களின் மேம்பாட்டிற்காகவும் அழகு படுத்தப்படுகிறது. < / doc> <doc id=\"323593\" url=\"https: / / ta.wikipedia.org / wiki?curid\n",
      "\n",
      " இந்த கிராமத்தில் உள்ள ஒரு கிராமம். அக்கோடிடே, அய்லி, அயன், நயனை, நாகாலா, சபிசி, சிரினா, விதாவகி, எமரு, வசித்தி, யேரா போன்ற ச\n",
      "\n"
     ]
    }
   ],
   "source": [
    "create('இந்த கிராமத்தில்')"
   ]
  },
  {
   "cell_type": "code",
   "execution_count": 49,
   "metadata": {
    "colab": {
     "base_uri": "https://localhost:8080/",
     "height": 175
    },
    "colab_type": "code",
    "id": "QyYFlbHVekD_",
    "outputId": "9a8c4fea-ce55-42af-e0e4-f24a27e5e2fe"
   },
   "outputs": [
    {
     "name": "stdout",
     "output_type": "stream",
     "text": [
      " 1995 ம் ஆண்டு முதல் 2000 வரை. எஃப்.எசு. ஹால்ஸ் மற்றும் ஜெர்ரி வாட்டர்ஸ் ஆகியோரால் கண்டுபிடிக்கப்பட்ட இப்புத்தகத்தடத்திலிருந்து எடுக்கப்பட்ட அறிமுறை முன்னூகிக்கும் ஒருவகைப் பெயர். இந்த ஒரே மாதிரியான அனைத்து ஆர்.எஸ்.\n",
      "\n",
      " 1995 ம் ஆண்டு முதல் 2000 வரை கொந்தளிப்புகள், குத்துயரங்கள், பாக்குகள், ட்ரெத்கள் மற்றும் ரைன்டர்கள் என பலவகையான மொழிகளைப் பயன்படுத்தினர். இவர்கள் லத்தீன் பேசியவர்கள். ஆனாலும், நவீன பிரெஞ்சுக்காரர்கள்\n",
      "\n",
      " 1995 ம் ஆண்டு முதல் 2000 வரை மாட்டுநடுவிலும், லைப்னிட்ஸ், பூர்ட் (மருந்து) , பிரதிஷ்டை , புர்காம் , ஹவாய் வடக்கு , கச டுவாட் நில்சௌ டுரூ\n",
      "\n",
      " 1995 ம் ஆண்டு முதல் 2000 வரை இது நிகழ்ந்துள்ளது. அந்தச் சமயத்தில் மாற்றம் அடைந்து வெளிநாடுகளில் இருந்து வெளியேறியதால் பல லட்சம் பேர் இறந்தனர். இந்த நாள் விக்டோரிய மக்கள் தொகைக் கணக்கெடுப்புகளில் 5.6 சதவீதமானோர் இங்கு வந்து குடியேறியுள்ளனர். இவர்களில் பெரும்பான்மையானோர் 85\n",
      "\n"
     ]
    }
   ],
   "source": [
    "create('1995 ம் ஆண்டு முதல் 2000 வரை')"
   ]
  },
  {
   "cell_type": "code",
   "execution_count": null,
   "metadata": {},
   "outputs": [],
   "source": [
    "create('இந்த விபத்தில் ')"
   ]
  },
  {
   "cell_type": "markdown",
   "metadata": {},
   "source": [
    "## Step 14. Prompt it to write entirely imagined new Wiki Articles. "
   ]
  },
  {
   "cell_type": "code",
   "execution_count": null,
   "metadata": {
    "colab": {
     "base_uri": "https://localhost:8080/",
     "height": 383
    },
    "colab_type": "code",
    "collapsed": true,
    "id": "SETePMlEekEB",
    "outputId": "ee1176a6-843b-4fc9-d835-473bffd515e0"
   },
   "outputs": [],
   "source": [
    "create('<doc id=\"208219\" url=\"https://ta.wikipedia.org/wiki?curid=', N_WORDS=200, N_SENTENCES=10)"
   ]
  },
  {
   "cell_type": "markdown",
   "metadata": {
    "colab": {},
    "colab_type": "code",
    "collapsed": true,
    "id": "eAkiW7ITekET"
   },
   "source": [
    "## "
   ]
  },
  {
   "cell_type": "markdown",
   "metadata": {},
   "source": [
    "- Next steps\n",
    "- Try the same notebook for another language\n",
    "- Try Transformer, Transformer XL, GPT-2\n",
    "- Explore the LM\n",
    "- Test out the LM on classification "
   ]
  },
  {
   "cell_type": "code",
   "execution_count": null,
   "metadata": {
    "collapsed": true
   },
   "outputs": [],
   "source": []
  }
 ],
 "metadata": {
  "accelerator": "GPU",
  "colab": {
   "collapsed_sections": [],
   "name": "FastLM_Tamil.ipynb",
   "provenance": [],
   "toc_visible": true,
   "version": "0.3.2"
  },
  "kernelspec": {
   "display_name": "Python 3",
   "language": "python",
   "name": "python3"
  },
  "language_info": {
   "codemirror_mode": {
    "name": "ipython",
    "version": 3
   },
   "file_extension": ".py",
   "mimetype": "text/x-python",
   "name": "python",
   "nbconvert_exporter": "python",
   "pygments_lexer": "ipython3",
   "version": "3.6.3"
  }
 },
 "nbformat": 4,
 "nbformat_minor": 1
}
